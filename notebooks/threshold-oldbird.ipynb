{
 "cells": [
  {
   "cell_type": "code",
   "execution_count": 147,
   "metadata": {
    "collapsed": false,
    "deletable": true,
    "editable": true
   },
   "outputs": [
    {
     "name": "stdout",
     "output_type": "stream",
     "text": [
      "2017-08-08 16:33:55.469704 Start.\n",
      "Running Old Bird onset detection functions (Thrush and Tseep) on BirdVox-70k, unit01.\n",
      "h5py version: 2.6.0.\n",
      "numpy version: 1.13.1\n",
      "\n"
     ]
    }
   ],
   "source": [
    "import datetime\n",
    "import h5py\n",
    "import numpy as np\n",
    "import os\n",
    "import time\n",
    "import sys\n",
    "\n",
    "sys.path.append('../src')\n",
    "import localmodule\n",
    "\n",
    "\n",
    "# Define constants\n",
    "n_thresholds = 100\n",
    "# The array of upward thresholds is equal to\n",
    "# f(t) = 1 + threshold_multiplier * (t**threshold_exponent)\n",
    "# when the parameters threshold_multiplier and threshold_exponent\n",
    "# are chosen such that:\n",
    "# (1)    f(threshold_range_alpha*n_thresholds) = ad_hoc_threshold\n",
    "# (2)    f(n_threshold) = 2 * ad_hoc_threshold - 1\n",
    "# In Old Bird, ad_hoc_threshold is equal to 1.3 for Thrush and 2.0 for Tseep.\n",
    "threshold_range_alpha = 0.1\n",
    "data_dir = localmodule.get_data_dir()\n",
    "dataset_name = localmodule.get_dataset_name()\n",
    "models_dir = localmodule.get_models_dir()\n",
    "sample_rate = localmodule.get_sample_rate()\n",
    "args = [\"unit01\", \"tseep\", \"00:09\"] #                          DISABLE\n",
    "#args = sys.argv[1:]                                            ENABLE\n",
    "hop_duration = 0.02 # in seconds\n",
    "hop_length = int(np.round(sample_rate * hop_duration))\n",
    "unit_str = args[0]\n",
    "odf_str = args[1]\n",
    "threshold_id_start = int(args[2][:2])\n",
    "threshold_id_stop = int(args[2][-2:])\n",
    "threshold_id_range = range(threshold_id_start, threshold_id_stop)\n",
    "\n",
    "\n",
    "# Print header.\n",
    "start_time = int(time.time())\n",
    "print(str(datetime.datetime.now()) + \" Start.\")\n",
    "print(\"Running Old Bird onset detection functions (Thrush and Tseep) on \" +\n",
    "    dataset_name + \", \" + unit_str + \".\")\n",
    "print('h5py version: {:s}.'.format(h5py.__version__))\n",
    "print('numpy version: {:s}'.format(np.__version__))\n",
    "print(\"\")\n",
    "\n",
    "\n",
    "# Load onset detection function.\n",
    "oldbird_name = \"_\".join([dataset_name, \"oldbird\"])\n",
    "oldbird_dir = os.path.join(data_dir, oldbird_name)\n",
    "odf_path = os.path.join(oldbird_dir, unit_str + \".hdf5\")\n",
    "odf_file = h5py.File(odf_path, \"r\")\n",
    "odf_dataset_key = \"_\".join([odf_str, \"odf\"])\n",
    "odf = odf_file[odf_dataset_key]\n",
    "odf_length = len(odf)\n",
    "\n",
    "\n",
    "# Define arrays of thresholds.\n",
    "odf_settings_key = \"_\".join([odf_str, \"settings\"])\n",
    "odf_settings = odf_file[odf_settings_key]\n",
    "ad_hoc_threshold = odf_settings[\"ratio_threshold\"].value\n",
    "threshold_multiplier = 2 * (ad_hoc_threshold - 1)\n",
    "threshold_exponent = \\\n",
    "    (np.log(ad_hoc_threshold-1) - np.log(threshold_multiplier)) /\\\n",
    "    np.log(threshold_range_alpha)\n",
    "up_threshold_abcissa = np.arange(1, 1+n_thresholds) / n_thresholds\n",
    "up_thresholds = 1 + threshold_multiplier * up_threshold_abcissa**threshold_exponent\n",
    "down_thresholds = 1.0 / up_thresholds\n",
    "\n",
    "\n",
    "# Create directory for Old Bird in models_dir.\n",
    "model_dir = os.path.join(models_dir, \"Old Bird\")\n",
    "os.makedirs(model_dir, exist_ok=True)\n",
    "out_unit_dir = os.path.join(model_dir, unit_str)\n",
    "os.makedirs(out_unit_dir, exist_ok=True)\n",
    "predictions_dir = os.path.join(out_unit_dir, \"predictions\")\n",
    "os.makedirs(predictions_dir, exist_ok=True)"
   ]
  },
  {
   "cell_type": "code",
   "execution_count": 148,
   "metadata": {
    "collapsed": false
   },
   "outputs": [
    {
     "name": "stdout",
     "output_type": "stream",
     "text": [
      "23.14 0.4 1.50069 0.79069\n",
      "33.26 0.4 1.69531 1.09467\n",
      "448.25 0.14 1.70893 0.624542\n",
      "488.1 0.4 1.51873 1.00112\n",
      "714.52 0.4 1.501 1.01868\n",
      "1331.98 0.4 1.51913 0.948534\n",
      "1405.06 0.4 1.50603 0.883547\n",
      "1996.72 0.4 1.62444 1.12726\n",
      "2059.34 0.4 1.55845 1.2436\n",
      "2070.14 0.4 1.52234 0.938485\n",
      "2869.18 0.4 1.51671 1.04431\n",
      "2909.19 0.14 1.64623 0.586651\n",
      "3025.3 0.4 1.52266 1.08133\n",
      "3451.34 0.4 1.63152 1.0779\n",
      "3645.94 0.4 1.50412 0.836594\n",
      "2017-08-08 16:34:35.364018 Finish.\n",
      "Total elapsed time: 00:00:35.36.\n"
     ]
    }
   ],
   "source": [
    "min_clip_duration = odf_settings[\"min_duration\"].value\n",
    "min_clip_length = int(np.round(min_clip_duration * sample_rate))\n",
    "max_clip_duration = odf_settings[\"max_duration\"].value\n",
    "max_clip_length = int(np.round(max_clip_duration * sample_rate)) \n",
    "\n",
    "threshold_id = 0                                                 # DISABLE\n",
    "# for threshold_id in threshold_id_range:                           ENABLE\n",
    "up_threshold = up_thresholds[threshold_id]\n",
    "down_threshold = down_thresholds[threshold_id]\n",
    "threshold_str = str(threshold_id).zfill(2)\n",
    "\n",
    "start_time = int(time.time())\n",
    "\n",
    "# Initialize variables.\n",
    "clip_start = 0\n",
    "clip_stop = 0\n",
    "clip_mid = 0\n",
    "onset_odf = 0.0\n",
    "offset_odf = 0.0\n",
    "clip_switch = False\n",
    "t = 0\n",
    "\n",
    "odf_length = 100000000\n",
    "\n",
    "# Scan the whole onset detection function through time\n",
    "while t < odf_length:\n",
    "    # If we are not inside a clip ...\n",
    "    if (not clip_switch):\n",
    "        # ... wait for an onset (odf[0, t] > up_threshold).\n",
    "        if (odf[0, t] > up_threshold):\n",
    "            # We are at the clip onset. Store start time and value of ODF.\n",
    "            clip_switch = True\n",
    "            clip_start = t\n",
    "            onset_odf = odf[0, t]\n",
    "    # Otherwise, if we are inside a clip, wait for an offset (odf[t] < down_threshold)\n",
    "    # or until the maximum clip length is reached.\n",
    "    elif (odf[0, t] < down_threshold) or ((t-clip_start) == max_clip_length):\n",
    "        # We are at the clip offset.\n",
    "        # If odf[t] > up_threshold, we should keep the clip_switch to True,\n",
    "        # but that is not what Old Bird and Vesper do. \n",
    "        # see https://github.com/HaroldMills/Vesper-Tseep-Thrush/blob/master/tests/test_old_bird_detector_redux.py#L63-L65\n",
    "        clip_switch = False\n",
    "        # Bound the clip length from below.\n",
    "        clip_length = max(t-clip_start, min_clip_length)\n",
    "        # Compute time at the middle of the clip and clip duration.\n",
    "        clip_stop = clip_start + clip_length\n",
    "        clip_mid = int(0.5 * (clip_start+clip_stop))\n",
    "        clip_time = clip_mid / sample_rate\n",
    "        clip_duration = clip_length / sample_rate\n",
    "        # Also store value of ODF at offset.\n",
    "        offset_odf = odf[0, clip_stop]\n",
    "        # TODO export clip_time, clip_duration, onset_odf, offset_odf\n",
    "        # If clip length is shorter than minimum, jump to the end of clip.\n",
    "        print(clip_time, clip_duration, onset_odf, offset_odf)\n",
    "        if (t-clip_start) < min_clip_length:\n",
    "            t = int(np.floor(clip_stop/hop_length)) * hop_length\n",
    "    t = t + hop_length\n",
    "    \n",
    "# If the ODF ends with an onset not followed by any offset, export clip\n",
    "# by using last timestamp as offset. This is unlikely to happen in practice.\n",
    "if clip_switch:\n",
    "    clip_switch = False\n",
    "    clip_stop = odf_length - 1\n",
    "    clip_mid = int(0.5 * (clip_start+clip_stop))\n",
    "    clip_time = clip_mid / sample_rate\n",
    "    clip_duration = clip_length / sample_rate\n",
    "    offset_odf = odf[0, clip_stop]\n",
    "    # TODO export clip_time, clip_duration, onset_odf, offset_odf\n",
    "    \n",
    "\n",
    "print(str(datetime.datetime.now()) + \" Finish.\")\n",
    "elapsed_time = time.time() - int(start_time)\n",
    "elapsed_hours = int(elapsed_time / (60 * 60))\n",
    "elapsed_minutes = int((elapsed_time % (60 * 60)) / 60)\n",
    "elapsed_seconds = elapsed_time % 60.\n",
    "elapsed_str = \"{:>02}:{:>02}:{:>05.2f}\".format(elapsed_hours,\n",
    "                                               elapsed_minutes,\n",
    "                                               elapsed_seconds)\n",
    "print(\"Total elapsed time: \" + elapsed_str + \".\")"
   ]
  },
  {
   "cell_type": "code",
   "execution_count": 172,
   "metadata": {
    "collapsed": false
   },
   "outputs": [
    {
     "data": {
      "text/plain": [
       "'36000.21'"
      ]
     },
     "execution_count": 172,
     "metadata": {},
     "output_type": "execute_result"
    }
   ],
   "source": [
    "str(36000.21).rjust(8)"
   ]
  },
  {
   "cell_type": "code",
   "execution_count": 193,
   "metadata": {
    "collapsed": false
   },
   "outputs": [
    {
     "data": {
      "text/plain": [
       "['0.667',\n",
       " '0.619',\n",
       " '0.590',\n",
       " '0.569',\n",
       " '0.552',\n",
       " '0.538',\n",
       " '0.527',\n",
       " '0.517',\n",
       " '0.508',\n",
       " '0.500',\n",
       " '0.493',\n",
       " '0.486',\n",
       " '0.480',\n",
       " '0.475',\n",
       " '0.470',\n",
       " '0.465',\n",
       " '0.460',\n",
       " '0.456',\n",
       " '0.452',\n",
       " '0.448',\n",
       " '0.444',\n",
       " '0.441',\n",
       " '0.438',\n",
       " '0.434',\n",
       " '0.431',\n",
       " '0.429',\n",
       " '0.426',\n",
       " '0.423',\n",
       " '0.421',\n",
       " '0.418',\n",
       " '0.416',\n",
       " '0.413',\n",
       " '0.411',\n",
       " '0.409',\n",
       " '0.407',\n",
       " '0.405',\n",
       " '0.403',\n",
       " '0.401',\n",
       " '0.399',\n",
       " '0.397',\n",
       " '0.395',\n",
       " '0.394',\n",
       " '0.392',\n",
       " '0.390',\n",
       " '0.389',\n",
       " '0.387',\n",
       " '0.386',\n",
       " '0.384',\n",
       " '0.383',\n",
       " '0.381',\n",
       " '0.380',\n",
       " '0.378',\n",
       " '0.377',\n",
       " '0.376',\n",
       " '0.374',\n",
       " '0.373',\n",
       " '0.372',\n",
       " '0.371',\n",
       " '0.370',\n",
       " '0.368',\n",
       " '0.367',\n",
       " '0.366',\n",
       " '0.365',\n",
       " '0.364',\n",
       " '0.363',\n",
       " '0.362',\n",
       " '0.361',\n",
       " '0.360',\n",
       " '0.359',\n",
       " '0.358',\n",
       " '0.357',\n",
       " '0.356',\n",
       " '0.355',\n",
       " '0.354',\n",
       " '0.353',\n",
       " '0.352',\n",
       " '0.351',\n",
       " '0.350',\n",
       " '0.349',\n",
       " '0.348',\n",
       " '0.348',\n",
       " '0.347',\n",
       " '0.346',\n",
       " '0.345',\n",
       " '0.344',\n",
       " '0.343',\n",
       " '0.343',\n",
       " '0.342',\n",
       " '0.341',\n",
       " '0.340',\n",
       " '0.340',\n",
       " '0.339',\n",
       " '0.338',\n",
       " '0.337',\n",
       " '0.337',\n",
       " '0.336',\n",
       " '0.335',\n",
       " '0.335',\n",
       " '0.334',\n",
       " '0.333']"
      ]
     },
     "execution_count": 193,
     "metadata": {},
     "output_type": "execute_result"
    }
   ],
   "source": [
    "[\"{:5.3f}\".format(th) for th in down_thresholds]"
   ]
  },
  {
   "cell_type": "code",
   "execution_count": 201,
   "metadata": {
    "collapsed": false
   },
   "outputs": [
    {
     "data": {
      "text/plain": [
       "'0.400'"
      ]
     },
     "execution_count": 201,
     "metadata": {},
     "output_type": "execute_result"
    }
   ],
   "source": [
    "\"{:5.3f}\".format(clip_duration)"
   ]
  },
  {
   "cell_type": "code",
   "execution_count": null,
   "metadata": {
    "collapsed": true
   },
   "outputs": [],
   "source": []
  }
 ],
 "metadata": {
  "kernelspec": {
   "display_name": "Python 3",
   "language": "python",
   "name": "python3"
  },
  "language_info": {
   "codemirror_mode": {
    "name": "ipython",
    "version": 3
   },
   "file_extension": ".py",
   "mimetype": "text/x-python",
   "name": "python",
   "nbconvert_exporter": "python",
   "pygments_lexer": "ipython3",
   "version": "3.6.0"
  }
 },
 "nbformat": 4,
 "nbformat_minor": 2
}
