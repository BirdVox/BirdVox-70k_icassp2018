{
 "cells": [
  {
   "cell_type": "code",
   "execution_count": 3,
   "metadata": {
    "collapsed": false
   },
   "outputs": [
    {
     "name": "stdout",
     "output_type": "stream",
     "text": [
      "2017-08-21 21:02:59.291758 Start.\n",
      "Thresholding spectral flux on BirdVox-70k, unit01.\n",
      "h5py version: 2.6.0.\n",
      "numpy version: 1.13.1\n",
      "\n"
     ]
    }
   ],
   "source": [
    "import csv\n",
    "import datetime\n",
    "import h5py\n",
    "import numpy as np\n",
    "import os\n",
    "import sys\n",
    "import time\n",
    "\n",
    "sys.path.append(\"../src\")\n",
    "import localmodule\n",
    "\n",
    "\n",
    "# Define constants.\n",
    "n_thresholds = 100\n",
    "data_dir = localmodule.get_data_dir()\n",
    "dataset_name = localmodule.get_dataset_name()\n",
    "models_dir = localmodule.get_models_dir()\n",
    "units = localmodule.get_units()\n",
    "args = [\"unit01\", \"00:05\"]\n",
    "unit_str = args[0]\n",
    "threshold_id_start = int(args[1][3:5])\n",
    "threshold_id_stop = int(args[1][-2:])\n",
    "threshold_id_range = range(threshold_id_start, 1 + threshold_id_stop)\n",
    "\n",
    "\n",
    "# Print header.\n",
    "start_time = int(time.time())\n",
    "print(str(datetime.datetime.now()) + \" Start.\")\n",
    "print(\"Thresholding spectral flux on \" + dataset_name + \", \" + unit_str + \".\")\n",
    "print('h5py version: {:s}.'.format(h5py.__version__))\n",
    "print('numpy version: {:s}'.format(np.__version__))\n",
    "print(\"\")\n",
    "\n",
    "\n",
    "# Load onset detection function.\n",
    "sf_name = \"_\".join([dataset_name, \"spectral-flux\"])\n",
    "sf_dir = os.path.join(data_dir, sf_name)\n",
    "odf_path = os.path.join(sf_dir, unit_str + \".hdf5\")\n",
    "odf_file = h5py.File(odf_path, \"r\")\n",
    "odf_dataset_key = \"spectral-flux_odf\"\n",
    "odf = odf_file[odf_dataset_key]\n",
    "odf_length = odf.shape[1]\n",
    "\n",
    "\n",
    "# Find global minimum and maximum.\n",
    "unit_maxima = []\n",
    "for aux_unit_str in units:\n",
    "    aux_odf_path = os.path.join(sf_dir, aux_unit_str + \".hdf5\")\n",
    "    with h5py.File(aux_odf_path, \"r\") as aux_odf_file:\n",
    "        aux_odf = aux_odf_file[odf_dataset_key]\n",
    "        unit_maximum = np.max(aux_odf)\n",
    "        unit_maxima.append(unit_maximum)\n",
    "max_threshold = max(unit_maxima)\n",
    "min_threshold = 0.5 * max_threshold\n",
    "\n",
    "\n",
    "# Define array of thresholds.\n",
    "thresholds = np.linspace(min_threshold, max_threshold, n_thresholds)\n",
    "\n",
    "\n",
    "# Create directory for Old Bird in models_dir.\n",
    "model_dir = os.path.join(models_dir, \"spectral-flux\")\n",
    "os.makedirs(model_dir, exist_ok=True)\n",
    "out_unit_dir = os.path.join(model_dir, unit_str)\n",
    "os.makedirs(out_unit_dir, exist_ok=True)\n",
    "predictions_name = \"predictions\"\n",
    "predictions_dir = os.path.join(out_unit_dir, predictions_name)\n",
    "os.makedirs(predictions_dir, exist_ok=True)\n",
    "\n",
    "\n",
    "# Create CSV header.\n",
    "csv_header = [\n",
    "    'Dataset',\n",
    "    'Unit',\n",
    "    'ODF',\n",
    "    'Threshold ID',\n",
    "    'Threshold',\n",
    "    'Time (s)',\n",
    "    'Onset ODF']\n",
    "\n"
   ]
  },
  {
   "cell_type": "code",
   "execution_count": 2,
   "metadata": {
    "collapsed": false
   },
   "outputs": [
    {
     "data": {
      "text/plain": [
       "'unit01'"
      ]
     },
     "execution_count": 2,
     "metadata": {},
     "output_type": "execute_result"
    }
   ],
   "source": []
  },
  {
   "cell_type": "code",
   "execution_count": null,
   "metadata": {
    "collapsed": true
   },
   "outputs": [],
   "source": []
  }
 ],
 "metadata": {
  "kernelspec": {
   "display_name": "Python 3",
   "language": "python",
   "name": "python3"
  },
  "language_info": {
   "codemirror_mode": {
    "name": "ipython",
    "version": 3
   },
   "file_extension": ".py",
   "mimetype": "text/x-python",
   "name": "python",
   "nbconvert_exporter": "python",
   "pygments_lexer": "ipython3",
   "version": "3.6.0"
  }
 },
 "nbformat": 4,
 "nbformat_minor": 2
}
