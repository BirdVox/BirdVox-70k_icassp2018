{
 "cells": [
  {
   "cell_type": "code",
   "execution_count": 265,
   "metadata": {
    "collapsed": false,
    "scrolled": false
   },
   "outputs": [
    {
     "name": "stdout",
     "output_type": "stream",
     "text": [
      " 98.467, 95.355, 96.911, 98.797, 94.697, 64.750, 79.723, 75.178, 78.014, 76.596, 99.768, 68.455, 77.392, 81.965\n",
      " 98.182, 96.903, 97.543, 99.256, 96.238, 68.947, 82.592, 91.250, 80.830, 86.040, 99.626, 82.126, 85.834, 89.797\n",
      " 98.272, 96.537, 97.404, 99.200, 97.621, 61.989, 79.805, 94.536, 70.264, 82.400, 99.678, 74.334, 81.442, 87.824\n",
      " 98.212, 95.415, 96.814, 98.872, 97.403, 58.022, 77.712, 96.042, 66.458, 81.250, 99.678, 93.267, 84.809, 92.625\n",
      " 98.392, 93.373, 95.882, 98.434, 98.391, 53.294, 75.843, 97.368, 55.878, 76.623, 99.933, 21.634, 60.526, 47.698\n",
      " 98.571, 96.686, 97.629, 99.283, 91.273, 67.983, 79.628, 87.649, 73.671, 80.660, 71.441, 82.536, 81.511, 90.166\n",
      " 98.070, 97.075, 97.573, 99.258, 95.791, 64.104, 79.947, 94.936, 66.333, 80.634, 99.432, 76.282, 79.751, 86.474\n",
      " 99.993,  0.396, 50.194, 50.194,    nan, 50.000,    nan, 50.000,    nan,    nan,100.000,  0.000, 50.000, 50.000\n"
     ]
    },
    {
     "name": "stderr",
     "output_type": "stream",
     "text": [
      "/home/vl1019/miniconda3/lib/python3.6/site-packages/ipykernel/__main__.py:97: RuntimeWarning: invalid value encountered in long_scalars\n",
      "/home/vl1019/miniconda3/lib/python3.6/site-packages/ipykernel/__main__.py:109: RuntimeWarning: invalid value encountered in long_scalars\n"
     ]
    },
    {
     "name": "stdout",
     "output_type": "stream",
     "text": [
      " 71.060, 91.405, 81.233, 86.985, 52.734, 59.952, 56.343, 51.707, 74.933, 63.320, 97.135, 35.612, 55.656, 58.404\n"
     ]
    }
   ],
   "source": [
    "import numpy as np\n",
    "import os\n",
    "import pandas as pd\n",
    "import sklearn.metrics\n",
    "import sys\n",
    "\n",
    "sys.path.append(\"../src\")\n",
    "import localmodule\n",
    "\n",
    "\n",
    "args = [\"all\", \"unit01\", \"trial-0\", \"unit10\"]\n",
    "aug_kind_str = args[0]\n",
    "test_unit_str = args[1]\n",
    "trial_str = args[2]\n",
    "predict_unit_str = args[3]\n",
    "\n",
    "\n",
    "data_dir = localmodule.get_data_dir()\n",
    "dataset_name = localmodule.get_dataset_name()\n",
    "folds = localmodule.fold_units()\n",
    "models_dir = localmodule.get_models_dir()\n",
    "model_name = \"icassp-convnet\"\n",
    "if not aug_kind_str == \"none\":\n",
    "    model_name = \"_\".join(\n",
    "        [model_name, \"aug-\" + aug_kind_str])\n",
    "model_dir = os.path.join(models_dir, model_name)\n",
    "unit_dir = os.path.join(model_dir, test_unit_str)\n",
    "\n",
    "\n",
    "plot_x = []\n",
    "plot_y = []\n",
    "\n",
    "for trial_id in [0, 1, 2, 3, 4, 6, 7, 8, 9]: # TODO UPDATE ME\n",
    "    trial_str = \"trial-\" + str(trial_id)\n",
    "    trial_dir = os.path.join(unit_dir, trial_str)\n",
    "\n",
    "    fold = [f for f in folds if test_unit_str in f[0]][0]\n",
    "    validation_units = fold[2]\n",
    "\n",
    "    val_df_list = []\n",
    "    for val_unit_str in validation_units:\n",
    "        val_pred_name = \"_\".join([\n",
    "            dataset_name,\n",
    "            model_name,\n",
    "            \"test-\" + test_unit_str,\n",
    "            trial_str,\n",
    "            \"predict-\" + val_unit_str,\n",
    "            \"clip-predictions.csv\"])\n",
    "        val_pred_path = os.path.join(trial_dir, val_pred_name)\n",
    "        val_df = pd.read_csv(val_pred_path)\n",
    "        val_df_list.append(val_df)\n",
    "    val_df = pd.concat(val_df_list, ignore_index=True)\n",
    "\n",
    "    val_y_true = list(val_df[\"Ground truth\"])\n",
    "    val_y_score = list(val_df[\"Predicted probability\"])\n",
    "\n",
    "    val_fprs, val_tprs, val_thresholds =\\\n",
    "        sklearn.metrics.roc_curve(val_y_true, val_y_score)\n",
    "     \n",
    "    # Compute accuracies.\n",
    "    #     ACC = (TN + TP) / (NEG + POS)\n",
    "    # The dataset is balanced (NEG = POS) so\n",
    "    #     ACC = 0.5 * (TN/NEG + TP/POS)\n",
    "    # We have NEG = FP + TN so\n",
    "    #     ACC = 0.5 * ((NEG-FP)/NEG + TP/POS)\n",
    "    # We have FPR = FP/NEG and TPR = TP/POS so\n",
    "    #     ACC = 0.5 * (1.0 - FPR + TPR)\n",
    "    val_accuracies = 0.5 * (1.0 - val_fprs + val_tprs)\n",
    "    cv_best_threshold_id = np.argmax(val_accuracies)\n",
    "    cv_threshold = val_thresholds[cv_best_threshold_id]\n",
    "    val_tnr = 1.0 - val_fprs[cv_best_threshold_id]\n",
    "    val_tpr = val_tprs[cv_best_threshold_id]\n",
    "    val_acc = val_accuracies[cv_best_threshold_id]\n",
    "    val_auc = sklearn.metrics.roc_auc_score(\n",
    "        val_y_true, val_y_score)\n",
    "    \n",
    "    \n",
    "    test_pred_name = \"_\".join([\n",
    "        dataset_name,\n",
    "        model_name,\n",
    "        \"test-\" + test_unit_str,\n",
    "        trial_str,\n",
    "        \"predict-\" + test_unit_str,\n",
    "        \"clip-predictions.csv\"])\n",
    "    test_pred_path = os.path.join(trial_dir, test_pred_name)\n",
    "    test_df = pd.read_csv(test_pred_path)\n",
    "\n",
    "    test_y_true = list(test_df[\"Ground truth\"])\n",
    "    test_y_score = list(test_df[\"Predicted probability\"])\n",
    "    \n",
    "    test_cv_y_pred = np.greater(test_y_score, cv_threshold)\n",
    "    test_cv_cm = sklearn.metrics.confusion_matrix(\n",
    "        test_y_true, test_cv_y_pred)\n",
    "    test_cv_tp = test_cv_cm[0][0]\n",
    "    test_cv_fp = test_cv_cm[0][1]\n",
    "    test_cv_fn = test_cv_cm[1][0]\n",
    "    test_cv_tn = test_cv_cm[1][1]\n",
    "    test_cv_tnr = test_cv_tn / (test_cv_tn + test_cv_fp)\n",
    "    test_cv_tpr = test_cv_tp / (test_cv_tp + test_cv_fn)\n",
    "    test_cv_acc = 0.5 * (test_cv_tnr + test_cv_tpr)\n",
    "    \n",
    "    test_adhoc_y_pred = np.greater(test_y_score, 0.5)\n",
    "    test_adhoc_cm = sklearn.metrics.confusion_matrix(\n",
    "        test_y_true, test_adhoc_y_pred)\n",
    "    test_adhoc_tp = test_adhoc_cm[0][0]\n",
    "    test_adhoc_fp = test_adhoc_cm[0][1]\n",
    "    test_adhoc_fn = test_adhoc_cm[1][0]\n",
    "    test_adhoc_tn = test_adhoc_cm[1][1]\n",
    "    test_adhoc_tnr = test_adhoc_tn / (test_adhoc_tn + test_adhoc_fp)\n",
    "    test_adhoc_tpr = test_adhoc_tp / (test_adhoc_tp + test_adhoc_fn)\n",
    "    test_adhoc_acc = 0.5 * (test_adhoc_tnr + test_adhoc_tpr)\n",
    "    \n",
    "    test_fprs, test_tprs, test_thresholds =\\\n",
    "        sklearn.metrics.roc_curve(test_y_true, test_y_score)\n",
    "    test_accuracies = 0.5 * (1.0 - test_fprs + test_tprs)\n",
    "    oracle_best_threshold_id = np.argmax(test_accuracies)\n",
    "    oracle_threshold = test_thresholds[oracle_best_threshold_id]\n",
    "    test_oracle_tnr = 1.0 - val_fprs[oracle_best_threshold_id]\n",
    "    test_oracle_tpr = test_tprs[oracle_best_threshold_id]\n",
    "    test_oracle_acc = test_accuracies[oracle_best_threshold_id]\n",
    "\n",
    "    test_auc = sklearn.metrics.roc_auc_score(test_y_true, test_y_score)\n",
    "    \n",
    "    row = [\n",
    "        \"{:.16f}\".format(cv_threshold),\n",
    "        \"{:7.3f}\".format(val_tnr*100),\n",
    "        \"{:7.3f}\".format(val_tpr*100),\n",
    "        \"{:7.3f}\".format(val_acc*100),\n",
    "        \"{:7.3f}\".format(val_auc*100),\n",
    "        \"{:7.3f}\".format(test_cv_tnr*100),\n",
    "        \"{:7.3f}\".format(test_cv_tpr*100),\n",
    "        \"{:7.3f}\".format(test_cv_acc*100),\n",
    "        \"{:7.3f}\".format(test_adhoc_tnr*100),\n",
    "        \"{:7.3f}\".format(test_adhoc_tpr*100),\n",
    "        \"{:7.3f}\".format(test_adhoc_acc*100),\n",
    "        \"{:7.3f}\".format(test_oracle_tnr*100),\n",
    "        \"{:7.3f}\".format(test_oracle_tpr*100),\n",
    "        \"{:7.3f}\".format(test_oracle_acc*100),\n",
    "        \"{:7.3f}\".format(test_auc*100)\n",
    "        ]\n",
    "    print(\",\".join(row))\n"
   ]
  },
  {
   "cell_type": "code",
   "execution_count": 245,
   "metadata": {
    "collapsed": false
   },
   "outputs": [
    {
     "data": {
      "text/plain": [
       "array([[ 756, 2170],\n",
       "       [ 505, 2421]])"
      ]
     },
     "execution_count": 245,
     "metadata": {},
     "output_type": "execute_result"
    }
   ],
   "source": [
    "test_cv_cm"
   ]
  },
  {
   "cell_type": "code",
   "execution_count": 235,
   "metadata": {
    "collapsed": false
   },
   "outputs": [
    {
     "data": {
      "text/plain": [
       "[<matplotlib.lines.Line2D at 0x2b022acffd30>,\n",
       " <matplotlib.lines.Line2D at 0x2b022acffa20>,\n",
       " <matplotlib.lines.Line2D at 0x2b022aa705f8>]"
      ]
     },
     "execution_count": 235,
     "metadata": {},
     "output_type": "execute_result"
    },
    {
     "data": {
      "image/png": "[encoded data removed]",
      "text/plain": [
       "<matplotlib.figure.Figure at 0x2b022b33e470>"
      ]
     },
     "metadata": {},
     "output_type": "display_data"
    }
   ],
   "source": [
    "from matplotlib import pyplot as plt\n",
    "%matplotlib inline\n",
    "accuracies = 0.5 * (1.0 - fpr + tpr)\n",
    "plt.plot(thresholds, fpr, thresholds, tpr, thresholds, accuracies)"
   ]
  },
  {
   "cell_type": "code",
   "execution_count": 203,
   "metadata": {
    "collapsed": false
   },
   "outputs": [
    {
     "data": {
      "text/plain": [
       "0.95081905901712926"
      ]
     },
     "execution_count": 203,
     "metadata": {},
     "output_type": "execute_result"
    }
   ],
   "source": [
    "np.max(accuracies)"
   ]
  },
  {
   "cell_type": "code",
   "execution_count": 55,
   "metadata": {
    "collapsed": false
   },
   "outputs": [],
   "source": [
    "from matplotlib import pyplot as plt\n",
    "%matplotlib inline\n",
    "precision = sklearn.metrics.precision_recall_curve(y_true, y_pred)[0]\n",
    "recall = sklearn.metrics.precision_recall_curve(y_true, y_pred)[1]\n",
    "f1_score = 2 * precision * recall / (precision + recall)"
   ]
  },
  {
   "cell_type": "code",
   "execution_count": 167,
   "metadata": {
    "collapsed": false
   },
   "outputs": [
    {
     "data": {
      "text/plain": [
       "'0.3333333333333333'"
      ]
     },
     "execution_count": 167,
     "metadata": {},
     "output_type": "execute_result"
    }
   ],
   "source": [
    "val_pr_tuple = sklearn.metrics.precision_recall_curve(\n",
    "        val_y_true, val_y_pred)\n",
    "    val_precisions = val_pr_tuple[0] * 100\n",
    "    val_recalls = val_pr_tuple[1] * 100\n",
    "    val_thresholds = val_pr_tuple[2]\n",
    "    val_f1_scores =\\\n",
    "        2*val_precisions*val_recalls / (val_precisions+val_recalls)\n",
    "    cv_best_threshold_id = np.argmax(val_f1_scores)\n",
    "    cv_best_threshold = val_thresholds[cv_best_threshold_id]\n",
    "    val_precision = val_precisions[cv_best_threshold_id]\n",
    "    val_recall = val_recalls[cv_best_threshold_id]\n",
    "    val_f1_score = val_f1_scores[cv_best_threshold_id]\n",
    "    cv_val_y_pred = np.greater(val_y_pred, cv_best_threshold).astype('int')\n",
    "\n",
    "    test_pred_name = \"_\".join([\n",
    "        dataset_name,\n",
    "        model_name,\n",
    "        \"test-\" + test_unit_str,\n",
    "        trial_str,\n",
    "        \"predict-\" + test_unit_str,\n",
    "        \"clip-predictions.csv\"])\n",
    "    test_pred_path = os.path.join(trial_dir, test_pred_name)\n",
    "    test_df = pd.read_csv(test_pred_path)\n",
    "\n",
    "    test_y_true = list(val_df[\"Ground truth\"])\n",
    "    test_y_pred = list(val_df[\"Predicted probability\"])\n",
    "\n",
    "    test_pr_tuple = sklearn.metrics.precision_recall_curve(\n",
    "        test_y_true, test_y_pred)\n",
    "    test_precisions = test_pr_tuple[0] * 100\n",
    "    test_recalls = test_pr_tuple[1] * 100\n",
    "    test_thresholds = test_pr_tuple[2]\n",
    "    test_f1_scores =\\\n",
    "        2*test_precisions*test_recalls / (test_precisions+test_recalls)\n",
    "    oracle_best_threshold_id = np.argmax(test_f1_scores)\n",
    "    oracle_best_threshold = test_thresholds[oracle_best_threshold_id]\n",
    "    oracle_test_precision = test_precisions[oracle_best_threshold_id]\n",
    "    oracle_test_recall = test_recalls[oracle_best_threshold_id]\n",
    "    oracle_test_f1_score =\\\n",
    "            (2*oracle_test_precision*oracle_test_recall) /\\\n",
    "            (oracle_test_precision+oracle_test_recall)\n",
    "\n",
    "    adhoc_test_y_pred = np.greater(test_y_pred, 0.5).astype('int')\n",
    "    adhoc_test_precision = sklearn.metrics.precision_score(\n",
    "        test_y_true, adhoc_test_y_pred) * 100\n",
    "    adhoc_test_recall = sklearn.metrics.recall_score(\n",
    "        test_y_true, adhoc_test_y_pred) * 100\n",
    "    if adhoc_test_recall == 0.0 and adhoc_test_precision == 0.0:\n",
    "        adhoc_test_f1_score = 0.0\n",
    "    else:\n",
    "        adhoc_test_f1_score =\\\n",
    "            (2*adhoc_test_precision*adhoc_test_recall) /\\\n",
    "            (adhoc_test_precision+adhoc_test_recall)\n",
    "        \n",
    "    cv_test_y_pred = np.greater(test_y_pred, cv_best_threshold).astype('int')\n",
    "    cv_test_precision = sklearn.metrics.precision_score(\n",
    "        test_y_true, cv_test_y_pred) * 100\n",
    "    cv_test_recall = sklearn.metrics.recall_score(\n",
    "        test_y_true, cv_test_y_pred) * 100\n",
    "    cv_test_f1_score =\\\n",
    "        (2*cv_test_precision*cv_test_recall) /\\\n",
    "        (cv_test_precision+cv_test_recall)"
   ]
  },
  {
   "cell_type": "code",
   "execution_count": null,
   "metadata": {
    "collapsed": true
   },
   "outputs": [],
   "source": []
  }
 ],
 "metadata": {
  "kernelspec": {
   "display_name": "Python 3",
   "language": "python",
   "name": "python3"
  },
  "language_info": {
   "codemirror_mode": {
    "name": "ipython",
    "version": 3
   },
   "file_extension": ".py",
   "mimetype": "text/x-python",
   "name": "python",
   "nbconvert_exporter": "python",
   "pygments_lexer": "ipython3",
   "version": "3.6.0"
  }
 },
 "nbformat": 4,
 "nbformat_minor": 2
}
