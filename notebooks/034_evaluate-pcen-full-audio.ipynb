{
 "cells": [
  {
   "cell_type": "code",
   "execution_count": 2,
   "metadata": {
    "collapsed": false
   },
   "outputs": [],
   "source": [
    "import csv\n",
    "import datetime\n",
    "import h5py\n",
    "import mir_eval\n",
    "import numpy as np\n",
    "import os\n",
    "import pandas as pd\n",
    "import peakutils\n",
    "import sklearn.metrics\n",
    "import sys\n",
    "import time\n",
    "\n",
    "sys.path.append(\"../src\")\n",
    "import localmodule\n",
    "\n",
    "\n",
    "# Read command-line arguments.\n",
    "args = [\"none\", \"unit01\", \"2\"]\n",
    "aug_kind_str = args[0]\n",
    "test_unit_str = args[1]\n",
    "trial_id = int(args[2])"
   ]
  },
  {
   "cell_type": "code",
   "execution_count": 3,
   "metadata": {
    "collapsed": false
   },
   "outputs": [
    {
     "name": "stdout",
     "output_type": "stream",
     "text": [
      "2017-12-01 12:45:27.856957 Start.\n",
      "Thresholding Salamon's ICASSP 2017 convnet for detection in BirdVox-70k full audio. \n",
      "Augmentation kind: none\n",
      "Test unit: unit01\n",
      "Trial ID: 2\n",
      "Prediction units: unit01, unit07, unit10\n",
      "\n",
      "h5py version: 2.6.0\n",
      "numpy version: 1.13.1\n",
      "pandas version: 0.20.3\n",
      "scikit-learn version: 0.18.2\n",
      "\n"
     ]
    }
   ],
   "source": [
    "# Define constants.\n",
    "data_dir = localmodule.get_data_dir()\n",
    "dataset_name = localmodule.get_dataset_name()\n",
    "folds = localmodule.fold_units()\n",
    "models_dir = localmodule.get_models_dir()\n",
    "units = localmodule.get_units()\n",
    "model_name = \"pcen-convnet\"\n",
    "if not aug_kind_str == \"none\":\n",
    "    model_name = \"_\".join([model_name, \"aug-\" + aug_kind_str])\n",
    "model_dir = os.path.join(models_dir, model_name)\n",
    "icassp_thresholds = 1.0 - np.concatenate((\n",
    "    np.logspace(-9, -2, 141), np.delete(np.logspace(-2, 0, 81), 0)\n",
    "))\n",
    "n_thresholds = len(icassp_thresholds)\n",
    "tolerance = 0.5 # in seconds\n",
    "min_dist = 3 # 150 ms\n",
    "\n",
    "\n",
    "# Retrieve fold such that unit_str is in the test set.\n",
    "folds = localmodule.fold_units()\n",
    "fold = [f for f in folds if test_unit_str in f[0]][0]\n",
    "test_units = fold[0]\n",
    "training_units = fold[1]\n",
    "validation_units = fold[2]\n",
    "predict_units = test_units + validation_units\n",
    "\n",
    "\n",
    "# Print header.\n",
    "start_time = int(time.time())\n",
    "print(str(datetime.datetime.now()) + \" Start.\")\n",
    "print(\"Thresholding Salamon's ICASSP 2017 convnet for detection in \" +\n",
    "    dataset_name + \" full audio. \")\n",
    "print(\"Augmentation kind: \" + aug_kind_str)\n",
    "print(\"Test unit: \" + test_unit_str)\n",
    "print(\"Trial ID: {}\".format(trial_id))\n",
    "print(\"Prediction units: \" + \", \".join(predict_units))\n",
    "print(\"\")\n",
    "print('h5py version: {:s}'.format(h5py.__version__))\n",
    "print('numpy version: {:s}'.format(np.__version__))\n",
    "print('pandas version: {:s}'.format(pd.__version__))\n",
    "print('scikit-learn version: {:s}'.format(sklearn.__version__))\n",
    "print(\"\")"
   ]
  },
  {
   "cell_type": "code",
   "execution_count": 6,
   "metadata": {
    "collapsed": false
   },
   "outputs": [],
   "source": [
    "predict_unit_str = predict_units[0]\n",
    "\n",
    "# Define directory for test unit.\n",
    "unit_dir = os.path.join(model_dir, test_unit_str)\n",
    "\n",
    "\n",
    "# Define directory for trial.\n",
    "trial_str = \"trial-\" + str(trial_id)\n",
    "trial_dir = os.path.join(unit_dir, trial_str)\n",
    "\n",
    "\n",
    "# Load ODF.\n",
    "prediction_name = \"_\".join([\n",
    "    dataset_name,\n",
    "    model_name,\n",
    "    \"test-\" + test_unit_str,\n",
    "    trial_str,\n",
    "    \"predict-\" + predict_unit_str,\n",
    "    \"full-predictions.csv\"])\n",
    "prediction_path = os.path.join(trial_dir, prediction_name)\n",
    "prediction_df = pd.read_csv(prediction_path)\n",
    "odf = np.array(prediction_df[\"Predicted probability\"])\n",
    "timestamps = np.array(prediction_df[\"Timestamp\"])\n",
    "\n",
    "\n",
    "# Load annotation.\n",
    "annotations_name = \"_\".join([dataset_name, \"annotations\"])\n",
    "annotations_dir = os.path.join(data_dir, annotations_name)\n",
    "annotation_path = os.path.join(annotations_dir, predict_unit_str + \".txt\")\n",
    "annotation = pd.read_csv(annotation_path, \"\\t\")\n",
    "begin_times = np.array(annotation[\"Begin Time (s)\"])\n",
    "end_times = np.array(annotation[\"End Time (s)\"])\n",
    "relevant = 0.5 * (begin_times + end_times)\n",
    "relevant = np.sort(relevant)\n",
    "n_relevant = len(relevant)"
   ]
  },
  {
   "cell_type": "code",
   "execution_count": 7,
   "metadata": {
    "collapsed": false
   },
   "outputs": [
    {
     "ename": "KeyboardInterrupt",
     "evalue": "",
     "output_type": "error",
     "traceback": [
      "\u001b[0;31m---------------------------------------------------------------------------\u001b[0m",
      "\u001b[0;31mKeyboardInterrupt\u001b[0m                         Traceback (most recent call last)",
      "\u001b[0;32m<ipython-input-7-56ff2672c279>\u001b[0m in \u001b[0;36m<module>\u001b[0;34m()\u001b[0m\n\u001b[1;32m      5\u001b[0m \u001b[0;31m# Pick peaks.\u001b[0m\u001b[0;34m\u001b[0m\u001b[0;34m\u001b[0m\u001b[0m\n\u001b[1;32m      6\u001b[0m peak_locations = peakutils.indexes(\n\u001b[0;32m----> 7\u001b[0;31m     odf, thres=threshold, min_dist=min_dist)\n\u001b[0m\u001b[1;32m      8\u001b[0m \u001b[0mpeak_times\u001b[0m \u001b[0;34m=\u001b[0m \u001b[0mtimestamps\u001b[0m\u001b[0;34m[\u001b[0m\u001b[0mpeak_locations\u001b[0m\u001b[0;34m]\u001b[0m\u001b[0;34m\u001b[0m\u001b[0m\n\u001b[1;32m      9\u001b[0m \u001b[0mpeak_values\u001b[0m \u001b[0;34m=\u001b[0m \u001b[0modf\u001b[0m\u001b[0;34m[\u001b[0m\u001b[0mpeak_locations\u001b[0m\u001b[0;34m]\u001b[0m\u001b[0;34m\u001b[0m\u001b[0m\n",
      "\u001b[0;32m/home/vl1019/miniconda3/lib/python3.6/site-packages/peakutils/peak.py\u001b[0m in \u001b[0;36mindexes\u001b[0;34m(y, thres, min_dist)\u001b[0m\n\u001b[1;32m     46\u001b[0m     \u001b[0;32mwhile\u001b[0m \u001b[0mlen\u001b[0m\u001b[0;34m(\u001b[0m\u001b[0mzeros\u001b[0m\u001b[0;34m)\u001b[0m\u001b[0;34m:\u001b[0m\u001b[0;34m\u001b[0m\u001b[0m\n\u001b[1;32m     47\u001b[0m         \u001b[0;31m# add pixels 2 by 2 to propagate left and right value onto the zero-value pixel\u001b[0m\u001b[0;34m\u001b[0m\u001b[0;34m\u001b[0m\u001b[0m\n\u001b[0;32m---> 48\u001b[0;31m         \u001b[0mzerosr\u001b[0m \u001b[0;34m=\u001b[0m \u001b[0mnp\u001b[0m\u001b[0;34m.\u001b[0m\u001b[0mhstack\u001b[0m\u001b[0;34m(\u001b[0m\u001b[0;34m[\u001b[0m\u001b[0mdy\u001b[0m\u001b[0;34m[\u001b[0m\u001b[0;36m1\u001b[0m\u001b[0;34m:\u001b[0m\u001b[0;34m]\u001b[0m\u001b[0;34m,\u001b[0m \u001b[0;36m0.\u001b[0m\u001b[0;34m]\u001b[0m\u001b[0;34m)\u001b[0m\u001b[0;34m\u001b[0m\u001b[0m\n\u001b[0m\u001b[1;32m     49\u001b[0m         \u001b[0mzerosl\u001b[0m \u001b[0;34m=\u001b[0m \u001b[0mnp\u001b[0m\u001b[0;34m.\u001b[0m\u001b[0mhstack\u001b[0m\u001b[0;34m(\u001b[0m\u001b[0;34m[\u001b[0m\u001b[0;36m0.\u001b[0m\u001b[0;34m,\u001b[0m \u001b[0mdy\u001b[0m\u001b[0;34m[\u001b[0m\u001b[0;34m:\u001b[0m\u001b[0;34m-\u001b[0m\u001b[0;36m1\u001b[0m\u001b[0;34m]\u001b[0m\u001b[0;34m]\u001b[0m\u001b[0;34m)\u001b[0m\u001b[0;34m\u001b[0m\u001b[0m\n\u001b[1;32m     50\u001b[0m \u001b[0;34m\u001b[0m\u001b[0m\n",
      "\u001b[0;32m/home/vl1019/miniconda3/lib/python3.6/site-packages/numpy/core/shape_base.py\u001b[0m in \u001b[0;36mhstack\u001b[0;34m(tup)\u001b[0m\n\u001b[1;32m    289\u001b[0m     \u001b[0;31m# As a special case, dimension 0 of 1-dimensional arrays is \"horizontal\"\u001b[0m\u001b[0;34m\u001b[0m\u001b[0;34m\u001b[0m\u001b[0m\n\u001b[1;32m    290\u001b[0m     \u001b[0;32mif\u001b[0m \u001b[0marrs\u001b[0m \u001b[0;32mand\u001b[0m \u001b[0marrs\u001b[0m\u001b[0;34m[\u001b[0m\u001b[0;36m0\u001b[0m\u001b[0;34m]\u001b[0m\u001b[0;34m.\u001b[0m\u001b[0mndim\u001b[0m \u001b[0;34m==\u001b[0m \u001b[0;36m1\u001b[0m\u001b[0;34m:\u001b[0m\u001b[0;34m\u001b[0m\u001b[0m\n\u001b[0;32m--> 291\u001b[0;31m         \u001b[0;32mreturn\u001b[0m \u001b[0m_nx\u001b[0m\u001b[0;34m.\u001b[0m\u001b[0mconcatenate\u001b[0m\u001b[0;34m(\u001b[0m\u001b[0marrs\u001b[0m\u001b[0;34m,\u001b[0m \u001b[0;36m0\u001b[0m\u001b[0;34m)\u001b[0m\u001b[0;34m\u001b[0m\u001b[0m\n\u001b[0m\u001b[1;32m    292\u001b[0m     \u001b[0;32melse\u001b[0m\u001b[0;34m:\u001b[0m\u001b[0;34m\u001b[0m\u001b[0m\n\u001b[1;32m    293\u001b[0m         \u001b[0;32mreturn\u001b[0m \u001b[0m_nx\u001b[0m\u001b[0;34m.\u001b[0m\u001b[0mconcatenate\u001b[0m\u001b[0;34m(\u001b[0m\u001b[0marrs\u001b[0m\u001b[0;34m,\u001b[0m \u001b[0;36m1\u001b[0m\u001b[0;34m)\u001b[0m\u001b[0;34m\u001b[0m\u001b[0m\n",
      "\u001b[0;31mKeyboardInterrupt\u001b[0m: "
     ]
    }
   ],
   "source": [
    "threshold_id = 0\n",
    "\n",
    "threshold = icassp_thresholds[threshold_id]\n",
    "\n",
    "# Pick peaks.\n",
    "peak_locations = peakutils.indexes(\n",
    "    odf, thres=threshold, min_dist=min_dist)\n",
    "peak_times = timestamps[peak_locations]\n",
    "peak_values = odf[peak_locations]\n",
    "selected = peak_times[peak_values > threshold]\n",
    "\n",
    "# Match events.\n",
    "selected_relevant = mir_eval.util.match_events(\n",
    "    relevant, selected, tolerance)\n",
    "\n",
    "# Count TP, FP, and FN.\n",
    "true_positives = len(selected_relevant)\n",
    "n_selected = len(selected)\n",
    "false_positives = n_selected - true_positives\n",
    "false_negatives = n_relevant - true_positives\n",
    "\n",
    "# Compute precision, recall, and F1 score.\n",
    "if n_selected == 0 or true_positives == 0:\n",
    "    precision = 0.0\n",
    "    recall = 0.0\n",
    "    f1_score = 0.0\n",
    "else:\n",
    "    precision = 100 * true_positives / n_selected\n",
    "    recall = 100 * true_positives / n_relevant\n",
    "    f1_score = 2*precision*recall / (precision+recall)\n",
    "\n",
    "# Write row.\n",
    "row = [\n",
    "    dataset_name,\n",
    "    aug_kind_str,\n",
    "    test_unit_str,\n",
    "    str(trial_id),\n",
    "    predict_unit_str,\n",
    "    str(int(np.round(1000*tolerance))).rjust(4),\n",
    "    format(threshold, \".10f\"),\n",
    "    str(n_relevant).rjust(5),\n",
    "    str(n_selected).rjust(6),\n",
    "    str(true_positives).rjust(5),\n",
    "    str(false_positives).rjust(6),\n",
    "    str(false_negatives).rjust(5),\n",
    "    format(precision, \".6f\").rjust(10),\n",
    "    format(recall, \".6f\").rjust(10),\n",
    "    format(f1_score, \".6f\").rjust(10)\n",
    "]\n",
    "\n",
    "print(row)"
   ]
  },
  {
   "cell_type": "code",
   "execution_count": 8,
   "metadata": {
    "collapsed": false
   },
   "outputs": [
    {
     "ename": "KeyboardInterrupt",
     "evalue": "",
     "output_type": "error",
     "traceback": [
      "\u001b[0;31m---------------------------------------------------------------------------\u001b[0m",
      "\u001b[0;31mKeyboardInterrupt\u001b[0m                         Traceback (most recent call last)",
      "\u001b[0;32m<ipython-input-8-dd1c1d94cc8c>\u001b[0m in \u001b[0;36m<module>\u001b[0;34m()\u001b[0m\n\u001b[1;32m      5\u001b[0m \u001b[0;31m# Pick peaks.\u001b[0m\u001b[0;34m\u001b[0m\u001b[0;34m\u001b[0m\u001b[0m\n\u001b[1;32m      6\u001b[0m peak_locations = peakutils.indexes(\n\u001b[0;32m----> 7\u001b[0;31m     odf, thres=threshold, min_dist=min_dist)\n\u001b[0m\u001b[1;32m      8\u001b[0m \u001b[0mpeak_times\u001b[0m \u001b[0;34m=\u001b[0m \u001b[0mtimestamps\u001b[0m\u001b[0;34m[\u001b[0m\u001b[0mpeak_locations\u001b[0m\u001b[0;34m]\u001b[0m\u001b[0;34m\u001b[0m\u001b[0m\n\u001b[1;32m      9\u001b[0m \u001b[0mpeak_values\u001b[0m \u001b[0;34m=\u001b[0m \u001b[0modf\u001b[0m\u001b[0;34m[\u001b[0m\u001b[0mpeak_locations\u001b[0m\u001b[0;34m]\u001b[0m\u001b[0;34m\u001b[0m\u001b[0m\n",
      "\u001b[0;32m/home/vl1019/miniconda3/lib/python3.6/site-packages/peakutils/peak.py\u001b[0m in \u001b[0;36mindexes\u001b[0;34m(y, thres, min_dist)\u001b[0m\n\u001b[1;32m     51\u001b[0m         \u001b[0;31m# replace 0 with right value if non zero\u001b[0m\u001b[0;34m\u001b[0m\u001b[0;34m\u001b[0m\u001b[0m\n\u001b[1;32m     52\u001b[0m         \u001b[0mdy\u001b[0m\u001b[0;34m[\u001b[0m\u001b[0mzeros\u001b[0m\u001b[0;34m]\u001b[0m\u001b[0;34m=\u001b[0m\u001b[0mzerosr\u001b[0m\u001b[0;34m[\u001b[0m\u001b[0mzeros\u001b[0m\u001b[0;34m]\u001b[0m\u001b[0;34m\u001b[0m\u001b[0m\n\u001b[0;32m---> 53\u001b[0;31m         \u001b[0mzeros\u001b[0m\u001b[0;34m,\u001b[0m\u001b[0;34m=\u001b[0m\u001b[0mnp\u001b[0m\u001b[0;34m.\u001b[0m\u001b[0mwhere\u001b[0m\u001b[0;34m(\u001b[0m\u001b[0mdy\u001b[0m \u001b[0;34m==\u001b[0m \u001b[0;36m0\u001b[0m\u001b[0;34m)\u001b[0m\u001b[0;34m\u001b[0m\u001b[0m\n\u001b[0m\u001b[1;32m     54\u001b[0m \u001b[0;34m\u001b[0m\u001b[0m\n\u001b[1;32m     55\u001b[0m         \u001b[0;31m# replace 0 with left value if non zero\u001b[0m\u001b[0;34m\u001b[0m\u001b[0;34m\u001b[0m\u001b[0m\n",
      "\u001b[0;31mKeyboardInterrupt\u001b[0m: "
     ]
    }
   ],
   "source": [
    "threshold_id = 0\n",
    "\n",
    "threshold = icassp_thresholds[threshold_id]\n",
    "\n",
    "# Pick peaks.\n",
    "peak_locations = peakutils.indexes(\n",
    "    odf, thres=threshold, min_dist=min_dist)\n",
    "peak_times = timestamps[peak_locations]\n",
    "peak_values = odf[peak_locations]\n",
    "selected = peak_times[peak_values > threshold]"
   ]
  },
  {
   "cell_type": "code",
   "execution_count": null,
   "metadata": {
    "collapsed": false
   },
   "outputs": [],
   "source": [
    "start_time = int(time.time())\n",
    "peakutils.indexes(odf, thres=0.3)\n",
    "elapsed_time = time.time() - int(start_time)\n",
    "elapsed_hours = int(elapsed_time / (60 * 60))\n",
    "elapsed_minutes = int((elapsed_time % (60 * 60)) / 60)\n",
    "elapsed_seconds = elapsed_time % 60.\n",
    "elapsed_str = \"{:>02}:{:>02}:{:>05.2f}\".format(elapsed_hours,\n",
    "                                               elapsed_minutes,\n",
    "                                               elapsed_seconds)\n",
    "print(\"Total elapsed time: \" + elapsed_str + \".\")"
   ]
  },
  {
   "cell_type": "code",
   "execution_count": 27,
   "metadata": {
    "collapsed": false
   },
   "outputs": [
    {
     "data": {
      "text/plain": [
       "796172"
      ]
     },
     "execution_count": 27,
     "metadata": {},
     "output_type": "execute_result"
    }
   ],
   "source": []
  },
  {
   "cell_type": "code",
   "execution_count": null,
   "metadata": {
    "collapsed": true
   },
   "outputs": [],
   "source": []
  }
 ],
 "metadata": {
  "kernelspec": {
   "display_name": "Python 3",
   "language": "python",
   "name": "python3"
  },
  "language_info": {
   "codemirror_mode": {
    "name": "ipython",
    "version": 3
   },
   "file_extension": ".py",
   "mimetype": "text/x-python",
   "name": "python",
   "nbconvert_exporter": "python",
   "pygments_lexer": "ipython3",
   "version": "3.6.0"
  }
 },
 "nbformat": 4,
 "nbformat_minor": 2
}
