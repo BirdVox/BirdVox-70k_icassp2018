{
 "cells": [
  {
   "cell_type": "code",
   "execution_count": 23,
   "metadata": {
    "collapsed": false,
    "deletable": true,
    "editable": true
   },
   "outputs": [],
   "source": [
    "import mir_eval\n",
    "import numpy as np\n",
    "import os\n",
    "import pandas as pd\n",
    "import sys\n",
    "\n",
    "sys.path.append(\"../src\")\n",
    "import localmodule"
   ]
  },
  {
   "cell_type": "code",
   "execution_count": 33,
   "metadata": {
    "collapsed": false,
    "deletable": true,
    "editable": true
   },
   "outputs": [],
   "source": [
    "data_dir = \"/Users/vl238/spl2017_data\"\n",
    "dataset_name = localmodule.get_dataset_name()\n",
    "annotations_name = \"_\".join([dataset_name, \"annotations\"])\n",
    "annotations_dir = os.path.join(data_dir, annotations_name)\n",
    "skm_predictions_name = \"_\".join([dataset_name, \"baseline-predictions\"])\n",
    "skm_predictions_dir = os.path.join(data_dir, skm_predictions_name)\n",
    "units = localmodule.get_units()\n",
    "\n",
    "unit_minima = []\n",
    "unit_maxima = []\n",
    "for unit_str in units:\n",
    "    prediction_path = os.path.join(skm_predictions_dir, unit_str + \".npy\")\n",
    "    prediction_matrix = np.load(prediction_path)\n",
    "    odf = prediction_matrix[:, 1]\n",
    "    unit_min = np.min(odf)\n",
    "    unit_minima.append(unit_min)\n",
    "    unit_max = np.max(odf)\n",
    "    unit_maxima.append(unit_max)\n",
    "\n",
    "timestamps = prediction_matrix[:, 0]\n",
    "annotation_path = os.path.join(annotations_dir, unit_str + \".txt\")\n",
    "df = pd.read_csv(annotation_path, \"\\t\")"
   ]
  },
  {
   "cell_type": "code",
   "execution_count": 34,
   "metadata": {
    "collapsed": false
   },
   "outputs": [
    {
     "data": {
      "text/plain": [
       "[0.95999999999999996,\n",
       " 0.874,\n",
       " 0.86599999999999999,\n",
       " 0.91400000000000003,\n",
       " 0.76600000000000001,\n",
       " 0.89800000000000002]"
      ]
     },
     "execution_count": 34,
     "metadata": {},
     "output_type": "execute_result"
    }
   ],
   "source": [
    "unit_maxima"
   ]
  },
  {
   "cell_type": "code",
   "execution_count": null,
   "metadata": {
    "collapsed": true
   },
   "outputs": [],
   "source": []
  }
 ],
 "metadata": {
  "kernelspec": {
   "display_name": "Python 3",
   "language": "python",
   "name": "python3"
  },
  "language_info": {
   "codemirror_mode": {
    "name": "ipython",
    "version": 3
   },
   "file_extension": ".py",
   "mimetype": "text/x-python",
   "name": "python",
   "nbconvert_exporter": "python",
   "pygments_lexer": "ipython3",
   "version": "3.5.2"
  }
 },
 "nbformat": 4,
 "nbformat_minor": 2
}
