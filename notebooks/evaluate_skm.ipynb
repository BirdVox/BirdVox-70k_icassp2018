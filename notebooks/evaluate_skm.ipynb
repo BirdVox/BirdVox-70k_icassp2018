{
 "cells": [
  {
   "cell_type": "code",
   "execution_count": 1,
   "metadata": {
    "collapsed": false,
    "deletable": true,
    "editable": true
   },
   "outputs": [],
   "source": [
    "import mir_eval\n",
    "import numpy as np\n",
    "import os\n",
    "import pandas as pd\n",
    "import sys\n",
    "\n",
    "sys.path.append(\"../src\")\n",
    "import localmodule"
   ]
  },
  {
   "cell_type": "code",
   "execution_count": 15,
   "metadata": {
    "collapsed": false,
    "deletable": true,
    "editable": true
   },
   "outputs": [],
   "source": [
    "data_dir = \"/Users/vl238/spl2017_data\"\n",
    "dataset_name = localmodule.get_dataset_name()\n",
    "annotations_name = \"_\".join([dataset_name, \"annotations\"])\n",
    "annotations_dir = os.path.join(data_dir, annotations_name)\n",
    "predictions_name = \"_\".join([dataset_name, \"baseline-predictions\"])\n",
    "predictions_dir = os.path.join(data_dir, predictions_name)\n",
    "units = localmodule.get_units()\n",
    "folds = localmodule.fold_units()\n",
    "n_folds = len(folds)\n",
    "n_thresholds = 100\n",
    "\n",
    "fold_id = 0\n",
    "# for fold_id in range(n_folds):\n",
    "fold = folds[fold_id]\n",
    "test_units, training_units, val_units = fold[0], fold[1], fold[2]\n",
    "unit_minima = []\n",
    "unit_maxima = []\n",
    "for unit_str in training_units+val_units:\n",
    "    prediction_name = unit_str + \".npy\"\n",
    "    prediction_path = os.path.join(predictions_dir, prediction_name)\n",
    "    prediction_matrix = np.load(prediction_path)\n",
    "    odf = prediction_matrix[:, 1]\n",
    "    unit_min = np.min(odf)\n",
    "    unit_minima.append(unit_min)\n",
    "    unit_max = np.max(odf)\n",
    "    unit_maxima.append(unit_max)\n",
    "minima = min(unit_minima)\n",
    "maxima = max(unit_maxima)\n",
    "thresholds = np.linspace(minima, maxima, n_thresholds)"
   ]
  },
  {
   "cell_type": "code",
   "execution_count": 34,
   "metadata": {
    "collapsed": false
   },
   "outputs": [
    {
     "data": {
      "text/plain": [
       "array([3])"
      ]
     },
     "execution_count": 34,
     "metadata": {},
     "output_type": "execute_result"
    }
   ],
   "source": [
    "x = np.array([0.0, 3.0, 4.0, 4.1, 3.9, 3.8, 3.1])\n",
    "\n"
   ]
  },
  {
   "cell_type": "code",
   "execution_count": 36,
   "metadata": {
    "collapsed": false
   },
   "outputs": [],
   "source": [
    "\n",
    "timestamps = prediction_matrix[:, 0]\n",
    "annotation_path = os.path.join(annotations_dir, unit_str + \".txt\")\n",
    "df = pd.read_csv(annotation_path, \"\\t\")"
   ]
  },
  {
   "cell_type": "code",
   "execution_count": 33,
   "metadata": {
    "collapsed": false
   },
   "outputs": [
    {
     "data": {
      "text/plain": [
       "(array([3]),)"
      ]
     },
     "execution_count": 33,
     "metadata": {},
     "output_type": "execute_result"
    }
   ],
   "source": [
    "locations"
   ]
  },
  {
   "cell_type": "code",
   "execution_count": 30,
   "metadata": {
    "collapsed": false
   },
   "outputs": [
    {
     "data": {
      "text/plain": [
       "array([ 0. ,  3. ,  4. ,  4.1,  3.9,  3.8,  3.1])"
      ]
     },
     "execution_count": 30,
     "metadata": {},
     "output_type": "execute_result"
    }
   ],
   "source": [
    "x"
   ]
  },
  {
   "cell_type": "code",
   "execution_count": null,
   "metadata": {
    "collapsed": true
   },
   "outputs": [],
   "source": []
  }
 ],
 "metadata": {
  "kernelspec": {
   "display_name": "Python 3",
   "language": "python",
   "name": "python3"
  },
  "language_info": {
   "codemirror_mode": {
    "name": "ipython",
    "version": 3
   },
   "file_extension": ".py",
   "mimetype": "text/x-python",
   "name": "python",
   "nbconvert_exporter": "python",
   "pygments_lexer": "ipython3",
   "version": "3.5.2"
  }
 },
 "nbformat": 4,
 "nbformat_minor": 2
}
