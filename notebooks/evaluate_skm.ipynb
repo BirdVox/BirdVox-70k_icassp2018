{
 "cells": [
  {
   "cell_type": "code",
   "execution_count": 23,
   "metadata": {
    "collapsed": false,
    "deletable": true,
    "editable": true
   },
   "outputs": [],
   "source": [
    "import mir_eval\n",
    "import numpy as np\n",
    "import os\n",
    "import pandas as pd\n",
    "import sys\n",
    "\n",
    "sys.path.append(\"../src\")\n",
    "import localmodule"
   ]
  },
  {
   "cell_type": "code",
   "execution_count": 35,
   "metadata": {
    "collapsed": false,
    "deletable": true,
    "editable": true
   },
   "outputs": [
    {
     "ename": "TypeError",
     "evalue": "object of type 'NoneType' has no len()",
     "output_type": "error",
     "traceback": [
      "\u001b[0;31m---------------------------------------------------------------------------\u001b[0m",
      "\u001b[0;31mTypeError\u001b[0m                                 Traceback (most recent call last)",
      "\u001b[0;32m<ipython-input-35-3c929d3d928d>\u001b[0m in \u001b[0;36m<module>\u001b[0;34m()\u001b[0m\n\u001b[1;32m      7\u001b[0m \u001b[0munits\u001b[0m \u001b[0;34m=\u001b[0m \u001b[0mlocalmodule\u001b[0m\u001b[0;34m.\u001b[0m\u001b[0mget_units\u001b[0m\u001b[0;34m(\u001b[0m\u001b[0;34m)\u001b[0m\u001b[0;34m\u001b[0m\u001b[0m\n\u001b[1;32m      8\u001b[0m \u001b[0mfolds\u001b[0m \u001b[0;34m=\u001b[0m \u001b[0mlocalmodule\u001b[0m\u001b[0;34m.\u001b[0m\u001b[0msplit_units\u001b[0m\u001b[0;34m(\u001b[0m\u001b[0;34m)\u001b[0m\u001b[0;34m\u001b[0m\u001b[0m\n\u001b[0;32m----> 9\u001b[0;31m \u001b[0mn_folds\u001b[0m \u001b[0;34m=\u001b[0m \u001b[0mlen\u001b[0m\u001b[0;34m(\u001b[0m\u001b[0mfolds\u001b[0m\u001b[0;34m)\u001b[0m\u001b[0;34m\u001b[0m\u001b[0m\n\u001b[0m\u001b[1;32m     10\u001b[0m \u001b[0;34m\u001b[0m\u001b[0m\n\u001b[1;32m     11\u001b[0m \u001b[0mfold_id\u001b[0m \u001b[0;34m=\u001b[0m \u001b[0;36m0\u001b[0m\u001b[0;34m\u001b[0m\u001b[0m\n",
      "\u001b[0;31mTypeError\u001b[0m: object of type 'NoneType' has no len()"
     ]
    }
   ],
   "source": [
    "data_dir = \"/Users/vl238/spl2017_data\"\n",
    "dataset_name = localmodule.get_dataset_name()\n",
    "annotations_name = \"_\".join([dataset_name, \"annotations\"])\n",
    "annotations_dir = os.path.join(data_dir, annotations_name)\n",
    "skm_predictions_name = \"_\".join([dataset_name, \"baseline-predictions\"])\n",
    "skm_predictions_dir = os.path.join(data_dir, skm_predictions_name)\n",
    "units = localmodule.get_units()\n",
    "folds = localmodule.split_units()\n",
    "n_folds = len(folds)\n",
    "\n",
    "fold_id = 0\n",
    "# for fold_id in range(n_folds):\n",
    "\n",
    "\n",
    "unit_minima = []\n",
    "unit_maxima = []\n",
    "for unit_str in units:\n",
    "    prediction_path = os.path.join(skm_predictions_dir, unit_str + \".npy\")\n",
    "    prediction_matrix = np.load(prediction_path)\n",
    "    odf = prediction_matrix[:, 1]\n",
    "    unit_min = np.min(odf)\n",
    "    unit_minima.append(unit_min)\n",
    "    unit_max = np.max(odf)\n",
    "    unit_maxima.append(unit_max)\n",
    "\n",
    "timestamps = prediction_matrix[:, 0]\n",
    "annotation_path = os.path.join(annotations_dir, unit_str + \".txt\")\n",
    "df = pd.read_csv(annotation_path, \"\\t\")"
   ]
  },
  {
   "cell_type": "code",
   "execution_count": 36,
   "metadata": {
    "collapsed": false
   },
   "outputs": [],
   "source": [
    "folds"
   ]
  },
  {
   "cell_type": "code",
   "execution_count": null,
   "metadata": {
    "collapsed": true
   },
   "outputs": [],
   "source": []
  }
 ],
 "metadata": {
  "kernelspec": {
   "display_name": "Python 3",
   "language": "python",
   "name": "python3"
  },
  "language_info": {
   "codemirror_mode": {
    "name": "ipython",
    "version": 3
   },
   "file_extension": ".py",
   "mimetype": "text/x-python",
   "name": "python",
   "nbconvert_exporter": "python",
   "pygments_lexer": "ipython3",
   "version": "3.5.2"
  }
 },
 "nbformat": 4,
 "nbformat_minor": 2
}
