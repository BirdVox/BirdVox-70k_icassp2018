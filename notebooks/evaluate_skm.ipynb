{
 "cells": [
  {
   "cell_type": "code",
   "execution_count": 1,
   "metadata": {
    "collapsed": false,
    "deletable": true,
    "editable": true
   },
   "outputs": [],
   "source": [
    "import mir_eval\n",
    "import numpy as np\n",
    "import os\n",
    "import pandas as pd\n",
    "import sys\n",
    "\n",
    "sys.path.append(\"../src\")\n",
    "import localmodule"
   ]
  },
  {
   "cell_type": "code",
   "execution_count": 10,
   "metadata": {
    "collapsed": false,
    "deletable": true,
    "editable": true
   },
   "outputs": [
    {
     "data": {
      "text/plain": [
       "array([ 0.106     ,  0.11416162,  0.12232323,  0.13048485,  0.13864646,\n",
       "        0.14680808,  0.1549697 ,  0.16313131,  0.17129293,  0.17945455,\n",
       "        0.18761616,  0.19577778,  0.20393939,  0.21210101,  0.22026263,\n",
       "        0.22842424,  0.23658586,  0.24474747,  0.25290909,  0.26107071,\n",
       "        0.26923232,  0.27739394,  0.28555556,  0.29371717,  0.30187879,\n",
       "        0.3100404 ,  0.31820202,  0.32636364,  0.33452525,  0.34268687,\n",
       "        0.35084848,  0.3590101 ,  0.36717172,  0.37533333,  0.38349495,\n",
       "        0.39165657,  0.39981818,  0.4079798 ,  0.41614141,  0.42430303,\n",
       "        0.43246465,  0.44062626,  0.44878788,  0.45694949,  0.46511111,\n",
       "        0.47327273,  0.48143434,  0.48959596,  0.49775758,  0.50591919,\n",
       "        0.51408081,  0.52224242,  0.53040404,  0.53856566,  0.54672727,\n",
       "        0.55488889,  0.56305051,  0.57121212,  0.57937374,  0.58753535,\n",
       "        0.59569697,  0.60385859,  0.6120202 ,  0.62018182,  0.62834343,\n",
       "        0.63650505,  0.64466667,  0.65282828,  0.6609899 ,  0.66915152,\n",
       "        0.67731313,  0.68547475,  0.69363636,  0.70179798,  0.7099596 ,\n",
       "        0.71812121,  0.72628283,  0.73444444,  0.74260606,  0.75076768,\n",
       "        0.75892929,  0.76709091,  0.77525253,  0.78341414,  0.79157576,\n",
       "        0.79973737,  0.80789899,  0.81606061,  0.82422222,  0.83238384,\n",
       "        0.84054545,  0.84870707,  0.85686869,  0.8650303 ,  0.87319192,\n",
       "        0.88135354,  0.88951515,  0.89767677,  0.90583838,  0.914     ])"
      ]
     },
     "execution_count": 10,
     "metadata": {},
     "output_type": "execute_result"
    }
   ],
   "source": [
    "data_dir = \"/Users/vl238/spl2017_data\"\n",
    "dataset_name = localmodule.get_dataset_name()\n",
    "annotations_name = \"_\".join([dataset_name, \"annotations\"])\n",
    "annotations_dir = os.path.join(data_dir, annotations_name)\n",
    "predictions_name = \"_\".join([dataset_name, \"baseline-predictions\"])\n",
    "predictions_dir = os.path.join(data_dir, predictions_name)\n",
    "units = localmodule.get_units()\n",
    "folds = localmodule.fold_units()\n",
    "n_folds = len(folds)\n",
    "\n",
    "fold_id = 0\n",
    "# for fold_id in range(n_folds):\n",
    "fold = folds[fold_id]\n",
    "test_units, training_units, val_units = fold[0], fold[1], fold[2]\n",
    "unit_minima = []\n",
    "unit_maxima = []\n",
    "for unit_str in training_units+val_units:\n",
    "    prediction_name = unit_str + \".npy\"\n",
    "    prediction_path = os.path.join(predictions_dir, prediction_name)\n",
    "    prediction_matrix = np.load(prediction_path)\n",
    "    odf = prediction_matrix[:, 1]\n",
    "    unit_min = np.min(odf)\n",
    "    unit_minima.append(unit_min)\n",
    "    unit_max = np.max(odf)\n",
    "    unit_maxima.append(unit_max)\n",
    "minima = min(unit_minima)\n",
    "maxima = max(unit_maxima)\n",
    "thresholds = np.linspace(0.0, 1.0, 100)\n",
    "thresholds"
   ]
  },
  {
   "cell_type": "code",
   "execution_count": 36,
   "metadata": {
    "collapsed": false
   },
   "outputs": [],
   "source": [
    "\n",
    "timestamps = prediction_matrix[:, 0]\n",
    "annotation_path = os.path.join(annotations_dir, unit_str + \".txt\")\n",
    "df = pd.read_csv(annotation_path, \"\\t\")"
   ]
  },
  {
   "cell_type": "code",
   "execution_count": 8,
   "metadata": {
    "collapsed": false
   },
   "outputs": [
    {
     "data": {
      "text/plain": [
       "0.91400000000000003"
      ]
     },
     "execution_count": 8,
     "metadata": {},
     "output_type": "execute_result"
    }
   ],
   "source": [
    "max(unit_maxima)"
   ]
  },
  {
   "cell_type": "code",
   "execution_count": null,
   "metadata": {
    "collapsed": true
   },
   "outputs": [],
   "source": []
  }
 ],
 "metadata": {
  "kernelspec": {
   "display_name": "Python 3",
   "language": "python",
   "name": "python3"
  },
  "language_info": {
   "codemirror_mode": {
    "name": "ipython",
    "version": 3
   },
   "file_extension": ".py",
   "mimetype": "text/x-python",
   "name": "python",
   "nbconvert_exporter": "python",
   "pygments_lexer": "ipython3",
   "version": "3.5.2"
  }
 },
 "nbformat": 4,
 "nbformat_minor": 2
}
