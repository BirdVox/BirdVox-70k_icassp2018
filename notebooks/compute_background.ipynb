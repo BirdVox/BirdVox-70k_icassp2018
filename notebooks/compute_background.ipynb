{
 "cells": [
  {
   "cell_type": "code",
   "execution_count": 1,
   "metadata": {
    "collapsed": true,
    "deletable": true,
    "editable": true
   },
   "outputs": [],
   "source": [
    "import h5py\n",
    "import numpy as np\n",
    "import os\n",
    "import sys\n",
    "import time\n",
    "import tqdm\n",
    "\n",
    "sys.path.append(\"../src\")\n",
    "import localmodule"
   ]
  },
  {
   "cell_type": "code",
   "execution_count": 3,
   "metadata": {
    "collapsed": false,
    "deletable": true,
    "editable": true
   },
   "outputs": [
    {
     "name": "stderr",
     "output_type": "stream",
     "text": [
      "100%|██████████| 100/100 [00:01<00:00, 92.89it/s]\n"
     ]
    }
   ],
   "source": [
    "units = localmodule.get_units()\n",
    "n_units = len(units)\n",
    "dataset_name = localmodule.get_dataset_name()\n",
    "full_logmelspec_name = \"_\".join([\n",
    "    dataset_name, \"full-logmelspec\"])\n",
    "data_dir = localmodule.get_data_dir()\n",
    "full_logmelspec_dir = os.path.join(\n",
    "    data_dir, full_logmelspec_name)\n",
    "clip_logmelspec_name = \"_\".join([\n",
    "    dataset_name, \"logmelspec\"])\n",
    "clip_logmelspec_dir = os.path.join(\n",
    "    data_dir, clip_logmelspec_name, \"original\")\n",
    "orig_sr = localmodule.get_sample_rate()\n",
    "bg_durations = [\n",
    "    1, 2, 5, 10, 30,\n",
    "    60, 120, 300, 600, 1800,\n",
    "    3600, 7200]\n",
    "percentiles = [0.1, 1, 10, 25, 50, 75, 90, 99, 99.9]\n",
    "backgrounds_name = \"_\".join(\n",
    "    [dataset_name, \"backgrounds\"])\n",
    "backgrounds_dir = os.path.join(data_dir, backgrounds_name)\n",
    "os.makedirs(backgrounds_dir, exist_ok=True)\n",
    "\n",
    "\n",
    "start_time = int(time.time())\n",
    "\n",
    "unit_str = units[0] # DELETE ME\n",
    "bg_duration = bg_durations[0] # DELETE ME\n",
    "\n",
    "in_full_unit_name = unit_str + \".hdf5\"\n",
    "in_full_unit_path = os.path.join(\n",
    "    full_logmelspec_dir, in_full_unit_name)\n",
    "in_full_unit_file = h5py.File(in_full_unit_path, \"r\")\n",
    "in_full_group = in_full_unit_file[\"logmelspec\"]\n",
    "in_clip_unit_name = \"_\".join([\n",
    "    dataset_name, \"original\", unit_str + \".hdf5\"])\n",
    "in_clip_unit_path = os.path.join(\n",
    "    clip_logmelspec_dir, in_clip_unit_name)\n",
    "in_clip_unit_file = h5py.File(in_clip_unit_path, \"r\")\n",
    "in_clip_group = in_clip_unit_file[\"logmelspec\"]\n",
    "in_clip_keys = list(in_clip_group.keys())\n",
    "lms_settings = in_clip_unit_file[\"logmelspec_settings\"]\n",
    "lms_hop_length = lms_settings[\"hop_length\"].value\n",
    "lms_sr = lms_settings[\"sr\"].value\n",
    "lms_ratio = lms_hop_length / lms_sr * orig_sr\n",
    "lms_hop_duration = lms_hop_length / lms_sr\n",
    "\n",
    "half_bg_duration = 0.5 * bg_duration\n",
    "half_bg_width = int(np.round(\n",
    "    half_bg_duration * lms_sr / lms_hop_length))\n",
    "\n",
    "bg_duration_str = str(int(bg_duration)).zfill(4)\n",
    "out_T_name = \"-\".join([\"T\", str(bg_duration_str)])\n",
    "out_T_dir = os.path.join(backgrounds_dir, out_T_name)\n",
    "os.makedirs(out_T_dir, exist_ok=True)\n",
    "out_unit_name = \"_\".join([\n",
    "    dataset_name, \"backgrounds\",\n",
    "    unit_str, out_T_name]) + \".hdf5\"\n",
    "out_unit_path = os.path.join(out_T_dir, out_unit_name)\n",
    "out_unit_file = h5py.File(out_unit_path, \"w\")\n",
    "out_lms_group =\\\n",
    "    out_unit_file.create_group(\"logmelspec_background\")\n",
    "\n",
    "\n",
    "for in_clip_key in tqdm.tqdm(in_clip_keys):\n",
    "\n",
    "    in_clip_key_list = in_clip_key.split(\"_\")\n",
    "    out_clip_key_list = in_clip_key_list[:-1]\n",
    "    out_clip_key = \"_\".join(out_clip_key_list)\n",
    "\n",
    "    timestamp = int(in_clip_key_list[1])\n",
    "    lms_mid = int(np.round(timestamp / lms_ratio))\n",
    "    lms_start = max(0, lms_mid - half_bg_width)\n",
    "    lms_stop = lms_start + 2 * half_bg_width\n",
    "    lms = in_full_group[:, lms_start:lms_stop]\n",
    "    lms_percentiles = np.percentile(lms, percentiles, axis=1)\n",
    "    \n",
    "    out_lms_group[out_clip_key] = lms_percentiles\n",
    "\n",
    "\n",
    "out_unit_file.close()\n",
    "in_full_unit_file.close()\n",
    "in_clip_unit_file.close()"
   ]
  },
  {
   "cell_type": "code",
   "execution_count": 32,
   "metadata": {
    "collapsed": false,
    "deletable": true,
    "editable": true
   },
   "outputs": [
    {
     "data": {
      "text/plain": [
       "['augmentation',\n",
       " 'dataset_name',\n",
       " 'gps_coordinates',\n",
       " 'instance',\n",
       " 'logmelspec',\n",
       " 'logmelspec_settings',\n",
       " 'unit',\n",
       " 'utc_start_time']"
      ]
     },
     "execution_count": 32,
     "metadata": {},
     "output_type": "execute_result"
    }
   ],
   "source": [
    "# Print elapsed time.\n",
    "print(str(datetime.datetime.now()) + \" Finish.\")\n",
    "elapsed_time = time.time() - int(start_time)\n",
    "elapsed_hours = int(elapsed_time / (60 * 60))\n",
    "elapsed_minutes = int((elapsed_time % (60 * 60)) / 60)\n",
    "elapsed_seconds = elapsed_time % 60.\n",
    "elapsed_str = \"{:>02}:{:>02}:{:>05.2f}\".format(elapsed_hours,\n",
    "                                               elapsed_minutes,\n",
    "                                               elapsed_seconds)\n",
    "print(\"Total elapsed time: \" + elapsed_str + \".\")"
   ]
  },
  {
   "cell_type": "code",
   "execution_count": 4,
   "metadata": {
    "collapsed": false,
    "deletable": true,
    "editable": true
   },
   "outputs": [],
   "source": [
    "f = h5py.File(out_unit_path, \"r\")"
   ]
  },
  {
   "cell_type": "code",
   "execution_count": 6,
   "metadata": {
    "collapsed": false,
    "deletable": true,
    "editable": true
   },
   "outputs": [
    {
     "data": {
      "text/plain": [
       "['logmelspec_background']"
      ]
     },
     "execution_count": 6,
     "metadata": {},
     "output_type": "execute_result"
    }
   ],
   "source": [
    "list(f.keys())"
   ]
  },
  {
   "cell_type": "code",
   "execution_count": 9,
   "metadata": {
    "collapsed": false,
    "deletable": true,
    "editable": true
   },
   "outputs": [
    {
     "data": {
      "text/plain": [
       "<HDF5 dataset \"unit01_012572038_00000_0\": shape (9, 128), type \"<f8\">"
      ]
     },
     "execution_count": 9,
     "metadata": {},
     "output_type": "execute_result"
    }
   ],
   "source": [
    "f[\"logmelspec_background\"][\"unit01_012572038_00000_0\"]"
   ]
  },
  {
   "cell_type": "code",
   "execution_count": null,
   "metadata": {
    "collapsed": true,
    "deletable": true,
    "editable": true
   },
   "outputs": [],
   "source": []
  }
 ],
 "metadata": {
  "kernelspec": {
   "display_name": "Python 3",
   "language": "python",
   "name": "python3"
  },
  "language_info": {
   "codemirror_mode": {
    "name": "ipython",
    "version": 3
   },
   "file_extension": ".py",
   "mimetype": "text/x-python",
   "name": "python",
   "nbconvert_exporter": "python",
   "pygments_lexer": "ipython3",
   "version": "3.6.0"
  }
 },
 "nbformat": 4,
 "nbformat_minor": 2
}
