{
 "cells": [
  {
   "cell_type": "code",
   "execution_count": 1,
   "metadata": {
    "collapsed": false
   },
   "outputs": [],
   "source": [
    "import mir_eval\n",
    "import numpy as np\n",
    "import os\n",
    "import pandas as pd\n",
    "import sys\n",
    "sys.path.append('../src')\n",
    "import localmodule\n",
    "\n",
    "\n",
    "# Define constants.\n",
    "data_dir = localmodule.get_data_dir()\n",
    "dataset_name = localmodule.get_dataset_name()\n",
    "models_dir = localmodule.get_models_dir()\n",
    "units = localmodule.get_units()\n",
    "n_units = len(units)\n",
    "trials = [5, 7, 9, 7, 7, 8] # maximize clip-wise val acc\n",
    "icassp_thresholds = 1.0 - np.logspace(-7, 0, 141)[::-1]\n",
    "n_thresholds = len(icassp_thresholds)\n",
    "tolerance = 0.5 # in seconds\n",
    "\n",
    "\n",
    "# Define directory for model.\n",
    "aug_str = \"all\"\n",
    "model_name = \"icassp-convnet\"\n",
    "if not aug_str == \"none\":\n",
    "    model_name = \"_\".join([model_name, \"aug-\" + aug_str])\n",
    "model_dir = os.path.join(models_dir, model_name)\n",
    "\n",
    "\n",
    "# Define directory for annotations.\n",
    "annotations_name = \"_\".join([dataset_name, \"annotations\"])\n",
    "annotations_dir = os.path.join(data_dir, annotations_name)\n",
    "\n",
    "\n",
    "tp_matrix = np.zeros((n_thresholds, n_units))\n",
    "fp_matrix = np.zeros((n_thresholds, n_units))\n",
    "fn_matrix = np.zeros((n_thresholds, n_units))\n",
    "\n",
    "# Loop over recording units.\n",
    "for test_unit_id in range(n_units):\n",
    "    test_unit_str = units[test_unit_id]\n",
    "    unit_dir = os.path.join(model_dir, test_unit_str)\n",
    "    trial_id = trials[test_unit_id]\n",
    "    trial_str = \"trial-\" + str(trial_id)\n",
    "    trial_dir = os.path.join(unit_dir, trial_str)\n",
    "    prediction_name = \"_\".join([\n",
    "        dataset_name,\n",
    "        model_name,\n",
    "        \"test-\" + test_unit_str,\n",
    "        trial_str,\n",
    "        \"predict-\" + test_unit_str,\n",
    "        \"full-predictions.csv\"])\n",
    "    prediction_path = os.path.join(trial_dir, prediction_name)\n",
    "    prediction_df = pd.read_csv(prediction_path)\n",
    "\n",
    "    annotation_path = os.path.join(annotations_dir,\n",
    "        test_unit_str + \".txt\")\n",
    "    annotation = pd.read_csv(annotation_path, '\\t')\n",
    "    begin_times = np.array(annotation[\"Begin Time (s)\"])\n",
    "    end_times = np.array(annotation[\"End Time (s)\"])\n",
    "    relevant = 0.5 * (begin_times + end_times)\n",
    "    n_relevant = len(relevant)\n",
    "\n",
    "    odf = np.array(prediction_df[\"Predicted probability\"])\n",
    "    timestamps = np.array(prediction_df[\"Timestamp\"])\n",
    "    \n",
    "    peak_locations = localmodule.pick_peaks(odf)\n",
    "    peak_times = timestamps[peak_locations]\n",
    "    peak_values = odf[peak_locations]\n",
    "\n",
    "    for th_id, threshold in enumerate(icassp_thresholds):\n",
    "        selected = peak_times[peak_values > threshold]\n",
    "\n",
    "        selected_relevant = mir_eval.util.match_events(\n",
    "            relevant, selected, tolerance)\n",
    "\n",
    "        true_positives = len(selected_relevant)\n",
    "        n_selected = len(selected)\n",
    "        false_positives = n_selected - true_positives\n",
    "        false_negatives = n_relevant - true_positives\n",
    "\n",
    "        tp_matrix[th_id, test_unit_id] = true_positives\n",
    "        fp_matrix[th_id, test_unit_id] = false_positives\n",
    "        fn_matrix[th_id, test_unit_id] = false_negatives\n",
    "        \n",
    "        \n",
    "icassp_tp = np.sum(tp_matrix, axis=1)\n",
    "icassp_fp = np.sum(fp_matrix, axis=1)\n",
    "icassp_fn = np.sum(fn_matrix, axis=1)\n",
    "\n",
    "icassp_precisions = 100 * icassp_tp / (icassp_tp+icassp_fp)\n",
    "icassp_recalls = 100 * icassp_tp / (icassp_tp+icassp_fn)\n",
    "icassp_f1_scores = 2*icassp_precisions*icassp_recalls /\\\n",
    "    (icassp_precisions+icassp_recalls)\n",
    "    \n",
    "\n",
    "icassp_precisions = [100.0] + list(icassp_precisions)[::-1] + [0.0]\n",
    "icassp_recalls = [0.0] + list(icassp_recalls)[::-1] + [100.0]\n",
    "icass_f1_scores = [0.0] + list(icassp_f1_scores)[::-1] + [0.0]"
   ]
  },
  {
   "cell_type": "code",
   "execution_count": 5,
   "metadata": {
    "collapsed": false
   },
   "outputs": [],
   "source": [
    "models_dir = localmodule.get_models_dir()\n",
    "model_name = \"SKM\"\n",
    "model_dir = os.path.join(models_dir, model_name)\n",
    "units = localmodule.get_units()\n",
    "tolerance_ms = 500\n",
    "tol_str = \"tol-\" + str(tolerance_ms)\n",
    "\n",
    "unit_relevant = []\n",
    "unit_selected, unit_tp = [], []\n",
    "for unit_str in units:\n",
    "    unit_dir = os.path.join(model_dir, unit_str)\n",
    "    metrics_name = \"_\".join([model_name, tol_str, unit_str, \"metrics\"])\n",
    "    metrics_path = os.path.join(unit_dir, metrics_name + \".csv\")\n",
    "    df = pd.read_csv(metrics_path)\n",
    "    precisions = np.array(df[\"precision (%)\"])\n",
    "    precisions = np.insert(precisions, 0, 0.0)\n",
    "    precisions = np.append(precisions, 100)\n",
    "    precisions = precisions[::-1] / 100\n",
    "    recalls = np.array(df[\"recall (%)\"])\n",
    "    recalls = np.insert(recalls, 0, 100.0)\n",
    "    recalls = np.append(recalls, 0.0)\n",
    "    recalls = recalls[::-1] / 100\n",
    "    unit_relevant.append(np.array(df[\"relevant\"])[0])\n",
    "    unit_selected.append(np.array(df[\"selected\"]))\n",
    "    unit_tp.append(np.array(df[\"true positives\"]))\n",
    "    \n",
    "\n",
    "relevant = np.sum(np.array(unit_relevant))\n",
    "selected = np.sum(np.stack(unit_selected), axis=0)\n",
    "tp = np.sum(np.stack(unit_tp), axis=0)\n",
    "precisions = tp / selected\n",
    "recalls = tp / relevant\n",
    "precisions = np.insert(precisions, 0, 0.0)\n",
    "precisions = np.append(precisions, 1.0)\n",
    "precisions = 100 * precisions[::-1]\n",
    "recalls = np.insert(recalls, 0, 1.0)\n",
    "recalls = np.append(recalls, 0.0)\n",
    "recalls = 100 * recalls[::-1]\n",
    "\n",
    "skm_precisions = precisions\n",
    "skm_recalls = recalls\n",
    "skm_f1_scores = 2*skm_precisions*skm_recalls / (skm_precisions+skm_recalls)"
   ]
  },
  {
   "cell_type": "code",
   "execution_count": 46,
   "metadata": {
    "collapsed": false
   },
   "outputs": [],
   "source": [
    "models_dir = localmodule.get_models_dir()\n",
    "model_name = \"oldbird\"\n",
    "model_dir = os.path.join(models_dir, model_name)\n",
    "units = localmodule.get_units()\n",
    "tolerance_ms = 500\n",
    "tol_str = \"tol-\" + str(tolerance_ms)\n",
    "prefix = \"_\".join([dataset_name, \"oldbird_merged_clip-suppressor\"])\n",
    "n_thresholds = 100\n",
    "\n",
    "unit_relevant = []\n",
    "unit_selected, unit_tp = [], []\n",
    "\n",
    "tp_matrix = np.zeros((n_thresholds, n_units))\n",
    "fp_matrix = np.zeros((n_thresholds, n_units))\n",
    "fn_matrix = np.zeros((n_thresholds, n_units))\n",
    "\n",
    "for unit_id, unit_str in enumerate(units):\n",
    "    unit_dir = os.path.join(model_dir, unit_str)\n",
    "    metrics_name = \"_\".join([prefix, unit_str, tol_str, \"metrics\"])\n",
    "    metrics_path = os.path.join(unit_dir, metrics_name + \".csv\")\n",
    "    df = pd.read_csv(metrics_path)\n",
    "    true_positives = np.array(df[\"True positives\"])\n",
    "    tp_matrix[:, unit_id] = true_positives\n",
    "    false_positives = np.array(df[\"False positives\"])\n",
    "    fp_matrix[:, unit_id] = false_positives\n",
    "    false_negatives = np.array(df[\"False negatives\"])\n",
    "    fn_matrix[:, unit_id] = false_negatives\n",
    "    \n",
    "    \n",
    "oldbird_tp = np.sum(tp_matrix, axis=1)\n",
    "oldbird_fp = np.sum(fp_matrix, axis=1)\n",
    "oldbird_fn = np.sum(fn_matrix, axis=1)\n",
    "\n",
    "eps = np.finfo(float).eps\n",
    "oldbird_precisions = 100 * oldbird_tp / (eps+oldbird_tp+oldbird_fp)\n",
    "oldbird_recalls = 100 * oldbird_tp / (eps+oldbird_tp+oldbird_fn)\n",
    "\n",
    "sorting_indices = np.argsort(oldbird_recalls)\n",
    "oldbird_precisions = oldbird_precisions[sorting_indices]\n",
    "oldbird_recalls = oldbird_recalls[sorting_indices]\n",
    "\n",
    "oldbird_f1_scores = 2*oldbird_precisions*oldbird_recalls / (eps+oldbird_precisions+oldbird_recalls)\n",
    "\n",
    "oldbird_precisions = np.insert(oldbird_precisions, 0, 100.0)\n",
    "oldbird_precisions = np.append(oldbird_precisions, 0.0)\n",
    "oldbird_recalls = np.insert(oldbird_recalls, 0, 0.0)\n",
    "oldbird_recalls = np.append(oldbird_recalls, 100.0)"
   ]
  },
  {
   "cell_type": "code",
   "execution_count": 51,
   "metadata": {
    "collapsed": false
   },
   "outputs": [
    {
     "data": {
      "text/plain": [
       "<matplotlib.legend.Legend at 0x2abfea3137b8>"
      ]
     },
     "execution_count": 51,
     "metadata": {},
     "output_type": "execute_result"
    },
    {
     "data": {
      "image/png": "[encoded data removed]",
      "text/plain": [
       "<matplotlib.figure.Figure at 0x2abfea25a080>"
      ]
     },
     "metadata": {},
     "output_type": "display_data"
    }
   ],
   "source": [
    "from matplotlib import pyplot as plt\n",
    "%matplotlib inline\n",
    "\n",
    "plt.figure(figsize=(8, 6))\n",
    "\n",
    "icassp_f1_score = np.max(icassp_f1_scores)\n",
    "icassp_auprc = np.trapz(icassp_precisions[::-1], icassp_recalls[::-1]) / 100\n",
    "icassp_label = \"ICASSP convnet. F={:2.0f}%, AUPRC={:2.0f}%.\".format(\n",
    "    icassp_f1_score, icassp_auprc)\n",
    "plt.plot(icassp_recalls, icassp_precisions, \"-o\", label=icassp_label)\n",
    "\n",
    "skm_f1_score = np.max(skm_f1_scores)\n",
    "skm_auprc = np.trapz(skm_precisions, skm_recalls) / 100\n",
    "skm_label = \"Spherical k-means. F={:2.0f}%, AUPRC={:2.0f}%.\".format(\n",
    "    skm_f1_score, skm_auprc)\n",
    "plt.plot(skm_recalls, skm_precisions, \"-o\", label=skm_label)\n",
    "\n",
    "oldbird_f1_score = np.max(oldbird_f1_scores)\n",
    "oldbird_auprc = np.trapz(oldbird_precisions, oldbird_recalls) / 100\n",
    "oldbird_label = \"Old Bird. F={:2.0f}%, AUPRC={:2.0f}%.\".format(\n",
    "    oldbird_f1_score, oldbird_auprc)\n",
    "plt.plot(oldbird_recalls, oldbird_precisions, \"-o\", label=oldbird_label)\n",
    "\n",
    "plt.title(\"PR curve on full night BirdVox-70k data. Tolerance = {} ms\".format(tolerance_ms))\n",
    "plt.xlabel(\"Recall (%)\")\n",
    "plt.ylabel(\"Precision (%)\")\n",
    "plt.legend()"
   ]
  },
  {
   "cell_type": "code",
   "execution_count": 109,
   "metadata": {
    "collapsed": false
   },
   "outputs": [
    {
     "data": {
      "text/plain": [
       "<matplotlib.legend.Legend at 0x2ad8b1d0a908>"
      ]
     },
     "execution_count": 109,
     "metadata": {},
     "output_type": "execute_result"
    },
    {
     "data": {
      "image/png": "[encoded data removed]",
      "text/plain": [
       "<matplotlib.figure.Figure at 0x2ad8b1c98198>"
      ]
     },
     "metadata": {},
     "output_type": "display_data"
    }
   ],
   "source": [
    "plt.figure(figsize=(8, 6))\n",
    "plt.plot(\n",
    "    np.linspace(0.0, 1.0, len(icassp_thresholds)), icassp_f1_scores, '-o',\n",
    "    label=\"ICASSP convnet with data augmentation\")\n",
    "plt.plot(\n",
    "    np.linspace(0.0, 1.0, 102), skm_f1_scores, '-o',\n",
    "    label=\"Out-of-sample spherical k-means\")\n",
    "plt.plot(\n",
    "    np.linspace(0.0, 1.0, 100), oldbird_f1_scores, '-o',\n",
    "    label=\"Old Bird\")\n",
    "plt.legend()"
   ]
  },
  {
   "cell_type": "code",
   "execution_count": 31,
   "metadata": {
    "collapsed": false
   },
   "outputs": [],
   "source": []
  },
  {
   "cell_type": "code",
   "execution_count": 32,
   "metadata": {
    "collapsed": false
   },
   "outputs": [
    {
     "data": {
      "text/plain": [
       "11.192592136256636"
      ]
     },
     "execution_count": 32,
     "metadata": {},
     "output_type": "execute_result"
    }
   ],
   "source": [
    "skm_auprc"
   ]
  },
  {
   "cell_type": "code",
   "execution_count": 54,
   "metadata": {
    "collapsed": false
   },
   "outputs": [
    {
     "data": {
      "text/plain": [
       "[100.0,\n",
       " 79.002393248519965,\n",
       " 79.002393248519965,\n",
       " 79.002393248519965,\n",
       " 79.002393248519965,\n",
       " 79.002393248519965,\n",
       " 79.002393248519965,\n",
       " 79.002393248519965,\n",
       " 79.002393248519965,\n",
       " 79.002393248519965,\n",
       " 79.002393248519965,\n",
       " 79.002393248519965,\n",
       " 79.002393248519965,\n",
       " 79.002393248519965,\n",
       " 79.002393248519965,\n",
       " 79.002393248519965,\n",
       " 79.002393248519965,\n",
       " 79.002393248519965,\n",
       " 79.002393248519965,\n",
       " 79.002393248519965,\n",
       " 79.002393248519965,\n",
       " 79.002393248519965,\n",
       " 79.002393248519965,\n",
       " 79.002393248519965,\n",
       " 79.002393248519965,\n",
       " 79.002393248519965,\n",
       " 79.002393248519965,\n",
       " 79.002393248519965,\n",
       " 79.002393248519965,\n",
       " 79.002393248519965,\n",
       " 79.002393248519965,\n",
       " 79.002393248519965,\n",
       " 79.002393248519965,\n",
       " 79.002393248519965,\n",
       " 79.002393248519965,\n",
       " 79.002393248519965,\n",
       " 79.002393248519965,\n",
       " 79.002393248519965,\n",
       " 79.002393248519965,\n",
       " 79.002393248519965,\n",
       " 79.002393248519965,\n",
       " 79.002393248519965,\n",
       " 79.002393248519965,\n",
       " 76.413984817705554,\n",
       " 76.413984817705554,\n",
       " 76.413984817705554,\n",
       " 76.413984817705554,\n",
       " 76.413984817705554,\n",
       " 76.413984817705554,\n",
       " 75.049368088467617,\n",
       " 75.049368088467617,\n",
       " 75.049368088467617,\n",
       " 75.049368088467617,\n",
       " 74.068177561341074,\n",
       " 74.068177561341074,\n",
       " 73.317719124403212,\n",
       " 73.317719124403212,\n",
       " 72.630476522953401,\n",
       " 72.630476522953401,\n",
       " 72.15308557790658,\n",
       " 71.743671150472053,\n",
       " 71.283312833128335,\n",
       " 70.97684923771881,\n",
       " 70.696086991031038,\n",
       " 70.492059766877887,\n",
       " 70.046540016784931,\n",
       " 69.846060971928765,\n",
       " 69.454921973226831,\n",
       " 69.266021677456905,\n",
       " 68.891579997150586,\n",
       " 68.623453318335208,\n",
       " 68.374766290423096,\n",
       " 68.270410249420749,\n",
       " 67.973244147157189,\n",
       " 67.768758661651162,\n",
       " 67.5,\n",
       " 67.344856177052108,\n",
       " 67.100301659125194,\n",
       " 66.881188118811878,\n",
       " 66.634176058483092,\n",
       " 66.428699982002513,\n",
       " 66.22747415066469,\n",
       " 66.034672696700881,\n",
       " 65.794285714285721,\n",
       " 65.522287257991891,\n",
       " 65.310540045512568,\n",
       " 65.131902343109942,\n",
       " 64.925975773889633,\n",
       " 64.734941038988637,\n",
       " 64.56709390530996,\n",
       " 64.325075964361133,\n",
       " 64.057029783347716,\n",
       " 63.88416524957487,\n",
       " 63.682499014584153,\n",
       " 63.436999660375527,\n",
       " 63.247331386721555,\n",
       " 63.103171227373693,\n",
       " 63.014527845036319,\n",
       " 62.849021136123973,\n",
       " 62.589213117716142,\n",
       " 62.429340810967197,\n",
       " 62.320558409060979,\n",
       " 62.205099346348646,\n",
       " 62.012294032271832,\n",
       " 61.802954421110222,\n",
       " 61.605512203220989,\n",
       " 61.414199247505316,\n",
       " 61.26093441367356,\n",
       " 61.073612324307156,\n",
       " 60.900724495790094,\n",
       " 60.739511366706552,\n",
       " 60.566490272966078,\n",
       " 60.421598466914666,\n",
       " 60.263353115727,\n",
       " 60.01755219951,\n",
       " 59.800101031969405,\n",
       " 59.62927384637279,\n",
       " 59.382456140350875,\n",
       " 59.16058267880004,\n",
       " 58.959143305367981,\n",
       " 58.701429772918416,\n",
       " 58.505632869449968,\n",
       " 58.287897090992196,\n",
       " 58.16408638836139,\n",
       " 57.994984286213139,\n",
       " 57.769223547084778,\n",
       " 57.518054441083883,\n",
       " 57.256129051857705,\n",
       " 56.988218407989955,\n",
       " 56.688367160573833,\n",
       " 56.351253441530211,\n",
       " 56.060260214562888,\n",
       " 55.783592565556738,\n",
       " 55.457634610603087,\n",
       " 55.142546836817814,\n",
       " 54.781099839829153,\n",
       " 54.419324381032311,\n",
       " 53.953129023950552,\n",
       " 53.508905079943332,\n",
       " 53.106825073321069,\n",
       " 52.659327784422366,\n",
       " 52.205688543838207,\n",
       " 51.675393899546812,\n",
       " 51.109372122997605,\n",
       " 50.463984864183068,\n",
       " 49.828065070757837,\n",
       " 49.167637037995426,\n",
       " 48.512725512072919,\n",
       " 47.75687112279693,\n",
       " 46.983802831000858,\n",
       " 46.141419646158937,\n",
       " 45.258873639375295,\n",
       " 44.252367319973573,\n",
       " 43.233249782233834,\n",
       " 42.206754318123231,\n",
       " 41.053783407387755,\n",
       " 39.871860420527895,\n",
       " 38.603674057717669,\n",
       " 37.335251122787447,\n",
       " 36.048388228524914,\n",
       " 34.644374949883733,\n",
       " 33.23252090375378,\n",
       " 31.710393541876893,\n",
       " 30.103465822355403,\n",
       " 28.55183267228821,\n",
       " 26.981124561962407,\n",
       " 25.472839644067164,\n",
       " 23.928986286170009,\n",
       " 22.462074191104161,\n",
       " 21.033276661398922,\n",
       " 19.6823367563887,\n",
       " 18.424785608356437,\n",
       " 17.201912915763643,\n",
       " 15.998125068931289,\n",
       " 14.849596403910645,\n",
       " 13.311458881882464,\n",
       " 11.319924150074495,\n",
       " 10.37314247506243,\n",
       " 9.3115796650667182,\n",
       " 7.9142147906402389,\n",
       " 6.090144637607299,\n",
       " 3.5301984552054297,\n",
       " 0.0]"
      ]
     },
     "execution_count": 54,
     "metadata": {},
     "output_type": "execute_result"
    }
   ],
   "source": [
    "icassp_precisions"
   ]
  },
  {
   "cell_type": "code",
   "execution_count": 112,
   "metadata": {
    "collapsed": false
   },
   "outputs": [
    {
     "data": {
      "text/plain": [
       "array([ 0.72816575,  0.51272291,  0.05095425, ...,  0.1847768 ,\n",
       "        0.22956429,  0.1996436 ])"
      ]
     },
     "execution_count": 112,
     "metadata": {},
     "output_type": "execute_result"
    }
   ],
   "source": [
    "peak_values"
   ]
  },
  {
   "cell_type": "code",
   "execution_count": 104,
   "metadata": {
    "collapsed": false
   },
   "outputs": [
    {
     "data": {
      "text/plain": [
       "(141,)"
      ]
     },
     "execution_count": 104,
     "metadata": {},
     "output_type": "execute_result"
    }
   ],
   "source": [
    "skm_thresholds.shape"
   ]
  },
  {
   "cell_type": "code",
   "execution_count": null,
   "metadata": {
    "collapsed": true
   },
   "outputs": [],
   "source": []
  }
 ],
 "metadata": {
  "kernelspec": {
   "display_name": "Python 3",
   "language": "python",
   "name": "python3"
  },
  "language_info": {
   "codemirror_mode": {
    "name": "ipython",
    "version": 3
   },
   "file_extension": ".py",
   "mimetype": "text/x-python",
   "name": "python",
   "nbconvert_exporter": "python",
   "pygments_lexer": "ipython3",
   "version": "3.6.0"
  }
 },
 "nbformat": 4,
 "nbformat_minor": 2
}
