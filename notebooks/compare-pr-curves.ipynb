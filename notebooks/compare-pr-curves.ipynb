{
 "cells": [
  {
   "cell_type": "code",
   "execution_count": 1,
   "metadata": {
    "collapsed": false,
    "deletable": true,
    "editable": true
   },
   "outputs": [
    {
     "name": "stdout",
     "output_type": "stream",
     "text": [
      "Kernel size = 1, Min dist = 0, Max F1 = 62.250%\n",
      "Kernel size = 1, Min dist = 2, Max F1 = 63.424%\n",
      "Kernel size = 1, Min dist = 3, Max F1 = 63.780%\n",
      "Kernel size = 1, Min dist = 4, Max F1 = 63.655%\n",
      "Kernel size = 1, Min dist = 5, Max F1 = 63.251%\n",
      "Kernel size = 1, Min dist = 6, Max F1 = 62.745%\n",
      "Kernel size = 1, Min dist = 7, Max F1 = 62.188%\n",
      "Kernel size = 1, Min dist = 8, Max F1 = 61.672%\n",
      "Kernel size = 3, Min dist = 0, Max F1 = 60.324%\n",
      "Kernel size = 3, Min dist = 2, Max F1 = 60.666%\n",
      "Kernel size = 3, Min dist = 3, Max F1 = 60.777%\n",
      "Kernel size = 3, Min dist = 4, Max F1 = 60.677%\n",
      "Kernel size = 3, Min dist = 5, Max F1 = 60.295%\n",
      "Kernel size = 3, Min dist = 6, Max F1 = 59.756%\n",
      "Kernel size = 3, Min dist = 7, Max F1 = 59.134%\n",
      "Kernel size = 3, Min dist = 8, Max F1 = 58.546%\n",
      "Kernel size = 5, Min dist = 0, Max F1 = 53.224%\n",
      "Kernel size = 5, Min dist = 2, Max F1 = 53.475%\n",
      "Kernel size = 5, Min dist = 3, Max F1 = 53.913%\n",
      "Kernel size = 5, Min dist = 4, Max F1 = 54.148%\n",
      "Kernel size = 5, Min dist = 5, Max F1 = 54.176%\n",
      "Kernel size = 5, Min dist = 6, Max F1 = 53.973%\n",
      "Kernel size = 5, Min dist = 7, Max F1 = 53.482%\n",
      "Kernel size = 5, Min dist = 8, Max F1 = 52.984%\n",
      "Kernel size = 7, Min dist = 0, Max F1 = 44.570%\n",
      "Kernel size = 7, Min dist = 2, Max F1 = 44.822%\n",
      "Kernel size = 7, Min dist = 3, Max F1 = 45.170%\n",
      "Kernel size = 7, Min dist = 4, Max F1 = 45.344%\n",
      "Kernel size = 7, Min dist = 5, Max F1 = 45.453%\n",
      "Kernel size = 7, Min dist = 6, Max F1 = 45.507%\n",
      "Kernel size = 7, Min dist = 7, Max F1 = 45.493%\n",
      "Kernel size = 7, Min dist = 8, Max F1 = 45.275%\n"
     ]
    }
   ],
   "source": [
    "import mir_eval\n",
    "import numpy as np\n",
    "import os\n",
    "import pandas as pd\n",
    "import peakutils\n",
    "import scipy.signal\n",
    "import sys\n",
    "sys.path.append('../src')\n",
    "import localmodule\n",
    "\n",
    "\n",
    "# Define constants.\n",
    "data_dir = localmodule.get_data_dir()\n",
    "dataset_name = localmodule.get_dataset_name()\n",
    "models_dir = localmodule.get_models_dir()\n",
    "units = localmodule.get_units()\n",
    "n_units = len(units)\n",
    "trials = [5, 7, 9, 7, 7, 8] # maximize clip-wise val acc\n",
    "icassp_thresholds = 1.0 - np.logspace(-9, 0, 181)[::-1]\n",
    "n_thresholds = len(icassp_thresholds)\n",
    "tolerance = 0.5 # in seconds\n",
    "\n",
    "\n",
    "# Define directory for model.\n",
    "aug_str = \"all\"\n",
    "model_name = \"icassp-convnet\"\n",
    "if not aug_str == \"none\":\n",
    "    model_name = \"_\".join([model_name, \"aug-\" + aug_str])\n",
    "model_dir = os.path.join(models_dir, model_name)\n",
    "\n",
    "\n",
    "# Define directory for annotations.\n",
    "annotations_name = \"_\".join([dataset_name, \"annotations\"])\n",
    "annotations_dir = os.path.join(data_dir, annotations_name)\n",
    "\n",
    "\n",
    "tp_matrix = np.zeros((n_thresholds, n_units))\n",
    "fp_matrix = np.zeros((n_thresholds, n_units))\n",
    "fn_matrix = np.zeros((n_thresholds, n_units))\n",
    "\n",
    "\n",
    "kernel_sizes = [1, 3, 5, 7]\n",
    "min_dists = [0, 2, 3, 4, 5, 6, 7, 8]\n",
    "P_matrix = np.zeros((len(kernel_sizes), len(min_dists), n_thresholds+2))\n",
    "R_matrix = np.zeros((len(kernel_sizes), len(min_dists), n_thresholds+2))\n",
    "F_matrix = np.zeros((len(kernel_sizes), len(min_dists), n_thresholds+2))\n",
    "\n",
    "\n",
    "# Loop over kernel sizes.\n",
    "for kernel_size_id in range(len(kernel_sizes)):\n",
    "    kernel_size = kernel_sizes[kernel_size_id]\n",
    "\n",
    "    # Loop over minimal distances.\n",
    "    for min_dist_id in range(len(min_dists)):\n",
    "        min_dist = min_dists[min_dist_id]\n",
    "\n",
    "        # Loop over recording units.\n",
    "        for test_unit_id in range(n_units):\n",
    "            test_unit_str = units[test_unit_id]\n",
    "            unit_dir = os.path.join(model_dir, test_unit_str)\n",
    "            trial_id = trials[test_unit_id]\n",
    "            trial_str = \"trial-\" + str(trial_id)\n",
    "            trial_dir = os.path.join(unit_dir, trial_str)\n",
    "            prediction_name = \"_\".join([\n",
    "                dataset_name,\n",
    "                model_name,\n",
    "                \"test-\" + test_unit_str,\n",
    "                trial_str,\n",
    "                \"predict-\" + test_unit_str,\n",
    "                \"full-predictions.csv\"])\n",
    "            prediction_path = os.path.join(trial_dir, prediction_name)\n",
    "            prediction_df = pd.read_csv(prediction_path)\n",
    "\n",
    "            annotation_path = os.path.join(annotations_dir,\n",
    "                test_unit_str + \".txt\")\n",
    "            annotation = pd.read_csv(annotation_path, '\\t')\n",
    "            begin_times = np.array(annotation[\"Begin Time (s)\"])\n",
    "            end_times = np.array(annotation[\"End Time (s)\"])\n",
    "            relevant = 0.5 * (begin_times + end_times)\n",
    "            relevant = np.sort(relevant)\n",
    "            n_relevant = len(relevant)\n",
    "\n",
    "            odf = np.array(prediction_df[\"Predicted probability\"])\n",
    "            timestamps = np.array(prediction_df[\"Timestamp\"])\n",
    "\n",
    "            odf = scipy.signal.medfilt(odf, kernel_size=kernel_size)\n",
    "\n",
    "            for th_id, threshold in enumerate(icassp_thresholds):\n",
    "                if min_dist > 0:\n",
    "                    peak_locations = peakutils.indexes(odf,\n",
    "                        thres=threshold, min_dist=min_dist)\n",
    "                else:\n",
    "                    peak_locations = peakutils.indexes(odf,\n",
    "                        thres=threshold)\n",
    "\n",
    "                peak_times = timestamps[peak_locations]\n",
    "                peak_values = odf[peak_locations]\n",
    "\n",
    "                selected = peak_times[peak_values > threshold]\n",
    "\n",
    "                selected_relevant = mir_eval.util.match_events(\n",
    "                    relevant, selected, tolerance)\n",
    "\n",
    "                true_positives = len(selected_relevant)\n",
    "                n_selected = len(selected)\n",
    "                false_positives = n_selected - true_positives\n",
    "                false_negatives = n_relevant - true_positives\n",
    "\n",
    "                tp_matrix[th_id, test_unit_id] = true_positives\n",
    "                fp_matrix[th_id, test_unit_id] = false_positives\n",
    "                fn_matrix[th_id, test_unit_id] = false_negatives\n",
    "\n",
    "\n",
    "        icassp_tp = np.sum(tp_matrix, axis=1)\n",
    "        icassp_fp = np.sum(fp_matrix, axis=1)\n",
    "        icassp_fn = np.sum(fn_matrix, axis=1)\n",
    "\n",
    "        icassp_precisions = 100 * icassp_tp / (icassp_tp+icassp_fp)\n",
    "        icassp_recalls = 100 * icassp_tp / (icassp_tp+icassp_fn)\n",
    "        icassp_f1_scores = 2*icassp_precisions*icassp_recalls /\\\n",
    "            (icassp_precisions+icassp_recalls)\n",
    "\n",
    "\n",
    "        precisions = np.array([100.0] + list(icassp_precisions)[::-1] + [0.0])\n",
    "        recalls = np.array([0.0] + list(icassp_recalls)[::-1] + [100.0])\n",
    "        f1_scores = np.array([0.0] + list(icassp_f1_scores)[::-1] + [0.0])\n",
    "        \n",
    "        P_matrix[kernel_size_id, min_dist_id, :] = precisions\n",
    "        R_matrix[kernel_size_id, min_dist_id, :] = recalls\n",
    "        F_matrix[kernel_size_id, min_dist_id, :] = f1_scores\n",
    "        \n",
    "        print(\"Kernel size = {}, Min dist = {}, Max F1 = {:5.3f}%\".format(\n",
    "            kernel_size, min_dist, max(f1_scores)))\n"
   ]
  },
  {
   "cell_type": "code",
   "execution_count": 19,
   "metadata": {
    "collapsed": false
   },
   "outputs": [
    {
     "data": {
      "text/plain": [
       "array([ 0. ,  0.3,  0.7,  0.4,  0.9,  0.1,  0.4,  0.2])"
      ]
     },
     "execution_count": 19,
     "metadata": {},
     "output_type": "execute_result"
    }
   ],
   "source": [
    "scipy.signal.medfilt([0.0, 0.3, 0.7, 0.4, 0.9, 0.1, 0.4, 0.2], kernel_size=1)"
   ]
  },
  {
   "cell_type": "code",
   "execution_count": 9,
   "metadata": {
    "collapsed": false
   },
   "outputs": [
    {
     "name": "stdout",
     "output_type": "stream",
     "text": [
      "60.67\n"
     ]
    },
    {
     "data": {
      "image/png": "[encoded data removed]",
      "text/plain": [
       "<matplotlib.figure.Figure at 0x2b4a78a82ba8>"
      ]
     },
     "metadata": {},
     "output_type": "display_data"
    }
   ],
   "source": [
    "%matplotlib inline\n",
    "from matplotlib import pyplot as plt\n",
    "plt.plot(icassp_f1_scores)\n",
    "print(\"{:5.2f}\".format(max(icassp_f1_scores)))"
   ]
  },
  {
   "cell_type": "code",
   "execution_count": 3,
   "metadata": {
    "collapsed": false,
    "deletable": true,
    "editable": true
   },
   "outputs": [],
   "source": [
    "models_dir = localmodule.get_models_dir()\n",
    "model_name = \"SKM\"\n",
    "model_dir = os.path.join(models_dir, model_name)\n",
    "units = localmodule.get_units()\n",
    "tolerance_ms = 500\n",
    "tol_str = \"tol-\" + str(tolerance_ms)\n",
    "\n",
    "unit_relevant = []\n",
    "unit_selected, unit_tp = [], []\n",
    "for unit_str in units:\n",
    "    unit_dir = os.path.join(model_dir, unit_str)\n",
    "    metrics_name = \"_\".join([model_name, tol_str, unit_str, \"metrics\"])\n",
    "    metrics_path = os.path.join(unit_dir, metrics_name + \".csv\")\n",
    "    df = pd.read_csv(metrics_path)\n",
    "    precisions = np.array(df[\"precision (%)\"])\n",
    "    precisions = np.insert(precisions, 0, 0.0)\n",
    "    precisions = np.append(precisions, 100)\n",
    "    precisions = precisions[::-1] / 100\n",
    "    recalls = np.array(df[\"recall (%)\"])\n",
    "    recalls = np.insert(recalls, 0, 100.0)\n",
    "    recalls = np.append(recalls, 0.0)\n",
    "    recalls = recalls[::-1] / 100\n",
    "    unit_relevant.append(np.array(df[\"relevant\"])[0])\n",
    "    unit_selected.append(np.array(df[\"selected\"]))\n",
    "    unit_tp.append(np.array(df[\"true positives\"]))\n",
    "    \n",
    "\n",
    "relevant = np.sum(np.array(unit_relevant))\n",
    "selected = np.sum(np.stack(unit_selected), axis=0)\n",
    "tp = np.sum(np.stack(unit_tp), axis=0)\n",
    "precisions = tp / selected\n",
    "recalls = tp / relevant\n",
    "precisions = np.insert(precisions, 0, 0.0)\n",
    "precisions = np.append(precisions, 1.0)\n",
    "precisions = 100 * precisions[::-1]\n",
    "recalls = np.insert(recalls, 0, 1.0)\n",
    "recalls = np.append(recalls, 0.0)\n",
    "recalls = 100 * recalls[::-1]\n",
    "\n",
    "skm_precisions = precisions\n",
    "skm_recalls = recalls\n",
    "skm_f1_scores = 2*skm_precisions*skm_recalls / (skm_precisions+skm_recalls)"
   ]
  },
  {
   "cell_type": "code",
   "execution_count": 4,
   "metadata": {
    "collapsed": false,
    "deletable": true,
    "editable": true
   },
   "outputs": [],
   "source": [
    "models_dir = localmodule.get_models_dir()\n",
    "model_name = \"oldbird\"\n",
    "model_dir = os.path.join(models_dir, model_name)\n",
    "units = localmodule.get_units()\n",
    "tolerance_ms = 500\n",
    "tol_str = \"tol-\" + str(tolerance_ms)\n",
    "prefix = \"_\".join([dataset_name, \"oldbird_merged_clip-suppressor\"])\n",
    "n_thresholds = 100\n",
    "\n",
    "unit_relevant = []\n",
    "unit_selected, unit_tp = [], []\n",
    "\n",
    "tp_matrix = np.zeros((n_thresholds, n_units))\n",
    "fp_matrix = np.zeros((n_thresholds, n_units))\n",
    "fn_matrix = np.zeros((n_thresholds, n_units))\n",
    "\n",
    "for unit_id, unit_str in enumerate(units):\n",
    "    unit_dir = os.path.join(model_dir, unit_str)\n",
    "    metrics_name = \"_\".join([prefix, unit_str, tol_str, \"metrics\"])\n",
    "    metrics_path = os.path.join(unit_dir, metrics_name + \".csv\")\n",
    "    df = pd.read_csv(metrics_path)\n",
    "    true_positives = np.array(df[\"True positives\"])\n",
    "    tp_matrix[:, unit_id] = true_positives\n",
    "    false_positives = np.array(df[\"False positives\"])\n",
    "    fp_matrix[:, unit_id] = false_positives\n",
    "    false_negatives = np.array(df[\"False negatives\"])\n",
    "    fn_matrix[:, unit_id] = false_negatives\n",
    "    \n",
    "    \n",
    "oldbird_tp = np.sum(tp_matrix, axis=1)\n",
    "oldbird_fp = np.sum(fp_matrix, axis=1)\n",
    "oldbird_fn = np.sum(fn_matrix, axis=1)\n",
    "\n",
    "eps = np.finfo(float).eps\n",
    "oldbird_precisions = 100 * oldbird_tp / (eps+oldbird_tp+oldbird_fp)\n",
    "oldbird_recalls = 100 * oldbird_tp / (eps+oldbird_tp+oldbird_fn)\n",
    "\n",
    "sorting_indices = np.argsort(oldbird_recalls)\n",
    "oldbird_precisions = oldbird_precisions[sorting_indices]\n",
    "oldbird_recalls = oldbird_recalls[sorting_indices]\n",
    "\n",
    "oldbird_f1_scores = 2*oldbird_precisions*oldbird_recalls / (eps+oldbird_precisions+oldbird_recalls)\n",
    "\n",
    "oldbird_precisions = np.insert(oldbird_precisions, 0, 100.0)\n",
    "oldbird_precisions = np.append(oldbird_precisions, 0.0)\n",
    "oldbird_recalls = np.insert(oldbird_recalls, 0, 0.0)\n",
    "oldbird_recalls = np.append(oldbird_recalls, 100.0)"
   ]
  },
  {
   "cell_type": "code",
   "execution_count": 5,
   "metadata": {
    "collapsed": false,
    "deletable": true,
    "editable": true
   },
   "outputs": [
    {
     "data": {
      "text/plain": [
       "<matplotlib.legend.Legend at 0x2b0a73830748>"
      ]
     },
     "execution_count": 5,
     "metadata": {},
     "output_type": "execute_result"
    },
    {
     "data": {
      "image/png": "[encoded data removed]",
      "text/plain": [
       "<matplotlib.figure.Figure at 0x2b0a06a69e48>"
      ]
     },
     "metadata": {},
     "output_type": "display_data"
    }
   ],
   "source": [
    "from matplotlib import pyplot as plt\n",
    "%matplotlib inline\n",
    "\n",
    "plt.figure(figsize=(8, 6))\n",
    "\n",
    "icassp_f1_score = np.max(icassp_f1_scores)\n",
    "icassp_auprc = np.trapz(icassp_precisions, icassp_recalls) / 100\n",
    "icassp_label = \"ICASSP convnet. F={:2.0f}%, AUPRC={:2.0f}%.\".format(\n",
    "    icassp_f1_score, icassp_auprc)\n",
    "plt.plot(icassp_recalls, icassp_precisions, \"-o\", label=icassp_label)\n",
    "\n",
    "skm_f1_score = np.max(skm_f1_scores)\n",
    "skm_auprc = np.trapz(skm_precisions, skm_recalls) / 100\n",
    "skm_label = \"Spherical k-means. F={:2.0f}%, AUPRC={:2.0f}%.\".format(\n",
    "    skm_f1_score, skm_auprc)\n",
    "plt.plot(skm_recalls, skm_precisions, \"-o\", label=skm_label)\n",
    "\n",
    "oldbird_f1_score = np.max(oldbird_f1_scores)\n",
    "oldbird_auprc = np.trapz(oldbird_precisions, oldbird_recalls) / 100\n",
    "oldbird_label = \"Old Bird. F={:2.0f}%, AUPRC={:2.0f}%.\".format(\n",
    "    oldbird_f1_score, oldbird_auprc)\n",
    "plt.plot(oldbird_recalls, oldbird_precisions, \"-o\", label=oldbird_label)\n",
    "\n",
    "plt.title(\"PR curve on full night BirdVox-70k data. Tolerance = {} ms\".format(tolerance_ms))\n",
    "plt.xlabel(\"Recall (%)\")\n",
    "plt.ylabel(\"Precision (%)\")\n",
    "plt.legend()"
   ]
  },
  {
   "cell_type": "code",
   "execution_count": 7,
   "metadata": {
    "collapsed": false,
    "deletable": true,
    "editable": true
   },
   "outputs": [
    {
     "data": {
      "text/plain": [
       "139"
      ]
     },
     "execution_count": 7,
     "metadata": {},
     "output_type": "execute_result"
    }
   ],
   "source": [
    "np.argmax(icassp_f1_scores)"
   ]
  },
  {
   "cell_type": "code",
   "execution_count": 143,
   "metadata": {
    "collapsed": false,
    "deletable": true,
    "editable": true
   },
   "outputs": [
    {
     "ename": "ValueError",
     "evalue": "x and y must have same first dimension, but have shapes (181,) and (183,)",
     "output_type": "error",
     "traceback": [
      "\u001b[0;31m---------------------------------------------------------------------------\u001b[0m",
      "\u001b[0;31mValueError\u001b[0m                                Traceback (most recent call last)",
      "\u001b[0;32m<ipython-input-143-0dfc60832ad5>\u001b[0m in \u001b[0;36m<module>\u001b[0;34m()\u001b[0m\n\u001b[1;32m      2\u001b[0m plt.plot(\n\u001b[1;32m      3\u001b[0m     \u001b[0mnp\u001b[0m\u001b[0;34m.\u001b[0m\u001b[0mlinspace\u001b[0m\u001b[0;34m(\u001b[0m\u001b[0;36m0.0\u001b[0m\u001b[0;34m,\u001b[0m \u001b[0;36m1.0\u001b[0m\u001b[0;34m,\u001b[0m \u001b[0mlen\u001b[0m\u001b[0;34m(\u001b[0m\u001b[0micassp_thresholds\u001b[0m\u001b[0;34m)\u001b[0m\u001b[0;34m)\u001b[0m\u001b[0;34m,\u001b[0m \u001b[0micassp_f1_scores\u001b[0m\u001b[0;34m,\u001b[0m \u001b[0;34m'-o'\u001b[0m\u001b[0;34m,\u001b[0m\u001b[0;34m\u001b[0m\u001b[0m\n\u001b[0;32m----> 4\u001b[0;31m     label=\"ICASSP convnet with data augmentation\")\n\u001b[0m\u001b[1;32m      5\u001b[0m plt.plot(\n\u001b[1;32m      6\u001b[0m     \u001b[0mnp\u001b[0m\u001b[0;34m.\u001b[0m\u001b[0mlinspace\u001b[0m\u001b[0;34m(\u001b[0m\u001b[0;36m0.0\u001b[0m\u001b[0;34m,\u001b[0m \u001b[0;36m1.0\u001b[0m\u001b[0;34m,\u001b[0m \u001b[0;36m102\u001b[0m\u001b[0;34m)\u001b[0m\u001b[0;34m,\u001b[0m \u001b[0mskm_f1_scores\u001b[0m\u001b[0;34m,\u001b[0m \u001b[0;34m'-o'\u001b[0m\u001b[0;34m,\u001b[0m\u001b[0;34m\u001b[0m\u001b[0m\n",
      "\u001b[0;32m/home/vl1019/miniconda3/lib/python3.6/site-packages/matplotlib/pyplot.py\u001b[0m in \u001b[0;36mplot\u001b[0;34m(*args, **kwargs)\u001b[0m\n\u001b[1;32m   3316\u001b[0m                       mplDeprecation)\n\u001b[1;32m   3317\u001b[0m     \u001b[0;32mtry\u001b[0m\u001b[0;34m:\u001b[0m\u001b[0;34m\u001b[0m\u001b[0m\n\u001b[0;32m-> 3318\u001b[0;31m         \u001b[0mret\u001b[0m \u001b[0;34m=\u001b[0m \u001b[0max\u001b[0m\u001b[0;34m.\u001b[0m\u001b[0mplot\u001b[0m\u001b[0;34m(\u001b[0m\u001b[0;34m*\u001b[0m\u001b[0margs\u001b[0m\u001b[0;34m,\u001b[0m \u001b[0;34m**\u001b[0m\u001b[0mkwargs\u001b[0m\u001b[0;34m)\u001b[0m\u001b[0;34m\u001b[0m\u001b[0m\n\u001b[0m\u001b[1;32m   3319\u001b[0m     \u001b[0;32mfinally\u001b[0m\u001b[0;34m:\u001b[0m\u001b[0;34m\u001b[0m\u001b[0m\n\u001b[1;32m   3320\u001b[0m         \u001b[0max\u001b[0m\u001b[0;34m.\u001b[0m\u001b[0m_hold\u001b[0m \u001b[0;34m=\u001b[0m \u001b[0mwashold\u001b[0m\u001b[0;34m\u001b[0m\u001b[0m\n",
      "\u001b[0;32m/home/vl1019/miniconda3/lib/python3.6/site-packages/matplotlib/__init__.py\u001b[0m in \u001b[0;36minner\u001b[0;34m(ax, *args, **kwargs)\u001b[0m\n\u001b[1;32m   1890\u001b[0m                     warnings.warn(msg % (label_namer, func.__name__),\n\u001b[1;32m   1891\u001b[0m                                   RuntimeWarning, stacklevel=2)\n\u001b[0;32m-> 1892\u001b[0;31m             \u001b[0;32mreturn\u001b[0m \u001b[0mfunc\u001b[0m\u001b[0;34m(\u001b[0m\u001b[0max\u001b[0m\u001b[0;34m,\u001b[0m \u001b[0;34m*\u001b[0m\u001b[0margs\u001b[0m\u001b[0;34m,\u001b[0m \u001b[0;34m**\u001b[0m\u001b[0mkwargs\u001b[0m\u001b[0;34m)\u001b[0m\u001b[0;34m\u001b[0m\u001b[0m\n\u001b[0m\u001b[1;32m   1893\u001b[0m         \u001b[0mpre_doc\u001b[0m \u001b[0;34m=\u001b[0m \u001b[0minner\u001b[0m\u001b[0;34m.\u001b[0m\u001b[0m__doc__\u001b[0m\u001b[0;34m\u001b[0m\u001b[0m\n\u001b[1;32m   1894\u001b[0m         \u001b[0;32mif\u001b[0m \u001b[0mpre_doc\u001b[0m \u001b[0;32mis\u001b[0m \u001b[0;32mNone\u001b[0m\u001b[0;34m:\u001b[0m\u001b[0;34m\u001b[0m\u001b[0m\n",
      "\u001b[0;32m/home/vl1019/miniconda3/lib/python3.6/site-packages/matplotlib/axes/_axes.py\u001b[0m in \u001b[0;36mplot\u001b[0;34m(self, *args, **kwargs)\u001b[0m\n\u001b[1;32m   1404\u001b[0m         \u001b[0mkwargs\u001b[0m \u001b[0;34m=\u001b[0m \u001b[0mcbook\u001b[0m\u001b[0;34m.\u001b[0m\u001b[0mnormalize_kwargs\u001b[0m\u001b[0;34m(\u001b[0m\u001b[0mkwargs\u001b[0m\u001b[0;34m,\u001b[0m \u001b[0m_alias_map\u001b[0m\u001b[0;34m)\u001b[0m\u001b[0;34m\u001b[0m\u001b[0m\n\u001b[1;32m   1405\u001b[0m \u001b[0;34m\u001b[0m\u001b[0m\n\u001b[0;32m-> 1406\u001b[0;31m         \u001b[0;32mfor\u001b[0m \u001b[0mline\u001b[0m \u001b[0;32min\u001b[0m \u001b[0mself\u001b[0m\u001b[0;34m.\u001b[0m\u001b[0m_get_lines\u001b[0m\u001b[0;34m(\u001b[0m\u001b[0;34m*\u001b[0m\u001b[0margs\u001b[0m\u001b[0;34m,\u001b[0m \u001b[0;34m**\u001b[0m\u001b[0mkwargs\u001b[0m\u001b[0;34m)\u001b[0m\u001b[0;34m:\u001b[0m\u001b[0;34m\u001b[0m\u001b[0m\n\u001b[0m\u001b[1;32m   1407\u001b[0m             \u001b[0mself\u001b[0m\u001b[0;34m.\u001b[0m\u001b[0madd_line\u001b[0m\u001b[0;34m(\u001b[0m\u001b[0mline\u001b[0m\u001b[0;34m)\u001b[0m\u001b[0;34m\u001b[0m\u001b[0m\n\u001b[1;32m   1408\u001b[0m             \u001b[0mlines\u001b[0m\u001b[0;34m.\u001b[0m\u001b[0mappend\u001b[0m\u001b[0;34m(\u001b[0m\u001b[0mline\u001b[0m\u001b[0;34m)\u001b[0m\u001b[0;34m\u001b[0m\u001b[0m\n",
      "\u001b[0;32m/home/vl1019/miniconda3/lib/python3.6/site-packages/matplotlib/axes/_base.py\u001b[0m in \u001b[0;36m_grab_next_args\u001b[0;34m(self, *args, **kwargs)\u001b[0m\n\u001b[1;32m    405\u001b[0m                 \u001b[0;32mreturn\u001b[0m\u001b[0;34m\u001b[0m\u001b[0m\n\u001b[1;32m    406\u001b[0m             \u001b[0;32mif\u001b[0m \u001b[0mlen\u001b[0m\u001b[0;34m(\u001b[0m\u001b[0mremaining\u001b[0m\u001b[0;34m)\u001b[0m \u001b[0;34m<=\u001b[0m \u001b[0;36m3\u001b[0m\u001b[0;34m:\u001b[0m\u001b[0;34m\u001b[0m\u001b[0m\n\u001b[0;32m--> 407\u001b[0;31m                 \u001b[0;32mfor\u001b[0m \u001b[0mseg\u001b[0m \u001b[0;32min\u001b[0m \u001b[0mself\u001b[0m\u001b[0;34m.\u001b[0m\u001b[0m_plot_args\u001b[0m\u001b[0;34m(\u001b[0m\u001b[0mremaining\u001b[0m\u001b[0;34m,\u001b[0m \u001b[0mkwargs\u001b[0m\u001b[0;34m)\u001b[0m\u001b[0;34m:\u001b[0m\u001b[0;34m\u001b[0m\u001b[0m\n\u001b[0m\u001b[1;32m    408\u001b[0m                     \u001b[0;32myield\u001b[0m \u001b[0mseg\u001b[0m\u001b[0;34m\u001b[0m\u001b[0m\n\u001b[1;32m    409\u001b[0m                 \u001b[0;32mreturn\u001b[0m\u001b[0;34m\u001b[0m\u001b[0m\n",
      "\u001b[0;32m/home/vl1019/miniconda3/lib/python3.6/site-packages/matplotlib/axes/_base.py\u001b[0m in \u001b[0;36m_plot_args\u001b[0;34m(self, tup, kwargs)\u001b[0m\n\u001b[1;32m    383\u001b[0m             \u001b[0mx\u001b[0m\u001b[0;34m,\u001b[0m \u001b[0my\u001b[0m \u001b[0;34m=\u001b[0m \u001b[0mindex_of\u001b[0m\u001b[0;34m(\u001b[0m\u001b[0mtup\u001b[0m\u001b[0;34m[\u001b[0m\u001b[0;34m-\u001b[0m\u001b[0;36m1\u001b[0m\u001b[0;34m]\u001b[0m\u001b[0;34m)\u001b[0m\u001b[0;34m\u001b[0m\u001b[0m\n\u001b[1;32m    384\u001b[0m \u001b[0;34m\u001b[0m\u001b[0m\n\u001b[0;32m--> 385\u001b[0;31m         \u001b[0mx\u001b[0m\u001b[0;34m,\u001b[0m \u001b[0my\u001b[0m \u001b[0;34m=\u001b[0m \u001b[0mself\u001b[0m\u001b[0;34m.\u001b[0m\u001b[0m_xy_from_xy\u001b[0m\u001b[0;34m(\u001b[0m\u001b[0mx\u001b[0m\u001b[0;34m,\u001b[0m \u001b[0my\u001b[0m\u001b[0;34m)\u001b[0m\u001b[0;34m\u001b[0m\u001b[0m\n\u001b[0m\u001b[1;32m    386\u001b[0m \u001b[0;34m\u001b[0m\u001b[0m\n\u001b[1;32m    387\u001b[0m         \u001b[0;32mif\u001b[0m \u001b[0mself\u001b[0m\u001b[0;34m.\u001b[0m\u001b[0mcommand\u001b[0m \u001b[0;34m==\u001b[0m \u001b[0;34m'plot'\u001b[0m\u001b[0;34m:\u001b[0m\u001b[0;34m\u001b[0m\u001b[0m\n",
      "\u001b[0;32m/home/vl1019/miniconda3/lib/python3.6/site-packages/matplotlib/axes/_base.py\u001b[0m in \u001b[0;36m_xy_from_xy\u001b[0;34m(self, x, y)\u001b[0m\n\u001b[1;32m    242\u001b[0m         \u001b[0;32mif\u001b[0m \u001b[0mx\u001b[0m\u001b[0;34m.\u001b[0m\u001b[0mshape\u001b[0m\u001b[0;34m[\u001b[0m\u001b[0;36m0\u001b[0m\u001b[0;34m]\u001b[0m \u001b[0;34m!=\u001b[0m \u001b[0my\u001b[0m\u001b[0;34m.\u001b[0m\u001b[0mshape\u001b[0m\u001b[0;34m[\u001b[0m\u001b[0;36m0\u001b[0m\u001b[0;34m]\u001b[0m\u001b[0;34m:\u001b[0m\u001b[0;34m\u001b[0m\u001b[0m\n\u001b[1;32m    243\u001b[0m             raise ValueError(\"x and y must have same first dimension, but \"\n\u001b[0;32m--> 244\u001b[0;31m                              \"have shapes {} and {}\".format(x.shape, y.shape))\n\u001b[0m\u001b[1;32m    245\u001b[0m         \u001b[0;32mif\u001b[0m \u001b[0mx\u001b[0m\u001b[0;34m.\u001b[0m\u001b[0mndim\u001b[0m \u001b[0;34m>\u001b[0m \u001b[0;36m2\u001b[0m \u001b[0;32mor\u001b[0m \u001b[0my\u001b[0m\u001b[0;34m.\u001b[0m\u001b[0mndim\u001b[0m \u001b[0;34m>\u001b[0m \u001b[0;36m2\u001b[0m\u001b[0;34m:\u001b[0m\u001b[0;34m\u001b[0m\u001b[0m\n\u001b[1;32m    246\u001b[0m             raise ValueError(\"x and y can be no greater than 2-D, but have \"\n",
      "\u001b[0;31mValueError\u001b[0m: x and y must have same first dimension, but have shapes (181,) and (183,)"
     ]
    },
    {
     "data": {
      "image/png": "[encoded data removed]",
      "text/plain": [
       "<matplotlib.figure.Figure at 0x2b7d49455550>"
      ]
     },
     "metadata": {},
     "output_type": "display_data"
    }
   ],
   "source": [
    "plt.figure(figsize=(8, 6))\n",
    "plt.plot(\n",
    "    np.linspace(0.0, 1.0, len(icassp_thresholds)), icassp_f1_scores, '-o',\n",
    "    label=\"ICASSP convnet with data augmentation\")\n",
    "plt.plot(\n",
    "    np.linspace(0.0, 1.0, 102), skm_f1_scores, '-o',\n",
    "    label=\"Out-of-sample spherical k-means\")\n",
    "plt.plot(\n",
    "    np.linspace(0.0, 1.0, 100), oldbird_f1_scores, '-o',\n",
    "    label=\"Old Bird\")\n",
    "plt.legend()"
   ]
  }
 ],
 "metadata": {
  "kernelspec": {
   "display_name": "Python 3",
   "language": "python",
   "name": "python3"
  },
  "language_info": {
   "codemirror_mode": {
    "name": "ipython",
    "version": 3
   },
   "file_extension": ".py",
   "mimetype": "text/x-python",
   "name": "python",
   "nbconvert_exporter": "python",
   "pygments_lexer": "ipython3",
   "version": "3.6.0"
  }
 },
 "nbformat": 4,
 "nbformat_minor": 2
}
