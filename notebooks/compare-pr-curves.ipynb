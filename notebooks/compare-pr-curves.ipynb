{
 "cells": [
  {
   "cell_type": "code",
   "execution_count": 1,
   "metadata": {
    "collapsed": false
   },
   "outputs": [],
   "source": [
    "import mir_eval\n",
    "import numpy as np\n",
    "import os\n",
    "import pandas as pd\n",
    "import sys\n",
    "sys.path.append('../src')\n",
    "import localmodule\n",
    "\n",
    "\n",
    "# Define constants.\n",
    "data_dir = localmodule.get_data_dir()\n",
    "dataset_name = localmodule.get_dataset_name()\n",
    "models_dir = localmodule.get_models_dir()\n",
    "units = localmodule.get_units()\n",
    "n_units = len(units)\n",
    "trials = [5, 7, 9, 7, 7, 8] # maximize clip-wise val acc\n",
    "icassp_thresholds = 1.0 - np.logspace(-7, 0, 141)[::-1]\n",
    "n_thresholds = len(thresholds)\n",
    "tolerance = 0.5 # in seconds\n",
    "\n",
    "\n",
    "# Define directory for model.\n",
    "aug_str = \"all\"\n",
    "model_name = \"icassp-convnet\"\n",
    "if not aug_str == \"none\":\n",
    "    model_name = \"_\".join([model_name, \"aug-\" + aug_str])\n",
    "model_dir = os.path.join(models_dir, model_name)\n",
    "\n",
    "\n",
    "# Define directory for annotations.\n",
    "annotations_name = \"_\".join([dataset_name, \"annotations\"])\n",
    "annotations_dir = os.path.join(data_dir, annotations_name)\n",
    "\n",
    "\n",
    "tp_matrix = np.zeros((n_thresholds, n_units))\n",
    "fp_matrix = np.zeros((n_thresholds, n_units))\n",
    "fn_matrix = np.zeros((n_thresholds, n_units))\n",
    "\n",
    "# Loop over recording units.\n",
    "for test_unit_id in range(n_units):\n",
    "    test_unit_str = units[test_unit_id]\n",
    "    unit_dir = os.path.join(model_dir, test_unit_str)\n",
    "    trial_id = trials[test_unit_id]\n",
    "    trial_str = \"trial-\" + str(trial_id)\n",
    "    trial_dir = os.path.join(unit_dir, trial_str)\n",
    "    prediction_name = \"_\".join([\n",
    "        dataset_name,\n",
    "        model_name,\n",
    "        \"test-\" + test_unit_str,\n",
    "        trial_str,\n",
    "        \"predict-\" + test_unit_str,\n",
    "        \"full-predictions.csv\"])\n",
    "    prediction_path = os.path.join(trial_dir, prediction_name)\n",
    "    prediction_df = pd.read_csv(prediction_path)\n",
    "\n",
    "    annotation_path = os.path.join(annotations_dir,\n",
    "        test_unit_str + \".txt\")\n",
    "    annotation = pd.read_csv(annotation_path, '\\t')\n",
    "    begin_times = np.array(annotation[\"Begin Time (s)\"])\n",
    "    end_times = np.array(annotation[\"End Time (s)\"])\n",
    "    relevant = 0.5 * (begin_times + end_times)\n",
    "    n_relevant = len(relevant)\n",
    "\n",
    "    y_pred = np.array(prediction_df[\"Predicted probability\"])\n",
    "    timestamps = np.array(prediction_df[\"Timestamp\"])\n",
    "\n",
    "\n",
    "    for th_id, threshold in enumerate(icassp_thresholds):\n",
    "        selected = timestamps[y_pred > threshold]\n",
    "\n",
    "        selected_relevant = mir_eval.util.match_events(\n",
    "            relevant, selected, tolerance)\n",
    "\n",
    "        true_positives = len(selected_relevant)\n",
    "        n_selected = len(selected)\n",
    "        false_positives = n_selected - true_positives\n",
    "        false_negatives = n_relevant - true_positives\n",
    "\n",
    "        tp_matrix[th_id, test_unit_id] = true_positives\n",
    "        fp_matrix[th_id, test_unit_id] = false_positives\n",
    "        fn_matrix[th_id, test_unit_id] = false_negatives\n",
    "        \n",
    "        \n",
    "icassp_tp = np.sum(tp_matrix, axis=1)\n",
    "icassp_fp = np.sum(fp_matrix, axis=1)\n",
    "icassp_fn = np.sum(fn_matrix, axis=1)\n",
    "\n",
    "icassp_precisions = 100 * icassp_tp / (icassp_tp+icassp_fp)\n",
    "icassp_recalls = 100 * icassp_tp / (icassp_tp+icassp_fn)\n",
    "icassp_f1_scores = 2*icassp_precisions*icassp_recalls /\\\n",
    "    (icassp_precisions+icassp_recalls)\n",
    "    \n",
    "\n",
    "icassp_precisions = [0.0] + list(icassp_precisions) + [100.0]\n",
    "icassp_recalls = [100.0] + list(icassp_recalls) + [0.0]\n",
    "icass_f1_scores = [0.0] + list(icassp_f1_scores) + [0.0]"
   ]
  },
  {
   "cell_type": "code",
   "execution_count": 2,
   "metadata": {
    "collapsed": false
   },
   "outputs": [],
   "source": [
    "models_dir = localmodule.get_models_dir()\n",
    "model_name = \"SKM\"\n",
    "model_dir = os.path.join(models_dir, model_name)\n",
    "units = localmodule.get_units()\n",
    "tolerance_ms = 500\n",
    "tol_str = \"tol-\" + str(tolerance_ms)\n",
    "\n",
    "unit_relevant = []\n",
    "unit_selected, unit_tp = [], []\n",
    "for unit_str in units:\n",
    "    unit_dir = os.path.join(model_dir, unit_str)\n",
    "    metrics_name = \"_\".join([model_name, tol_str, unit_str, \"metrics\"])\n",
    "    metrics_path = os.path.join(unit_dir, metrics_name + \".csv\")\n",
    "    df = pd.read_csv(metrics_path)\n",
    "    precisions = np.array(df[\"precision (%)\"])\n",
    "    precisions = np.insert(precisions, 0, 0.0)\n",
    "    precisions = np.append(precisions, 100)\n",
    "    precisions = precisions[::-1] / 100\n",
    "    recalls = np.array(df[\"recall (%)\"])\n",
    "    recalls = np.insert(recalls, 0, 100.0)\n",
    "    recalls = np.append(recalls, 0.0)\n",
    "    recalls = recalls[::-1] / 100\n",
    "    unit_relevant.append(np.array(df[\"relevant\"])[0])\n",
    "    unit_selected.append(np.array(df[\"selected\"]))\n",
    "    unit_tp.append(np.array(df[\"true positives\"]))\n",
    "    \n",
    "\n",
    "relevant = np.sum(np.array(unit_relevant))\n",
    "selected = np.sum(np.stack(unit_selected), axis=0)\n",
    "tp = np.sum(np.stack(unit_tp), axis=0)\n",
    "precisions = tp / selected\n",
    "recalls = tp / relevant\n",
    "precisions = np.insert(precisions, 0, 0.0)\n",
    "precisions = np.append(precisions, 1.0)\n",
    "precisions = 100 * precisions[::-1]\n",
    "recalls = np.insert(recalls, 0, 1.0)\n",
    "recalls = np.append(recalls, 0.0)\n",
    "recalls = 100 * recalls[::-1]\n",
    "\n",
    "skm_precisions = precisions\n",
    "skm_recalls = recalls\n",
    "skm_f1_scores = 2*skm_precisions*skm_recalls / (skm_precisions+skm_recalls)"
   ]
  },
  {
   "cell_type": "code",
   "execution_count": 10,
   "metadata": {
    "collapsed": true
   },
   "outputs": [],
   "source": []
  },
  {
   "cell_type": "code",
   "execution_count": 20,
   "metadata": {
    "collapsed": false
   },
   "outputs": [
    {
     "data": {
      "text/plain": [
       "<matplotlib.text.Text at 0x2ad8b0f1f860>"
      ]
     },
     "execution_count": 20,
     "metadata": {},
     "output_type": "execute_result"
    },
    {
     "data": {
      "image/png": "[encoded data removed]",
      "text/plain": [
       "<matplotlib.figure.Figure at 0x2ad8b0832f98>"
      ]
     },
     "metadata": {},
     "output_type": "display_data"
    }
   ],
   "source": [
    "from matplotlib import pyplot as plt\n",
    "%matplotlib inline\n",
    "\n",
    "plt.figure(figsize=(8, 6))\n",
    "plt.plot(icassp_recalls, icassp_precisions, \"-o\", skm_recalls, skm_precisions, \"-o\")\n",
    "plt.title(\"PR curve on full night BirdVox-70k data. Tolerance = {} ms\".format(tolerance_ms))\n",
    "plt.xlabel(\"Recall (%)\")\n",
    "plt.ylabel(\"Precision (%)\")"
   ]
  },
  {
   "cell_type": "code",
   "execution_count": 21,
   "metadata": {
    "collapsed": false
   },
   "outputs": [
    {
     "data": {
      "text/plain": [
       "[<matplotlib.lines.Line2D at 0x2ad8b0f6df60>,\n",
       " <matplotlib.lines.Line2D at 0x2ad8b0f74128>]"
      ]
     },
     "execution_count": 21,
     "metadata": {},
     "output_type": "execute_result"
    },
    {
     "data": {
      "image/png": "[encoded data removed]",
      "text/plain": [
       "<matplotlib.figure.Figure at 0x2ad8b0f0d4e0>"
      ]
     },
     "metadata": {},
     "output_type": "display_data"
    }
   ],
   "source": [
    "plt.plot(icassp_thresholds, icassp_f1_scores, '-o', np.linspace(0.0, 1.0, 102), skm_f1_scores, '-o')"
   ]
  },
  {
   "cell_type": "code",
   "execution_count": 17,
   "metadata": {
    "collapsed": true
   },
   "outputs": [],
   "source": [
    "icassp_thresholds = 1.0 - np.logspace(-7, 0, 141)[::-1]"
   ]
  },
  {
   "cell_type": "code",
   "execution_count": null,
   "metadata": {
    "collapsed": true
   },
   "outputs": [],
   "source": []
  }
 ],
 "metadata": {
  "kernelspec": {
   "display_name": "Python 3",
   "language": "python",
   "name": "python3"
  },
  "language_info": {
   "codemirror_mode": {
    "name": "ipython",
    "version": 3
   },
   "file_extension": ".py",
   "mimetype": "text/x-python",
   "name": "python",
   "nbconvert_exporter": "python",
   "pygments_lexer": "ipython3",
   "version": "3.6.0"
  }
 },
 "nbformat": 4,
 "nbformat_minor": 2
}
