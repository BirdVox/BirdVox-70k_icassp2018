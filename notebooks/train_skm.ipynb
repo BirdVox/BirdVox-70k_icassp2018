{
 "cells": [
  {
   "cell_type": "code",
   "execution_count": 5,
   "metadata": {
    "collapsed": false
   },
   "outputs": [],
   "source": [
    "import datetime\n",
    "import h5py\n",
    "import librosa\n",
    "import numpy as np\n",
    "import os\n",
    "import skm\n",
    "import soundfile as sf\n",
    "import sys\n",
    "import time\n",
    "\n",
    "sys.path.append('../src')\n",
    "import localmodule\n",
    "\n",
    "\n",
    "# Define constants.\n",
    "data_dir = localmodule.get_data_dir()\n",
    "dataset_name = localmodule.get_dataset_name()\n",
    "units = localmodule.get_units()\n",
    "patch_width = 32\n",
    "n_patches_per_clip = 10\n",
    "aug_str = \"original\"\n",
    "instanced_aug_str = aug_str\n",
    "trial_id = 0\n",
    "\n",
    "test_unit_str = units[0]\n",
    "\n",
    "# Retrieve fold such that test_unit_str is in the test set.\n",
    "folds = localmodule.fold_units()\n",
    "fold = [f for f in folds if test_unit_str in f[0]][0]\n",
    "test_units = fold[0]\n",
    "training_units = fold[1]\n",
    "validation_units = fold[2]"
   ]
  },
  {
   "cell_type": "code",
   "execution_count": 6,
   "metadata": {
    "collapsed": false
   },
   "outputs": [
    {
     "name": "stdout",
     "output_type": "stream",
     "text": [
      "2017-10-20 16:14:25.929281 Start.\n",
      "Computing PCA for BirdVox-70k clips.\n",
      "Test Unit: unit01.\n",
      "Trial ID: 0.\n",
      "\n",
      "h5py version: 2.6.0\n",
      "librosa version: 0.5.1\n",
      "numpy version: 1.13.1\n",
      "skm version: 0.0.1\n",
      "\n"
     ]
    },
    {
     "ename": "NameError",
     "evalue": "name 'test_unit_dir' is not defined",
     "output_type": "error",
     "traceback": [
      "\u001b[0;31m---------------------------------------------------------------------------\u001b[0m",
      "\u001b[0;31mNameError\u001b[0m                                 Traceback (most recent call last)",
      "\u001b[0;32m<ipython-input-6-263b12ab6844>\u001b[0m in \u001b[0;36m<module>\u001b[0;34m()\u001b[0m\n\u001b[1;32m     80\u001b[0m \u001b[0mmodel_dir\u001b[0m \u001b[0;34m=\u001b[0m \u001b[0mos\u001b[0m\u001b[0;34m.\u001b[0m\u001b[0mpath\u001b[0m\u001b[0;34m.\u001b[0m\u001b[0mjoin\u001b[0m\u001b[0;34m(\u001b[0m\u001b[0mmodels_dir\u001b[0m\u001b[0;34m,\u001b[0m \u001b[0mmodel_name\u001b[0m\u001b[0;34m)\u001b[0m\u001b[0;34m\u001b[0m\u001b[0m\n\u001b[1;32m     81\u001b[0m \u001b[0mos\u001b[0m\u001b[0;34m.\u001b[0m\u001b[0mmakedirs\u001b[0m\u001b[0;34m(\u001b[0m\u001b[0mmodel_dir\u001b[0m\u001b[0;34m,\u001b[0m \u001b[0mexist_ok\u001b[0m\u001b[0;34m=\u001b[0m\u001b[0;32mTrue\u001b[0m\u001b[0;34m)\u001b[0m\u001b[0;34m\u001b[0m\u001b[0m\n\u001b[0;32m---> 82\u001b[0;31m \u001b[0munit_dir\u001b[0m \u001b[0;34m=\u001b[0m \u001b[0mos\u001b[0m\u001b[0;34m.\u001b[0m\u001b[0mpath\u001b[0m\u001b[0;34m.\u001b[0m\u001b[0mjoin\u001b[0m\u001b[0;34m(\u001b[0m\u001b[0mmodel_dir\u001b[0m\u001b[0;34m,\u001b[0m \u001b[0mtest_unit_dir\u001b[0m\u001b[0;34m)\u001b[0m\u001b[0;34m\u001b[0m\u001b[0m\n\u001b[0m\u001b[1;32m     83\u001b[0m \u001b[0mos\u001b[0m\u001b[0;34m.\u001b[0m\u001b[0mmakedirs\u001b[0m\u001b[0;34m(\u001b[0m\u001b[0munit_dir\u001b[0m\u001b[0;34m,\u001b[0m \u001b[0mexist_ok\u001b[0m\u001b[0;34m=\u001b[0m\u001b[0;32mTrue\u001b[0m\u001b[0;34m)\u001b[0m\u001b[0;34m\u001b[0m\u001b[0m\n\u001b[1;32m     84\u001b[0m \u001b[0mtrial_name\u001b[0m \u001b[0;34m=\u001b[0m \u001b[0;34m\"trial-\"\u001b[0m \u001b[0;34m+\u001b[0m \u001b[0mstr\u001b[0m\u001b[0;34m(\u001b[0m\u001b[0mtrial_id\u001b[0m\u001b[0;34m)\u001b[0m\u001b[0;34m\u001b[0m\u001b[0m\n",
      "\u001b[0;31mNameError\u001b[0m: name 'test_unit_dir' is not defined"
     ]
    }
   ],
   "source": [
    "# Print header.\n",
    "start_time = int(time.time())\n",
    "print(str(datetime.datetime.now()) + \" Start.\")\n",
    "print(\"Computing PCA for \" + dataset_name + \" clips.\")\n",
    "print(\"Test Unit: \" + test_unit_str + \".\")\n",
    "print(\"Trial ID: \" + str(trial_id) + \".\")\n",
    "print(\"\")\n",
    "print(\"h5py version: {:s}\".format(h5py.__version__))\n",
    "print(\"librosa version: {:s}\".format(librosa.__version__))\n",
    "print(\"numpy version: {:s}\".format(np.__version__))\n",
    "print(\"skm version: {:s}\".format(skm.__version__))\n",
    "print(\"\")\n",
    "\n",
    "\n",
    "# Define input folder.\n",
    "logmelspec_name = \"_\".join([dataset_name, \"skm-logmelspec\"])\n",
    "logmelspec_dir = os.path.join(data_dir, logmelspec_name)\n",
    "aug_dir = os.path.join(logmelspec_dir, aug_str)\n",
    "\n",
    "\n",
    "# Initialize matrix of training data.\n",
    "X = []\n",
    "\n",
    "\n",
    "# Loop over training units.\n",
    "for train_unit_str in training_units:\n",
    "\n",
    "    # Load HDF5 container of logmelspecs.\n",
    "    hdf5_name = \"_\".join([dataset_name, instanced_aug_str, train_unit_str])\n",
    "    in_path = os.path.join(aug_dir, hdf5_name + \".hdf5\")\n",
    "    in_file = h5py.File(in_path)\n",
    "\n",
    "\n",
    "    # List clips.\n",
    "    clip_names = list(in_file[\"logmelspec\"].keys())\n",
    "\n",
    "\n",
    "    # Loop over clips.\n",
    "    for clip_name in clip_names:\n",
    "\n",
    "        # Load logmelspec.\n",
    "        logmelspec = in_file[\"logmelspec\"][clip_name].value\n",
    "\n",
    "        # Load time-frequency patches.\n",
    "        logmelspec_width = logmelspec.shape[1]\n",
    "        logmelspec_mid = np.round(logmelspec_width * 0.5).astype('int')\n",
    "        logmelspec_start = logmelspec_mid -\\\n",
    "            np.round(patch_width * n_patches_per_clip * 0.5).astype('int')\n",
    "\n",
    "        # Loop over time-frequency patches.\n",
    "        for patch_id in range(n_patches_per_clip):\n",
    "\n",
    "            # Extract patch.\n",
    "            patch_start = logmelspec_start + patch_id * patch_width\n",
    "            patch_stop = patch_start + patch_width\n",
    "            patch = logmelspec[:, patch_start:patch_stop]\n",
    "\n",
    "            # Ravel patch.\n",
    "            X.append(np.ravel(patch))\n",
    "\n",
    "\n",
    "# Concatenate raveled patches as rows and transpose.\n",
    "X = np.stack(X).T\n",
    "\n",
    "\n",
    "# Close HDF5 file.\n",
    "in_file.close()\n",
    "\n",
    "\n",
    "# Construct SKM model.\n",
    "skm_model = skm.SKM(k=256)\n",
    "\n",
    "\n",
    "# Train SKM.\n",
    "skm_model.fit(X)\n",
    "\n",
    "\n",
    "# Create folder for trial.\n",
    "models_dir = localmodule.get_models_dir()\n",
    "model_name = \"skm-cv\"\n",
    "model_dir = os.path.join(models_dir, model_name)\n",
    "os.makedirs(model_dir, exist_ok=True)\n",
    "unit_dir = os.path.join(model_dir, test_unit_str)\n",
    "os.makedirs(unit_dir, exist_ok=True)\n",
    "trial_name = \"trial-\" + str(trial_id)\n",
    "trial_dir = os.path.join(unit_dir, trial_name)\n",
    "os.makedirs(trial_dir, exist_ok=True)\n",
    "\n",
    "\n",
    "# Save SKM model.\n",
    "model_name = \"_\".join([\n",
    "    dataset_name, model_name, unit_str, trial_name, \"model.pkl\"\n",
    "])\n",
    "model_path = os.path.join(trial_dir, model_name)\n",
    "skm_model.save(model_path)\n",
    "\n",
    "\n",
    "# Print elapsed time.\n",
    "print(str(datetime.datetime.now()) + \" Finish.\")\n",
    "elapsed_time = time.time() - int(start_time)\n",
    "elapsed_hours = int(elapsed_time / (60 * 60))\n",
    "elapsed_minutes = int((elapsed_time % (60 * 60)) / 60)\n",
    "elapsed_seconds = elapsed_time % 60.\n",
    "elapsed_str = \"{:>02}:{:>02}:{:>05.2f}\".format(elapsed_hours,\n",
    "                                               elapsed_minutes,\n",
    "                                               elapsed_seconds)\n",
    "print(\"Total elapsed time: \" + elapsed_str + \".\")"
   ]
  },
  {
   "cell_type": "code",
   "execution_count": 9,
   "metadata": {
    "collapsed": false
   },
   "outputs": [
    {
     "name": "stdout",
     "output_type": "stream",
     "text": [
      "2017-10-20 16:32:15.205104 Finish.\n",
      "Total elapsed time: 00:17:50.21.\n"
     ]
    }
   ],
   "source": [
    "\n",
    "# Create folder for trial.\n",
    "models_dir = localmodule.get_models_dir()\n",
    "model_name = \"skm-cv\"\n",
    "model_dir = os.path.join(models_dir, model_name)\n",
    "os.makedirs(model_dir, exist_ok=True)\n",
    "unit_dir = os.path.join(model_dir, test_unit_str)\n",
    "os.makedirs(unit_dir, exist_ok=True)\n",
    "trial_name = \"trial-\" + str(trial_id)\n",
    "trial_dir = os.path.join(unit_dir, trial_name)\n",
    "os.makedirs(trial_dir, exist_ok=True)\n",
    "\n",
    "\n",
    "# Save SKM model.\n",
    "model_name = \"_\".join([\n",
    "    dataset_name, model_name, test_unit_str, trial_name, \"model.pkl\"\n",
    "])\n",
    "model_path = os.path.join(trial_dir, model_name)\n",
    "skm_model.save(model_path)\n",
    "\n",
    "\n",
    "# Print elapsed time.\n",
    "print(str(datetime.datetime.now()) + \" Finish.\")\n",
    "elapsed_time = time.time() - int(start_time)\n",
    "elapsed_hours = int(elapsed_time / (60 * 60))\n",
    "elapsed_minutes = int((elapsed_time % (60 * 60)) / 60)\n",
    "elapsed_seconds = elapsed_time % 60.\n",
    "elapsed_str = \"{:>02}:{:>02}:{:>05.2f}\".format(elapsed_hours,\n",
    "                                               elapsed_minutes,\n",
    "                                               elapsed_seconds)\n",
    "print(\"Total elapsed time: \" + elapsed_str + \".\")"
   ]
  },
  {
   "cell_type": "code",
   "execution_count": 10,
   "metadata": {
    "collapsed": false
   },
   "outputs": [
    {
     "data": {
      "text/plain": [
       "<skm.core.SKM at 0x2ab60a142668>"
      ]
     },
     "execution_count": 10,
     "metadata": {},
     "output_type": "execute_result"
    }
   ],
   "source": [
    "other_model = skm.SKM(k=256)\n",
    "other_model.load(model_path)"
   ]
  },
  {
   "cell_type": "code",
   "execution_count": null,
   "metadata": {
    "collapsed": true
   },
   "outputs": [],
   "source": []
  }
 ],
 "metadata": {
  "kernelspec": {
   "display_name": "Python 3",
   "language": "python",
   "name": "python3"
  },
  "language_info": {
   "codemirror_mode": {
    "name": "ipython",
    "version": 3
   },
   "file_extension": ".py",
   "mimetype": "text/x-python",
   "name": "python",
   "nbconvert_exporter": "python",
   "pygments_lexer": "ipython3",
   "version": "3.6.0"
  }
 },
 "nbformat": 4,
 "nbformat_minor": 2
}
