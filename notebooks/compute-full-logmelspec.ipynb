{
 "cells": [
  {
   "cell_type": "code",
   "execution_count": 21,
   "metadata": {
    "collapsed": false
   },
   "outputs": [
    {
     "name": "stdout",
     "output_type": "stream",
     "text": [
      "2017-08-06 18:01:33.096693 Start.\n",
      "Computing log-mel-spectrograms (logmelspec) for full BirdVox-70k.\n",
      "Unit: unit01.\n",
      "\n",
      "h5py version: 2.6.0\n",
      "librosa version: 0.5.1\n",
      "numpy version: 1.13.1\n",
      "pandas version: 0.20.3\n",
      "soundfile version: 0.9.0\n",
      "\n"
     ]
    }
   ],
   "source": [
    "import datetime\n",
    "import h5py\n",
    "import librosa\n",
    "import numpy as np\n",
    "import os\n",
    "import pandas as pd\n",
    "import soundfile as sf\n",
    "import sys\n",
    "import time\n",
    "\n",
    "sys.path.append('../src') #                                    DISABLE\n",
    "import localmodule\n",
    "\n",
    "\n",
    "\n",
    "# Define constants.\n",
    "data_dir = localmodule.get_data_dir()\n",
    "dataset_name = localmodule.get_dataset_name()\n",
    "# args = sys.argv[1:]                                           ENABLE\n",
    "args = [\"unit01\"] #                                             DISABLE\n",
    "unit_str = args[0]\n",
    "logmelspec_settings = localmodule.get_logmelspec_settings()\n",
    "n_clips_per_chunk = 1000\n",
    "\n",
    "\n",
    "# Print header.\n",
    "start_time = int(time.time())\n",
    "print(str(datetime.datetime.now()) + \" Start.\")\n",
    "print(\"Computing log-mel-spectrograms (logmelspec) for full \" + dataset_name + \".\")\n",
    "print(\"Unit: \" + unit_str + \".\")\n",
    "print(\"\")\n",
    "print(\"h5py version: {:s}\".format(h5py.__version__))\n",
    "print(\"librosa version: {:s}\".format(librosa.__version__))\n",
    "print(\"numpy version: {:s}\".format(np.__version__))\n",
    "print(\"pandas version: {:s}\".format(pd.__version__))\n",
    "print(\"soundfile version: {:s}\".format(sf.__version__))\n",
    "print(\"\")\n",
    "\n",
    "\n",
    "# Create HDF5 container of logmelspecs\n",
    "full_logmelspec_name = \"_\".join([dataset_name, \"full_logmelspec\"])\n",
    "full_logmelspec_dir = os.path.join(data_dir, full_logmelspec_name)\n",
    "os.makedirs(full_logmelspec_dir, exist_ok=True)\n",
    "out_name = unit_str\n",
    "out_path = os.path.join(full_logmelspec_dir, out_name + \".hdf5\")\n",
    "os.system(\"rm \" + out_path) #                                    DISABLE\n",
    "out_file = h5py.File(out_path)\n",
    "\n",
    "\n",
    "# Load GPS coordinates.\n",
    "gps_name = \"_\".join([dataset_name, \"gps-coordinates.csv\"])\n",
    "gps_path = os.path.join(data_dir, gps_name)\n",
    "gps_df = pd.read_csv(gps_path)\n",
    "gps_row = gps_df.loc[gps_df[\"Unit\"] == unit_str].iloc[0]\n",
    "\n",
    "\n",
    "# Load UTC starting times.\n",
    "utc_name = \"_\".join([dataset_name, \"utc-start-times.csv\"])\n",
    "utc_path = os.path.join(data_dir, utc_name)\n",
    "utc_df = pd.read_csv(utc_path)\n",
    "utc_row = utc_df.loc[utc_df[\"Unit\"] == unit_str].iloc[0]\n",
    "\n",
    "\n",
    "# Copy over metadata.\n",
    "out_file[\"dataset_name\"] = localmodule.get_dataset_name()\n",
    "out_file[\"unit\"] = unit_str\n",
    "out_file[\"utc_start_time\"] = utc_row[\"UTC\"]\n",
    "gps_group = out_file.create_group(\"gps_coordinates\")\n",
    "gps_group[\"latitude\"] =  gps_row[\"Latitude\"]\n",
    "gps_group[\"longitude\"] = gps_row[\"Longitude\"]\n",
    "settings_group = out_file.create_group(\"logmelspec_settings\")\n",
    "settings_group[\"fmax\"] = logmelspec_settings[\"fmax\"]\n",
    "settings_group[\"fmin\"] = logmelspec_settings[\"fmin\"]\n",
    "settings_group[\"hop_length\"] = logmelspec_settings[\"hop_length\"]\n",
    "settings_group[\"n_fft\"] = logmelspec_settings[\"n_fft\"]\n",
    "settings_group[\"n_mels\"] = logmelspec_settings[\"n_mels\"]\n",
    "settings_group[\"sr\"] = logmelspec_settings[\"sr\"]\n",
    "settings_group[\"win_length\"] = logmelspec_settings[\"win_length\"]\n",
    "settings_group[\"window\"] = logmelspec_settings[\"window\"]"
   ]
  },
  {
   "cell_type": "code",
   "execution_count": 22,
   "metadata": {
    "collapsed": false
   },
   "outputs": [],
   "source": [
    "# Start HDF5 group for log-mel-spectrograms (logmelspec).\n",
    "lms_group = out_file.create_group(\"logmelspec\")"
   ]
  },
  {
   "cell_type": "code",
   "execution_count": 23,
   "metadata": {
    "collapsed": true
   },
   "outputs": [],
   "source": [
    "# Open\n",
    "recordings_name = \"_\".join([dataset_name, \"full-audio\"])\n",
    "recordings_dir = os.path.join(data_dir, recordings_name)\n",
    "recording_name = unit_str + \".flac\"\n",
    "recording_path = os.path.join(recordings_dir, recording_name)\n",
    "full_audio = sf.SoundFile(recording_path)\n",
    "full_audio_length = len(full_audio)"
   ]
  },
  {
   "cell_type": "code",
   "execution_count": 92,
   "metadata": {
    "collapsed": false
   },
   "outputs": [],
   "source": [
    "sample_rate = localmodule.get_sample_rate()\n",
    "lms_sample_rate = logmelspec_settings[\"sr\"]\n",
    "lms_hop_length = logmelspec_settings[\"hop_length\"]\n",
    "sample_float_step = 64 * lms_hop_length * sample_rate / lms_sample_rate\n",
    "\n",
    "sample_start = np.round(0.5 * sample_float_step)\n",
    "sample_stop = full_audio_length - np.round(0.5 * sample_float_step)\n",
    "sample_range = np.arange(sample_start, sample_stop, sample_float_step)\n",
    "sample_range = np.round(sample_range).astype('int')\n",
    "padding_duration = 0.5 # in seconds\n",
    "padding_length = int(np.round(padding_duration * sample_rate))\n",
    "n_clips = len(sample_range)\n",
    "n_chunks = int(np.ceil(n_clips / n_clips_per_chunk))\n",
    "\n",
    "# for chunk_id in range(n_chunks):                                       ENABLE\n",
    "chunk_id = 0 #                                                    DISABLE\n",
    "first_clip_id = chunk_id * n_clips_per_chunk\n",
    "last_clip_id = min((chunk_id+1) * n_clips_per_chunk, n_clips)\n",
    "chunk_range = range(first_clip_id, last_clip_id)\n",
    "chunk_sample_range = sample_range[chunk_range]\n",
    "chunk_start = chunk_sample_range[0] - padding_length\n",
    "chunk_stop = chunk_sample_range[-1] + padding_length\n"
   ]
  },
  {
   "cell_type": "code",
   "execution_count": 94,
   "metadata": {
    "collapsed": false
   },
   "outputs": [
    {
     "data": {
      "text/plain": [
       "2240002"
      ]
     },
     "execution_count": 94,
     "metadata": {},
     "output_type": "execute_result"
    }
   ],
   "source": [
    "chunk_stop"
   ]
  },
  {
   "cell_type": "code",
   "execution_count": 86,
   "metadata": {
    "collapsed": false
   },
   "outputs": [
    {
     "data": {
      "text/plain": [
       "256"
      ]
     },
     "execution_count": 86,
     "metadata": {},
     "output_type": "execute_result"
    }
   ],
   "source": [
    "logmelspec_settings[\"win_length\"]"
   ]
  },
  {
   "cell_type": "code",
   "execution_count": 88,
   "metadata": {
    "collapsed": false
   },
   "outputs": [
    {
     "data": {
      "text/plain": [
       "64.0"
      ]
     },
     "execution_count": 88,
     "metadata": {},
     "output_type": "execute_result"
    }
   ],
   "source": [
    "2048 / 32"
   ]
  },
  {
   "cell_type": "code",
   "execution_count": null,
   "metadata": {
    "collapsed": true
   },
   "outputs": [],
   "source": []
  }
 ],
 "metadata": {
  "kernelspec": {
   "display_name": "Python 3",
   "language": "python",
   "name": "python3"
  },
  "language_info": {
   "codemirror_mode": {
    "name": "ipython",
    "version": 3
   },
   "file_extension": ".py",
   "mimetype": "text/x-python",
   "name": "python",
   "nbconvert_exporter": "python",
   "pygments_lexer": "ipython3",
   "version": "3.6.0"
  }
 },
 "nbformat": 4,
 "nbformat_minor": 2
}
