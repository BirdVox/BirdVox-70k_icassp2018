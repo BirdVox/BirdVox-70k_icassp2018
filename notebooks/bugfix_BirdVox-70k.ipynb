{
 "cells": [
  {
   "cell_type": "code",
   "execution_count": 2,
   "metadata": {
    "collapsed": false,
    "deletable": true,
    "editable": true
   },
   "outputs": [],
   "source": [
    "import datetime\n",
    "import IPython.display\n",
    "import librosa\n",
    "import numpy as np\n",
    "import os\n",
    "import soundfile as sf\n",
    "import sys\n",
    "\n",
    "sys.path.append(os.path.join(\"..\", \"src\"))\n",
    "import localmodule"
   ]
  },
  {
   "cell_type": "code",
   "execution_count": 10,
   "metadata": {
    "collapsed": false,
    "deletable": true,
    "editable": true
   },
   "outputs": [
    {
     "name": "stdout",
     "output_type": "stream",
     "text": [
      "Unit 01\n",
      "[empty]\n",
      "\n",
      "\n",
      "Unit 02\n",
      "[empty]\n",
      "\n",
      "\n",
      "Unit 03\n",
      "[empty]\n",
      "\n",
      "\n",
      "Unit 05\n",
      "unit05_537136796_00000_0_original.wav\n",
      "22380.699833333332\n",
      "06:13:00.70\n",
      "unknown\n"
     ]
    },
    {
     "data": {
      "text/html": [
       "\n",
       "                <audio controls=\"controls\" >\n",
       "                    <source src=\"data:audio/wav;base64,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\" type=\"audio/wav\" />\n",
       "                    Your browser does not support the audio element.\n",
       "                </audio>\n",
       "              "
      ],
      "text/plain": [
       "<IPython.lib.display.Audio object>"
      ]
     },
     "metadata": {},
     "output_type": "display_data"
    },
    {
     "name": "stdout",
     "output_type": "stream",
     "text": [
      "\n",
      "\n",
      "\n",
      "Unit 07\n",
      "[empty]\n",
      "\n",
      "\n",
      "Unit 10\n",
      "[empty]\n",
      "\n",
      "\n"
     ]
    }
   ],
   "source": [
    "import matplotlib.pyplot as plt\n",
    "import matplotlib.style as ms\n",
    "ms.use('seaborn-muted')\n",
    "%matplotlib inline\n",
    "\n",
    "units = [1, 2, 3, 5, 7, 10]\n",
    "n_units = len(units)\n",
    "sr = 24000\n",
    "truncated_clip_duration = 0.500\n",
    "truncated_clip_length = int(sr * truncated_clip_duration)\n",
    "#data_dir = localmodule.get_data_dir()\n",
    "data_dir = \"/Users/vl238/spl2017_data\"\n",
    "dataset_name = localmodule.get_dataset_name()\n",
    "dataset_wav_name = \"_\".join([dataset_name, \"audio-clips\"])\n",
    "dataset_wav_dir = os.path.join(data_dir, dataset_wav_name)\n",
    "original_clips_dir = os.path.join(dataset_wav_dir, \"original\")\n",
    "\n",
    "\n",
    "false_negatives = [\n",
    "    {},\n",
    "    {},\n",
    "    {},\n",
    "    {61351320: \"\"},\n",
    "    {},\n",
    "    {}]\n",
    "\n",
    "for unit_id in range(6):\n",
    "    unit = units[unit_id]\n",
    "    unit_str = \"unit\" + str(unit).zfill(2)\n",
    "    unit_dir = os.path.join(original_clips_dir, unit_str)\n",
    "    clip_names = sorted(os.listdir(unit_dir))\n",
    "    print(\"Unit \" + str(unit).zfill(2))\n",
    "    \n",
    "    unit_false_negatives = false_negatives[unit_id]\n",
    "    n_fns = len(unit_false_negatives)\n",
    "    negative_names = [name for name in clip_names if name[23] == \"0\"]\n",
    "    n_negatives = len(negative_names)\n",
    "    if n_fns == 0:\n",
    "        print(\"[empty]\")\n",
    "    for false_negative_timestamp in unit_false_negatives.keys():\n",
    "        false_negative_tag = unit_false_negatives[false_negative_timestamp]\n",
    "        false_negative_id = false_negative_timestamp / truncated_clip_length\n",
    "        false_negative_id = int(np.round(false_negative_id))\n",
    "        false_negative_name = negative_names[false_negative_id]\n",
    "        print(false_negative_name)\n",
    "        t = int(false_negative_name[7:16]) / 24000\n",
    "        print(t)\n",
    "        hours = int(t / (60 * 60))\n",
    "        minutes = int((t % (60 * 60)) / 60)\n",
    "        seconds = t % 60.\n",
    "        time_str = \"{:>02}:{:>02}:{:>05.2f}\".format(hours, minutes, seconds)\n",
    "        print(time_str)\n",
    "        if false_negative_tag == \"\":\n",
    "            false_negative_tag = \"unknown\"\n",
    "        print(false_negative_tag)\n",
    "        false_negative_path = os.path.join(unit_dir, false_negative_name)\n",
    "        y, _ = sf.read(false_negative_path)\n",
    "        audio_object = IPython.display.Audio(data=y, rate=sr)\n",
    "        IPython.display.display(audio_object)\n",
    "        print(\"\")\n",
    "    print(\"\")\n",
    "    print(\"\")"
   ]
  },
  {
   "cell_type": "code",
   "execution_count": null,
   "metadata": {
    "collapsed": true,
    "deletable": true,
    "editable": true
   },
   "outputs": [],
   "source": []
  }
 ],
 "metadata": {
  "kernelspec": {
   "display_name": "Python 3",
   "language": "python",
   "name": "python3"
  },
  "language_info": {
   "codemirror_mode": {
    "name": "ipython",
    "version": 3
   },
   "file_extension": ".py",
   "mimetype": "text/x-python",
   "name": "python",
   "nbconvert_exporter": "python",
   "pygments_lexer": "ipython3",
   "version": "3.5.2"
  }
 },
 "nbformat": 4,
 "nbformat_minor": 2
}
