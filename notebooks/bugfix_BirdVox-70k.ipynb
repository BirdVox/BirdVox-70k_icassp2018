{
 "cells": [
  {
   "cell_type": "code",
   "execution_count": 20,
   "metadata": {
    "collapsed": true,
    "deletable": true,
    "editable": true
   },
   "outputs": [],
   "source": [
    "import datetime\n",
    "from IPython import display\n",
    "import librosa\n",
    "import numpy as np\n",
    "import os\n",
    "import soundfile as sf\n",
    "import sys\n",
    "\n",
    "sys.path.append(os.path.join(\"..\", \"src\"))\n",
    "import paths"
   ]
  },
  {
   "cell_type": "code",
   "execution_count": 21,
   "metadata": {
    "collapsed": false,
    "deletable": true,
    "editable": true
   },
   "outputs": [
    {
     "name": "stdout",
     "output_type": "stream",
     "text": [
      "unit01_446289504_06614_1_original.wav\n",
      "18595.396\n",
      "05:09:55.40\n",
      "alarm\n",
      "(12000,)\n",
      "\n"
     ]
    }
   ],
   "source": [
    "import matplotlib.pyplot as plt\n",
    "import matplotlib.style as ms\n",
    "ms.use('seaborn-muted')\n",
    "%matplotlib inline\n",
    "\n",
    "units = [1, 2, 3, 5, 7, 10]\n",
    "n_units = len(units)\n",
    "sr = 24000\n",
    "truncated_clip_duration = 0.185\n",
    "truncated_clip_length = int(sr * truncated_clip_duration)\n",
    "data_dir = paths.get_data_dir()\n",
    "clips_dir = os.path.join(data_dir, \"BirdVox-70k\")\n",
    "original_clips_dir = os.path.join(clips_dir, \"original\")\n",
    "\n",
    "\n",
    "false_negatives = [\n",
    "    {}]\n",
    "false_positives = [\n",
    "    {2034514: \"alarm\"}\n",
    "    ]\n",
    "\n",
    "for unit_id in range(1):\n",
    "    unit = units[unit_id]\n",
    "    unit_str = \"unit\" + str(unit).zfill(2)\n",
    "    unit_dir = os.path.join(original_clips_dir, unit_str)\n",
    "    clip_names = sorted(os.listdir(unit_dir))\n",
    "\n",
    "    unit_false_positives = false_positives[unit_id]\n",
    "    n_fps = len(unit_false_positives)\n",
    "    positive_names = [name for name in clip_names if name[23] == \"1\"]\n",
    "    n_positives = len(positive_names)\n",
    "    for false_positive_timestamp in unit_false_positives.keys():\n",
    "        false_positive_tag = unit_false_positives[false_positive_timestamp]\n",
    "        false_positive_id = false_positive_timestamp / truncated_clip_length\n",
    "        false_positive_id = int(np.round(false_positive_id))\n",
    "        false_positive_name = positive_names[false_positive_id]\n",
    "        print(false_positive_name)\n",
    "        t = int(false_positive_name[7:16]) / 24000\n",
    "        print(t)\n",
    "        hours = int(t / (60 * 60))\n",
    "        minutes = int((t % (60 * 60)) / 60)\n",
    "        seconds = t % 60.\n",
    "        time_str = \"{:>02}:{:>02}:{:>05.2f}\".format(hours, minutes, seconds)\n",
    "        print(time_str)\n",
    "        print(false_positive_tag)\n",
    "        false_positive_path = os.path.join(unit_dir, false_positive_name)\n",
    "        y, _ = sf.read(false_positive_path)\n",
    "        IPython.display.Audio(data=y, rate=sr)\n",
    "        print(\"\")\n",
    "     \n",
    "    unit_false_negatives = false_negatives[unit_id]\n",
    "    n_fns = len(unit_false_negatives)\n",
    "    negative_names = [name for name in clip_names if name[23] == \"0\"]\n",
    "    n_negatives = len(negative_names)\n",
    "    for false_negative_timestamp in unit_false_negatives.keys():\n",
    "        false_negative_tag = unit_false_negatives[false_negative_timestamp]\n",
    "        false_negative_id = false_negative_timestamp / truncated_clip_length\n",
    "        false_negative_id = int(np.round(false_negative_id))\n",
    "        false_negative_name = negative_names[false_negative_id]\n",
    "        print(false_negative_name)\n",
    "        t = int(false_negative_name[7:16]) / 24000\n",
    "        print(t)\n",
    "        hours = int(t / (60 * 60))\n",
    "        minutes = int((t % (60 * 60)) / 60)\n",
    "        seconds = t % 60.\n",
    "        time_str = \"{:>02}:{:>02}:{:>05.2f}\".format(hours, minutes, seconds)\n",
    "        print(time_str)\n",
    "        print(false_negative_tag)\n",
    "        print(\"\")"
   ]
  },
  {
   "cell_type": "code",
   "execution_count": 48,
   "metadata": {
    "collapsed": false,
    "deletable": true,
    "editable": true
   },
   "outputs": [
    {
     "name": "stdout",
     "output_type": "stream",
     "text": [
      "34550.0\n",
      "09:35:50.00\n"
     ]
    }
   ],
   "source": [
    "t = 34550.0\n",
    "print(t)\n",
    "hours = int(t / (60 * 60))\n",
    "minutes = int((t % (60 * 60)) / 60)\n",
    "seconds = t % 60.\n",
    "time_str = \"{:>02}:{:>02}:{:>05.2f}\".format(hours, minutes, seconds)\n",
    "print(time_str)"
   ]
  },
  {
   "cell_type": "code",
   "execution_count": 11,
   "metadata": {
    "collapsed": false,
    "deletable": true,
    "editable": true
   },
   "outputs": [
    {
     "data": {
      "text/plain": [
       "dict_keys([2034514])"
      ]
     },
     "execution_count": 11,
     "metadata": {},
     "output_type": "execute_result"
    }
   ],
   "source": [
    "unit_false_positives.keys()"
   ]
  },
  {
   "cell_type": "code",
   "execution_count": null,
   "metadata": {
    "collapsed": true,
    "deletable": true,
    "editable": true
   },
   "outputs": [],
   "source": []
  }
 ],
 "metadata": {
  "kernelspec": {
   "display_name": "Python 3",
   "language": "python",
   "name": "python3"
  },
  "language_info": {
   "codemirror_mode": {
    "name": "ipython",
    "version": 3
   },
   "file_extension": ".py",
   "mimetype": "text/x-python",
   "name": "python",
   "nbconvert_exporter": "python",
   "pygments_lexer": "ipython3",
   "version": "3.6.0"
  }
 },
 "nbformat": 4,
 "nbformat_minor": 2
}
