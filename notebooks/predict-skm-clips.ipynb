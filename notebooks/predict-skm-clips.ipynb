{
 "cells": [
  {
   "cell_type": "code",
   "execution_count": 1,
   "metadata": {
    "collapsed": false
   },
   "outputs": [
    {
     "name": "stdout",
     "output_type": "stream",
     "text": [
      "2017-10-24 16:45:15.649495 Start.\n",
      "Predicting SVM for BirdVox-70k clips.\n",
      "Test unit: unit01.\n",
      "Trial ID: 1.\n",
      "\n",
      "h5py version: 2.6.0\n",
      "numpy version: 1.13.1\n",
      "scikit-learn version: 0.18.2\n",
      "skm version: 0.0.1\n",
      "\n"
     ]
    }
   ],
   "source": [
    "import csv\n",
    "import datetime\n",
    "import h5py\n",
    "from sklearn.externals import joblib\n",
    "import numpy as np\n",
    "import os\n",
    "import pandas as pd\n",
    "import pickle\n",
    "import sklearn.preprocessing\n",
    "import sklearn.svm\n",
    "import skm\n",
    "import sys\n",
    "import time\n",
    "\n",
    "sys.path.append(\"../src\")\n",
    "import localmodule\n",
    "\n",
    "\n",
    "# Define constants.\n",
    "data_dir = localmodule.get_data_dir()\n",
    "dataset_name = localmodule.get_dataset_name()\n",
    "patch_width = 32\n",
    "n_patches_per_clip = 1\n",
    "aug_str = \"original\"\n",
    "instanced_aug_str = aug_str\n",
    "log2Cs = range(-5, 15)\n",
    "\n",
    "\n",
    "# Parse arguments.\n",
    "args = [\"unit01\", \"1\"]\n",
    "test_unit_str = args[0]\n",
    "trial_id = int(args[1])\n",
    "\n",
    "\n",
    "# Print header.\n",
    "start_time = int(time.time())\n",
    "print(str(datetime.datetime.now()) + \" Start.\")\n",
    "print(\"Predicting SVM for \" + dataset_name + \" clips.\")\n",
    "print(\"Test unit: \" + test_unit_str + \".\")\n",
    "print(\"Trial ID: \" + str(trial_id) + \".\")\n",
    "print(\"\")\n",
    "print(\"h5py version: {:s}\".format(h5py.__version__))\n",
    "print(\"numpy version: {:s}\".format(np.__version__))\n",
    "print(\"scikit-learn version: {:s}\".format(sklearn.__version__))\n",
    "print(\"skm version: {:s}\".format(skm.__version__))\n",
    "print(\"\")"
   ]
  },
  {
   "cell_type": "code",
   "execution_count": 2,
   "metadata": {
    "collapsed": false
   },
   "outputs": [
    {
     "name": "stdout",
     "output_type": "stream",
     "text": [
      "Maximum validation accuracy: 78.35% with log2(C) = -5\n"
     ]
    }
   ],
   "source": [
    "# Retrieve fold such that test_unit_str is in the test set.\n",
    "folds = localmodule.fold_units()\n",
    "fold = [f for f in folds if test_unit_str in f[0]][0]\n",
    "test_units = fold[0]\n",
    "training_units = fold[1]\n",
    "validation_units = fold[2]\n",
    "\n",
    "\n",
    "# Define directory for trial.\n",
    "models_dir = localmodule.get_models_dir()\n",
    "skm_name = \"skm-cv\"\n",
    "skm_dir = os.path.join(models_dir, skm_name)\n",
    "unit_dir = os.path.join(skm_dir, test_unit_str)\n",
    "trial_str = \"trial-\" + str(trial_id)\n",
    "trial_dir = os.path.join(unit_dir, trial_str)\n",
    "\n",
    "\n",
    "# Open CSV file for validation metrics.\n",
    "val_metrics_name = \"_\".join([\n",
    "    dataset_name,\n",
    "    skm_name,\n",
    "    test_unit_str,\n",
    "    trial_str,\n",
    "    \"svm-model\",\n",
    "    \"val-metrics.csv\"])\n",
    "val_metrics_path = os.path.join(\n",
    "    trial_dir, val_metrics_name)\n",
    "val_metrics_header = [\n",
    "    \"Dataset\",\n",
    "    \"Test unit\",\n",
    "    \"Trial ID\",\n",
    "    \"log2(C)\",\n",
    "    \"Validation accuracy (%)\"\n",
    "]\n",
    "\n",
    "\n",
    "# Parse validation metrics as Pandas DataFrame.\n",
    "val_df = pd.read_csv(\n",
    "    val_metrics_path, header=None, names=val_metrics_header)\n",
    "\n",
    "\n",
    "# Find C maximiwing validation accuracy.\n",
    "log2Cs = np.array(val_df[\"log2(C)\"])\n",
    "val_accs = np.array(val_df[\"Validation accuracy (%)\"])\n",
    "best_val_accs = np.max(val_accs)\n",
    "best_log2C = log2Cs[np.argmax(val_accs)]\n",
    "\n",
    "\n",
    "# Print maximum validation accuracy and corresponding C.\n",
    "print(\"Maximum validation accuracy: {:5.2f}% with log2(C) = {}\".format(\n",
    "    best_val_accs, best_log2C))\n",
    "\n",
    "\n",
    "# Load SKM model.\n",
    "skm_model_name = \"_\".join(\n",
    "    [dataset_name,\n",
    "     skm_name,\n",
    "     test_unit_str,\n",
    "     trial_str,\n",
    "     \"model.pkl\"])\n",
    "skm_model_path = os.path.join(\n",
    "    trial_dir, skm_model_name)\n",
    "with open(skm_model_path, 'rb') as skm_model_file:\n",
    "    skm_model = pickle.load(skm_model_file)\n",
    "\n",
    "\n",
    "# Load scaler.\n",
    "scaler_name = \"_\".join(\n",
    "    [dataset_name,\n",
    "    skm_name,\n",
    "    test_unit_str,\n",
    "    trial_str,\n",
    "    \"scaler.pkl\"])\n",
    "scaler_path = os.path.join(trial_dir, scaler_name)\n",
    "scaler = joblib.load(scaler_path)\n",
    "\n",
    "\n",
    "# Load best SVM model.\n",
    "if np.sign(best_log2C) >= 0:\n",
    "    best_log2C_str = \"+\" + str(abs(best_log2C)).zfill(2)\n",
    "else:\n",
    "    best_log2C_str = \"-\" + str(abs(best_log2C)).zfill(2)\n",
    "svm_model_name = \"_\".join(\n",
    "    [dataset_name,\n",
    "     \"skm-cv\",\n",
    "     test_unit_str,\n",
    "     trial_str,\n",
    "     \"svm-model\",\n",
    "     \"log2C-(\" + best_log2C_str + \").pkl\"\n",
    "    ])\n",
    "svm_model_path = os.path.join(trial_dir, svm_model_name)\n",
    "svm_model = joblib.load(svm_model_path)"
   ]
  },
  {
   "cell_type": "code",
   "execution_count": 28,
   "metadata": {
    "collapsed": false,
    "deletable": true,
    "editable": true
   },
   "outputs": [
    {
     "data": {
      "text/plain": [
       "'BirdVox-70k_skm-cv_unit01_trial-0_svm-model_val-metrics.csv'"
      ]
     },
     "execution_count": 28,
     "metadata": {},
     "output_type": "execute_result"
    }
   ],
   "source": [
    "\"BirdVox-70k_skm-cv_unit01_trial-0_svm-model_val-metrics.csv\""
   ]
  },
  {
   "cell_type": "code",
   "execution_count": 108,
   "metadata": {
    "collapsed": false
   },
   "outputs": [],
   "source": [
    "# Define input folder.\n",
    "aug_str = \"original\"\n",
    "instanced_aug_str = aug_str\n",
    "logmelspec_name = \"_\".join([dataset_name, \"skm-logmelspec\"])\n",
    "logmelspec_dir = os.path.join(data_dir, logmelspec_name)\n",
    "aug_dir = os.path.join(logmelspec_dir, aug_str)\n",
    "\n",
    "\n",
    "# Initialize matrix of test data..\n",
    "X_test = []\n",
    "y_test = []\n",
    "\n",
    "\n",
    "# Loop over test units.\n",
    "for test_unit_str in test_units:\n",
    "\n",
    "    # Load HDF5 container of logmelspecs.\n",
    "    hdf5_name = \"_\".join([dataset_name, instanced_aug_str, test_unit_str])\n",
    "    in_path = os.path.join(aug_dir, hdf5_name + \".hdf5\")\n",
    "    in_file = h5py.File(in_path)\n",
    "\n",
    "\n",
    "    # List clips.\n",
    "    clip_names = list(in_file[\"logmelspec\"].keys())\n",
    "\n",
    "\n",
    "    # Loop over clips.\n",
    "    for clip_name in clip_names:\n",
    "        # Read label.\n",
    "        y_clip = int(clip_name.split(\"_\")[3])\n",
    "\n",
    "        # Load logmelspec.\n",
    "        logmelspec = in_file[\"logmelspec\"][clip_name].value\n",
    "\n",
    "        # Load time-frequency patches.\n",
    "        logmelspec_width = logmelspec.shape[1]\n",
    "        logmelspec_mid = np.round(logmelspec_width * 0.5).astype('int')\n",
    "        logmelspec_start = logmelspec_mid -\\\n",
    "            np.round(patch_width * n_patches_per_clip * 0.5).astype('int')\n",
    "\n",
    "        # Extract patch.\n",
    "        patch_start = logmelspec_start\n",
    "        patch_stop = patch_start + patch_width\n",
    "        patch = logmelspec[:, patch_start:patch_stop]\n",
    "\n",
    "        # Append X and y.\n",
    "        X_test.append(np.ravel(patch))\n",
    "        y_test.append(y_clip)\n",
    "\n",
    "\n",
    "# Concatenate raveled patches as rows and transpose.\n",
    "X_test = np.stack(X_test)\n",
    "y_test_true = np.stack(y_test)\n",
    "\n",
    "\n",
    "# Transform test set.\n",
    "X_test_skm = skm_model.transform(X_test.T).T\n",
    "\n",
    "\n",
    "# Scale test data.\n",
    "#X_test_scaled = scaler.transform(X_test)\n",
    "X_test_scaled = X_test_skm\n",
    "\n",
    "\n",
    "# Compute predictions.\n",
    "y_test_pred = svm_model.predict_proba(X_test_scaled)"
   ]
  },
  {
   "cell_type": "code",
   "execution_count": 109,
   "metadata": {
    "collapsed": false
   },
   "outputs": [
    {
     "data": {
      "text/plain": [
       "array([[  3.85987051e-08,   9.99999961e-01],\n",
       "       [  1.28627231e-08,   9.99999987e-01],\n",
       "       [  4.13125120e-07,   9.99999587e-01],\n",
       "       ..., \n",
       "       [  4.82719752e-07,   9.99999517e-01],\n",
       "       [  8.49393856e-07,   9.99999151e-01],\n",
       "       [  1.06241938e-06,   9.99998938e-01]])"
      ]
     },
     "execution_count": 109,
     "metadata": {},
     "output_type": "execute_result"
    }
   ],
   "source": [
    "y_test_pred"
   ]
  },
  {
   "cell_type": "code",
   "execution_count": 110,
   "metadata": {
    "collapsed": false
   },
   "outputs": [
    {
     "data": {
      "text/plain": [
       "[<matplotlib.lines.Line2D at 0x2b810d90a4a8>]"
      ]
     },
     "execution_count": 110,
     "metadata": {},
     "output_type": "execute_result"
    },
    {
     "data": {
      "image/png": "[encoded data removed]",
      "text/plain": [
       "<matplotlib.figure.Figure at 0x2b810df25f60>"
      ]
     },
     "metadata": {},
     "output_type": "display_data"
    }
   ],
   "source": [
    "plt.plot(np.sort(y_test_pred[:, 1]))"
   ]
  },
  {
   "cell_type": "code",
   "execution_count": 105,
   "metadata": {
    "collapsed": false
   },
   "outputs": [
    {
     "data": {
      "text/plain": [
       "0.93300884492594338"
      ]
     },
     "execution_count": 105,
     "metadata": {},
     "output_type": "execute_result"
    }
   ],
   "source": [
    "Y_test_pred1e7 = (y_test_pred[:, 1] > 0.8)\n",
    "sklearn.metrics.accuracy_score(y_test_true, Y_test_pred1e7)"
   ]
  },
  {
   "cell_type": "code",
   "execution_count": 30,
   "metadata": {
    "collapsed": false
   },
   "outputs": [
    {
     "data": {
      "image/png": "[encoded data removed]",
      "text/plain": [
       "<matplotlib.figure.Figure at 0x2b810d25ecf8>"
      ]
     },
     "metadata": {},
     "output_type": "display_data"
    }
   ],
   "source": [
    "from matplotlib import pyplot as plt\n",
    "%matplotlib inline\n",
    "plt.hist(np.log10(1.0 - y_test_pred[:, 1]), bins=100);"
   ]
  },
  {
   "cell_type": "code",
   "execution_count": null,
   "metadata": {
    "collapsed": true
   },
   "outputs": [],
   "source": []
  }
 ],
 "metadata": {
  "kernelspec": {
   "display_name": "Python 3",
   "language": "python",
   "name": "python3"
  },
  "language_info": {
   "codemirror_mode": {
    "name": "ipython",
    "version": 3
   },
   "file_extension": ".py",
   "mimetype": "text/x-python",
   "name": "python",
   "nbconvert_exporter": "python",
   "pygments_lexer": "ipython3",
   "version": "3.6.0"
  }
 },
 "nbformat": 4,
 "nbformat_minor": 2
}
