{
 "cells": [
  {
   "cell_type": "code",
   "execution_count": 48,
   "metadata": {
    "collapsed": false,
    "deletable": true,
    "editable": true
   },
   "outputs": [],
   "source": [
    "import glob\n",
    "import librosa\n",
    "import numpy as np\n",
    "import os\n",
    "import random\n",
    "import soundfile as sf\n",
    "import sys\n",
    "\n",
    "sys.path.append(\"../src\")\n",
    "import localmodule"
   ]
  },
  {
   "cell_type": "code",
   "execution_count": 113,
   "metadata": {
    "collapsed": false
   },
   "outputs": [
    {
     "data": {
      "image/png": "[encoded data removed]",
      "text/plain": [
       "<matplotlib.figure.Figure at 0x117e34240>"
      ]
     },
     "metadata": {},
     "output_type": "display_data"
    }
   ],
   "source": [
    "data_dir = \"/Users/vl238/spl2017_data\"\n",
    "aug_str = \"original\"\n",
    "unit_str = \"unit01\"\n",
    "label = \"1\"\n",
    "\n",
    "dataset_name = localmodule.get_dataset_name()\n",
    "dataset_clips_name = \"_\".join([dataset_name, \"audio-clips\"])\n",
    "dataset_clips_dir = os.path.join(data_dir, dataset_clips_name)\n",
    "augmentations = localmodule.get_augmentations()\n",
    "n_instances = augmentations[aug_str]\n",
    "instance_id = 0\n",
    "if aug_str == \"original\":\n",
    "    instanced_aug_str = aug_str\n",
    "else:\n",
    "    instance_str = str(instance_id)\n",
    "    instanced_aug_str = \"_\".join([aug_str, instance_str])\n",
    "aug_clips_dir = os.path.join(dataset_clips_dir, instanced_aug_str)\n",
    "unit_dir = os.path.join(aug_clips_dir, unit_str)\n",
    "unit_regexp = os.path.join(unit_dir, \"*.wav\")\n",
    "unit_glob = glob.glob(unit_regexp)\n",
    "wav_names = [os.path.split(name)[1] for name in unit_glob]\n",
    "wav_names = [name for name in wav_names if name[23] == label]\n",
    "wav_name = random.choice(wav_names)\n",
    "wav_path = os.path.join(unit_dir, wav_name)\n",
    "waveform = librosa.load(wav_path, sr=target_sr)[0]\n",
    "\n",
    "fmin = 2000\n",
    "win_length = 256\n",
    "hop_length = 32\n",
    "window = 'hann'\n",
    "n_mels = 128\n",
    "n_fft = 1024\n",
    "sr = 22050\n",
    "\n",
    "stft = librosa.stft(waveform, n_fft=n_fft, win_length=win_length,\n",
    "    hop_length=hop_length, window=window)\n",
    "abs2_stft = (stft.real*stft.real) + (stft.imag*stft.imag)\n",
    "melspec = librosa.feature.melspectrogram(\n",
    "    y=None, S=abs2_stft, sr=sr, n_fft=n_fft,\n",
    "    n_mels=n_mels, htk=True, fmin=fmin, fmax=target_sr/2.0)\n",
    "logmelspec = 0.5 * librosa.logamplitude(melspec, ref=1.0)\n",
    "\n",
    "%matplotlib inline\n",
    "import librosa.display\n",
    "from matplotlib import pyplot as plt\n",
    "x = plt.hist(np.ravel(logmelspec), bins=100);"
   ]
  },
  {
   "cell_type": "code",
   "execution_count": 115,
   "metadata": {
    "collapsed": false
   },
   "outputs": [
    {
     "data": {
      "text/plain": [
       "dtype('float64')"
      ]
     },
     "execution_count": 115,
     "metadata": {},
     "output_type": "execute_result"
    }
   ],
   "source": [
    "logmelspec.dtype"
   ]
  },
  {
   "cell_type": "code",
   "execution_count": 111,
   "metadata": {
    "collapsed": false
   },
   "outputs": [
    {
     "data": {
      "text/plain": [
       "array([[  9.46177065e-01+0.j,   1.13483715e+00+0.j,   1.58797395e+00+0.j,\n",
       "        ...,   3.46319913e-03+0.j,   1.51252616e-02+0.j,\n",
       "          1.19733466e-02+0.j],\n",
       "       [  8.22293758e-01+0.j,   1.03825712e+00+0.j,   1.51451063e+00+0.j,\n",
       "        ...,   6.16034167e-03+0.j,   1.42608033e-02+0.j,\n",
       "          1.07106958e-02+0.j],\n",
       "       [  5.21699190e-01+0.j,   7.98183084e-01+0.j,   1.31753671e+00+0.j,\n",
       "        ...,   1.24849454e-02+0.j,   1.18689099e-02+0.j,\n",
       "          7.59172672e-03+0.j],\n",
       "       ..., \n",
       "       [  2.21765686e-06+0.j,   1.58600176e-06+0.j,   5.34425112e-07+0.j,\n",
       "        ...,   9.40206010e-05+0.j,   1.08718326e-04+0.j,\n",
       "          8.75265978e-05+0.j],\n",
       "       [  2.14664715e-06+0.j,   1.54250665e-06+0.j,   4.82118367e-07+0.j,\n",
       "        ...,   9.10674426e-05+0.j,   1.16370567e-04+0.j,\n",
       "          1.27113963e-04+0.j],\n",
       "       [  2.12372652e-06+0.j,   1.52997779e-06+0.j,   4.57296380e-07+0.j,\n",
       "        ...,   9.00758168e-05+0.j,   1.19619450e-04+0.j,\n",
       "          1.42827819e-04+0.j]], dtype=complex64)"
      ]
     },
     "execution_count": 111,
     "metadata": {},
     "output_type": "execute_result"
    }
   ],
   "source": [
    "abs2_stft"
   ]
  },
  {
   "cell_type": "code",
   "execution_count": null,
   "metadata": {
    "collapsed": true
   },
   "outputs": [],
   "source": []
  }
 ],
 "metadata": {
  "kernelspec": {
   "display_name": "Python 3",
   "language": "python",
   "name": "python3"
  },
  "language_info": {
   "codemirror_mode": {
    "name": "ipython",
    "version": 3
   },
   "file_extension": ".py",
   "mimetype": "text/x-python",
   "name": "python",
   "nbconvert_exporter": "python",
   "pygments_lexer": "ipython3",
   "version": "3.5.2"
  }
 },
 "nbformat": 4,
 "nbformat_minor": 2
}
