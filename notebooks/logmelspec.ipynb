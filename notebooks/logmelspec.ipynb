{
 "cells": [
  {
   "cell_type": "code",
   "execution_count": 6,
   "metadata": {
    "collapsed": false
   },
   "outputs": [],
   "source": [
    "import os\n",
    "import sys\n",
    "\n",
    "sys.path.append(\"../src\")\n",
    "import localmodule"
   ]
  },
  {
   "cell_type": "code",
   "execution_count": 4,
   "metadata": {
    "collapsed": false
   },
   "outputs": [],
   "source": [
    "data_dir = \"/Users/vl238/spl2017_data\"\n",
    "dataset_name = localmodule.get_dataset_name()\n",
    "dataset_clips_name = \"_\".join([dataset_name, \"audio-clips\"])\n",
    "dataset_clips_dir = os.path.join(data_dir, dataset_clips_name)\n",
    "\n",
    "clip_name = \"unit01_083628792_08311_1_original.wav\"\n",
    "clip_path = os.path.join(dataset_clips_dir, clip_name)\n",
    "\n"
   ]
  },
  {
   "cell_type": "code",
   "execution_count": null,
   "metadata": {
    "collapsed": true
   },
   "outputs": [],
   "source": [
    "def logmelspec(waveform)\n",
    "    fmin = 2000\n",
    "    framesize = 256\n",
    "    hopsize = 32\n",
    "    windowtype = 'hann'\n",
    "    mel_numberbands = 128\n",
    "    n_fft = 1024\n",
    "    target_sr = 22050\n",
    "    clips_dir = os.path.join(init.get_data_dir(), \"clips\")\n",
    "    unit_str = clip_name[:6]\n",
    "    unit_dir = os.path.join(clips_dir, unit_str)\n",
    "    clip_path = os.path.join(unit_dir, clip_name + \".wav\")\n",
    "    waveform, orig_sr = soundfile.read(clip_path)\n",
    "    waveform = librosa.core.resample(waveform, orig_sr, target_sr)\n",
    "    stft = librosa.stft(waveform, n_fft=n_fft, win_length=framesize,\n",
    "        hop_length=hopsize, window=windowtype)\n",
    "    stft = stft[:, 54:182] # TODO update\n",
    "    abs2_stft = stft * np.conj(stft) # TODO check\n",
    "    melspec = librosa.feature.melspectrogram(\n",
    "        y=None, S=abs2_stft, sr=target_sr, n_fft=n_fft,\n",
    "        n_mels=mel_numberbands, htk=True, fmin=fmin, fmax=target_sr/2.0)\n",
    "    logmelspec = librosa.logamplitude(melspec, ref=1.0)"
   ]
  }
 ],
 "metadata": {
  "kernelspec": {
   "display_name": "Python 3",
   "language": "python",
   "name": "python3"
  },
  "language_info": {
   "codemirror_mode": {
    "name": "ipython",
    "version": 3
   },
   "file_extension": ".py",
   "mimetype": "text/x-python",
   "name": "python",
   "nbconvert_exporter": "python",
   "pygments_lexer": "ipython3",
   "version": "3.5.2"
  }
 },
 "nbformat": 4,
 "nbformat_minor": 2
}
