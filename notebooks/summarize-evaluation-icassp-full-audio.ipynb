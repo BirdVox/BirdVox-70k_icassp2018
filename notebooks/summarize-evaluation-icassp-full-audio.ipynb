{
 "cells": [
  {
   "cell_type": "code",
   "execution_count": null,
   "metadata": {
    "collapsed": false
   },
   "outputs": [],
   "source": [
    "import mir_eval\n",
    "import numpy as np\n",
    "import os\n",
    "import pandas as pd\n",
    "import sys\n",
    "sys.path.append('../src')\n",
    "import localmodule\n",
    "\n",
    "\n",
    "# Define constants.\n",
    "data_dir = localmodule.get_data_dir()\n",
    "dataset_name = localmodule.get_dataset_name()\n",
    "models_dir = localmodule.get_models_dir()\n",
    "units = localmodule.get_units()\n",
    "n_units = len(units)\n",
    "trials = [5, 7, 9, 7, 7, 8] # maximize clip-wise val acc\n",
    "thresholds = 1.0 - np.logspace(-7, 0, 141)[::-1]\n",
    "n_thresholds = len(thresholds)\n",
    "tolerance = 0.5 # in seconds\n",
    "\n",
    "\n",
    "# Define directory for model.\n",
    "aug_str = \"all\"\n",
    "model_name = \"icassp-convnet\"\n",
    "if not aug_str == \"none\":\n",
    "    model_name = \"_\".join([model_name, \"aug-\" + aug_str])\n",
    "model_dir = os.path.join(models_dir, model_name)\n",
    "\n",
    "\n",
    "# Define directory for annotations.\n",
    "annotations_name = \"_\".join([dataset_name, \"annotations\"])\n",
    "annotations_dir = os.path.join(data_dir, annotations_name)\n",
    "\n",
    "\n",
    "tp_matrix = np.zeros((n_thresholds, n_units))\n",
    "fp_matrix = np.zeros((n_thresholds, n_units))\n",
    "fn_matrix = np.zeros((n_thresholds, n_units))\n",
    "\n",
    "# Loop over recording units.\n",
    "for test_unit_id in range(n_units):\n",
    "    test_unit_str = units[test_unit_id]\n",
    "    unit_dir = os.path.join(model_dir, test_unit_str)\n",
    "    trial_id = trials[test_unit_id]\n",
    "    trial_str = \"trial-\" + str(trial_id)\n",
    "    trial_dir = os.path.join(unit_dir, trial_str)\n",
    "    prediction_name = \"_\".join([\n",
    "        dataset_name,\n",
    "        model_name,\n",
    "        \"test-\" + test_unit_str,\n",
    "        trial_str,\n",
    "        \"predict-\" + test_unit_str,\n",
    "        \"full-predictions.csv\"])\n",
    "    prediction_path = os.path.join(trial_dir, prediction_name)\n",
    "    prediction_df = pd.read_csv(prediction_path)\n",
    "\n",
    "    annotation_path = os.path.join(annotations_dir,\n",
    "        test_unit_str + \".txt\")\n",
    "    annotation = pd.read_csv(annotation_path, '\\t')\n",
    "    begin_times = np.array(annotation[\"Begin Time (s)\"])\n",
    "    end_times = np.array(annotation[\"End Time (s)\"])\n",
    "    relevant = 0.5 * (begin_times + end_times)\n",
    "    n_relevant = len(relevant)\n",
    "\n",
    "    y_pred = np.array(prediction_df[\"Predicted probability\"])\n",
    "    timestamps = np.array(prediction_df[\"Timestamp\"])\n",
    "\n",
    "\n",
    "    for th_id, threshold in enumerate(thresholds):\n",
    "        selected = timestamps[y_pred > threshold]\n",
    "\n",
    "        selected_relevant = mir_eval.util.match_events(\n",
    "            relevant, selected, tolerance)\n",
    "\n",
    "        true_positives = len(selected_relevant)\n",
    "        n_selected = len(selected)\n",
    "        false_positives = n_selected - true_positives\n",
    "        false_negatives = n_relevant - true_positives\n",
    "\n",
    "        tp_matrix[th_id, test_unit_id] = true_positives\n",
    "        fp_matrix[th_id, test_unit_id] = false_positives\n",
    "        fn_matrix[th_id, test_unit_id] = false_negatives\n",
    "        \n",
    "global_precisions = 100 * global_tp / (global_tp+global_fp)\n",
    "global_recalls = 100 * global_tp / (global_tp+global_fn)\n",
    "global_f1_scores = 2*global_precisions*global_recalls /\\\n",
    "    (global_precisions+global_recalls)\n",
    "    \n",
    "plt.plot([0.0] + list(global_precisions) + [100.0], [100.0] + list(global_recalls) + [0.0], '-o')"
   ]
  },
  {
   "cell_type": "code",
   "execution_count": 99,
   "metadata": {
    "collapsed": false
   },
   "outputs": [
    {
     "name": "stdout",
     "output_type": "stream",
     "text": [
      "52.09570066558734 61.09704641350211 56.23846975434508\n"
     ]
    }
   ],
   "source": [
    "from matplotlib import pyplot\n",
    "%matplotlib inline\n",
    "plt.plot([0.0] + precisions + [100.0], [100.0] + recalls + [0.0])\n",
    "\n",
    "print(precisions[np.argmax(f1_scores)], recalls[np.argmax(f1_scores)], max(f1_scores))"
   ]
  },
  {
   "cell_type": "code",
   "execution_count": 114,
   "metadata": {
    "collapsed": false
   },
   "outputs": [],
   "source": [
    "global_tp = np.sum(tp_matrix, axis=1)\n",
    "global_fp = np.sum(fp_matrix, axis=1)\n",
    "global_fn = np.sum(fn_matrix, axis=1)"
   ]
  },
  {
   "cell_type": "code",
   "execution_count": 134,
   "metadata": {
    "collapsed": false
   },
   "outputs": [],
   "source": [
    "aug_global_precisions = global_precisions\n",
    "aug_global_recalls = global_recalls\n",
    "aug_global_f1_scores = global_f1_scores"
   ]
  },
  {
   "cell_type": "code",
   "execution_count": 133,
   "metadata": {
    "collapsed": false
   },
   "outputs": [
    {
     "data": {
      "text/plain": [
       "[<matplotlib.lines.Line2D at 0x2b3d19576ba8>]"
      ]
     },
     "execution_count": 133,
     "metadata": {},
     "output_type": "execute_result"
    },
    {
     "data": {
      "image/png": "[encoded data removed]",
      "text/plain": [
       "<matplotlib.figure.Figure at 0x2b3d19355f28>"
      ]
     },
     "metadata": {},
     "output_type": "display_data"
    }
   ],
   "source": []
  },
  {
   "cell_type": "code",
   "execution_count": 128,
   "metadata": {
    "collapsed": false
   },
   "outputs": [
    {
     "data": {
      "text/plain": [
       "array([  1.1826962 ,   3.24586577,   4.46398739,   5.36983742,\n",
       "         6.0940505 ,   6.75604233,   8.00298524,   9.47451893,\n",
       "        10.32971568,  11.20291046,  12.10489918,  13.03324438,\n",
       "        13.98239847,  14.94317742,  15.93688017,  16.92990166,\n",
       "        17.89111628,  18.86823366,  19.80668283,  20.75548862,\n",
       "        21.65816726,  22.49073009,  23.28801555,  24.0409992 ,\n",
       "        24.78449647,  25.5323352 ,  26.23336676,  26.91293569,\n",
       "        27.53081303,  28.13387743,  28.73305532,  29.28761178,\n",
       "        29.82352941,  30.35368069,  30.84374283,  31.3259174 ,\n",
       "        31.79604262,  32.25023011,  32.71324145,  33.14959177,\n",
       "        33.56405857,  33.95029971,  34.34150263,  34.70690296,\n",
       "        35.08265349,  35.4599102 ,  35.82223962,  36.21055986,\n",
       "        36.55845734,  36.8776325 ,  37.15611027,  37.50318327,\n",
       "        37.82758075,  38.18749909,  38.50341145,  38.81296427,\n",
       "        39.12923839,  39.44949856,  39.71002629,  39.985296  ,\n",
       "        40.30274515,  40.59508707,  40.92551092,  41.21910646,\n",
       "        41.53159826,  41.80655755,  42.0955589 ,  42.40555266,\n",
       "        42.72705706,  43.03837321,  43.28801082,  43.59790376,\n",
       "        43.86748666,  44.14488659,  44.4519756 ,  44.74190089,\n",
       "        45.02280104,  45.30318816,  45.58699146,  45.89024939,\n",
       "        46.17813589,  46.44853412,  46.74692853,  47.05279694,\n",
       "        47.32778548,  47.54398311,  47.88165849,  48.20083076,\n",
       "        48.54395133,  48.82829037,  49.12276267,  49.49440509,\n",
       "        49.8422137 ,  50.13768269,  50.43889083,  50.73797723,\n",
       "        51.08096886,  51.42311258,  51.8034471 ,  52.17315716,\n",
       "        52.54342249,  52.84752357,  53.23340732,  53.61566738,\n",
       "        54.00967094,  54.34159394,  54.65071151,  55.06402028,\n",
       "        55.45457583,  55.81774906,  56.11793951,  56.53867752,\n",
       "        56.85703117,  57.40881873,  57.80696576,  58.2619155 ,\n",
       "        58.54288536,  59.11617241,  59.44050433,  59.7706202 ,\n",
       "        60.19567247,  60.63232623,  61.15712904,  61.71035668,\n",
       "        61.71035668,  62.52705986,  62.52705986,  63.40382771,\n",
       "        63.40382771,  64.50611387,  64.50611387,  64.50611387,\n",
       "        64.50611387,  66.07142857,  66.07142857,  66.07142857,\n",
       "        66.07142857,  66.07142857,  66.07142857,  68.97892843,  68.97892843])"
      ]
     },
     "execution_count": 128,
     "metadata": {},
     "output_type": "execute_result"
    }
   ],
   "source": [
    "global_precisions"
   ]
  },
  {
   "cell_type": "code",
   "execution_count": null,
   "metadata": {
    "collapsed": true
   },
   "outputs": [],
   "source": []
  }
 ],
 "metadata": {
  "kernelspec": {
   "display_name": "Python 3",
   "language": "python",
   "name": "python3"
  },
  "language_info": {
   "codemirror_mode": {
    "name": "ipython",
    "version": 3
   },
   "file_extension": ".py",
   "mimetype": "text/x-python",
   "name": "python",
   "nbconvert_exporter": "python",
   "pygments_lexer": "ipython3",
   "version": "3.6.0"
  }
 },
 "nbformat": 4,
 "nbformat_minor": 2
}
