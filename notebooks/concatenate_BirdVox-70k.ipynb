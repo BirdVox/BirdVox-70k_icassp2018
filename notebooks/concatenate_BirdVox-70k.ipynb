{
 "cells": [
  {
   "cell_type": "code",
   "execution_count": 1,
   "metadata": {
    "collapsed": false,
    "deletable": true,
    "editable": true
   },
   "outputs": [],
   "source": [
    "import datetime\n",
    "import numpy as np\n",
    "import os\n",
    "import soundfile as sf\n",
    "import sys\n",
    "\n",
    "sys.path.append(os.path.join(\"..\", \"src\"))\n",
    "import paths"
   ]
  },
  {
   "cell_type": "code",
   "execution_count": null,
   "metadata": {
    "collapsed": false,
    "deletable": true,
    "editable": true
   },
   "outputs": [
    {
     "name": "stdout",
     "output_type": "stream",
     "text": [
      "2017-07-21 14:59:18.118875 Start\n",
      "\n",
      "2017-07-21 14:59:18.126544 Unit 01\n",
      "2017-07-21 14:59:21.832480 Finished negatives\n",
      "2017-07-21 14:59:25.588164 Finished positives\n",
      "\n",
      "2017-07-21 14:59:25.599505 Unit 02\n"
     ]
    }
   ],
   "source": [
    "data_dir = paths.get_data_dir()\n",
    "clips_dir = os.path.join(data_dir, \"BirdVox-70k\")\n",
    "original_clips_dir = os.path.join(clips_dir, \"original\")\n",
    "concatenated_dir = os.path.join(data_dir, \"BirdVox-70k_concatenated\")\n",
    "if not os.path.exists(concatenated_dir):\n",
    "    os.makedirs(concatenated_dir)\n",
    "\n",
    "units = [1, 2, 3, 5, 7, 10]\n",
    "n_units = len(units)\n",
    "sr = 24000\n",
    "clip_duration = 0.5\n",
    "mid_clip_position = int(0.5 * sr * clip_duration)\n",
    "truncated_clip_duration = 0.185\n",
    "truncated_clip_length = int(sr * truncated_clip_duration)\n",
    "clip_start = mid_clip_position - int(0.5 * truncated_clip_length)\n",
    "clip_stop = mid_clip_position + int(0.5 * truncated_clip_length)\n",
    "\n",
    "print(str(datetime.datetime.now()) + \" Start\")\n",
    "print(\"\")\n",
    "\n",
    "for unit_id in range(n_units):\n",
    "    unit = units[unit_id]\n",
    "    unit_str = \"unit\" + str(unit).zfill(2)\n",
    "    in_unit_dir = os.path.join(original_clips_dir, unit_str)\n",
    "    clip_names = sorted(os.listdir(in_unit_dir))\n",
    "    print(str(datetime.datetime.now()) + \" Unit \" + str(unit).zfill(2))\n",
    "  \n",
    "    negative_names = [name for name in clip_names if name[23] == \"0\"]\n",
    "    n_negatives = len(negative_names)\n",
    "    concatenated_negatives = []\n",
    "    for clip_id in range(n_negatives):\n",
    "        clip_name = negative_names[clip_id]\n",
    "        clip_path = os.path.join(in_unit_dir, clip_name)\n",
    "        clip, _ = sf.read(clip_path)\n",
    "        truncated_clip = clip[range(clip_start, clip_stop)]\n",
    "        concatenated_negatives.append(truncated_clip)\n",
    "    concatenated_negatives = np.concatenate(concatenated_negatives)\n",
    "    output_str = unit_str + \"_negatives.wav\"\n",
    "    output_path = os.path.join(concatenated_dir, output_str)\n",
    "    sf.write(output_path, concatenated_negatives, sr)\n",
    "    print(str(datetime.datetime.now()) + \" Finished negatives\")\n",
    "\n",
    "    positive_names = [name for name in clip_names if name[23] == \"1\"]\n",
    "    n_positives = len(positive_names)\n",
    "    concatenated_positives = []\n",
    "    for clip_id in range(n_positives):\n",
    "        clip_name = positive_names[clip_id]\n",
    "        clip_path = os.path.join(in_unit_dir, clip_name)\n",
    "        clip, _ = sf.read(clip_path)\n",
    "        truncated_clip = clip[range(clip_start, clip_stop)]\n",
    "        concatenated_positives.append(truncated_clip)\n",
    "    concatenated_positives = np.concatenate(concatenated_positives)\n",
    "    output_str = unit_str + \"_positives.wav\"\n",
    "    output_path = os.path.join(concatenated_dir, output_str)\n",
    "    sf.write(output_path, concatenated_positives, sr)\n",
    "    print(str(datetime.datetime.now()) + \" Finished positives\")\n",
    "    print(\"\")"
   ]
  },
  {
   "cell_type": "code",
   "execution_count": null,
   "metadata": {
    "collapsed": true
   },
   "outputs": [],
   "source": []
  }
 ],
 "metadata": {
  "kernelspec": {
   "display_name": "Python 3",
   "language": "python",
   "name": "python3"
  },
  "language_info": {
   "codemirror_mode": {
    "name": "ipython",
    "version": 3
   },
   "file_extension": ".py",
   "mimetype": "text/x-python",
   "name": "python",
   "nbconvert_exporter": "python",
   "pygments_lexer": "ipython3",
   "version": "3.6.0"
  }
 },
 "nbformat": 4,
 "nbformat_minor": 2
}
