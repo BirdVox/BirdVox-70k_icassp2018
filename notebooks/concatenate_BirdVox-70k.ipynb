{
 "cells": [
  {
   "cell_type": "code",
   "execution_count": 1,
   "metadata": {
    "collapsed": false,
    "deletable": true,
    "editable": true
   },
   "outputs": [],
   "source": [
    "import datetime\n",
    "import glob\n",
    "import numpy as np\n",
    "import os\n",
    "import soundfile as sf\n",
    "import sys\n",
    "\n",
    "sys.path.append(os.path.join(\"..\", \"src\"))\n",
    "import localmodule"
   ]
  },
  {
   "cell_type": "code",
   "execution_count": 2,
   "metadata": {
    "collapsed": false,
    "deletable": true,
    "editable": true
   },
   "outputs": [
    {
     "name": "stdout",
     "output_type": "stream",
     "text": [
      "2017-07-28 13:50:36.221153 Start\n",
      "\n",
      "2017-07-28 13:50:36.311076 unit01\n",
      "2017-07-28 13:50:44.707109 Finished negatives\n",
      "2017-07-28 13:50:52.888792 Finished positives\n",
      "\n",
      "2017-07-28 13:50:53.033885 unit02\n",
      "2017-07-28 13:51:06.383031 Finished negatives\n",
      "2017-07-28 13:51:18.305327 Finished positives\n",
      "\n",
      "2017-07-28 13:51:18.586122 unit03\n",
      "2017-07-28 13:51:44.052889 Finished negatives\n",
      "2017-07-28 13:52:06.869934 Finished positives\n",
      "\n",
      "2017-07-28 13:52:07.031918 unit05\n",
      "2017-07-28 13:52:21.341356 Finished negatives\n",
      "2017-07-28 13:52:34.398722 Finished positives\n",
      "\n",
      "2017-07-28 13:52:34.596440 unit07\n",
      "2017-07-28 13:52:52.224234 Finished negatives\n",
      "2017-07-28 13:53:08.374621 Finished positives\n",
      "\n",
      "2017-07-28 13:53:08.584289 unit10\n",
      "2017-07-28 13:53:25.721165 Finished negatives\n",
      "2017-07-28 13:53:42.928726 Finished positives\n",
      "\n"
     ]
    }
   ],
   "source": [
    "data_dir = localmodule.get_data_dir()\n",
    "dataset_name = localmodule.get_dataset_name()\n",
    "dataset_wav_name = \"_\".join([dataset_name, \"audio-clips\"])\n",
    "dataset_wav_dir = os.path.join(data_dir, dataset_wav_name)\n",
    "original_dataset_wav_dir = os.path.join(dataset_wav_dir, \"original\")\n",
    "concatenated_wav_name = \"_\".join([dataset_name, \"concatenated-audio\"])\n",
    "concatenated_dir = os.path.join(data_dir, concatenated_wav_name)\n",
    "if not os.path.exists(concatenated_dir):\n",
    "    os.makedirs(concatenated_dir)\n",
    "\n",
    "units = localmodule.get_units()\n",
    "sr = 24000\n",
    "clip_duration = 0.5\n",
    "mid_clip_position = int(0.5 * sr * clip_duration)\n",
    "truncated_clip_duration = 0.5\n",
    "truncated_clip_length = int(sr * truncated_clip_duration)\n",
    "clip_start = mid_clip_position - int(0.5 * truncated_clip_length)\n",
    "clip_stop = mid_clip_position + int(0.5 * truncated_clip_length)\n",
    "\n",
    "print(str(datetime.datetime.now()) + \" Start\")\n",
    "print(\"\")\n",
    "\n",
    "for unit_str in units:\n",
    "    in_unit_dir = os.path.join(original_dataset_wav_dir, unit_str)\n",
    "    clip_paths = sorted(glob.glob(os.path.join(in_unit_dir, \"*.wav\")))\n",
    "    clip_names = [os.path.split(clip_path)[1] for clip_path in clip_paths]\n",
    "    print(str(datetime.datetime.now()) + \" \" + unit_str)\n",
    "  \n",
    "    negative_names = [name for name in clip_names if name[23] == \"0\"]\n",
    "    n_negatives = len(negative_names)\n",
    "    concatenated_negatives = []\n",
    "    for clip_id in range(n_negatives):\n",
    "        clip_name = negative_names[clip_id]\n",
    "        clip_path = os.path.join(in_unit_dir, clip_name)\n",
    "        clip, _ = sf.read(clip_path)\n",
    "        truncated_clip = clip[range(clip_start, clip_stop)]\n",
    "        concatenated_negatives.append(truncated_clip)\n",
    "    concatenated_negatives = np.concatenate(concatenated_negatives)\n",
    "    output_str = unit_str + \"_negatives.wav\"\n",
    "    output_path = os.path.join(concatenated_dir, output_str)\n",
    "    sf.write(output_path, concatenated_negatives, sr)\n",
    "    print(str(datetime.datetime.now()) + \" Finished negatives\")\n",
    "\n",
    "    positive_names = [name for name in clip_names if name[23] == \"1\"]\n",
    "    n_positives = len(positive_names)\n",
    "    concatenated_positives = []\n",
    "    for clip_id in range(n_positives):\n",
    "        clip_name = positive_names[clip_id]\n",
    "        clip_path = os.path.join(in_unit_dir, clip_name)\n",
    "        clip, _ = sf.read(clip_path)\n",
    "        truncated_clip = clip[range(clip_start, clip_stop)]\n",
    "        concatenated_positives.append(truncated_clip)\n",
    "    concatenated_positives = np.concatenate(concatenated_positives)\n",
    "    output_str = unit_str + \"_positives.wav\"\n",
    "    output_path = os.path.join(concatenated_dir, output_str)\n",
    "    sf.write(output_path, concatenated_positives, sr)\n",
    "    print(str(datetime.datetime.now()) + \" Finished positives\")\n",
    "    print(\"\")"
   ]
  }
 ],
 "metadata": {
  "kernelspec": {
   "display_name": "Python 3",
   "language": "python",
   "name": "python3"
  },
  "language_info": {
   "codemirror_mode": {
    "name": "ipython",
    "version": 3
   },
   "file_extension": ".py",
   "mimetype": "text/x-python",
   "name": "python",
   "nbconvert_exporter": "python",
   "pygments_lexer": "ipython3",
   "version": "3.6.0"
  }
 },
 "nbformat": 4,
 "nbformat_minor": 2
}
