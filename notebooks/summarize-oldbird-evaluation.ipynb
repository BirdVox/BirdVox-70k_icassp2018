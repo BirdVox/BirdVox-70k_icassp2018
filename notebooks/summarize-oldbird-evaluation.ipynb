{
 "cells": [
  {
   "cell_type": "code",
   "execution_count": 6,
   "metadata": {
    "collapsed": true
   },
   "outputs": [],
   "source": [
    "import itertools\n",
    "import os\n",
    "import sys\n",
    "\n",
    "sys.path.append(\"../src\")\n",
    "import localmodule"
   ]
  },
  {
   "cell_type": "code",
   "execution_count": 7,
   "metadata": {
    "collapsed": false
   },
   "outputs": [],
   "source": [
    "# Define constants\n",
    "models_dir = localmodule.get_models_dir()\n",
    "oldbird_models_dir = os.path.join(models_dir, \"oldbird\")\n",
    "folds = localmodule.fold_units()\n",
    "odfs = [\"thrush\", \"tseep\", \"merged\"]\n",
    "clip_suppressor_modes = [\"clip-suppressor\", \"no-clip-suppressor\"]"
   ]
  },
  {
   "cell_type": "code",
   "execution_count": 8,
   "metadata": {
    "collapsed": false
   },
   "outputs": [
    {
     "data": {
      "text/plain": [
       "[['unit01'], ['unit02', 'unit03', 'unit05'], ['unit07', 'unit10']]"
      ]
     },
     "execution_count": 8,
     "metadata": {},
     "output_type": "execute_result"
    }
   ],
   "source": [
    "# UPDATE ME\n",
    "iterator_product = itertools.product(odfs, clip_suppressor_modes)\n",
    "# for odf_str, clip_suppressor_str in iterator_product:\n",
    "odf_str = \"merged\"\n",
    "clip_suppressor_str = \"no-clip-suppressor\"\n",
    "\n",
    "# UPDATE ME\n",
    "fold = folds[0]\n",
    "# for fold in folds:\n",
    "test_units = fold[0]\n",
    "training_units = fold[1]\n",
    "val_units = fold[2]\n",
    "\n",
    "# Oracle mode\n",
    "test_unit_str = test_units[0]\n",
    "test_unit_dir = os.path.join(oldbird_models_dir, test_unit_str)\n",
    "predictions_dir = \"_\".join([\"predictions\", clip_suppressor_str])\n"
   ]
  },
  {
   "cell_type": "code",
   "execution_count": null,
   "metadata": {
    "collapsed": true
   },
   "outputs": [],
   "source": []
  }
 ],
 "metadata": {
  "kernelspec": {
   "display_name": "Python 3",
   "language": "python",
   "name": "python3"
  },
  "language_info": {
   "codemirror_mode": {
    "name": "ipython",
    "version": 3
   },
   "file_extension": ".py",
   "mimetype": "text/x-python",
   "name": "python",
   "nbconvert_exporter": "python",
   "pygments_lexer": "ipython3",
   "version": "3.6.0"
  }
 },
 "nbformat": 4,
 "nbformat_minor": 2
}
