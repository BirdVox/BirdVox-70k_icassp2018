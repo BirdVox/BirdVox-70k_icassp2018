{
 "cells": [
  {
   "cell_type": "code",
   "execution_count": 1,
   "metadata": {
    "collapsed": false,
    "deletable": true,
    "editable": true
   },
   "outputs": [],
   "source": [
    "import datetime\n",
    "import h5py\n",
    "import numpy as np\n",
    "import os\n",
    "import pandas as pd\n",
    "import sys\n",
    "import time\n",
    "\n",
    "sys.path.append('../src')\n",
    "import localmodule\n",
    "\n",
    "\n",
    "# Define constants.\n",
    "args = [\"unit01\", \"thrush\"] #                            DISABLE\n",
    "#args = sys.argv[1:]                                     ENABLE\n",
    "unit_str = args[0]\n",
    "odf_str = args[1]\n",
    "data_dir = localmodule.get_data_dir()\n",
    "dataset_name = localmodule.get_dataset_name()\n",
    "models_dir = localmodule.get_models_dir()\n",
    "oldbird_models_dir = os.path.join(models_dir, \"oldbird\")\n",
    "unit_dir = os.path.join(oldbird_models_dir, unit_str)\n",
    "\n",
    "\n",
    "# Define input and output folder.\n",
    "in_predictions_name = \"_\".join([\"predictions\", \"no-clip-suppressor\"])\n",
    "in_predictions_dir = os.path.join(unit_dir, in_predictions_name)\n",
    "out_predictions_name = \"_\".join([\"predictions\", \"clip-suppressor\"])\n",
    "out_predictions_dir = os.path.join(unit_dir, out_predictions_name)\n",
    "os.makedirs(out_predictions_dir, exist_ok=True)\n",
    "\n",
    "\n",
    "# Define suppressor count threshold and period.\n",
    "oldbird_data_name = \"_\".join([dataset_name, \"oldbird\"])\n",
    "oldbird_data_dir = os.path.join(data_dir, oldbird_data_name)\n",
    "oldbird_data_path = os.path.join(oldbird_data_dir, unit_str + \".hdf5\")\n",
    "oldbird_hdf5 = h5py.File(oldbird_data_path, \"r\")\n",
    "settings_key = \"_\".join([odf_str, \"settings\"])\n",
    "settings = oldbird_hdf5[settings_key]\n",
    "suppressor_count_threshold = settings[\"suppressor_count_threshold\"].value\n",
    "suppressor_period = settings[\"suppressor_period\"].value"
   ]
  },
  {
   "cell_type": "code",
   "execution_count": 23,
   "metadata": {
    "collapsed": false,
    "deletable": true,
    "editable": true
   },
   "outputs": [],
   "source": [
    "n_thresholds = 100\n",
    "threshold_id = 0\n",
    "\n",
    "# for threshold_id in range(n_thresholds):\n",
    "threshold_str = \"th-\" + str(threshold_id).zfill(2)\n",
    "in_prediction_name = \"_\".join(\n",
    "    [dataset_name, \"oldbird\", odf_str,\n",
    "     unit_str, threshold_str, \"predictions.csv\"])\n",
    "in_prediction_path = os.path.join(in_predictions_dir, in_prediction_name)\n",
    "out_prediction_name = \"_\".join(\n",
    "    [dataset_name, \"oldbird\", odf_str,\n",
    "     unit_str, threshold_str, \"predictions_clip-suppressor.csv\"])\n",
    "out_prediction_path = os.path.join(out_predictions_dir, out_prediction_name)\n",
    "\n",
    "in_df = pd.read_csv(in_prediction_path)\n",
    "in_times = np.array(in_df[\"Time (s)\"])\n",
    "\n",
    "n_rows = len(in_times)\n",
    "n = 0\n",
    "out_times = []\n",
    "\n",
    "while n < (n_rows-suppressor_count_threshold):\n",
    "    current_time = in_times[n]\n",
    "    next_n = n + suppressor_count_threshold\n",
    "    next_time = in_times[next_n]\n",
    "    time_difference = next_time - current_time\n",
    "    if time_difference < suppressor_period:\n",
    "        while time_difference < suppressor_period:\n",
    "            next_n = next_n + 1\n",
    "            next_time = in_times[next_n]\n",
    "            time_difference = next_time - current_time\n",
    "        n = next_n\n",
    "    else:\n",
    "        times.append(current_time)\n",
    "        n = n + 1\n",
    "\n",
    "out_df = in_df[in_df[\"Time (s)\"].isin(times)]\n",
    "\n",
    "out_df.to_csv(out_prediction_path)"
   ]
  },
  {
   "cell_type": "code",
   "execution_count": null,
   "metadata": {
    "collapsed": true
   },
   "outputs": [],
   "source": []
  }
 ],
 "metadata": {
  "kernelspec": {
   "display_name": "Python 3",
   "language": "python",
   "name": "python3"
  },
  "language_info": {
   "codemirror_mode": {
    "name": "ipython",
    "version": 3
   },
   "file_extension": ".py",
   "mimetype": "text/x-python",
   "name": "python",
   "nbconvert_exporter": "python",
   "pygments_lexer": "ipython3",
   "version": "3.6.0"
  }
 },
 "nbformat": 4,
 "nbformat_minor": 2
}
