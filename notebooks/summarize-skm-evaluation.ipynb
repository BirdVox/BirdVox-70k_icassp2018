{
 "cells": [
  {
   "cell_type": "code",
   "execution_count": 1,
   "metadata": {
    "collapsed": true,
    "deletable": true,
    "editable": true
   },
   "outputs": [],
   "source": [
    "from matplotlib import pyplot as plt\n",
    "import numpy as np\n",
    "import os\n",
    "import pandas as pd\n",
    "import sys\n",
    "\n",
    "sys.path.append(\"../src\")\n",
    "import localmodule"
   ]
  },
  {
   "cell_type": "code",
   "execution_count": 3,
   "metadata": {
    "collapsed": false,
    "deletable": true,
    "editable": true
   },
   "outputs": [
    {
     "name": "stdout",
     "output_type": "stream",
     "text": [
      "unit01: oracle threshold = 0.779, P = 72.59%, R = 59.91%, F = 65.64%\n",
      "unit02: oracle threshold = 0.709, P =  4.54%, R = 17.99%, F =  7.25%\n",
      "unit03: oracle threshold = 0.688, P =  8.89%, R = 19.68%, F = 12.25%\n",
      "unit05: oracle threshold = 0.692, P =  4.83%, R = 24.39%, F =  8.06%\n",
      "unit07: oracle threshold = 0.655, P =  7.55%, R = 39.42%, F = 12.67%\n",
      "unit10: oracle threshold = 0.679, P = 18.04%, R = 23.40%, F = 20.37%\n",
      "\n",
      "Global (oracle): \n",
      "Relevant = 35402\n",
      "Selected = 110871\n",
      "True positives = 9855\n",
      "Precision =  8.89%\n",
      "Recall = 27.84%\n",
      "F1 score = 13.47%\n"
     ]
    }
   ],
   "source": [
    "models_dir = localmodule.get_models_dir()\n",
    "model_name = \"SKM\"\n",
    "model_dir = os.path.join(models_dir, model_name)\n",
    "units = localmodule.get_units()\n",
    "tolerance_ms = 500\n",
    "tol_str = \"tol-\" + str(tolerance_ms)\n",
    "\n",
    "unit_relevant = []\n",
    "unit_selected, unit_tp = [], []\n",
    "best_selected, best_tp = [], []\n",
    "for unit_str in units:\n",
    "    unit_dir = os.path.join(model_dir, unit_str)\n",
    "    metrics_name = \"_\".join([model_name, tol_str, unit_str, \"metrics\"])\n",
    "    metrics_path = os.path.join(unit_dir, metrics_name + \".csv\")\n",
    "    df = pd.read_csv(metrics_path)\n",
    "    thresholds = np.array(df[\"threshold\"])\n",
    "    f1_scores = np.array(df[\"F1 score (%)\"])\n",
    "    best_id = np.argmax(f1_scores)\n",
    "    best_threshold = thresholds[best_id]\n",
    "    best_precision = np.array(df[\"precision (%)\"])[best_id]\n",
    "    best_recall = np.array(df[\"recall (%)\"])[best_id]\n",
    "    best_f1 = np.array(df[\"F1 score (%)\"])[best_id]\n",
    "    print(unit_str +\n",
    "          \": oracle threshold = \" + (\"%0.3f\" % best_threshold).rjust(5) + \n",
    "          \", P = \" + (\"%0.2f\" % best_precision).rjust(5) + \"%\" + \n",
    "          \", R = \" + (\"%0.2f\" % best_recall).rjust(5) + \"%\" + \n",
    "          \", F = \" + (\"%0.2f\" % best_f1).rjust(5) + \"%\")\n",
    "    unit_relevant.append(np.array(df[\"relevant\"])[0])\n",
    "    unit_selected.append(np.array(df[\"selected\"]))\n",
    "    unit_tp.append(np.array(df[\"true positives\"]))\n",
    "    best_selected.append(np.array(df[\"selected\"])[best_id])\n",
    "    best_tp.append(np.array(df[\"true positives\"])[best_id])\n",
    "\n",
    "\n",
    "global_relevant = np.sum(np.array(unit_relevant))\n",
    "global_best_selected = np.sum(np.array(best_selected))\n",
    "global_best_tp = np.sum(np.array(best_tp))\n",
    "global_best_pre = 100 * global_best_tp / global_best_selected\n",
    "global_best_rec = 100 * global_best_tp / global_relevant\n",
    "global_best_f1 = 2 * global_best_pre * global_best_rec / (global_best_pre + global_best_rec)\n",
    "\n",
    "print(\"\")    \n",
    "print(\"Global (oracle): \")\n",
    "print(\"Relevant = \" + str(global_relevant))\n",
    "print(\"Selected = \" + str(global_best_selected))\n",
    "print(\"True positives = \" + str(global_best_tp))\n",
    "print(\"Precision = \" + (\"%0.2f\" % global_best_pre).rjust(5) + \"%\")\n",
    "print(\"Recall = \" + (\"%0.2f\" % global_best_rec).rjust(5) + \"%\")\n",
    "print(\"F1 score = \" + (\"%0.2f\" % global_best_f1).rjust(5) + \"%\")"
   ]
  },
  {
   "cell_type": "code",
   "execution_count": 5,
   "metadata": {
    "collapsed": false,
    "deletable": true,
    "editable": true
   },
   "outputs": [
    {
     "name": "stdout",
     "output_type": "stream",
     "text": [
      "unit01: CV-F threshold = 0.674, P = 12.55%, R = 85.20%, F = 21.88%\n",
      "unit02: CV-F threshold = 0.717, P =  5.26%, R =  8.46%, F =  6.49%\n",
      "unit03: CV-F threshold = 0.728, P = 76.60%, R =  0.40%, F =  0.79%\n",
      "unit05: CV-F threshold = 0.725, P =  8.05%, R =  1.75%, F =  2.87%\n",
      "unit07: CV-F threshold = 0.725, P = 42.31%, R =  0.17%, F =  0.34%\n",
      "unit10: CV-F threshold = 0.725, P = 33.14%, R =  5.85%, F =  9.94%\n",
      "\n",
      "Global (cross-validated on F): \n",
      "Relevant = 35402\n",
      "Selected = 29886\n",
      "True positives = 3432\n",
      "Precision = 11.48%\n",
      "Recall =  9.69%\n",
      "F1 score = 10.51%\n"
     ]
    }
   ],
   "source": [
    "folds = localmodule.fold_units()\n",
    "unit_relevant = []\n",
    "best_selected, best_tp = [], []\n",
    "%matplotlib inline\n",
    "\n",
    "for fold in folds:\n",
    "    test_units = fold[0]\n",
    "    training_units = fold[1]\n",
    "    validation_units = fold[2]\n",
    "    calibration_units = fold[1] + fold[2]\n",
    "    cal_relevant = []\n",
    "    cal_selected = []\n",
    "    cal_tp = []\n",
    "    for calibration_unit_str in calibration_units:\n",
    "        unit_dir = os.path.join(model_dir, calibration_unit_str)\n",
    "        metrics_name = \"_\".join([model_name, tol_str, calibration_unit_str, \"metrics\"])\n",
    "        metrics_path = os.path.join(unit_dir, metrics_name + \".csv\")\n",
    "        df = pd.read_csv(metrics_path)\n",
    "        cal_relevant.append(np.array(df[\"relevant\"]))\n",
    "        cal_selected.append(np.array(df[\"selected\"]))\n",
    "        cal_tp.append(np.array(df[\"true positives\"]))\n",
    "    global_cal_relevant = np.sum(np.stack(cal_relevant), axis=0)\n",
    "    global_cal_selected = np.sum(np.stack(cal_selected), axis=0)\n",
    "    global_cal_tp = np.sum(np.stack(cal_tp), axis=0)\n",
    "    global_cal_pre = global_cal_tp / global_cal_relevant\n",
    "    global_cal_rec = global_cal_tp / global_cal_selected\n",
    "    global_cal_f1 = 2 * global_cal_pre * global_cal_rec / (global_cal_pre + global_cal_rec)\n",
    "    best_id = np.argmax(global_cal_f1)\n",
    "    test_unit_str = test_units[0]\n",
    "    unit_dir = os.path.join(model_dir, test_unit_str)\n",
    "    metrics_name = \"_\".join([model_name, tol_str, test_unit_str, \"metrics\"])\n",
    "    metrics_path = os.path.join(unit_dir, metrics_name + \".csv\")\n",
    "    df = pd.read_csv(metrics_path)\n",
    "    thresholds = np.array(df[\"threshold\"])\n",
    "    best_threshold = thresholds[best_id]\n",
    "    f1_scores = np.array(df[\"F1 score (%)\"])\n",
    "    best_precision = np.array(df[\"precision (%)\"])[best_id]\n",
    "    best_recall = np.array(df[\"recall (%)\"])[best_id]\n",
    "    best_f1 = np.array(df[\"F1 score (%)\"])[best_id]\n",
    "    print(test_unit_str +\n",
    "          \": CV-F threshold = \" + (\"%0.3f\" % best_threshold).rjust(5) + \n",
    "          \", P = \" + (\"%0.2f\" % best_precision).rjust(5) + \"%\" + \n",
    "          \", R = \" + (\"%0.2f\" % best_recall).rjust(5) + \"%\" + \n",
    "          \", F = \" + (\"%0.2f\" % best_f1).rjust(5) + \"%\")\n",
    "    unit_relevant.append(np.array(df[\"relevant\"])[0])\n",
    "    best_selected.append(np.array(df[\"selected\"])[best_id])\n",
    "    best_tp.append(np.array(df[\"true positives\"])[best_id])\n",
    "    \n",
    "\n",
    "global_relevant = np.sum(np.array(unit_relevant))\n",
    "global_selected = np.sum(np.array(best_selected))\n",
    "global_tp = np.sum(np.array(best_tp))\n",
    "global_precision = 100 * global_tp / global_selected\n",
    "global_recall = 100 * global_tp / global_relevant\n",
    "global_f1_score = 2 * global_precision * global_recall / (global_precision + global_recall)\n",
    "\n",
    "print(\"\")    \n",
    "print(\"Global (cross-validated on F): \")\n",
    "print(\"Relevant = \" + str(global_relevant))\n",
    "print(\"Selected = \" + str(global_selected))\n",
    "print(\"True positives = \" + str(global_tp))\n",
    "print(\"Precision = \" + (\"%0.2f\" % global_precision).rjust(5) + \"%\")\n",
    "print(\"Recall = \" + (\"%0.2f\" % global_recall).rjust(5) + \"%\")\n",
    "print(\"F1 score = \" + (\"%0.2f\" % global_f1_score).rjust(5) + \"%\")"
   ]
  },
  {
   "cell_type": "code",
   "execution_count": 29,
   "metadata": {
    "collapsed": false
   },
   "outputs": [
    {
     "name": "stdout",
     "output_type": "stream",
     "text": [
      "unit01: CV-count threshold = 0.709, P = 27.52%, R = 79.60%, F = 40.90%\n",
      "unit02: CV-count threshold = 0.701, P =  3.70%, R = 27.70%, F =  6.53%\n",
      "unit03: CV-count threshold = 0.713, P = 25.86%, R =  1.08%, F =  2.06%\n",
      "unit05: CV-count threshold = 0.709, P =  5.77%, R =  7.77%, F =  6.62%\n",
      "unit07: CV-count threshold = 0.713, P = 24.00%, R =  0.28%, F =  0.55%\n",
      "unit10: CV-count threshold = 0.713, P = 33.21%, R =  7.78%, F = 12.61%\n",
      "\n",
      "Global (cross-validated on count): \n",
      "Relevant = 35402\n",
      "Selected = 52978\n",
      "True positives = 4696\n",
      "Precision =  8.86%\n",
      "Recall = 13.26%\n",
      "F1 score = 10.63%\n"
     ]
    }
   ],
   "source": [
    "folds = localmodule.fold_units()\n",
    "unit_relevant = []\n",
    "best_selected, best_tp = [], []\n",
    "%matplotlib inline\n",
    "\n",
    "for fold in folds:\n",
    "    test_units = fold[0]\n",
    "    training_units = fold[1]\n",
    "    validation_units = fold[2]\n",
    "    calibration_units = fold[1] + fold[2]\n",
    "    cal_relevant = []\n",
    "    cal_selected = []\n",
    "    cal_tp = []\n",
    "    for calibration_unit_str in calibration_units:\n",
    "        unit_dir = os.path.join(model_dir, calibration_unit_str)\n",
    "        metrics_name = \"_\".join([model_name, tol_str, calibration_unit_str, \"metrics\"])\n",
    "        metrics_path = os.path.join(unit_dir, metrics_name + \".csv\")\n",
    "        df = pd.read_csv(metrics_path)\n",
    "        cal_relevant.append(np.array(df[\"relevant\"]))\n",
    "        cal_selected.append(np.array(df[\"selected\"]))\n",
    "        cal_tp.append(np.array(df[\"true positives\"]))\n",
    "    global_cal_relevant = np.sum(np.stack(cal_relevant), axis=0)\n",
    "    global_cal_selected = np.sum(np.stack(cal_selected), axis=0)\n",
    "    global_cal_ratio = global_cal_selected / global_cal_relevant\n",
    "    best_id = np.argmin(np.abs(global_cal_ratio - 1.0))\n",
    "    test_unit_str = test_units[0]\n",
    "    unit_dir = os.path.join(model_dir, test_unit_str)\n",
    "    metrics_name = \"_\".join([model_name, tol_str, test_unit_str, \"metrics\"])\n",
    "    metrics_path = os.path.join(unit_dir, metrics_name + \".csv\")\n",
    "    df = pd.read_csv(metrics_path)\n",
    "    thresholds = np.array(df[\"threshold\"])\n",
    "    best_threshold = thresholds[best_id]\n",
    "    f1_scores = np.array(df[\"F1 score (%)\"])\n",
    "    best_precision = np.array(df[\"precision (%)\"])[best_id]\n",
    "    best_recall = np.array(df[\"recall (%)\"])[best_id]\n",
    "    best_f1 = np.array(df[\"F1 score (%)\"])[best_id]\n",
    "    print(test_unit_str +\n",
    "          \": CV-count threshold = \" + (\"%0.3f\" % best_threshold).rjust(5) + \n",
    "          \", P = \" + (\"%0.2f\" % best_precision).rjust(5) + \"%\" + \n",
    "          \", R = \" + (\"%0.2f\" % best_recall).rjust(5) + \"%\" + \n",
    "          \", F = \" + (\"%0.2f\" % best_f1).rjust(5) + \"%\")\n",
    "    unit_relevant.append(np.array(df[\"relevant\"])[0])\n",
    "    best_selected.append(np.array(df[\"selected\"])[best_id])\n",
    "    best_tp.append(np.array(df[\"true positives\"])[best_id])\n",
    "    \n",
    "\n",
    "global_relevant = np.sum(np.array(unit_relevant))\n",
    "global_selected = np.sum(np.array(best_selected))\n",
    "global_tp = np.sum(np.array(best_tp))\n",
    "global_precision = 100 * global_tp / global_selected\n",
    "global_recall = 100 * global_tp / global_relevant\n",
    "global_f1_score = 2 * global_precision * global_recall / (global_precision + global_recall)\n",
    "\n",
    "print(\"\")    \n",
    "print(\"Global (cross-validated on count): \")\n",
    "print(\"Relevant = \" + str(global_relevant))\n",
    "print(\"Selected = \" + str(global_selected))\n",
    "print(\"True positives = \" + str(global_tp))\n",
    "print(\"Precision = \" + (\"%0.2f\" % global_precision).rjust(5) + \"%\")\n",
    "print(\"Recall = \" + (\"%0.2f\" % global_recall).rjust(5) + \"%\")\n",
    "print(\"F1 score = \" + (\"%0.2f\" % global_f1_score).rjust(5) + \"%\")"
   ]
  },
  {
   "cell_type": "code",
   "execution_count": 179,
   "metadata": {
    "collapsed": false,
    "deletable": true,
    "editable": true
   },
   "outputs": [
    {
     "name": "stdout",
     "output_type": "stream",
     "text": [
      "unit01: AUPRC = 67.35%\n",
      "unit02: AUPRC =  3.44%\n",
      "unit03: AUPRC =  7.06%\n",
      "unit05: AUPRC =  4.03%\n",
      "unit07: AUPRC =  6.56%\n",
      "unit10: AUPRC = 12.93%\n",
      "\n",
      "Global: AUPRC = 11.19%\n"
     ]
    },
    {
     "data": {
      "text/plain": [
       "<matplotlib.text.Text at 0x2b4906fee0f0>"
      ]
     },
     "execution_count": 179,
     "metadata": {},
     "output_type": "execute_result"
    },
    {
     "data": {
      "image/png": "[encoded data removed]",
      "text/plain": [
       "<matplotlib.figure.Figure at 0x2b4906fdb7f0>"
      ]
     },
     "metadata": {},
     "output_type": "display_data"
    }
   ],
   "source": [
    "import soundfile as sf\n",
    "\n",
    "unit_relevant = []\n",
    "unit_selected, unit_tp = [], []\n",
    "for unit_str in units:\n",
    "    unit_dir = os.path.join(model_dir, unit_str)\n",
    "    metrics_name = \"_\".join([model_name, tol_str, unit_str, \"metrics\"])\n",
    "    metrics_path = os.path.join(unit_dir, metrics_name + \".csv\")\n",
    "    df = pd.read_csv(metrics_path)\n",
    "    precisions = np.array(df[\"precision (%)\"])\n",
    "    precisions = np.insert(precisions, 0, 0.0)\n",
    "    precisions = np.append(precisions, 100)\n",
    "    precisions = precisions[::-1] / 100\n",
    "    recalls = np.array(df[\"recall (%)\"])\n",
    "    recalls = np.insert(recalls, 0, 100.0)\n",
    "    recalls = np.append(recalls, 0.0)\n",
    "    recalls = recalls[::-1] / 100\n",
    "    auprc = np.trapz(precisions, recalls) * 100\n",
    "    print(unit_str + \": AUPRC = \" + (\"%0.2f\" % auprc).rjust(5) + \"%\")\n",
    "    unit_relevant.append(np.array(df[\"relevant\"])[0])\n",
    "    unit_selected.append(np.array(df[\"selected\"]))\n",
    "    unit_tp.append(np.array(df[\"true positives\"]))\n",
    "    \n",
    "relevant = np.sum(np.array(unit_relevant))\n",
    "selected = np.sum(np.stack(unit_selected), axis=0)\n",
    "tp = np.sum(np.stack(unit_tp), axis=0)\n",
    "precisions = tp / selected\n",
    "recalls = tp / relevant\n",
    "precisions = np.insert(precisions, 0, min_precision)\n",
    "precisions = np.append(precisions, 1.0)\n",
    "precisions = precisions[::-1]\n",
    "recalls = np.insert(recalls, 0, 1.0)\n",
    "recalls = np.append(recalls, 0.0)\n",
    "recalls = recalls[::-1]\n",
    "auprc = np.trapz(precisions, recalls) * 100\n",
    "print(\"\")\n",
    "print(\"Global: AUPRC = \" + (\"%0.2f\" % auprc).rjust(5) + \"%\")\n",
    "\n",
    "plt.figure(figsize=(8, 6))\n",
    "plt.plot(100*recalls, 100*precisions, \"-o\")\n",
    "plt.title(\"PR curve on full night data for SKM model. Tolerance = {} ms\".format(tolerance_ms))\n",
    "plt.xlabel(\"Recall (%)\")\n",
    "plt.ylabel(\"Precision (%)\")"
   ]
  },
  {
   "cell_type": "code",
   "execution_count": 187,
   "metadata": {
    "collapsed": false,
    "deletable": true,
    "editable": true
   },
   "outputs": [
    {
     "name": "stdout",
     "output_type": "stream",
     "text": [
      "unit01: AUPRC = 67.35%\n"
     ]
    },
    {
     "data": {
      "text/plain": [
       "<matplotlib.text.Text at 0x2b4907321320>"
      ]
     },
     "execution_count": 187,
     "metadata": {},
     "output_type": "execute_result"
    },
    {
     "data": {
      "image/png": "[encoded data removed]",
      "text/plain": [
       "<matplotlib.figure.Figure at 0x2b4906d6b400>"
      ]
     },
     "metadata": {},
     "output_type": "display_data"
    }
   ],
   "source": [
    "unit_str = \"unit01\"\n",
    "unit_dir = os.path.join(model_dir, unit_str)\n",
    "metrics_name = \"_\".join([model_name, tol_str, unit_str, \"metrics\"])\n",
    "metrics_path = os.path.join(unit_dir, metrics_name + \".csv\")\n",
    "df = pd.read_csv(metrics_path)\n",
    "precisions = np.array(df[\"precision (%)\"])\n",
    "recalls = np.array(df[\"recall (%)\"])\n",
    "precisions = np.insert(precisions, 0, 0)\n",
    "precisions = np.append(precisions, 100)\n",
    "precisions = precisions[::-1] / 100\n",
    "recalls = np.insert(recalls, 0, 100)\n",
    "recalls = np.append(recalls, 0)\n",
    "recalls = recalls[::-1] / 100\n",
    "auprc = np.trapz(precisions, recalls) * 100\n",
    "print(unit_str + \": AUPRC = \" + (\"%0.2f\" % auprc).rjust(5) + \"%\")\n",
    "unit_relevant.append(np.array(df[\"relevant\"])[0])\n",
    "unit_selected.append(np.array(df[\"selected\"]))\n",
    "unit_tp.append(np.array(df[\"true positives\"]))\n",
    "plt.figure(figsize=(8, 6))\n",
    "plt.plot(100*recalls, 100*precisions, \"-o\")\n",
    "plt.title(\"PR curve on {} for SKM model. Tolerance = {} ms\".format(unit_str, tolerance_ms))\n",
    "plt.xlabel(\"Recall (%)\")\n",
    "plt.ylabel(\"Precision (%)\")"
   ]
  },
  {
   "cell_type": "code",
   "execution_count": null,
   "metadata": {
    "collapsed": true,
    "deletable": true,
    "editable": true
   },
   "outputs": [],
   "source": []
  }
 ],
 "metadata": {
  "kernelspec": {
   "display_name": "Python 3",
   "language": "python",
   "name": "python3"
  },
  "language_info": {
   "codemirror_mode": {
    "name": "ipython",
    "version": 3
   },
   "file_extension": ".py",
   "mimetype": "text/x-python",
   "name": "python",
   "nbconvert_exporter": "python",
   "pygments_lexer": "ipython3",
   "version": "3.6.0"
  }
 },
 "nbformat": 4,
 "nbformat_minor": 2
}
