{
 "cells": [
  {
   "cell_type": "code",
   "execution_count": 24,
   "metadata": {
    "collapsed": true,
    "deletable": true,
    "editable": true
   },
   "outputs": [],
   "source": [
    "from matplotlib import pyplot as plt\n",
    "import numpy as np\n",
    "import os\n",
    "import pandas\n",
    "import sys\n",
    "\n",
    "sys.path.append(\"../src\")\n",
    "import localmodule"
   ]
  },
  {
   "cell_type": "code",
   "execution_count": 101,
   "metadata": {
    "collapsed": false,
    "deletable": true,
    "editable": true
   },
   "outputs": [
    {
     "name": "stdout",
     "output_type": "stream",
     "text": [
      "  0.1% of the intervals are below      3 ms\n",
      "  1.0% of the intervals are below     29 ms\n",
      " 10.0% of the intervals are below    142 ms\n",
      " 15.0% of the intervals are below    204 ms\n",
      " 20.0% of the intervals are below    290 ms\n",
      " 25.0% of the intervals are below    395 ms\n",
      " 30.0% of the intervals are below    529 ms\n",
      " 50.0% of the intervals are below   1694 ms\n",
      " 75.0% of the intervals are below   5360 ms\n",
      " 99.0% of the intervals are below  72634 ms\n",
      " 99.9% of the intervals are below 203242 ms\n"
     ]
    },
    {
     "data": {
      "image/png": "[encoded data removed]",
      "text/plain": [
       "<matplotlib.figure.Figure at 0x1097d52b0>"
      ]
     },
     "metadata": {},
     "output_type": "display_data"
    }
   ],
   "source": [
    "data_dir = \"/Users/vl238/spl2017_data\"\n",
    "dataset_name = localmodule.get_dataset_name()\n",
    "annotations_name = \"_\".join([dataset_name, \"annotations\"])\n",
    "annotations_dir = os.path.join(data_dir, annotations_name)\n",
    "units = localmodule.get_units()\n",
    "intervals = []\n",
    "\n",
    "for unit_str in units:\n",
    "    annotation_path = os.path.join(annotations_dir, unit_str + \".txt\")\n",
    "    df = pandas.read_csv(annotation_path, \"\\t\")\n",
    "    begin_times = np.array(df[\"Begin Time (s)\"])\n",
    "    end_times = np.array(df[\"End Time (s)\"])\n",
    "    mid_times = 0.5 * (begin_times + end_times)\n",
    "    unit_intervals = np.diff(sorted(mid_times))\n",
    "    intervals.append(np.maximum(unit_intervals, 0.003))\n",
    "    \n",
    "intervals = np.concatenate(intervals)\n",
    "\n",
    "%matplotlib inline\n",
    "plt.hist(np.log10(intervals), bins=100);\n",
    "\n",
    "percents = [0.1, 1.0, 10.0, 15.0, 20.0, 25.0, 30.0, 50.0, 75.0, 99.0, 99.9]\n",
    "percentiles = np.percentile(intervals, percents) * 1000\n",
    "percentiles_str = [str(percentile) for percentile in percentiles]\n",
    "\n",
    "for percent, percentile in zip(percents, percentiles):\n",
    "    percent_str = str(percent).rjust(5)\n",
    "    percentile_str = str(int(percentile)).rjust(6)\n",
    "    print(\"{}% of the intervals are below {} ms\".format(percent_str, percentile_str))"
   ]
  },
  {
   "cell_type": "code",
   "execution_count": 99,
   "metadata": {
    "collapsed": false,
    "deletable": true,
    "editable": true
   },
   "outputs": [
    {
     "data": {
      "text/plain": [
       "<matplotlib.text.Text at 0x109e3f550>"
      ]
     },
     "execution_count": 99,
     "metadata": {},
     "output_type": "execute_result"
    },
    {
     "data": {
      "image/png": "[encoded data removed]",
      "text/plain": [
       "<matplotlib.figure.Figure at 0x1072b9940>"
      ]
     },
     "metadata": {},
     "output_type": "display_data"
    }
   ],
   "source": [
    "n_intervals = len(intervals)\n",
    "tolerances = np.linspace(0.1, 2.0, 40)\n",
    "recalls = np.array([np.sum(intervals > tol)/n_intervals for tol in tolerances])\n",
    "plt.plot(1000*tolerances, 100*recalls, \"*\")\n",
    "plt.xlabel(\"Tolerance (ms)\")\n",
    "plt.ylabel(\"True recall (%)\")"
   ]
  },
  {
   "cell_type": "code",
   "execution_count": null,
   "metadata": {
    "collapsed": true,
    "deletable": true,
    "editable": true
   },
   "outputs": [],
   "source": []
  }
 ],
 "metadata": {
  "kernelspec": {
   "display_name": "Python 3",
   "language": "python",
   "name": "python3"
  },
  "language_info": {
   "codemirror_mode": {
    "name": "ipython",
    "version": 3
   },
   "file_extension": ".py",
   "mimetype": "text/x-python",
   "name": "python",
   "nbconvert_exporter": "python",
   "pygments_lexer": "ipython3",
   "version": "3.6.0"
  }
 },
 "nbformat": 4,
 "nbformat_minor": 2
}
