{
 "cells": [
  {
   "cell_type": "code",
   "execution_count": 15,
   "metadata": {
    "collapsed": false
   },
   "outputs": [],
   "source": [
    "import jams\n",
    "import os\n",
    "import sys\n",
    "\n",
    "sys.path.append('../src')\n",
    "import localmodule\n",
    "\n",
    "\n",
    "data_dir = localmodule.get_data_dir()\n",
    "dataset_name = localmodule.get_dataset_name()\n",
    "units = localmodule.get_units()\n",
    "n_units = len(units)\n",
    "annotations_dir = \"_\".join([dataset_name, \"annotations\"])\n",
    "jams_dir = \"_\".join([dataset_name, \"jams\"])"
   ]
  },
  {
   "cell_type": "code",
   "execution_count": 16,
   "metadata": {
    "collapsed": false
   },
   "outputs": [],
   "source": [
    "unit_id = 0\n",
    "unit_str = units[unit_id]\n",
    "txt_path = os.path.join(\n",
    "    data_dir, annotations_dir, unit_str + \".txt\")\n",
    "jam_path = os.path.join(\n",
    "    data_dir, jams_dir, unit_str + \".jams\")"
   ]
  },
  {
   "cell_type": "code",
   "execution_count": 14,
   "metadata": {
    "collapsed": false
   },
   "outputs": [
    {
     "data": {
      "text/plain": [
       "'BirdVox-70k_annotations/unit01.txt'"
      ]
     },
     "execution_count": 14,
     "metadata": {},
     "output_type": "execute_result"
    }
   ],
   "source": [
    "unit_path"
   ]
  },
  {
   "cell_type": "code",
   "execution_count": null,
   "metadata": {
    "collapsed": true
   },
   "outputs": [],
   "source": []
  }
 ],
 "metadata": {
  "kernelspec": {
   "display_name": "Python 3",
   "language": "python",
   "name": "python3"
  },
  "language_info": {
   "codemirror_mode": {
    "name": "ipython",
    "version": 3
   },
   "file_extension": ".py",
   "mimetype": "text/x-python",
   "name": "python",
   "nbconvert_exporter": "python",
   "pygments_lexer": "ipython3",
   "version": "3.6.0"
  }
 },
 "nbformat": 4,
 "nbformat_minor": 2
}
