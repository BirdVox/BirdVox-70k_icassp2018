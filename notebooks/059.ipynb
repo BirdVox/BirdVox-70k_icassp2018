{
 "cells": [
  {
   "cell_type": "code",
   "execution_count": 17,
   "metadata": {
    "collapsed": false
   },
   "outputs": [
    {
     "name": "stdout",
     "output_type": "stream",
     "text": [
      "2018-05-23 19:27:34.900854 Start.\n",
      "Computing per-channel energy normalization (PCEN) for BirdVox-70k clips, with domain-specific librosa parameters.\n",
      "Unit: unit01.\n",
      "Augmentation: original.\n",
      "\n",
      "h5py version: 2.6.0\n",
      "librosa version: 0.6.1rc0\n",
      "\n"
     ]
    }
   ],
   "source": [
    "import datetime\n",
    "import h5py\n",
    "import librosa\n",
    "import numpy as np\n",
    "import os\n",
    "import sys\n",
    "import time\n",
    "\n",
    "import sys\n",
    "sys.path.append('../src')\n",
    "import localmodule\n",
    "\n",
    "\n",
    "# Define constants.\n",
    "data_dir = localmodule.get_data_dir()\n",
    "dataset_name = localmodule.get_dataset_name()\n",
    "sample_rate = localmodule.get_sample_rate()\n",
    "args = [\"original\", \"0\", \"unit01\"]\n",
    "aug_str = args[0]\n",
    "instance_id = int(args[1])\n",
    "instance_str = str(instance_id)\n",
    "unit_str = args[2]\n",
    "if aug_str == \"original\":\n",
    "    instanced_aug_str = aug_str\n",
    "else:\n",
    "    instanced_aug_str = \"-\".join([aug_str, instance_str])\n",
    "pcen_settings = localmodule.get_pcen_settings()\n",
    "\n",
    "\n",
    "# Print header.\n",
    "start_time = int(time.time())\n",
    "print(str(datetime.datetime.now()) + \" Start.\")\n",
    "print(\"Computing per-channel energy normalization (PCEN) for \" +\\\n",
    "    dataset_name + \" clips, with domain-specific librosa parameters.\")\n",
    "print(\"Unit: \" + unit_str + \".\")\n",
    "print(\"Augmentation: \" + instanced_aug_str + \".\")\n",
    "print(\"\")\n",
    "print(\"h5py version: {:s}\".format(h5py.__version__))\n",
    "print(\"librosa version: {:s}\".format(librosa.__version__))\n",
    "print(\"\")\n",
    "\n",
    "\n",
    "# Open HDF5 container of waveforms.\n",
    "hdf5_dataset_name = \"_\".join([dataset_name, \"hdf5\"])\n",
    "hdf5_dir = os.path.join(data_dir, hdf5_dataset_name)\n",
    "in_aug_dir = os.path.join(hdf5_dir, aug_str)\n",
    "hdf5_name = \"_\".join([dataset_name, instanced_aug_str, unit_str])\n",
    "in_path = os.path.join(in_aug_dir, hdf5_name + \".hdf5\")\n",
    "in_file = h5py.File(in_path, \"r\")\n",
    "sample_rate = in_file[\"sample_rate\"].value\n",
    "\n",
    "\n",
    "# Create HDF5 container of PCENs.\n",
    "pcen_name = \"_\".join([dataset_name, \"clip-pcen\"])\n",
    "pcen_dir = os.path.join(data_dir, pcen_name)\n",
    "os.makedirs(pcen_dir, exist_ok=True)\n",
    "out_aug_dir = os.path.join(pcen_dir, aug_str)\n",
    "os.makedirs(out_aug_dir, exist_ok=True)\n",
    "out_path = os.path.join(out_aug_dir, hdf5_name + \".hdf5\")\n",
    "try:\n",
    "    os.remove(out_path)\n",
    "except FileNotFoundError:\n",
    "    pass\n",
    "out_file = h5py.File(out_path)\n",
    "\n",
    "\n",
    "# Copy over metadataself.\n",
    "out_file[\"dataset_name\"] = localmodule.get_dataset_name()\n",
    "out_file[\"unit\"] = unit_str\n",
    "out_file[\"augmentation\"] = aug_str\n",
    "out_file[\"instance\"] = instance_id\n",
    "out_file[\"utc_start_time\"] = in_file[\"utc_start_time\"].value\n",
    "gps_group = out_file.create_group(\"gps_coordinates\")\n",
    "gps_group[\"latitude\"] = in_file[\"gps_coordinates\"][\"latitude\"].value\n",
    "gps_group[\"longitude\"] = in_file[\"gps_coordinates\"][\"longitude\"].value\n",
    "settings_group = out_file.create_group(\"pcen_settings\")\n",
    "settings_group[\"fmax\"] = pcen_settings[\"fmax\"]\n",
    "settings_group[\"fmin\"] = pcen_settings[\"fmin\"]\n",
    "settings_group[\"hop_length\"] = pcen_settings[\"hop_length\"]\n",
    "settings_group[\"n_fft\"] = pcen_settings[\"n_fft\"]\n",
    "settings_group[\"n_mels\"] = pcen_settings[\"n_mels\"]\n",
    "settings_group[\"sr\"] = pcen_settings[\"sr\"]\n",
    "settings_group[\"win_length\"] = pcen_settings[\"win_length\"]\n",
    "settings_group[\"window\"] = pcen_settings[\"window\"]\n",
    "\n",
    "\n",
    "# These domain-specific parameters have shown to Gaussianize PCEN magnitudes.\n",
    "settings_group[\"bias\"] = 2.0\n",
    "settings_group[\"time_constant\"] = 0.015\n",
    "settings_group[\"gain\"] = 0.95\n",
    "settings_group[\"power\"] = 0.5\n",
    "settings_group[\"eps\"] = 1e-6\n",
    "\n",
    "\n",
    "# List clips.\n",
    "lms_group = out_file.create_group(\"pcen\")\n",
    "clip_names = list(in_file[\"waveforms\"].keys())\n",
    "clip_name = clip_names[0]\n",
    "\n",
    "\n",
    "# Load waveform.\n",
    "waveform = in_file[\"waveforms\"][clip_name].value\n",
    "\n",
    "# Resample to 22050 Hz.\n",
    "waveform = librosa.resample(\n",
    "    waveform, sample_rate, pcen_settings[\"sr\"])\n",
    "\n",
    "# Compute Short-Term Fourier Transform (STFT).\n",
    "stft = librosa.stft(\n",
    "    waveform,\n",
    "    n_fft=pcen_settings[\"n_fft\"],\n",
    "    win_length=pcen_settings[\"win_length\"],\n",
    "    hop_length=pcen_settings[\"hop_length\"],\n",
    "    window=pcen_settings[\"window\"])\n",
    "\n",
    "# Compute squared magnitude coefficients.\n",
    "abs2_stft = (stft.real*stft.real) + (stft.imag*stft.imag)\n",
    "\n",
    "# Gather frequency bins according to the Mel scale.\n",
    "melspec = librosa.feature.melspectrogram(\n",
    "    y=None,\n",
    "    S=abs2_stft,\n",
    "    sr=pcen_settings[\"sr\"],\n",
    "    n_fft=pcen_settings[\"n_fft\"],\n",
    "    n_mels=pcen_settings[\"n_mels\"],\n",
    "    htk=True,\n",
    "    fmin=pcen_settings[\"fmin\"],\n",
    "    fmax=pcen_settings[\"fmax\"])\n",
    "\n",
    "# PCEN with librosa.\n",
    "pcen = librosa.core.pcen(\n",
    "    melspec,\n",
    "    sr=settings_group[\"sr\"].value,\n",
    "    hop_length=settings_group[\"hop_length\"].value,\n",
    "    gain=settings_group[\"gain\"].value,\n",
    "    bias=settings_group[\"bias\"].value,\n",
    "    power=settings_group[\"power\"].value,\n",
    "    time_constant=settings_group[\"time_constant\"].value,\n",
    "    eps=settings_group[\"eps\"].value)\n",
    "\n",
    "# Convert to single floating-point precision (32 bits).\n",
    "pcen = pcen.astype('float32')\n",
    "\n",
    "# Save.\n",
    "lms_group[clip_name] = pcen"
   ]
  },
  {
   "cell_type": "code",
   "execution_count": 20,
   "metadata": {
    "collapsed": false
   },
   "outputs": [
    {
     "data": {
      "text/plain": [
       "array([[ 1.34249306,  1.06092572,  0.76078379, ...,  0.183127  ,\n",
       "         0.120834  ,  0.03413041],\n",
       "       [ 1.23717797,  1.26881146,  1.03282702, ...,  0.14260581,\n",
       "         0.14249004,  0.10565899],\n",
       "       [ 1.08494735,  1.39973581,  1.22895682, ...,  0.10703778,\n",
       "         0.17413975,  0.19799085],\n",
       "       ..., \n",
       "       [ 0.50533897,  0.33478567,  0.13175617, ...,  0.09990725,\n",
       "         0.15272652,  0.18127421],\n",
       "       [ 0.43410811,  0.28439787,  0.09732446, ...,  0.09427849,\n",
       "         0.13297468,  0.11821666],\n",
       "       [ 0.44761154,  0.29593226,  0.1085735 , ...,  0.14005187,\n",
       "         0.33890489,  0.43145478]], dtype=float32)"
      ]
     },
     "execution_count": 20,
     "metadata": {},
     "output_type": "execute_result"
    }
   ],
   "source": [
    "pcen"
   ]
  },
  {
   "cell_type": "code",
   "execution_count": 16,
   "metadata": {
    "collapsed": false
   },
   "outputs": [
    {
     "data": {
      "text/plain": [
       "0.5"
      ]
     },
     "execution_count": 16,
     "metadata": {},
     "output_type": "execute_result"
    }
   ],
   "source": [
    "settings_group[\"power\"].value"
   ]
  },
  {
   "cell_type": "code",
   "execution_count": null,
   "metadata": {
    "collapsed": true
   },
   "outputs": [],
   "source": []
  }
 ],
 "metadata": {
  "kernelspec": {
   "display_name": "Python 3",
   "language": "python",
   "name": "python3"
  },
  "language_info": {
   "codemirror_mode": {
    "name": "ipython",
    "version": 3
   },
   "file_extension": ".py",
   "mimetype": "text/x-python",
   "name": "python",
   "nbconvert_exporter": "python",
   "pygments_lexer": "ipython3",
   "version": "3.6.0"
  }
 },
 "nbformat": 4,
 "nbformat_minor": 2
}
