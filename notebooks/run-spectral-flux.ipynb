{
 "cells": [
  {
   "cell_type": "code",
   "execution_count": 1,
   "metadata": {
    "collapsed": false
   },
   "outputs": [
    {
     "name": "stdout",
     "output_type": "stream",
     "text": [
      "2017-08-20 17:13:48.157886 Start.\n",
      "Running spectral flux on BirdVox-70k, unit01.\n",
      "h5py version: 2.6.0.\n",
      "librosa version: 0.5.1.\n",
      "numpy version: 1.13.1\n",
      "pandas version: 0.20.3\n",
      "soundfile version: 0.9.0\n",
      "\n"
     ]
    }
   ],
   "source": [
    "import datetime\n",
    "import h5py\n",
    "import itertools\n",
    "import librosa\n",
    "import math\n",
    "import numpy as np\n",
    "import os\n",
    "import pandas as pd\n",
    "import soundfile as sf\n",
    "import sys\n",
    "import time\n",
    "\n",
    "sys.path.append('../src')\n",
    "import localmodule\n",
    "\n",
    "\n",
    "# Define constants.\n",
    "data_dir = localmodule.get_data_dir()\n",
    "dataset_name = localmodule.get_dataset_name()\n",
    "full_audio_name = \"_\".join([dataset_name, \"full-audio\"])\n",
    "full_audio_dir = os.path.join(data_dir, full_audio_name)\n",
    "sample_rate = localmodule.get_sample_rate()\n",
    "args = [\"unit01\"]\n",
    "unit_str = args[0]\n",
    "sf_hop_length = 512 # default value for melspectrogram in librosa\n",
    "sf_sr = 22050 # defaut value for sample rate in librosa\n",
    "chunk_duration = 256 # in seconds\n",
    "chunk_length = chunk_duration * sample_rate\n",
    "\n",
    "\n",
    "# Print header.\n",
    "start_time = int(time.time())\n",
    "print(str(datetime.datetime.now()) + \" Start.\")\n",
    "print(\"Running spectral flux on \" + dataset_name + \", \" + unit_str + \".\")\n",
    "print('h5py version: {:s}.'.format(h5py.__version__))\n",
    "print('librosa version: {:s}.'.format(librosa.__version__))\n",
    "print('numpy version: {:s}'.format(np.__version__))\n",
    "print('pandas version: {:s}'.format(pd.__version__))\n",
    "print('soundfile version: {:s}'.format(sf.__version__))\n",
    "print(\"\")\n",
    "\n",
    "\n",
    "# Create HDF5 container of ODF curves.\n",
    "full_spectralflux_name = \"_\".join([dataset_name, \"spectral-flux\"])\n",
    "full_spectralflux_dir = os.path.join(data_dir, full_spectralflux_name)\n",
    "os.makedirs(full_spectralflux_dir, exist_ok=True)\n",
    "out_name = unit_str\n",
    "out_path = os.path.join(full_spectralflux_dir, out_name + \".hdf5\")\n",
    "out_file = h5py.File(out_path)\n",
    "\n",
    "\n",
    "# Load GPS coordinates.\n",
    "gps_name = \"_\".join([dataset_name, \"gps-coordinates.csv\"])\n",
    "gps_path = os.path.join(data_dir, gps_name)\n",
    "gps_df = pd.read_csv(gps_path)\n",
    "gps_row = gps_df.loc[gps_df[\"Unit\"] == unit_str].iloc[0]\n",
    "\n",
    "\n",
    "# Load UTC starting times.\n",
    "utc_name = \"_\".join([dataset_name, \"utc-start-times.csv\"])\n",
    "utc_path = os.path.join(data_dir, utc_name)\n",
    "utc_df = pd.read_csv(utc_path)\n",
    "utc_row = utc_df.loc[utc_df[\"Unit\"] == unit_str].iloc[0]\n",
    "\n",
    "\n",
    "# Copy over metadata.\n",
    "out_file[\"dataset_name\"] = dataset_name\n",
    "out_file[\"unit\"] = unit_str\n",
    "out_file[\"sample_rate\"] = sample_rate\n",
    "out_file[\"utc_start_time\"] = utc_row[\"UTC\"]\n",
    "gps_group = out_file.create_group(\"gps_coordinates\")\n",
    "gps_group[\"latitude\"] =  gps_row[\"Latitude\"]\n",
    "gps_group[\"longitude\"] = gps_row[\"Longitude\"]\n",
    "\n",
    "\n",
    "# Open full audio file as FLAC.\n",
    "recordings_name = \"_\".join([dataset_name, \"full-audio\"])\n",
    "recordings_dir = os.path.join(data_dir, recordings_name)\n",
    "recording_name = unit_str + \".flac\"\n",
    "recording_path = os.path.join(recordings_dir, recording_name)\n",
    "full_audio = sf.SoundFile(recording_path)\n",
    "full_audio_length = len(full_audio)\n",
    "\n",
    "\n",
    "# Initialize dataset of onset detection function (ODF).\n",
    "dataset_size = (1, full_audio_length)\n",
    "spectralflux_dataset = out_file.create_dataset(\n",
    "    \"spectral-flux_odf\", dataset_size)"
   ]
  },
  {
   "cell_type": "code",
   "execution_count": 21,
   "metadata": {
    "collapsed": false
   },
   "outputs": [],
   "source": [
    "# Loop over chunks.\n",
    "#for chunk_id in range(n_chunks):\n",
    "chunk_id = n_chunks - 1\n",
    "\n",
    "# Load audio chunk.\n",
    "chunk_start = chunk_id * chunk_length\n",
    "chunk_stop = min(chunk_start + chunk_length, full_audio_length)\n",
    "full_audio.seek(chunk_start)\n",
    "chunk_waveform = full_audio.read(chunk_stop-chunk_start)\n",
    "\n",
    "# Compute spectral flux.\n",
    "odf = librosa.onset.onset_strength(chunk_waveform)\n",
    "\n",
    "# Delete last sample to compensate for padding.\n",
    "odf = odf[:-1]"
   ]
  },
  {
   "cell_type": "code",
   "execution_count": 16,
   "metadata": {
    "collapsed": false
   },
   "outputs": [],
   "source": [
    "# Write to HDF5 dataset.\n",
    "# hop_start is an integer because chunk_start is both a multiple\n",
    "# of sample_rate and hop_length = chunk_duration.\n",
    "hop_start = int((chunk_start*sf_sr) / (sample_rate*sf_hop_length))\n",
    "n_hops_in_chunk = odf.shape[0]\n",
    "hop_stop = min(hop_start + n_hops_in_chunk, n_hops)\n",
    "spectralflux_dataset[:, hop_start:hop_stop] = odf"
   ]
  },
  {
   "cell_type": "code",
   "execution_count": 24,
   "metadata": {
    "collapsed": false
   },
   "outputs": [
    {
     "data": {
      "text/plain": [
       "6144000"
      ]
     },
     "execution_count": 24,
     "metadata": {},
     "output_type": "execute_result"
    }
   ],
   "source": [
    "chunk_length"
   ]
  },
  {
   "cell_type": "code",
   "execution_count": 23,
   "metadata": {
    "collapsed": false
   },
   "outputs": [
    {
     "data": {
      "text/plain": [
       "942842328"
      ]
     },
     "execution_count": 23,
     "metadata": {},
     "output_type": "execute_result"
    }
   ],
   "source": [
    "full_audio_length"
   ]
  },
  {
   "cell_type": "code",
   "execution_count": null,
   "metadata": {
    "collapsed": true
   },
   "outputs": [],
   "source": []
  }
 ],
 "metadata": {
  "kernelspec": {
   "display_name": "Python 3",
   "language": "python",
   "name": "python3"
  },
  "language_info": {
   "codemirror_mode": {
    "name": "ipython",
    "version": 3
   },
   "file_extension": ".py",
   "mimetype": "text/x-python",
   "name": "python",
   "nbconvert_exporter": "python",
   "pygments_lexer": "ipython3",
   "version": "3.6.0"
  }
 },
 "nbformat": 4,
 "nbformat_minor": 2
}
