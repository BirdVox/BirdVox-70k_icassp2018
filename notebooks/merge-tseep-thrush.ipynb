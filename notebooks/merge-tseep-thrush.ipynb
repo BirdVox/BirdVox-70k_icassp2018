{
 "cells": [
  {
   "cell_type": "code",
   "execution_count": 4,
   "metadata": {
    "collapsed": false
   },
   "outputs": [],
   "source": [
    "import datetime\n",
    "import os\n",
    "import pandas as pd\n",
    "import sys\n",
    "import time\n",
    "\n",
    "sys.path.append(\"../src\")\n",
    "import localmodule"
   ]
  },
  {
   "cell_type": "code",
   "execution_count": 8,
   "metadata": {
    "collapsed": true
   },
   "outputs": [],
   "source": [
    "# Define constants.\n",
    "dataset_name = localmodule.get_dataset_name()\n",
    "models_dir = localmodule.get_models_dir()\n",
    "oldbird_model_dir = os.path.join(models_dir, \"oldbird\")\n",
    "units = localmodule.get_units()\n",
    "clip_suppressor_modes = [\"no-clip-suppressor\", \"clip-suppressor\"]\n",
    "n_thresholds = 100"
   ]
  },
  {
   "cell_type": "code",
   "execution_count": 5,
   "metadata": {
    "collapsed": false
   },
   "outputs": [
    {
     "name": "stdout",
     "output_type": "stream",
     "text": [
      "2017-08-09 05:31:24.203600 Start.\n",
      "Evaluating Old Bird on BirdVox-70k.\n",
      "pandas version: 0.20.3\n",
      "\n"
     ]
    }
   ],
   "source": [
    "# Print header.\n",
    "start_time = int(time.time())\n",
    "print(str(datetime.datetime.now()) + \" Start.\")\n",
    "print(\"Evaluating Old Bird on \" + dataset_name + \".\")\n",
    "print('pandas version: {:s}'.format(pd.__version__))\n",
    "print(\"\")"
   ]
  },
  {
   "cell_type": "code",
   "execution_count": 27,
   "metadata": {
    "collapsed": false
   },
   "outputs": [],
   "source": [
    "# Loop over units.\n",
    "unit_str = \"unit01\"\n",
    "#for unit_str in units:    ENABLE\n",
    "unit_dir = os.path.join(oldbird_model_dir, unit_str)\n",
    "\n",
    "# Loop over clip suppressor modes.\n",
    "clip_suppressor_str = \"no-clip-suppressor\"\n",
    "#for clip_suppressor_str in clip_suppressor_modes:   ENABLE\n",
    "prediction_name = \"_\".join([\"predictions\", clip_suppressor_str])\n",
    "prediction_dir = os.path.join(unit_dir, prediction_name)\n",
    "\n",
    "# Loop over thresholds.\n",
    "threshold_id = 0\n",
    "#for threshold_id in range(n_thresholds):    ENABLE\n",
    "threshold_str = \"th-\" + str(threshold_id).zfill(2)\n",
    "\n",
    "# Load Thrush prediction.\n",
    "thrush_components_list = [\n",
    "    dataset_name,\n",
    "    \"oldbird\",\n",
    "    \"thrush\",\n",
    "    unit_str,\n",
    "    threshold_str,\n",
    "    \"predictions\"\n",
    "]\n",
    "if clip_suppressor_str == \"clip_suppressor\":\n",
    "    thrush_components_list.append(clip_suppressor_str)\n",
    "thrush_prediction_name = \"_\".join(thrush_components_list)\n",
    "thrush_prediction_path = os.path.join(\n",
    "    prediction_dir, thrush_prediction_name + \".csv\")\n",
    "thrush_df = pd.read_csv(thrush_prediction_path)\n",
    "\n",
    "# Load Tseep prediction.\n",
    "tseep_components_list = thrush_components_list\n",
    "tseep_components_list[2] = \"tseep\"\n",
    "tseep_prediction_name = \"_\".join(tseep_components_list)\n",
    "tseep_prediction_path = os.path.join(\n",
    "    prediction_dir, tseep_prediction_name + \".csv\")\n",
    "tseep_df = pd.read_csv(tseep_prediction_path)\n",
    "\n",
    "# Merge Thrush and Tseep predictions.\n",
    "merged_df = pd.concat((thrush_df, tseep_df))\n",
    "merged_df = merged_df.sort_values([\"Time (s)\"])\n",
    "\n",
    "# Export merged predictions as CSV.\n",
    "merged_components_list = thrush_components_list\n",
    "merged_components_list[2] = \"merged\"\n",
    "merged_prediction_name = \"_\".join(merged_components_list)\n",
    "merged_prediction_path = os.path.join(\n",
    "    prediction_dir, merged_prediction_name + \".csv\")\n",
    "merged_df.to_csv(merged_prediction_path)"
   ]
  },
  {
   "cell_type": "code",
   "execution_count": null,
   "metadata": {
    "collapsed": true
   },
   "outputs": [],
   "source": []
  }
 ],
 "metadata": {
  "kernelspec": {
   "display_name": "Python 3",
   "language": "python",
   "name": "python3"
  },
  "language_info": {
   "codemirror_mode": {
    "name": "ipython",
    "version": 3
   },
   "file_extension": ".py",
   "mimetype": "text/x-python",
   "name": "python",
   "nbconvert_exporter": "python",
   "pygments_lexer": "ipython3",
   "version": "3.6.0"
  }
 },
 "nbformat": 4,
 "nbformat_minor": 2
}
