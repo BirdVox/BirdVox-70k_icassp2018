{
 "cells": [
  {
   "cell_type": "code",
   "execution_count": 1,
   "metadata": {
    "collapsed": true,
    "deletable": true,
    "editable": true
   },
   "outputs": [],
   "source": [
    "import csv\n",
    "import numpy as np\n",
    "import os\n",
    "import pandas as pd\n",
    "import scipy.interpolate\n",
    "import sklearn.metrics\n",
    "import sys\n",
    "sys.path.append(\"../src\")\n",
    "import localmodule\n",
    "\n",
    "\n",
    "if sys.version_info[0] < 3: \n",
    "    from StringIO import StringIO\n",
    "else:\n",
    "    from io import StringIO\n",
    "\n",
    "\n",
    "from matplotlib import pyplot as plt\n",
    "%matplotlib inline\n",
    "\n",
    "# Define constants.\n",
    "dataset_name = localmodule.get_dataset_name()\n",
    "models_dir = localmodule.get_models_dir()\n",
    "units = localmodule.get_units()\n",
    "n_units = len(units)\n",
    "n_trials = 10\n"
   ]
  },
  {
   "cell_type": "code",
   "execution_count": 11,
   "metadata": {
    "collapsed": false,
    "deletable": true,
    "editable": true
   },
   "outputs": [
    {
     "name": "stdout",
     "output_type": "stream",
     "text": [
      "unit01 trial-2\n",
      "74.5727956254\n",
      "unit02 trial-1\n",
      "93.3509513742\n",
      "unit03 trial-6\n",
      "98.4198397893\n",
      "unit05 trial-2\n",
      "97.4734042553\n",
      "unit07 trial-5\n",
      "95.3445635528\n",
      "unit10 trial-9\n",
      "96.666179266\n",
      "\n",
      "92.6379556438\n",
      "94.7248743009\n"
     ]
    }
   ],
   "source": [
    "# Define model directory\n",
    "model_name = \"pcen-convnet\"\n",
    "aug_kind_str = \"none\"\n",
    "if not aug_kind_str == \"none\":\n",
    "    model_name = \"_\".join([model_name, \"aug-\" + aug_kind_str])\n",
    "model_dir = os.path.join(models_dir, model_name)\n",
    "\n",
    "fns, fps, tns, tps, accs = [], [], [], [], []\n",
    "\n",
    "for test_unit_id in range(6):\n",
    "\n",
    "    test_unit_str = units[test_unit_id]\n",
    "    test_unit_dir = os.path.join(model_dir, test_unit_str)\n",
    "\n",
    "    val_losses = []\n",
    "    for trial_id in range(n_trials):\n",
    "        trial_str = \"trial-\" + str(trial_id)\n",
    "        trial_dir = os.path.join(test_unit_dir, trial_str)\n",
    "        history_name = \"_\".join([\n",
    "            dataset_name,\n",
    "            model_name,\n",
    "            test_unit_str,\n",
    "            trial_str,\n",
    "            \"history.csv\"\n",
    "        ])\n",
    "        history_path = os.path.join(\n",
    "            trial_dir, history_name)\n",
    "        try:\n",
    "            history_df = pd.read_csv(history_path)\n",
    "            val_loss = min(history_df[\"Validation loss\"])\n",
    "        except:\n",
    "            val_loss = np.inf\n",
    "        val_losses.append(val_loss)\n",
    "\n",
    "    val_losses = np.array(val_losses)\n",
    "    best_trial_id = np.argmin(val_losses)\n",
    "    best_trial_str = \"trial-\" + str(best_trial_id)\n",
    "    best_trial_dir = os.path.join(test_unit_dir, best_trial_str)\n",
    "    predictions_name = \"_\".join([\n",
    "        dataset_name,\n",
    "        model_name,\n",
    "        \"test-\" + test_unit_str,\n",
    "        best_trial_str,\n",
    "        \"predict-\" + test_unit_str,\n",
    "        \"clip-predictions.csv\"\n",
    "    ])\n",
    "    print(test_unit_str, best_trial_str)\n",
    "    prediction_path = os.path.join(\n",
    "        best_trial_dir, predictions_name)\n",
    "\n",
    "    # Load prediction.\n",
    "    with open(prediction_path, 'r') as f:\n",
    "        reader = csv.reader(f)\n",
    "        rows = list(reader)\n",
    "    rows = [\",\".join(row) for row in rows]\n",
    "    rows = rows[1:]\n",
    "    rows = \"\\n\".join(rows)\n",
    "\n",
    "    # Parse rows with correct header.\n",
    "    df = pd.read_csv(StringIO(rows),\n",
    "        names=[\n",
    "            \"Dataset\",\n",
    "            \"Test unit\",\n",
    "            \"Prediction unit\",\n",
    "            \"Timestamp\",\n",
    "            \"Center Freq (Hz)\",\n",
    "            \"Augmentation\",\n",
    "            \"Key\",\n",
    "            \"Ground truth\",\n",
    "            \"Predicted probability\"])\n",
    "    y_pred = np.array(df[\"Predicted probability\"])\n",
    "    y_pred = (y_pred > 0.5).astype('int')\n",
    "\n",
    "    # Load ground truth.\n",
    "    y_true = np.array(df[\"Ground truth\"])\n",
    "\n",
    "    # Compute confusion matrix.\n",
    "    tn, fp, fn, tp = sklearn.metrics.confusion_matrix(\n",
    "        y_true, y_pred).ravel()\n",
    "\n",
    "    acc = 100 * (tn+tp) / (tn+tp+fn+fp)\n",
    "    print(acc)\n",
    "    \n",
    "    tns.append(tn)\n",
    "    fps.append(fp)\n",
    "    fns.append(fn)\n",
    "    tps.append(tp)\n",
    "    accs.append(acc)\n",
    "\n",
    "fn = sum(fns)\n",
    "fp = sum(fps)\n",
    "tn = sum(tns)\n",
    "tp = sum(tps)\n",
    "acc = np.mean(accs)\n",
    "\n",
    "print(\"\")\n",
    "print(acc)\n",
    "print(100 * (tn+tp) / (tn+tp+fn+fp))"
   ]
  },
  {
   "cell_type": "code",
   "execution_count": 12,
   "metadata": {
    "collapsed": false,
    "deletable": true,
    "editable": true
   },
   "outputs": [
    {
     "name": "stdout",
     "output_type": "stream",
     "text": [
      "74.5727956254\n",
      "75.5126452495\n",
      "73.8209159262\n"
     ]
    }
   ],
   "source": [
    "# Define model directory\n",
    "model_name = \"pcen-convnet\"\n",
    "aug_kind_str = \"none\"\n",
    "if not aug_kind_str == \"none\":\n",
    "    model_name = \"_\".join([model_name, \"aug-\" + aug_kind_str])\n",
    "model_dir = os.path.join(models_dir, model_name)\n",
    "\n",
    "fns, fps, tns, tps = [], [], [], []\n",
    "\n",
    "test_unit_id = 0\n",
    "\n",
    "test_unit_str = units[test_unit_id]\n",
    "test_unit_dir = os.path.join(model_dir, test_unit_str)\n",
    "\n",
    "for trial_id in range(n_trials):\n",
    "    trial_str = \"trial-\" + str(trial_id)\n",
    "    trial_dir = os.path.join(test_unit_dir, trial_str)\n",
    "    predictions_name = \"_\".join([\n",
    "        dataset_name,\n",
    "        model_name,\n",
    "        \"test-\" + test_unit_str,\n",
    "        trial_str,\n",
    "        \"predict-\" + test_unit_str,\n",
    "        \"clip-predictions.csv\"\n",
    "    ])\n",
    "    \n",
    "    prediction_path = os.path.join(\n",
    "        trial_dir, predictions_name)\n",
    "\n",
    "    # Load prediction.\n",
    "    try:\n",
    "        with open(prediction_path, 'r') as f:\n",
    "            reader = csv.reader(f)\n",
    "            rows = list(reader)\n",
    "        rows = [\",\".join(row) for row in rows]\n",
    "        rows = rows[1:]\n",
    "        rows = \"\\n\".join(rows)\n",
    "\n",
    "        # Parse rows with correct header.\n",
    "        df = pd.read_csv(StringIO(rows),\n",
    "            names=[\n",
    "                \"Dataset\",\n",
    "                \"Test unit\",\n",
    "                \"Prediction unit\",\n",
    "                \"Timestamp\",\n",
    "                \"Center Freq (Hz)\",\n",
    "                \"Augmentation\",\n",
    "                \"Key\",\n",
    "                \"Ground truth\",\n",
    "                \"Predicted probability\"])\n",
    "        y_pred = np.array(df[\"Predicted probability\"])\n",
    "        y_pred = (y_pred > 0.5).astype('int')\n",
    "\n",
    "        # Load ground truth.\n",
    "        y_true = np.array(df[\"Ground truth\"])\n",
    "\n",
    "        # Compute confusion matrix.\n",
    "        tn, fp, fn, tp = sklearn.metrics.confusion_matrix(\n",
    "            y_true, y_pred).ravel()\n",
    "        print(100 * (tn+tp) / (tn+tp+fn+fp))\n",
    "    except:\n",
    "        pass"
   ]
  },
  {
   "cell_type": "code",
   "execution_count": 7,
   "metadata": {
    "collapsed": false,
    "deletable": true,
    "editable": true
   },
   "outputs": [
    {
     "name": "stdout",
     "output_type": "stream",
     "text": [
      "unit01 trial-2\n",
      "unit02 trial-1\n",
      "unit03 trial-6\n",
      "unit05 trial-2\n",
      "unit07 trial-5\n",
      "unit10 trial-9\n"
     ]
    }
   ],
   "source": [
    "# Define model directory\n",
    "model_name = \"pcen-convnet\"\n",
    "aug_kind_str = \"none\"\n",
    "if not aug_kind_str == \"none\":\n",
    "    model_name = \"_\".join([model_name, \"aug-\" + aug_kind_str])\n",
    "model_dir = os.path.join(models_dir, model_name)\n",
    "\n",
    "fns, fps, tns, tps, accs = [], [], [], [], []\n",
    "\n",
    "for test_unit_id in range(6):\n",
    "\n",
    "    test_unit_str = units[test_unit_id]\n",
    "    test_unit_dir = os.path.join(model_dir, test_unit_str)\n",
    "\n",
    "    val_losses = []\n",
    "    for trial_id in range(n_trials):\n",
    "        trial_str = \"trial-\" + str(trial_id)\n",
    "        trial_dir = os.path.join(test_unit_dir, trial_str)\n",
    "        history_name = \"_\".join([\n",
    "            dataset_name,\n",
    "            model_name,\n",
    "            test_unit_str,\n",
    "            trial_str,\n",
    "            \"history.csv\"\n",
    "        ])\n",
    "        history_path = os.path.join(\n",
    "            trial_dir, history_name)\n",
    "        try:\n",
    "            history_df = pd.read_csv(history_path)\n",
    "            val_loss = min(history_df[\"Validation loss\"])\n",
    "        except:\n",
    "            val_loss = np.inf\n",
    "        val_losses.append(val_loss)\n",
    "\n",
    "    val_losses = np.array(val_losses)\n",
    "    best_trial_id = np.argmin(val_losses)\n",
    "    best_trial_str = \"trial-\" + str(best_trial_id)\n",
    "    best_trial_dir = os.path.join(test_unit_dir, best_trial_str)\n",
    "    predictions_name = \"_\".join([\n",
    "        dataset_name,\n",
    "        model_name,\n",
    "        \"test-\" + test_unit_str,\n",
    "        best_trial_str,\n",
    "        \"predict-\" + test_unit_str,\n",
    "        \"clip-predictions.csv\"\n",
    "    ])\n",
    "    print(test_unit_str, best_trial_str)"
   ]
  },
  {
   "cell_type": "code",
   "execution_count": 106,
   "metadata": {
    "collapsed": false,
    "deletable": true,
    "editable": true
   },
   "outputs": [
    {
     "name": "stdout",
     "output_type": "stream",
     "text": [
      "56.3055365687\n",
      "96.1733615222\n",
      "99.2154065621\n",
      "96.248100304\n",
      "96.4854517611\n",
      "93.9391723936\n",
      "\n",
      "89.7278381853\n"
     ]
    }
   ],
   "source": [
    "# Define model directory\n",
    "model_name = \"icassp-ntt-convnet\"\n",
    "aug_kind_str = \"all-but-noise\"\n",
    "if not aug_kind_str == \"none\":\n",
    "    model_name = \"_\".join([model_name, \"aug-\" + aug_kind_str])\n",
    "model_dir = os.path.join(models_dir, model_name)\n",
    "\n",
    "fns, fps, tns, tps, accs = [], [], [], [], []\n",
    "\n",
    "# Loop over units.\n",
    "for test_unit_id in range(6):\n",
    "\n",
    "    test_unit_str = units[test_unit_id]\n",
    "    test_unit_dir = os.path.join(model_dir, test_unit_str)\n",
    "\n",
    "    val_accs, val_losses = [], []\n",
    "    \n",
    "    # Loop over trials.\n",
    "    for trial_id in range(n_trials):\n",
    "        trial_str = \"trial-\" + str(trial_id)\n",
    "        trial_dir = os.path.join(test_unit_dir, trial_str)\n",
    "        history_name = \"_\".join([\n",
    "            dataset_name,\n",
    "            model_name,\n",
    "            test_unit_str,\n",
    "            trial_str,\n",
    "            \"history.csv\"\n",
    "        ])\n",
    "        history_path = os.path.join(\n",
    "            trial_dir, history_name)\n",
    "        try:\n",
    "            history_df = pd.read_csv(history_path)\n",
    "            val_acc = max(history_df[\"Validation accuracy (%)\"])\n",
    "            val_loss = min(history_df[\"Validation loss\"])\n",
    "        except:\n",
    "            val_acc = 0\n",
    "            val_loss = np.inf\n",
    "        val_accs.append(val_acc)\n",
    "        val_losses.append(val_loss)\n",
    "\n",
    "    val_accs = np.array(val_accs)\n",
    "    val_losses = np.array(val_losses)\n",
    "    \n",
    "    best_trial_id = np.argmin(val_losses)\n",
    "    best_trial_str = \"trial-\" + str(best_trial_id)\n",
    "    best_trial_dir = os.path.join(test_unit_dir, best_trial_str)\n",
    "    predictions_name = \"_\".join([\n",
    "        dataset_name,\n",
    "        model_name,\n",
    "        \"test-\" + test_unit_str,\n",
    "        best_trial_str,\n",
    "        \"predict-\" + test_unit_str,\n",
    "        \"clip-predictions.csv\"\n",
    "    ])\n",
    "    predictions_path = os.path.join(\n",
    "        best_trial_dir, predictions_name)\n",
    "\n",
    "    # Remove header, which has too few columns (hack).\n",
    "    with open(predictions_path, 'r') as f:\n",
    "        reader = csv.reader(f)\n",
    "        rows = list(reader)\n",
    "    rows = [\",\".join(row) for row in rows]\n",
    "    rows = rows[1:]\n",
    "    rows = \"\\n\".join(rows)\n",
    "\n",
    "    # Parse rows with correct header.\n",
    "    df = pd.read_csv(StringIO(rows),\n",
    "        names=[\n",
    "            \"Dataset\",\n",
    "            \"Test unit\",\n",
    "            \"Prediction unit\",\n",
    "            \"Timestamp\",\n",
    "            \"Center Freq (Hz)\",\n",
    "            \"Augmentation\",\n",
    "            \"Key\",\n",
    "            \"Ground truth\",\n",
    "            \"Predicted probability\"])\n",
    "\n",
    "    # Extract y_pred and y_true.\n",
    "    y_pred = np.array((df[\"Predicted probability\"] > 0.2)).astype(\"int\")\n",
    "    y_true = np.array(df[\"Ground truth\"])\n",
    "\n",
    "    # Compute confusion matrix.\n",
    "    test_tn, test_fp, test_fn, test_tp =\\\n",
    "        sklearn.metrics.confusion_matrix(\n",
    "            y_true, y_pred).ravel()\n",
    "\n",
    "    # Compute accuracy.\n",
    "    acc = 100 * (test_tn + test_tp) /\\\n",
    "        (test_tn + test_tp + test_fn + test_fp)\n",
    "\n",
    "    print(acc)\n",
    "    accs.append(acc)\n",
    "\n",
    "print(\"\")\n",
    "print(np.mean(accs))"
   ]
  },
  {
   "cell_type": "code",
   "execution_count": 99,
   "metadata": {
    "collapsed": false
   },
   "outputs": [
    {
     "data": {
      "text/plain": [
       "96.412298508586346"
      ]
     },
     "execution_count": 99,
     "metadata": {},
     "output_type": "execute_result"
    }
   ],
   "source": []
  },
  {
   "cell_type": "code",
   "execution_count": 19,
   "metadata": {
    "collapsed": false
   },
   "outputs": [
    {
     "ename": "FileNotFoundError",
     "evalue": "File b'/scratch/vl1019/BirdVox-70k_models/icassp-ntt-convnet_aug-all-but-noise/unit10/trial-9/BirdVox-70k_icassp-ntt-convnet_aug-all-but-noise_test-unit10_trial-6_predict-unit10_clip-predictions.csv' does not exist",
     "output_type": "error",
     "traceback": [
      "\u001b[0;31m---------------------------------------------------------------------------\u001b[0m",
      "\u001b[0;31mFileNotFoundError\u001b[0m                         Traceback (most recent call last)",
      "\u001b[0;32m<ipython-input-19-5e3282e8cbec>\u001b[0m in \u001b[0;36m<module>\u001b[0;34m()\u001b[0m\n\u001b[1;32m      1\u001b[0m \u001b[0mpredictions_path\u001b[0m \u001b[0;34m=\u001b[0m \u001b[0mos\u001b[0m\u001b[0;34m.\u001b[0m\u001b[0mpath\u001b[0m\u001b[0;34m.\u001b[0m\u001b[0mjoin\u001b[0m\u001b[0;34m(\u001b[0m\u001b[0mtrial_dir\u001b[0m\u001b[0;34m,\u001b[0m \u001b[0mpredictions_name\u001b[0m\u001b[0;34m)\u001b[0m\u001b[0;34m\u001b[0m\u001b[0m\n\u001b[0;32m----> 2\u001b[0;31m \u001b[0mpd\u001b[0m\u001b[0;34m.\u001b[0m\u001b[0mread_csv\u001b[0m\u001b[0;34m(\u001b[0m\u001b[0mpredictions_path\u001b[0m\u001b[0;34m)\u001b[0m\u001b[0;34m\u001b[0m\u001b[0m\n\u001b[0m",
      "\u001b[0;32m/home/vl1019/miniconda3/lib/python3.6/site-packages/pandas/io/parsers.py\u001b[0m in \u001b[0;36mparser_f\u001b[0;34m(filepath_or_buffer, sep, delimiter, header, names, index_col, usecols, squeeze, prefix, mangle_dupe_cols, dtype, engine, converters, true_values, false_values, skipinitialspace, skiprows, nrows, na_values, keep_default_na, na_filter, verbose, skip_blank_lines, parse_dates, infer_datetime_format, keep_date_col, date_parser, dayfirst, iterator, chunksize, compression, thousands, decimal, lineterminator, quotechar, quoting, escapechar, comment, encoding, dialect, tupleize_cols, error_bad_lines, warn_bad_lines, skipfooter, skip_footer, doublequote, delim_whitespace, as_recarray, compact_ints, use_unsigned, low_memory, buffer_lines, memory_map, float_precision)\u001b[0m\n\u001b[1;32m    653\u001b[0m                     skip_blank_lines=skip_blank_lines)\n\u001b[1;32m    654\u001b[0m \u001b[0;34m\u001b[0m\u001b[0m\n\u001b[0;32m--> 655\u001b[0;31m         \u001b[0;32mreturn\u001b[0m \u001b[0m_read\u001b[0m\u001b[0;34m(\u001b[0m\u001b[0mfilepath_or_buffer\u001b[0m\u001b[0;34m,\u001b[0m \u001b[0mkwds\u001b[0m\u001b[0;34m)\u001b[0m\u001b[0;34m\u001b[0m\u001b[0m\n\u001b[0m\u001b[1;32m    656\u001b[0m \u001b[0;34m\u001b[0m\u001b[0m\n\u001b[1;32m    657\u001b[0m     \u001b[0mparser_f\u001b[0m\u001b[0;34m.\u001b[0m\u001b[0m__name__\u001b[0m \u001b[0;34m=\u001b[0m \u001b[0mname\u001b[0m\u001b[0;34m\u001b[0m\u001b[0m\n",
      "\u001b[0;32m/home/vl1019/miniconda3/lib/python3.6/site-packages/pandas/io/parsers.py\u001b[0m in \u001b[0;36m_read\u001b[0;34m(filepath_or_buffer, kwds)\u001b[0m\n\u001b[1;32m    403\u001b[0m \u001b[0;34m\u001b[0m\u001b[0m\n\u001b[1;32m    404\u001b[0m     \u001b[0;31m# Create the parser.\u001b[0m\u001b[0;34m\u001b[0m\u001b[0;34m\u001b[0m\u001b[0m\n\u001b[0;32m--> 405\u001b[0;31m     \u001b[0mparser\u001b[0m \u001b[0;34m=\u001b[0m \u001b[0mTextFileReader\u001b[0m\u001b[0;34m(\u001b[0m\u001b[0mfilepath_or_buffer\u001b[0m\u001b[0;34m,\u001b[0m \u001b[0;34m**\u001b[0m\u001b[0mkwds\u001b[0m\u001b[0;34m)\u001b[0m\u001b[0;34m\u001b[0m\u001b[0m\n\u001b[0m\u001b[1;32m    406\u001b[0m \u001b[0;34m\u001b[0m\u001b[0m\n\u001b[1;32m    407\u001b[0m     \u001b[0;32mif\u001b[0m \u001b[0mchunksize\u001b[0m \u001b[0;32mor\u001b[0m \u001b[0miterator\u001b[0m\u001b[0;34m:\u001b[0m\u001b[0;34m\u001b[0m\u001b[0m\n",
      "\u001b[0;32m/home/vl1019/miniconda3/lib/python3.6/site-packages/pandas/io/parsers.py\u001b[0m in \u001b[0;36m__init__\u001b[0;34m(self, f, engine, **kwds)\u001b[0m\n\u001b[1;32m    762\u001b[0m             \u001b[0mself\u001b[0m\u001b[0;34m.\u001b[0m\u001b[0moptions\u001b[0m\u001b[0;34m[\u001b[0m\u001b[0;34m'has_index_names'\u001b[0m\u001b[0;34m]\u001b[0m \u001b[0;34m=\u001b[0m \u001b[0mkwds\u001b[0m\u001b[0;34m[\u001b[0m\u001b[0;34m'has_index_names'\u001b[0m\u001b[0;34m]\u001b[0m\u001b[0;34m\u001b[0m\u001b[0m\n\u001b[1;32m    763\u001b[0m \u001b[0;34m\u001b[0m\u001b[0m\n\u001b[0;32m--> 764\u001b[0;31m         \u001b[0mself\u001b[0m\u001b[0;34m.\u001b[0m\u001b[0m_make_engine\u001b[0m\u001b[0;34m(\u001b[0m\u001b[0mself\u001b[0m\u001b[0;34m.\u001b[0m\u001b[0mengine\u001b[0m\u001b[0;34m)\u001b[0m\u001b[0;34m\u001b[0m\u001b[0m\n\u001b[0m\u001b[1;32m    765\u001b[0m \u001b[0;34m\u001b[0m\u001b[0m\n\u001b[1;32m    766\u001b[0m     \u001b[0;32mdef\u001b[0m \u001b[0mclose\u001b[0m\u001b[0;34m(\u001b[0m\u001b[0mself\u001b[0m\u001b[0;34m)\u001b[0m\u001b[0;34m:\u001b[0m\u001b[0;34m\u001b[0m\u001b[0m\n",
      "\u001b[0;32m/home/vl1019/miniconda3/lib/python3.6/site-packages/pandas/io/parsers.py\u001b[0m in \u001b[0;36m_make_engine\u001b[0;34m(self, engine)\u001b[0m\n\u001b[1;32m    983\u001b[0m     \u001b[0;32mdef\u001b[0m \u001b[0m_make_engine\u001b[0m\u001b[0;34m(\u001b[0m\u001b[0mself\u001b[0m\u001b[0;34m,\u001b[0m \u001b[0mengine\u001b[0m\u001b[0;34m=\u001b[0m\u001b[0;34m'c'\u001b[0m\u001b[0;34m)\u001b[0m\u001b[0;34m:\u001b[0m\u001b[0;34m\u001b[0m\u001b[0m\n\u001b[1;32m    984\u001b[0m         \u001b[0;32mif\u001b[0m \u001b[0mengine\u001b[0m \u001b[0;34m==\u001b[0m \u001b[0;34m'c'\u001b[0m\u001b[0;34m:\u001b[0m\u001b[0;34m\u001b[0m\u001b[0m\n\u001b[0;32m--> 985\u001b[0;31m             \u001b[0mself\u001b[0m\u001b[0;34m.\u001b[0m\u001b[0m_engine\u001b[0m \u001b[0;34m=\u001b[0m \u001b[0mCParserWrapper\u001b[0m\u001b[0;34m(\u001b[0m\u001b[0mself\u001b[0m\u001b[0;34m.\u001b[0m\u001b[0mf\u001b[0m\u001b[0;34m,\u001b[0m \u001b[0;34m**\u001b[0m\u001b[0mself\u001b[0m\u001b[0;34m.\u001b[0m\u001b[0moptions\u001b[0m\u001b[0;34m)\u001b[0m\u001b[0;34m\u001b[0m\u001b[0m\n\u001b[0m\u001b[1;32m    986\u001b[0m         \u001b[0;32melse\u001b[0m\u001b[0;34m:\u001b[0m\u001b[0;34m\u001b[0m\u001b[0m\n\u001b[1;32m    987\u001b[0m             \u001b[0;32mif\u001b[0m \u001b[0mengine\u001b[0m \u001b[0;34m==\u001b[0m \u001b[0;34m'python'\u001b[0m\u001b[0;34m:\u001b[0m\u001b[0;34m\u001b[0m\u001b[0m\n",
      "\u001b[0;32m/home/vl1019/miniconda3/lib/python3.6/site-packages/pandas/io/parsers.py\u001b[0m in \u001b[0;36m__init__\u001b[0;34m(self, src, **kwds)\u001b[0m\n\u001b[1;32m   1603\u001b[0m         \u001b[0mkwds\u001b[0m\u001b[0;34m[\u001b[0m\u001b[0;34m'allow_leading_cols'\u001b[0m\u001b[0;34m]\u001b[0m \u001b[0;34m=\u001b[0m \u001b[0mself\u001b[0m\u001b[0;34m.\u001b[0m\u001b[0mindex_col\u001b[0m \u001b[0;32mis\u001b[0m \u001b[0;32mnot\u001b[0m \u001b[0;32mFalse\u001b[0m\u001b[0;34m\u001b[0m\u001b[0m\n\u001b[1;32m   1604\u001b[0m \u001b[0;34m\u001b[0m\u001b[0m\n\u001b[0;32m-> 1605\u001b[0;31m         \u001b[0mself\u001b[0m\u001b[0;34m.\u001b[0m\u001b[0m_reader\u001b[0m \u001b[0;34m=\u001b[0m \u001b[0mparsers\u001b[0m\u001b[0;34m.\u001b[0m\u001b[0mTextReader\u001b[0m\u001b[0;34m(\u001b[0m\u001b[0msrc\u001b[0m\u001b[0;34m,\u001b[0m \u001b[0;34m**\u001b[0m\u001b[0mkwds\u001b[0m\u001b[0;34m)\u001b[0m\u001b[0;34m\u001b[0m\u001b[0m\n\u001b[0m\u001b[1;32m   1606\u001b[0m \u001b[0;34m\u001b[0m\u001b[0m\n\u001b[1;32m   1607\u001b[0m         \u001b[0;31m# XXX\u001b[0m\u001b[0;34m\u001b[0m\u001b[0;34m\u001b[0m\u001b[0m\n",
      "\u001b[0;32mpandas/_libs/parsers.pyx\u001b[0m in \u001b[0;36mpandas._libs.parsers.TextReader.__cinit__ (pandas/_libs/parsers.c:4209)\u001b[0;34m()\u001b[0m\n",
      "\u001b[0;32mpandas/_libs/parsers.pyx\u001b[0m in \u001b[0;36mpandas._libs.parsers.TextReader._setup_parser_source (pandas/_libs/parsers.c:8873)\u001b[0;34m()\u001b[0m\n",
      "\u001b[0;31mFileNotFoundError\u001b[0m: File b'/scratch/vl1019/BirdVox-70k_models/icassp-ntt-convnet_aug-all-but-noise/unit10/trial-9/BirdVox-70k_icassp-ntt-convnet_aug-all-but-noise_test-unit10_trial-6_predict-unit10_clip-predictions.csv' does not exist"
     ]
    }
   ],
   "source": [
    "predictions_path = os.path.join(trial_dir, predictions_name)\n",
    "pd.read_csv(predictions_path)"
   ]
  },
  {
   "cell_type": "code",
   "execution_count": 16,
   "metadata": {
    "collapsed": false
   },
   "outputs": [
    {
     "data": {
      "text/plain": [
       "'BirdVox-70k_icassp-ntt-convnet_aug-all-but-noise_test-unit10_trial-6_predict-unit10_clip-predictions.csv'"
      ]
     },
     "execution_count": 16,
     "metadata": {},
     "output_type": "execute_result"
    }
   ],
   "source": [
    "predictions_name"
   ]
  },
  {
   "cell_type": "code",
   "execution_count": 21,
   "metadata": {
    "collapsed": false
   },
   "outputs": [
    {
     "data": {
      "text/plain": [
       "'/scratch/vl1019/BirdVox-70k_models/icassp-ntt-convnet_aug-all-but-noise/unit10/trial-9'"
      ]
     },
     "execution_count": 21,
     "metadata": {},
     "output_type": "execute_result"
    }
   ],
   "source": [
    "trial_dir"
   ]
  },
  {
   "cell_type": "code",
   "execution_count": null,
   "metadata": {
    "collapsed": true
   },
   "outputs": [],
   "source": []
  }
 ],
 "metadata": {
  "kernelspec": {
   "display_name": "Python 3",
   "language": "python",
   "name": "python3"
  },
  "language_info": {
   "codemirror_mode": {
    "name": "ipython",
    "version": 3
   },
   "file_extension": ".py",
   "mimetype": "text/x-python",
   "name": "python",
   "nbconvert_exporter": "python",
   "pygments_lexer": "ipython3",
   "version": "3.6.0"
  }
 },
 "nbformat": 4,
 "nbformat_minor": 2
}
