{
 "cells": [
  {
   "cell_type": "code",
   "execution_count": 2,
   "metadata": {
    "collapsed": true
   },
   "outputs": [],
   "source": [
    "import csv\n",
    "import numpy as np\n",
    "import os\n",
    "import pandas as pd\n",
    "import scipy.interpolate\n",
    "import sklearn.metrics\n",
    "import sys\n",
    "sys.path.append(\"../src\")\n",
    "import localmodule\n",
    "\n",
    "\n",
    "if sys.version_info[0] < 3: \n",
    "    from StringIO import StringIO\n",
    "else:\n",
    "    from io import StringIO\n",
    "\n",
    "\n",
    "from matplotlib import pyplot as plt\n",
    "%matplotlib inline\n",
    "\n",
    "# Define constants.\n",
    "dataset_name = localmodule.get_dataset_name()\n",
    "models_dir = localmodule.get_models_dir()\n",
    "units = localmodule.get_units()\n",
    "n_units = len(units)\n"
   ]
  },
  {
   "cell_type": "code",
   "execution_count": 46,
   "metadata": {
    "collapsed": false
   },
   "outputs": [
    {
     "ename": "FileNotFoundError",
     "evalue": "[Errno 2] No such file or directory: '/scratch/vl1019/BirdVox-70k_models/pcen-convnet/unit01/trial-5/BirdVox-70k_pcen-convnet_test-unit01_trial-5_predict-unit01_clip-predictions.csv'",
     "output_type": "error",
     "traceback": [
      "\u001b[0;31m---------------------------------------------------------------------------\u001b[0m",
      "\u001b[0;31mFileNotFoundError\u001b[0m                         Traceback (most recent call last)",
      "\u001b[0;32m<ipython-input-46-464333edba70>\u001b[0m in \u001b[0;36m<module>\u001b[0;34m()\u001b[0m\n\u001b[1;32m     33\u001b[0m \u001b[0;34m\u001b[0m\u001b[0m\n\u001b[1;32m     34\u001b[0m     \u001b[0;31m# Load prediction.\u001b[0m\u001b[0;34m\u001b[0m\u001b[0;34m\u001b[0m\u001b[0m\n\u001b[0;32m---> 35\u001b[0;31m     \u001b[0;32mwith\u001b[0m \u001b[0mopen\u001b[0m\u001b[0;34m(\u001b[0m\u001b[0mprediction_path\u001b[0m\u001b[0;34m,\u001b[0m \u001b[0;34m'r'\u001b[0m\u001b[0;34m)\u001b[0m \u001b[0;32mas\u001b[0m \u001b[0mf\u001b[0m\u001b[0;34m:\u001b[0m\u001b[0;34m\u001b[0m\u001b[0m\n\u001b[0m\u001b[1;32m     36\u001b[0m         \u001b[0mreader\u001b[0m \u001b[0;34m=\u001b[0m \u001b[0mcsv\u001b[0m\u001b[0;34m.\u001b[0m\u001b[0mreader\u001b[0m\u001b[0;34m(\u001b[0m\u001b[0mf\u001b[0m\u001b[0;34m)\u001b[0m\u001b[0;34m\u001b[0m\u001b[0m\n\u001b[1;32m     37\u001b[0m         \u001b[0mrows\u001b[0m \u001b[0;34m=\u001b[0m \u001b[0mlist\u001b[0m\u001b[0;34m(\u001b[0m\u001b[0mreader\u001b[0m\u001b[0;34m)\u001b[0m\u001b[0;34m\u001b[0m\u001b[0m\n",
      "\u001b[0;31mFileNotFoundError\u001b[0m: [Errno 2] No such file or directory: '/scratch/vl1019/BirdVox-70k_models/pcen-convnet/unit01/trial-5/BirdVox-70k_pcen-convnet_test-unit01_trial-5_predict-unit01_clip-predictions.csv'"
     ]
    }
   ],
   "source": [
    "# Define model directory\n",
    "model_name = \"pcen-convnet\"\n",
    "aug_kind_str = \"none\"\n",
    "if not aug_kind_str == \"none\":\n",
    "    model_name = \"_\".join([model_name, \"aug-\" + aug_kind_str])\n",
    "model_dir = os.path.join(models_dir, model_name)\n",
    "best_trials = {\n",
    "    \"unit01\": 5,\n",
    "    \"unit02\": 1,\n",
    "    \"unit03\": 6,\n",
    "    \"unit05\": 2,\n",
    "    \"unit07\": 5,\n",
    "    \"unit10\": 6}\n",
    "\n",
    "\n",
    "for test_unit_id in range(6):\n",
    "    test_unit_str = units[test_unit_id]\n",
    "    trial_id = best_trials[test_unit_str]\n",
    "\n",
    "    test_unit_dir = os.path.join(model_dir, test_unit_str)\n",
    "    trial_str = \"trial-\" + str(trial_id)\n",
    "    trial_dir = os.path.join(test_unit_dir, trial_str)\n",
    "    predictions_name = \"_\".join([\n",
    "        dataset_name,\n",
    "        model_name,\n",
    "        \"test-\" + test_unit_str,\n",
    "        \"trial-\" + str(trial_id),\n",
    "        \"predict-\" + test_unit_str,\n",
    "        \"clip-predictions.csv\"\n",
    "    ])\n",
    "    prediction_path = os.path.join(\n",
    "        trial_dir, predictions_name)\n",
    "\n",
    "    # Load prediction.\n",
    "    with open(prediction_path, 'r') as f:\n",
    "        reader = csv.reader(f)\n",
    "        rows = list(reader)\n",
    "    rows = [\",\".join(row) for row in rows]\n",
    "    rows = rows[1:]\n",
    "    rows = \"\\n\".join(rows)\n",
    "\n",
    "    # Parse rows with correct header.\n",
    "    df = pd.read_csv(StringIO(rows),\n",
    "        names=[\n",
    "            \"Dataset\",\n",
    "            \"Test unit\",\n",
    "            \"Prediction unit\",\n",
    "            \"Timestamp\",\n",
    "            \"Center Freq (Hz)\",\n",
    "            \"Augmentation\",\n",
    "            \"Key\",\n",
    "            \"Ground truth\",\n",
    "            \"Predicted probability\"])\n",
    "    y_pred = np.array(df[\"Predicted probability\"])\n",
    "    y_pred = (y_pred > 0.5).astype('int')\n",
    "\n",
    "    # Load ground truth.\n",
    "    y_true = np.array(df[\"Ground truth\"])\n",
    "\n",
    "    # Compute confusion matrix.\n",
    "    tn, fp, fn, tp = sklearn.metrics.confusion_matrix(\n",
    "        y_true, y_pred).ravel()\n",
    "\n",
    "    print(100 * (tn+tp) / (tn+fp+fn+tp))"
   ]
  },
  {
   "cell_type": "code",
   "execution_count": 32,
   "metadata": {
    "collapsed": false
   },
   "outputs": [
    {
     "data": {
      "text/plain": [
       "(array([0, 0, 0, 0, 0, 0, 0, 0, 0, 0, 0, 0, 0, 0, 0, 0, 0, 0, 0, 0, 0, 0, 0,\n",
       "        0, 0, 0, 0, 0, 0, 1, 1, 0, 0, 0, 0, 0, 0, 0, 0, 0, 0, 0, 0, 0, 0, 0,\n",
       "        0, 0, 0, 0, 0, 0, 0, 0, 0, 0, 0, 0, 0, 0, 0, 0, 0, 0, 0, 0, 0, 1, 1,\n",
       "        0, 1, 0, 0, 0, 0, 0, 0, 0, 0, 0, 0, 1, 0, 0, 0, 0, 0, 0, 0, 0, 0, 0,\n",
       "        0, 0, 0, 0, 0, 0, 0, 0]),\n",
 