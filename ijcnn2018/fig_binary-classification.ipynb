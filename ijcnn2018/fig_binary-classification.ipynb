{
 "cells": [
  {
   "cell_type": "code",
   "execution_count": 2,
   "metadata": {
    "collapsed": true
   },
   "outputs": [],
   "source": [
    "import csv\n",
    "import numpy as np\n",
    "import os\n",
    "import pandas as pd\n",
    "import scipy.interpolate\n",
    "import sklearn.metrics\n",
    "import sys\n",
    "sys.path.append(\"../src\")\n",
    "import localmodule\n",
    "\n",
    "\n",
    "if sys.version_info[0] < 3: \n",
    "    from StringIO import StringIO\n",
    "else:\n",
    "    from io import StringIO\n",
    "\n",
    "\n",
    "from matplotlib import pyplot as plt\n",
    "%matplotlib inline\n",
    "\n",
    "# Define constants.\n",
    "dataset_name = localmodule.get_dataset_name()\n",
    "models_dir = localmodule.get_models_dir()\n",
    "units = localmodule.get_units()\n",
    "n_units = len(units)\n",
    "n_trials = 10\n"
   ]
  },
  {
   "cell_type": "code",
   "execution_count": 77,
   "metadata": {
    "collapsed": false
   },
   "outputs": [
    {
     "name": "stdout",
     "output_type": "stream",
     "text": [
      "[ 0.70647608  0.70191752  4.80288719  0.70334759  0.63155138  0.15075385\n",
      "  3.54959925         inf         inf         inf]\n",
      "unit01 trial-5\n",
      "63.1920710868\n",
      "\n",
      "[ 4.43504432  0.70762155  1.05082178  0.69717627  4.21015886  0.40485319\n",
      "  3.23831678         inf         inf         inf]\n",
      "unit02 trial-5\n",
      "92.177589852\n",
      "\n",
      "[ 0.75255397  0.72310425  0.67721544  0.39027634  0.4300449   0.40504112\n",
      "  3.02420958         inf         inf         inf]\n",
      "unit03 trial-3\n",
      "97.7559530341\n",
      "\n",
      "[ 0.69350966  4.5609372   2.95516487  0.71740825  0.72541278  4.40426246\n",
      "  0.71833662         inf         inf         inf]\n",
      "unit05 trial-0\n"
     ]
    },
    {
     "ename": "FileNotFoundError",
     "evalue": "[Errno 2] No such file or directory: '/scratch/vl1019/BirdVox-70k_models/pcen-convnet_aug-all/unit05/trial-0/BirdVox-70k_pcen-convnet_aug-all_test-unit05_trial-0_predict-unit05_clip-predictions.csv'",
     "output_type": "error",
     "traceback": [
      "\u001b[0;31m---------------------------------------------------------------------------\u001b[0m",
      "\u001b[0;31mFileNotFoundError\u001b[0m                         Traceback (most recent call last)",
      "\u001b[0;32m<ipython-input-77-0f41a1571034>\u001b[0m in \u001b[0;36m<module>\u001b[0;34m()\u001b[0m\n\u001b[1;32m     50\u001b[0m \u001b[0;34m\u001b[0m\u001b[0m\n\u001b[1;32m     51\u001b[0m     \u001b[0;31m# Load prediction.\u001b[0m\u001b[0;34m\u001b[0m\u001b[0;34m\u001b[0m\u001b[0m\n\u001b[0;32m---> 52\u001b[0;31m     \u001b[0;32mwith\u001b[0m \u001b[0mopen\u001b[0m\u001b[0;34m(\u001b[0m\u001b[0mprediction_path\u001b[0m\u001b[0;34m,\u001b[0m \u001b[0;34m'r'\u001b[0m\u001b[0;34m)\u001b[0m \u001b[0;32mas\u001b[0m \u001b[0mf\u001b[0m\u001b[0;34m:\u001b[0m\u001b[0;34m\u001b[0m\u001b[0m\n\u001b[0m\u001b[1;32m     53\u001b[0m         \u001b[0mreader\u001b[0m \u001b[0;34m=\u001b[0m \u001b[0mcsv\u001b[0m\u001b[0;34m.\u001b[0m\u001b[0mreader\u001b[0m\u001b[0;34m(\u001b[0m\u001b[0mf\u001b[0m\u001b[0;34m)\u001b[0m\u001b[0;34m\u001b[0m\u001b[0m\n\u001b[1;32m     54\u001b[0m         \u001b[0mrows\u001b[0m \u001b[0;34m=\u001b[0m \u001b[0mlist\u001b[0m\u001b[0;34m(\u001b[0m\u001b[0mreader\u001b[0m\u001b[0;34m)\u001b[0m\u001b[0;34m\u001b[0m\u001b[0m\n",
      "\u001b[0;31mFileNotFoundError\u001b[0m: [Errno 2] No such file or directory: '/scratch/vl1019/BirdVox-70k_models/pcen-convnet_aug-all/unit05/trial-0/BirdVox-70k_pcen-convnet_aug-all_test-unit05_trial-0_predict-unit05_clip-predictions.csv'"
     ]
    }
   ],
   "source": [
    "# Define model directory\n",
    "model_name = \"pcen-convnet\"\n",
    "aug_kind_str = \"all\"\n",
    "if not aug_kind_str == \"none\":\n",
    "    model_name = \"_\".join([model_name, \"aug-\" + aug_kind_str])\n",
    "model_dir = os.path.join(models_dir, model_name)\n",
    "\n",
    "\n",
    "for test_unit_id in range(6):\n",
    "\n",
    "    test_unit_str = units[test_unit_id]\n",
    "    test_unit_dir = os.path.join(model_dir, test_unit_str)\n",
    "\n",
    "    val_losses = []\n",
    "    for trial_id in range(n_trials):\n",
    "        trial_str = \"trial-\" + str(trial_id)\n",
    "        trial_dir = os.path.join(test_unit_dir, trial_str)\n",
    "        history_name = \"_\".join([\n",
    "            dataset_name,\n",
    "            model_name,\n",
    "            test_unit_str,\n",
    "            trial_str,\n",
    "            \"history.csv\"\n",
    "        ])\n",
    "        history_path = os.path.join(\n",
    "            trial_dir, history_name)\n",
    "        try:\n",
    "            history_df = pd.read_csv(history_path)\n",
    "            val_loss = min(history_df[\"Validation loss\"])\n",
    "        except:\n",
    "            val_loss = np.inf\n",
    "        val_losses.append(val_loss)\n",
    "\n",
    "    val_losses = np.array(val_losses)\n",
    "    best_trial_id = np.argmin(val_losses)\n",
    "    best_trial_str = \"trial-\" + str(best_trial_id)\n",
    "    best_trial_dir = os.path.join(test_unit_dir, best_trial_str)\n",
    "    predictions_name = \"_\".join([\n",
    "        dataset_name,\n",
    "        model_name,\n",
    "        \"test-\" + test_unit_str,\n",
    "        best_trial_str,\n",
    "        \"predict-\" + test_unit_str,\n",
    "        \"clip-predictions.csv\"\n",
    "    ])\n",
    "    print(val_losses)\n",
    "    print(test_unit_str, best_trial_str)\n",
    "    prediction_path = os.path.join(\n",
    "        best_trial_dir, predictions_name)\n",
    "\n",
    "    # Load prediction.\n",
    "    with open(prediction_path, 'r') as f:\n",
    "        reader = csv.reader(f)\n",
    "        rows = list(reader)\n",
    "    rows = [\",\".join(row) for row in rows]\n",
    "    rows = rows[1:]\n",
    "    rows = \"\\n\".join(rows)\n",
    "\n",
    "    # Parse rows with correct header.\n",
    "    df = pd.read_csv(StringIO(rows),\n",
    "        names=[\n",
    "            \"Dataset\",\n",
    "            \"Test unit\",\n",
    "            \"Prediction unit\",\n",
    "            \"Timestamp\",\n",
    "            \"Center Freq (Hz)\",\n",
    "            \"Augmentation\",\n",
    "            \"Key\",\n",
    "            \"Ground truth\",\n",
    "            \"Predicted probability\"])\n",
    "    y_pred = np.array(df[\"Predicted probability\"])\n",
    "    y_pred = (y_pred > 0.5).astype('int')\n",
    "\n",
    "    # Load ground truth.\n",
    "    y_true = np.array(df[\"Ground truth\"])\n",
    "\n",
    "    # Compute confusion matrix.\n",
    "    tn, fp, fn, tp = sklearn.metrics.confusion_matrix(\n",
    "        y_true, y_pred).ravel()\n",
    "\n",
    "    print(100 * (tn+tp) / (tn+fp+fn+tp))\n",
    "    print()"
   ]
  },
  {
   "cell_type": "code",
   "execution_count": 16,
   "metadata": {
    "collapsed": false
   },
   "outputs": [
    {
     "data": {
      "text/plain": [
       "'/scratch/vl1019/BirdVox-70k_models/pcen-convnet/unit01/trial-2/BirdVox-70k_pcen-convnet_test-unit01_trial-2_predict-unit01_clip-predictions.csv'"
      ]
     },
     "execution_count": 16,
     "metadata": {},
     "output_type": "execute_result"
    }
   ],
   "source": [
    "prediction_path"
   ]
  },
  {
   "cell_type": "code",
   "execution_count": null,
   "metadata": {
    "collapsed": true
   },
   "outputs": [],
   "source": []
  }
 ],
 "metadata": {
  "kernelspec": {
   "display_name": "Python 3",
   "language": "python",
   "name": "python3"
  },
  "language_info": {
   "codemirror_mode": {
    "name": "ipython",
    "version": 3
   },
   "file_extension": ".py",
   "mimetype": "text/x-python",
   "name": "python",
   "nbconvert_exporter": "python",
   "pygments_lexer": "ipython3",
   "version": "3.6.0"
  }
 },
 "nbformat": 4,
 "nbformat_minor": 2
}
