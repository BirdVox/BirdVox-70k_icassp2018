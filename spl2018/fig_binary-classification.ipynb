{
 "cells": [
  {
   "cell_type": "code",
   "execution_count": 1,
   "metadata": {
    "collapsed": true,
    "deletable": true,
    "editable": true
   },
   "outputs": [],
   "source": [
    "import csv\n",
    "import numpy as np\n",
    "import os\n",
    "import pandas as pd\n",
    "import scipy.interpolate\n",
    "import sklearn.metrics\n",
    "import sys\n",
    "sys.path.append(\"../src\")\n",
    "import localmodule\n",
    "\n",
    "\n",
    "if sys.version_info[0] < 3: \n",
    "    from StringIO import StringIO\n",
    "else:\n",
    "    from io import StringIO\n",
    "\n",
    "\n",
    "from matplotlib import pyplot as plt\n",
    "%matplotlib inline\n",
    "\n",
    "# Define constants.\n",
    "dataset_name = localmodule.get_dataset_name()\n",
    "models_dir = localmodule.get_models_dir()\n",
    "units = localmodule.get_units()\n",
    "n_units = len(units)\n",
    "n_trials = 10\n"
   ]
  },
  {
   "cell_type": "code",
   "execution_count": 8,
   "metadata": {
    "collapsed": false,
    "deletable": true,
    "editable": true
   },
   "outputs": [
    {
     "name": "stdout",
     "output_type": "stream",
     "text": [
      "\n",
      "\n",
      "\n",
      "\n",
      "\n",
      "\n",
      "\n",
      "\n",
      "\n",
      "\n",
      "\n"
     ]
    }
   ],
   "source": [
    "n_val_trials = 1\n",
    "model_val_accs = np.zeros((11, 6))\n",
    "    \n",
    "# Loop over models.\n",
    "for model_id, model_name in enumerate([\n",
    "        \"icassp-convnet\", \"icassp-convnet_aug-all\", \n",
    "         \"icassp-ntt-convnet\", \"icassp-ntt-convnet_aug-all-but-noise\", \"icassp-ntt-convnet_aug-all\",\n",
    "         \"pcen-convnet\", \"pcen-convnet_aug-all-but-noise\", \"pcen-convnet_aug-all\",\n",
    "         \"icassp-add-convnet\", \"icassp-add-convnet_aug-all-but-noise\", \"icassp-add-convnet_aug-all\"]):\n",
    "\n",
    "    model_dir = os.path.join(models_dir, model_name)\n",
    "\n",
    "    for test_unit_id in range(6):\n",
    "\n",
    "        test_unit_str = units[test_unit_id]\n",
    "        test_unit_dir = os.path.join(model_dir, test_unit_str)\n",
    "\n",
    "        val_accs = []\n",
    "        for trial_id in range(n_trials):\n",
    "            trial_str = \"trial-\" + str(trial_id)\n",
    "            trial_dir = os.path.join(test_unit_dir, trial_str)\n",
    "            history_name = \"_\".join([\n",
    "                dataset_name,\n",
    "                model_name,\n",
    "                test_unit_str,\n",
    "                trial_str,\n",
    "                \"history.csv\"\n",
    "            ])\n",
    "            history_path = os.path.join(\n",
    "                trial_dir, history_name)\n",
    "            try:\n",
    "                history_df = pd.read_csv(history_path)\n",
    "                val_acc = max(history_df[\"Validation accuracy (%)\"])\n",
    "            except:\n",
    "                val_acc = 0.0\n",
    "            val_accs.append(val_acc)\n",
    "\n",
    "        val_accs = np.array(val_accs)\n",
    "        best_trial_ids = np.argsort(val_accs)[::-1]\n",
    "        best_trial_ids = best_trial_ids[:n_val_trials]\n",
    "\n",
    "        for trial_id in best_trial_ids:\n",
    "\n",
    "            trial_str = \"trial-\" + str(trial_id)\n",
    "            fns, fps, tns, tps, accs = [], [], [], [], []\n",
    "            validation_units = localmodule.fold_units()[test_unit_id][2]\n",
    "\n",
    "            for val_unit_str in validation_units:\n",
    "\n",
    "                trial_dir = os.path.join(\n",
    "                    test_unit_dir, trial_str)\n",
    "                predictions_name = \"_\".join([\n",
    "                    dataset_name,\n",
    "                    model_name,\n",
    "                    \"test-\" + test_unit_str,\n",
    "                    trial_str,\n",
    "                    \"predict-\" + val_unit_str,\n",
    "                    \"clip-predictions.csv\"\n",
    "                ])\n",
    "                prediction_path = os.path.join(\n",
    "                    trial_dir, predictions_name)\n",
    "\n",
    "                # Load prediction.\n",
    "                with open(prediction_path, 'r') as f:\n",
    "                    reader = csv.reader(f)\n",
    "                    rows = list(reader)\n",
    "                rows = [\",\".join(row) for row in rows]\n",
    "                rows = rows[1:]\n",
    "                rows = \"\\n\".join(rows)\n",
    "\n",
    "                # Parse rows with correct header.\n",
    "                df = pd.read_csv(StringIO(rows),\n",
    "                    names=[\n",
    "                        \"Dataset\",\n",
    "                        \"Test unit\",\n",
    "                        \"Prediction unit\",\n",
    "                        \"Timestamp\",\n",
    "                        \"Center Freq (Hz)\",\n",
    "                        \"Augmentation\",\n",
    "                        \"Key\",\n",
    "                        \"Ground truth\",\n",
    "                        \"Predicted probability\"])\n",
    "                y_pred = np.array(df[\"Predicted probability\"])\n",
    "                y_pred = (y_pred > 0.5).astype('int')\n",
    "\n",
    "                # Load ground truth.\n",
    "                y_true = np.array(df[\"Ground truth\"])\n",
    "\n",
    "                # Compute confusion matrix.\n",
    "                tn, fp, fn, tp = sklearn.metrics.confusion_matrix(\n",
    "                    y_true, y_pred).ravel()\n",
    "\n",
    "                tns.append(tn)\n",
    "                fps.append(fp)\n",
    "                fns.append(fn)\n",
    "                tps.append(tp)\n",
    "\n",
    "            fn = sum(fns)\n",
    "            fp = sum(fps)\n",
    "            tn = sum(tns)\n",
    "            tp = sum(tps)\n",
    "\n",
    "            val_acc = 100 * (tn+tp) / (tn+tp+fn+fp)\n",
    "            model_val_accs[model_id, test_unit_id] = val_acc\n",
    "\n",
    "    print(\"\")"
   ]
  },
  {
   "cell_type": "code",
   "execution_count": 16,
   "metadata": {
    "collapsed": false,
    "deletable": true,
    "editable": true
   },
   "outputs": [
    {
     "data": {
      "text/plain": [
       "<Container object of 11 artists>"
      ]
     },
     "execution_count": 16,
     "metadata": {},
     "output_type": "execute_result"
    },
    {
     "data": {
      "image/png": "[encoded data removed]",
      "text/plain": [
       "<matplotlib.figure.Figure at 0x2ae17897f240>"
      ]
     },
     "metadata": {},
     "output_type": "display_data"
    }
   ],
   "source": [
    "mean_val_accs = np.mean(model_val_accs, axis=1)\n",
    "sorting_indices = np.argsort(mean_val_accs)\n",
    "sorted_mean_val_accs = mean_val_accs[sorting_indices]\n",
    "\n",
    "plt.figure()\n",
    "plt.bar(range(11), 100 - sorted_mean_val_accs)\n"
   ]
  },
  {
   "cell_type": "code",
   "execution_count": 56,
   "metadata": {
    "collapsed": false,
    "deletable": true,
    "editable": true
   },
   "outputs": [
    {
     "data": {
      "text/plain": [
       "['unit07', 'unit10']"
      ]
     },
     "execution_count": 56,
     "metadata": {},
     "output_type": "execute_result"
    }
   ],
   "source": [
    "validation_units"
   ]
  },
  {
   "cell_type": "code",
   "execution_count": null,
   "metadata": {
    "collapsed": true,
    "deletable": true,
    "editable": true
   },
   "outputs": [],
   "source": []
  }
 ],
 "metadata": {
  "kernelspec": {
   "display_name": "Python 3",
   "language": "python",
   "name": "python3"
  },
  "language_info": {
   "codemirror_mode": {
    "name": "ipython",
    "version": 3
   },
   "file_extension": ".py",
   "mimetype": "text/x-python",
   "name": "python",
   "nbconvert_exporter": "python",
   "pygments_lexer": "ipython3",
   "version": "3.6.0"
  }
 },
 "nbformat": 4,
 "nbformat_minor": 2
}
