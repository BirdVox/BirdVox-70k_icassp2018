{
 "cells": [
  {
   "cell_type": "code",
   "execution_count": 1,
   "metadata": {
    "collapsed": true,
    "deletable": true,
    "editable": true
   },
   "outputs": [],
   "source": [
    "import csv\n",
    "import numpy as np\n",
    "import os\n",
    "import pandas as pd\n",
    "import scipy.interpolate\n",
    "import sklearn.metrics\n",
    "import sys\n",
    "sys.path.append(\"../src\")\n",
    "import localmodule\n",
    "\n",
    "\n",
    "if sys.version_info[0] < 3: \n",
    "    from StringIO import StringIO\n",
    "else:\n",
    "    from io import StringIO\n",
    "\n",
    "\n",
    "from matplotlib import pyplot as plt\n",
    "%matplotlib inline\n",
    "\n",
    "# Define constants.\n",
    "dataset_name = localmodule.get_dataset_name()\n",
    "models_dir = localmodule.get_models_dir()\n",
    "units = localmodule.get_units()\n",
    "n_units = len(units)\n",
    "n_trials = 10\n"
   ]
  },
  {
   "cell_type": "code",
   "execution_count": 14,
   "metadata": {
    "collapsed": false,
    "deletable": true,
    "editable": true
   },
   "outputs": [],
   "source": [
    "n_val_trials = 1\n",
    "\n",
    "model_names = [\n",
    "    \"icassp-convnet\", \"icassp-convnet_aug-all-but-noise\", \"icassp-convnet_aug-all\", \n",
    "    \"icassp-ntt-convnet\", \"icassp-ntt-convnet_aug-all-but-noise\", \"icassp-ntt-convnet_aug-all\",\n",
    "    \"pcen-convnet\", \"pcen-convnet_aug-all-but-noise\", \"pcen-convnet_aug-all\",\n",
    "    \"icassp-add-convnet\", \"icassp-add-convnet_aug-all-but-noise\", \"icassp-add-convnet_aug-all\",\n",
    "    \"pcen-add-convnet\", \"pcen-add-convnet_aug-all-but-noise\", \"pcen-add-convnet_aug-all\",\n",
    "    \"pcen-ntt-convnet_aug-all-but-noise\", \"pcen-ntt-convnet_aug-all\"\n",
    "]\n",
    "\n",
    "n_models = len(model_names)\n",
    "model_val_accs = {}\n",
    "model_test_accs = {}\n",
    "    \n",
    "# Loop over models.\n",
    "for model_id, model_name in enumerate(model_names):\n",
    "\n",
    "    model_dir = os.path.join(models_dir, model_name)\n",
    "    model_val_accs[model_name] = np.zeros((6,))\n",
    "    model_test_accs[model_name] = np.zeros((6,))\n",
    "\n",
    "    for test_unit_id in range(6):\n",
    "\n",
    "        test_unit_str = units[test_unit_id]\n",
    "        test_unit_dir = os.path.join(model_dir, test_unit_str)\n",
    "        \n",
    "        \n",
    "        # TRIAL SELECTION\n",
    "        val_accs = []\n",
    "        for trial_id in range(n_trials):\n",
    "            trial_str = \"trial-\" + str(trial_id)\n",
    "            trial_dir = os.path.join(test_unit_dir, trial_str)\n",
    "            history_name = \"_\".join([\n",
    "                dataset_name,\n",
    "                model_name,\n",
    "                test_unit_str,\n",
    "                trial_str,\n",
    "                \"history.csv\"\n",
    "            ])\n",
    "            history_path = os.path.join(\n",
    "                trial_dir, history_name)\n",
    "            try:\n",
    "                history_df = pd.read_csv(history_path)\n",
    "                val_acc = max(history_df[\"Validation accuracy (%)\"])\n",
    "            except:\n",
    "                val_acc = 0.0\n",
    "            val_accs.append(val_acc)\n",
    "\n",
    "        val_accs = np.array(val_accs)\n",
    "        trial_id = np.argmax(val_accs)\n",
    "\n",
    "        \n",
    "        # VALIDATION SET EVALUATION\n",
    "        trial_str = \"trial-\" + str(trial_id)\n",
    "        trial_dir = os.path.join(test_unit_dir, trial_str)\n",
    "        \n",
    "        fns, fps, tns, tps = [], [], [], []\n",
    "        validation_units = localmodule.fold_units()[test_unit_id][2]\n",
    "\n",
    "        for val_unit_str in validation_units:\n",
    "            predictions_name = \"_\".join([\n",
    "                dataset_name,\n",
    "                model_name,\n",
    "                \"test-\" + test_unit_str,\n",
    "                trial_str,\n",
    "                \"predict-\" + val_unit_str,\n",
    "                \"clip-predictions.csv\"\n",
    "            ])\n",
    "            prediction_path = os.path.join(\n",
    "                trial_dir, predictions_name)\n",
    "\n",
    "            # Load prediction.\n",
    "            with open(prediction_path, 'r') as f:\n",
    "                reader = csv.reader(f)\n",
    "                rows = list(reader)\n",
    "            rows = [\",\".join(row) for row in rows]\n",
    "            rows = rows[1:]\n",
    "            rows = \"\\n\".join(rows)\n",
    "\n",
    "            # Parse rows with correct header.\n",
    "            df = pd.read_csv(StringIO(rows),\n",
    "                names=[\n",
    "                    \"Dataset\",\n",
    "                    \"Test unit\",\n",
    "                    \"Prediction unit\",\n",
    "                    \"Timestamp\",\n",
    "                    \"Center Freq (Hz)\",\n",
    "                    \"Augmentation\",\n",
    "                    \"Key\",\n",
    "                    \"Ground truth\",\n",
    "                    \"Predicted probability\"])\n",
    "            y_pred = np.array(df[\"Predicted probability\"])\n",
    "            y_pred = (y_pred > 0.5).astype('int')\n",
    "\n",
    "            # Load ground truth.\n",
    "            y_true = np.array(df[\"Ground truth\"])\n",
    "            \n",
    "            # Compute confusion matrix.\n",
    "            tn, fp, fn, tp = sklearn.metrics.confusion_matrix(\n",
    "                y_true, y_pred).ravel()\n",
    "            \n",
    "            tns.append(tn)\n",
    "            fps.append(fp)\n",
    "            fns.append(fn)\n",
    "            tps.append(tp)\n",
    "\n",
    "\n",
    "        tn = sum(tns)\n",
    "        tp = sum(tps)\n",
    "        fn = sum(fns)\n",
    "        fp = sum(fps)\n",
    "        val_acc = 100 * (tn+tp) / (tn+tp+fn+fp)\n",
    "        model_val_accs[model_name][test_unit_id] = val_acc\n",
    "\n",
    "        \n",
    "        # TEST SET EVALUATION\n",
    "        trial_dir = os.path.join(\n",
    "            test_unit_dir, trial_str)\n",
    "        predictions_name = \"_\".join([\n",
    "            dataset_name,\n",
    "            model_name,\n",
    "            \"test-\" + test_unit_str,\n",
    "            trial_str,\n",
    "            \"predict-\" + test_unit_str,\n",
    "            \"clip-predictions.csv\"\n",
    "        ])\n",
    "        prediction_path = os.path.join(\n",
    "            trial_dir, predictions_name)\n",
    "        \n",
    "        # Load prediction.\n",
    "        with open(prediction_path, 'r') as f:\n",
    "            reader = csv.reader(f)\n",
    "            rows = list(reader)\n",
    "        rows = [\",\".join(row) for row in rows]\n",
    "        rows = rows[1:]\n",
    "        rows = \"\\n\".join(rows)\n",
    "\n",
    "        # Parse rows with correct header.\n",
    "        df = pd.read_csv(StringIO(rows),\n",
    "            names=[\n",
    "                \"Dataset\",\n",
    "                \"Test unit\",\n",
    "                \"Prediction unit\",\n",
    "                \"Timestamp\",\n",
    "                \"Center Freq (Hz)\",\n",
    "                \"Augmentation\",\n",
    "                \"Key\",\n",
    "                \"Ground truth\",\n",
    "                \"Predicted probability\"])\n",
    "        y_pred = np.array(df[\"Predicted probability\"])\n",
    "        y_pred = (y_pred > 0.5).astype('int')\n",
    "\n",
    "        # Load ground truth.\n",
    "        y_true = np.array(df[\"Ground truth\"])\n",
    "\n",
    "        # Compute confusion matrix.\n",
    "        tn, fp, fn, tp = sklearn.metrics.confusion_matrix(\n",
    "            y_true, y_pred).ravel()\n",
    "\n",
    "        test_acc = 100 * (tn+tp) / (tn+tp+fn+fp)\n",
    "        model_test_accs[model_name][test_unit_id] = test_acc"
   ]
  },
  {
   "cell_type": "code",
   "execution_count": 27,
   "metadata": {
    "collapsed": false,
    "deletable": true,
    "editable": true
   },
   "outputs": [
    {
     "data": {
      "text/plain": [
       "array([[ 96.26000449,  85.18689196,  84.8354232 ,  97.75337716,\n",
       "         98.26458927,  96.85857216],\n",
       "       [ 97.0005236 ,  87.14285714,  81.21734587,  97.50776566,\n",
       "         98.23676706,  96.60420553],\n",
       "       [ 97.26232329,  91.25960061,  83.44435737,  97.22964675,\n",
       "         97.58642276,  96.26081058],\n",
       "       [ 96.92572369,  86.95340502,  80.48589342,  97.70642202,\n",
       "         97.97593378,  91.12684416],\n",
       "       [ 97.80462263,  87.35279058,  82.74555904,  97.82561583,\n",
       "         98.60193364,  97.57079871],\n",
       "       [ 97.3333832 ,  92.98003072,  87.29101358,  98.03871993,\n",
       "         98.43847812,  95.90045786],\n",
       "       [ 97.60266288,  90.76292883,  85.86729363,  96.30860363,\n",
       "         98.29588927,  97.28251653],\n",
       "       [ 97.8308026 ,  92.04813108,  88.87800418,  96.81066243,\n",
       "         98.11156709,  96.66779719],\n",
       "       [ 96.82474381,  88.83256528,  92.16954023,  96.83594597,\n",
       "         97.95506712,  96.3879939 ],\n",
       "       [ 95.90470491,  84.10650282,  89.43312435,  96.8178863 ,\n",
       "         98.58106698,  97.11293878],\n",
       "       [ 97.82332261,  90.08192524,  85.31870428,  98.06400347,\n",
       "         98.72017806,  97.7827709 ],\n",
       "       [ 98.07764231,  91.87403994,  92.22831766,  97.80755617,\n",
       "         98.69235585,  97.32491097],\n",
       "       [ 97.53160296,  93.2718894 ,  87.87225705,  97.28743769,\n",
       "         98.68192252,  97.62167204],\n",
       "       [ 97.86072257,  94.06041987,  90.99399164,  97.58361627,\n",
       "         98.76191139,  98.23215194],\n",
       "       [ 97.15760341,  93.20020481,  89.92946708,  95.34421729,\n",
       "         98.41065591,  97.49024928],\n",
       "       [ 97.78966265,  90.69636457,  90.1123302 ,  97.41385538,\n",
       "         98.10808931,  98.55434967],\n",
       "       [ 97.4156631 ,  87.92626728,  90.57601881,  96.34472296,\n",
       "         98.35501148,  96.69747329]])"
      ]
     },
     "execution_count": 27,
     "metadata": {},
     "output_type": "execute_result"
    }
   ],
   "source": [
    "model_diagrams = {\n",
    "    \"icassp-convnet\":                       \"                  melspec -> log           \",\n",
    "    \"icassp-convnet_aug-all-but-noise\":     \"         geom  -> melspec -> log           \",\n",
    "    \"icassp-convnet_aug-all\":               \"(noise + geom) -> melspec -> log           \",\n",
    "    \"icassp-ntt-convnet\":                   \"                  melspec -> log  -> NTT   \",\n",
    "    \"icassp-ntt-convnet_aug-all-but-noise\": \"         geom  -> melspec -> log  -> NTT   \",\n",
    "    \"icassp-ntt-convnet_aug-all\":           \"(noise + geom) -> melspec -> log  -> NTT   \",\n",
    "    \"pcen-convnet\":                         \"                  melspec -> PCEN          \",\n",
    "    \"pcen_convnet_aug-all-but-noise\":       \"         geom  -> melspec -> PCEN          \",\n",
    "    \"pcen-convnet_aug-all\":                 \"(noise + geom) -> melspec -> PCEN          \",\n",
    "    \"icassp-add-convnet\":                   \"                  melspec -> log  -> CONCAT\",\n",
    "    \"icassp-add-convnet_aug-all-but-noise\": \"         geom  -> melspec -> log  -> CONCAT\",\n",
    "    \"icassp-add-convent_aug-all\":           \"(noise + geom) -> melspec -> log  -> CONCAT\",\n",
    "    \"pcen-add-convnet\":                     \"                  melspec -> PCEN -> CONCAT\",\n",
    "    \"pcen-add-convnet_aug-all-but-noise\":   \"         geom  -> melspec -> PCEN -> CONCAT\",\n",
    "    \"pcen-add-convnet_aug-all\":             \"(noise + geom) -> melspec -> PCEN -> CONCAT\",\n",
    "    \"pcen-ntt-convnet_aug-all-but-noise\":   \"         geom  -> melspec -> PCEN -> NTT   \",\n",
    "    \"pcen-ntt-convnet_aug-all\":             \"(noise + geom) -> melspec -> PCEN -> NTT   \"}\n",
    "\n"
   ]
  },
  {
   "cell_type": "code",
   "execution_count": 276,
   "metadata": {
    "collapsed": false,
    "deletable": true,
    "editable": true
   },
   "outputs": [
    {
     "data": {
      "text/plain": [
       "<matplotlib.figure.Figure at 0x2b7711c02f28>"
      ]
     },
     "metadata": {},
     "output_type": "display_data"
    },
    {
     "data": {
      "image/png": "[encoded data removed]",
      "text/plain": [
       "<matplotlib.figure.Figure at 0x2b7712756358>"
      ]
     },
     "metadata": {},
     "output_type": "display_data"
    },
    {
     "name": "stdout",
     "output_type": "stream",
     "text": [
      "[ 79.46001367  97.05073996  98.99593987  98.44224924  97.19754977\n",
      "  96.00087732]\n",
      "[ 73.95762133  94.77801268  98.76549984  94.57636778  83.8820827\n",
      "  94.04152654]\n"
     ]
    }
   ],
   "source": [
    "ablation_reference_name = \"pcen-add-convnet_aug-all-but-noise\"\n",
    "ablation_names = [\n",
    "    \"pcen-ntt-convnet_aug-all-but-noise\",\n",
    "    \"pcen-add-convnet\",\n",
    "    \"pcen-add-convnet_aug-all\",\n",
    "    \"pcen-convnet_aug-all-but-noise\",\n",
    "    \"icassp-convnet_aug-all-but-noise\",\n",
    "    \"icassp-convnet_aug-all\",\n",
    "]\n",
    "reference_val_accs = model_val_accs[ablation_reference_name]\n",
    "ablation_val_accs = [\n",
    "    100 * (reference_val_accs - model_val_accs[name]) / (100 - reference_val_accs)\n",
    "    for name in ablation_names]\n",
    "\n",
    "plt.figure(figsize=(9, 6))\n",
    "plt.rcdefaults()\n",
    "fig, ax = plt.subplots()\n",
    "plt.boxplot(np.array(ablation_val_accs).T, 0, 'rs', 0)\n",
    "#plt.ylim((-5.0, 1.0))\n",
    "plt.setp(ax.get_yticklabels(), family=\"serif\")\n",
    "ax.set_yticklabels([\n",
    "    \"mixture of experts\",\n",
    "    \"no augmentation\",\n",
    "    \"noisy augmentation\",\n",
    "    \"no side channel\",\n",
    "    \"no PCEN\",\n",
    "    \"ICASSP 2018 baseline\"])\n",
    "plt.gca().invert_yaxis()\n",
    "ax.set_xlabel('Relative difference in miss rate (%)')\n",
    "ax.set_title('BirdVox-70k validation set')\n",
    "plt.axvline(0.0)\n",
    "plt.show()\n",
    "\n",
    "reference_test_accs = model_test_accs[ablation_reference_name]\n",
    "print(reference_test_accs)\n",
    "baseline_test_accs = model_test_accs[\"icassp-convnet_aug-all\"]\n",
    "print(baseline_test_accs)"
   ]
  },
  {
   "cell_type": "code",
   "execution_count": 277,
   "metadata": {
    "collapsed": false,
    "deletable": true,
    "editable": true
   },
   "outputs": [
    {
     "name": "stdout",
     "output_type": "stream",
     "text": [
      "icassp-convnet : acc = 84.22% ± 5.5\n",
      "icassp-convnet_aug-all-but-noise : acc = 84.71% ± 7.5\n"
     ]
    }
   ],
   "source": [
    "n_trials = 10\n",
    "report = {}\n",
    "\n",
    "for model_name in model_names[:2]:\n",
    "\n",
    "    model_dir = os.path.join(models_dir, model_name)\n",
    "\n",
    "\n",
    "    # Initialize dictionaries\n",
    "    model_report = {\n",
    "        \"validation\": {},\n",
    "        \"test_cv-acc_th=0.5\": {}\n",
    "    }\n",
    "\n",
    "    # Initialize matrix of validation accuracies.\n",
    "    val_accs = np.zeros((n_units, n_trials))\n",
    "    val_tps = np.zeros((n_units, n_trials))\n",
    "    val_tns = np.zeros((n_units, n_trials))\n",
    "    val_fps = np.zeros((n_units, n_trials))\n",
    "    val_fns = np.zeros((n_units, n_trials))\n",
    "    \n",
    "    test_accs = np.zeros((n_units, n_trials))\n",
    "    test_tps = np.zeros((n_units, n_trials))\n",
    "    test_tns = np.zeros((n_units, n_trials))\n",
    "    test_fps = np.zeros((n_units, n_trials))\n",
    "    test_fns = np.zeros((n_units, n_trials))\n",
    "\n",
    "\n",
    "    # Loop over test units.\n",
    "    for test_unit_id, test_unit_str in enumerate(units):\n",
    "\n",
    "\n",
    "        # Define directory for test unit.\n",
    "        test_unit_dir = os.path.join(model_dir, test_unit_str)\n",
    "\n",
    "\n",
    "        # Retrieve fold such that unit_str is in the test set.\n",
    "        folds = localmodule.fold_units()\n",
    "        fold = [f for f in folds if test_unit_str in f[0]][0]\n",
    "        test_units = fold[0]\n",
    "        validation_units = fold[2]\n",
    "\n",
    "\n",
    "        # Loop over trials.\n",
    "        for trial_id in range(n_trials):\n",
    "\n",
    "\n",
    "            # Define directory for trial.\n",
    "            trial_str = \"trial-\" + str(trial_id)\n",
    "            trial_dir = os.path.join(test_unit_dir, trial_str)\n",
    "\n",
    "\n",
    "            # Initialize.\n",
    "            break_switch = False\n",
    "            val_fn = 0\n",
    "            val_fp = 0\n",
    "            val_tn = 0\n",
    "            val_tp = 0\n",
    "\n",
    "\n",
    "            # Loop over validation units.\n",
    "            for val_unit_str in validation_units:\n",
    "\n",
    "                predictions_name = \"_\".join([\n",
    "                    dataset_name,\n",
    "                    model_name,\n",
    "                    \"test-\" + test_unit_str,\n",
    "                    \"trial-\" + str(trial_id),\n",
    "                    \"predict-\" + val_unit_str,\n",
    "                    \"clip-predictions.csv\"\n",
    "                ])\n",
    "                prediction_path = os.path.join(\n",
    "                    trial_dir, predictions_name)\n",
    "\n",
    "                # Load prediction.\n",
    "                csv_file = pd.read_csv(prediction_path)\n",
    "                \n",
    "                # Parse prediction.\n",
    "                if model_name == \"icassp-convnet_aug-all\":\n",
    "                    y_pred = np.array(csv_file[\"Predicted probability\"])\n",
    "                    y_true = np.array(csv_file[\"Ground truth\"])\n",
    "                elif model_name == \"pcen-add-convnet_aug-all-but-noise\":\n",
    "                    with open(prediction_path, 'r') as f:\n",
    "                        reader = csv.reader(f)\n",
    "                        rows = list(reader)\n",
    "                    rows = [\",\".join(row) for row in rows]\n",
    "                    rows = rows[1:]\n",
    "                    rows = \"\\n\".join(rows)\n",
    "\n",
    "                    # Parse rows with correct header.\n",
    "                    df = pd.read_csv(StringIO(rows),\n",
    "                        names=[\n",
    "                            \"Dataset\",\n",
    "                            \"Test unit\",\n",
    "                            \"Prediction unit\",\n",
    "                            \"Timestamp\",\n",
    "                            \"Center Freq (Hz)\",\n",
    "                            \"Augmentation\",\n",
    "                            \"Key\",\n",
    "                            \"Ground truth\",\n",
    "                            \"Predicted probability\"])\n",
    "                    y_pred = np.array(df[\"Predicted probability\"])\n",
    "                    y_true = np.array(df[\"Ground truth\"])\n",
    "                    \n",
    "                # Threshold.\n",
    "                y_pred = (y_pred > 0.5).astype('int')\n",
    "\n",
    "                # Check that CSV file is not corrupted.\n",
    "                if len(y_pred) == 0:\n",
    "                    break_switch = True\n",
    "                    break\n",
    "\n",
    "                # Compute confusion matrix.\n",
    "                tn, fp, fn, tp = sklearn.metrics.confusion_matrix(\n",
    "                    y_true, y_pred).ravel()\n",
    "\n",
    "                val_fn = val_fn + fn\n",
    "                val_fp = val_fp + fp\n",
    "                val_tn = val_tn + tn\n",
    "                val_tp = val_tp + tp\n",
    "\n",
    "\n",
    "            if not break_switch:\n",
    "                val_acc = (val_tn+val_tp) / (val_fn+val_fp+val_tn+val_tp)\n",
    "            else:\n",
    "                val_fn = 0\n",
    "                val_fp = 0\n",
    "                val_tn = 0\n",
    "                val_tp = 0\n",
    "                val_acc = 0.0\n",
    "            \n",
    "            val_fns[test_unit_id, trial_id] = val_fn\n",
    "            val_fps[test_unit_id, trial_id] = val_fp\n",
    "            val_tns[test_unit_id, trial_id] = val_tn\n",
    "            val_tps[test_unit_id, trial_id] = val_tp\n",
    "            val_accs[test_unit_id, trial_id] = val_acc\n",
    "\n",
    "\n",
    "            # Initialize.\n",
    "            predictions_name = \"_\".join([\n",
    "                dataset_name,\n",
    "                model_name,\n",
    "                \"test-\" + test_unit_str,\n",
    "                \"trial-\" + str(trial_id),\n",
    "                \"predict-\" + test_unit_str,\n",
    "                \"clip-predictions.csv\"\n",
    "            ])\n",
    "            prediction_path = os.path.join(\n",
    "                trial_dir, predictions_name)\n",
    "\n",
    "\n",
    "            with open(prediction_path, 'r') as f:\n",
    "                reader = csv.reader(f)\n",
    "                rows = list(reader)\n",
    "            rows = [\",\".join(row) for row in rows]\n",
    "            rows = rows[1:]\n",
    "            rows = \"\\n\".join(rows)\n",
    "\n",
    "            # Parse rows with correct header.\n",
    "            df = pd.read_csv(StringIO(rows),\n",
    "                names=[\n",
    "                    \"Dataset\",\n",
    "                    \"Test unit\",\n",
    "                    \"Prediction unit\",\n",
    "                    \"Timestamp\",\n",
    "                    \"Center Freq (Hz)\",\n",
    "                    \"Augmentation\",\n",
    "                    \"Key\",\n",
    "                    \"Ground truth\",\n",
    "                    \"Predicted probability\"])\n",
    "            y_pred = np.array(df[\"Predicted probability\"])\n",
    "            y_pred = (y_pred > 0.5).astype('int')\n",
    "            y_true = np.array(df[\"Ground truth\"])\n",
    "\n",
    "            # Check that CSV file is not corrupted.\n",
    "            if len(y_pred) == 0:\n",
    "                test_tn, test_fp, test_fn, test_tp = 0, 0, 0, 0\n",
    "                test_acc = 0.0\n",
    "            else:\n",
    "                # Load ground truth.\n",
    "                y_true = np.array(df[\"Ground truth\"])\n",
    "                # Compute confusion matrix.\n",
    "                test_tn, test_fp, test_fn, test_tp =\\\n",
    "                    sklearn.metrics.confusion_matrix(\n",
    "                        y_true, y_pred).ravel()\n",
    "                test_acc = (test_tn+test_tp) / (test_fn+test_fp+test_tn+test_tp)\n",
    "\n",
    "\n",
    "            test_fns[test_unit_id, trial_id] = test_fn\n",
    "            test_fps[test_unit_id, trial_id] = test_fp\n",
    "            test_tns[test_unit_id, trial_id] = test_tn\n",
    "            test_tps[test_unit_id, trial_id] = test_tp\n",
    "            test_accs[test_unit_id, trial_id] = test_acc \n",
    "            \n",
    "    model_report[\"validation\"][\"FN\"] = test_fn\n",
    "    model_report[\"validation\"][\"FP\"] = test_fp\n",
    "    model_report[\"validation\"][\"TN\"] = test_tn\n",
    "    model_report[\"validation\"][\"TP\"] = test_tp\n",
    "    model_report[\"validation\"][\"accuracy\"] = val_accs\n",
    "    \n",
    "    best_trials = np.argsort(model_report[\"validation\"][\"accuracy\"], axis=1)\n",
    "    model_report[\"validation\"][\"best_trials\"] = best_trials\n",
    "    \n",
    "    model_report[\"test_cv-acc_th=0.5\"][\"FN\"] = test_fns\n",
    "    model_report[\"test_cv-acc_th=0.5\"][\"FP\"] = test_fps\n",
    "    model_report[\"test_cv-acc_th=0.5\"][\"TN\"] = test_tns\n",
    "    model_report[\"test_cv-acc_th=0.5\"][\"TP\"] = test_tps\n",
    "    model_report[\"test_cv-acc_th=0.5\"][\"accuracy\"] = test_accs\n",
    "\n",
    "    \n",
    "    cv_accs = []\n",
    "    for eval_trial_id in range(5):\n",
    "        cv_fn = 0\n",
    "        cv_fp = 0\n",
    "        cv_tn = 0\n",
    "        cv_tp = 0\n",
    "\n",
    "        for test_unit_id, test_unit_str in enumerate(units):\n",
    "\n",
    "            best_trials = model_report[\"validation\"][\"best_trials\"]\n",
    "            unit_best_trials = best_trials[test_unit_id, -5:]\n",
    "            unit_best_trials = sorted(unit_best_trials)\n",
    "            trial_id = unit_best_trials[eval_trial_id]\n",
    "\n",
    "            cv_fn = cv_fn + model_report[\"test_cv-acc_th=0.5\"][\"FN\"][test_unit_id, trial_id]\n",
    "            cv_fp = cv_fp + model_report[\"test_cv-acc_th=0.5\"][\"FP\"][test_unit_id, trial_id]\n",
    "            cv_tn = cv_tn + model_report[\"test_cv-acc_th=0.5\"][\"TN\"][test_unit_id, trial_id]\n",
    "            cv_tp = cv_tp + model_report[\"test_cv-acc_th=0.5\"][\"TP\"][test_unit_id, trial_id]\n",
    "\n",
    "        cv_acc = (cv_tn+cv_tp) / (cv_tn+cv_tp+cv_fn+cv_fp)\n",
    "        cv_accs.append(cv_acc)\n",
    "\n",
    "        \n",
    "    model_report[\"test_cv-acc_th=0.5\"][\"global_acc\"] = np.array(cv_accs)\n",
    "    report[model_name] = model_report\n",
    "    \n",
    "    print(model_name, \": acc = {:5.2f}% ± {:3.1f}\".format(\n",
    "        100*np.mean(report[model_name]['test_cv-acc_th=0.5']['global_acc']),\n",
    "        100*np.std(report[model_name]['test_cv-acc_th=0.5']['global_acc'])))\n",
    "    \n",
    "    \n",
    "#print(report['icassp-convnet_aug-all']['test_cv-acc_th=0.5']['global_acc'])\n",
    "#print(report['pcen-add-convnet_aug-all-but-noise']['test_cv-acc_th=0.5']['global_acc'])"
   ]
  },
  {
   "cell_type": "code",
   "execution_count": null,
   "metadata": {
    "collapsed": true
   },
   "outputs": [],
   "source": []
  },
  {
   "cell_type": "code",
   "execution_count": 240,
   "metadata": {
    "collapsed": false,
    "deletable": true,
    "editable": true,
    "scrolled": true
   },
   "outputs": [
    {
     "name": "stdout",
     "output_type": "stream",
     "text": [
      "ICASSP 2018: acc = 94.85% ± 0.8\n",
      "SPL 2018:    acc = 95.82% ± 0.5\n"
     ]
    }
   ],
   "source": [
    "icassp_accs = report['icassp-convnet_aug-all']['test_cv-acc_th=0.5']['global_acc']\n",
    "print(\"ICASSP 2018: acc = {:5.2f}% ± {:3.1f}\".format(100*np.mean(icassp_accs), 100*np.std(icassp_accs)))\n",
    "\n",
    "spl_accs = report['pcen-add-convnet_aug-all-but-noise']['test_cv-acc_th=0.5']['global_acc']\n",
    "print(\"SPL 2018:    acc = {:5.2f}% ± {:3.1f}\".format(100*np.mean(spl_accs), 100*np.std(spl_accs)))"
   ]
  },
  {
   "cell_type": "code",
   "execution_count": 268,
   "metadata": {
    "collapsed": false
   },
   "outputs": [
    {
     "data": {
      "text/plain": [
       "<matplotlib.figure.Figure at 0x2b77126620b8>"
      ]
     },
     "metadata": {},
     "output_type": "display_data"
    },
    {
     "data": {
      "image/png": "[encoded data removed]",
      "text/plain": [
       "<matplotlib.figure.Figure at 0x2b77126620f0>"
      ]
     },
     "metadata": {},
     "output_type": "display_data"
    }
   ],
   "source": [
    "plt.figure(figsize=(6, 3))\n",
    "fig, ax = plt.subplots()\n",
    "plt.rcdefaults()\n",
    "plt.boxplot(np.array([100*icassp_accs, 100*spl_accs]).T, 0, 'rs', 0);\n",
    "plt.xlim([93.0, 97.0])\n",
    "plt.setp(ax.get_yticklabels(), family=\"serif\")\n",
    "ax.set_yticklabels([\"ICASSP 2018\", \"SPL 2018\"])\n",
    "plt.gca().invert_yaxis()"
   ]
  },
  {
   "cell_type": "code",
   "execution_count": 174,
   "metadata": {
    "collapsed": false,
    "deletable": true,
    "editable": true
   },
   "outputs": [
    {
     "name": "stdout",
     "output_type": "stream",
     "text": [
      "Ttest_indResult(statistic=-1.9479807165667256, pvalue=0.087263998885233063)\n"
     ]
    }
   ],
   "source": [
    "print(scipy.stats.ttest_ind(icassp_accs, spl_accs))"
   ]
  },
  {
   "cell_type": "code",
   "execution_count": 178,
   "metadata": {
    "collapsed": false,
    "deletable": true,
    "editable": true
   },
   "outputs": [
    {
     "data": {
      "text/plain": [
       "(0.93514490706739728, 0.95815208180328792)"
      ]
     },
     "execution_count": 178,
     "metadata": {},
     "output_type": "execute_result"
    }
   ],
   "source": [
    "np.min(icassp_accs), np.max(icassp_accs)"
   ]
  },
  {
   "cell_type": "code",
   "execution_count": 180,
   "metadata": {
    "collapsed": false,
    "deletable": true,
    "editable": true
   },
   "outputs": [
    {
     "data": {
      "text/plain": [
       "(0.94901417998983106, 0.96288345291226485)"
      ]
     },
     "execution_count": 180,
     "metadata": {},
     "output_type": "execute_result"
    }
   ],
   "source": [
    "np.min(spl_accs), np.max(spl_accs)"
   ]
  },
  {
   "cell_type": "code",
   "execution_count": 239,
   "metadata": {
    "collapsed": false
   },
   "outputs": [
    {
     "name": "stdout",
     "output_type": "stream",
     "text": [
      "0.954919296987 0.964616622329\n"
     ]
    }
   ],
   "source": [
    "\n",
    "icassp_fold_accs = report['icassp-convnet_aug-all']['validation'][\"accuracy\"]\n",
    "spl_fold_accs = report['pcen-add-convnet_aug-all-but-noise']['validation'][\"accuracy\"]\n",
    "print(np.mean(np.max(icassp_fold_accs, axis=1)), np.mean(np.max(spl_fold_accs, axis=1)))"
   ]
  },
  {
   "cell_type": "code",
   "execution_count": null,
   "metadata": {
    "collapsed": true
   },
   "outputs": [],
   "source": []
  }
 ],
 "metadata": {
  "kernelspec": {
   "display_name": "Python 3",
   "language": "python",
   "name": "python3"
  },
  "language_info": {
   "codemirror_mode": {
    "name": "ipython",
    "version": 3
   },
   "file_extension": ".py",
   "mimetype": "text/x-python",
   "name": "python",
   "nbconvert_exporter": "python",
   "pygments_lexer": "ipython3",
   "version": "3.6.0"
  }
 },
 "nbformat": 4,
 "nbformat_minor": 2
}
