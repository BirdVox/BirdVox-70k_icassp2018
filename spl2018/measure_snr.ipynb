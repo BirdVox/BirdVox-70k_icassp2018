{
 "cells": [
  {
   "cell_type": "code",
   "execution_count": 20,
   "metadata": {},
   "outputs": [
    {
     "name": "stderr",
     "output_type": "stream",
     "text": [
      "/Users/vl238/dev/librosa/librosa/display.py:634: FutureWarning: Conversion of the second argument of issubdtype from `complex` to `np.complexfloating` is deprecated. In future, it will be treated as `np.complex128 == np.dtype(complex).type`.\n",
      "  if np.issubdtype(data.dtype, np.complex):\n"
     ]
    },
    {
     "data": {
      "text/plain": [
       "<matplotlib.axes._subplots.AxesSubplot at 0x12d21d080>"
      ]
     },
     "execution_count": 20,
     "metadata": {},
     "output_type": "execute_result"
    },
    {
     "data": {
      "image/png": "[encoded data removed]",
      "text/plain": [
       "<Figure size 432x288 with 1 Axes>"
      ]
     },
     "metadata": {},
     "output_type": "display_data"
    }
   ],
   "source": [
    "import librosa\n",
    "import librosa.display\n",
    "import numpy as np\n",
    "import soundfile as sf\n",
    "import sys\n",
    "sys.path.append('../src')\n",
    "import localmodule\n",
    "\n",
    "%matplotlib inline\n",
    "\n",
    "wav_path = 'PCEN_spectrogram.wav'\n",
    "y, sr = librosa.load(wav_path)\n",
    "\n",
    "timestamp = 36.381\n",
    "sample_id= int(timestamp*sr)\n",
    "\n",
    "settings = localmodule.get_logmelspec_settings()\n",
    "hop_length = settings[\"hop_length\"]\n",
    "n_fft = settings[\"n_fft\"]\n",
    "stft = librosa.stft(y,\n",
    "    hop_length=settings[\"hop_length\"],\n",
    "    n_fft = settings[\"n_fft\"],\n",
    "    win_length = settings[\"win_length\"])\n",
    "librosa.display.specshow(np.abs(stft),\n",
    "    sr=sr)"
   ]
  },
  {
   "cell_type": "code",
   "execution_count": 19,
   "metadata": {},
   "outputs": [
    {
     "data": {
      "text/plain": [
       "{'fmax': 11025,\n",
       " 'fmin': 2000,\n",
       " 'hop_length': 32,\n",
       " 'n_fft': 1024,\n",
       " 'n_mels': 128,\n",
       " 'sr': 22050,\n",
       " 'win_length': 256,\n",
       " 'window': 'hann'}"
      ]
     },
     "execution_count": 19,
     "metadata": {},
     "output_type": "execute_result"
    }
   ],
   "source": []
  },
  {
   "cell_type": "code",
   "execution_count": null,
   "metadata": {
    "collapsed": true
   },
   "outputs": [],
   "source": []
  }
 ],
 "metadata": {
  "kernelspec": {
   "display_name": "Python 3",
   "language": "python",
   "name": "python3"
  },
  "language_info": {
   "codemirror_mode": {
    "name": "ipython",
    "version": 3
   },
   "file_extension": ".py",
   "mimetype": "text/x-python",
   "name": "python",
   "nbconvert_exporter": "python",
   "pygments_lexer": "ipython3",
   "version": "3.5.6"
  }
 },
 "nbformat": 4,
 "nbformat_minor": 2
}
