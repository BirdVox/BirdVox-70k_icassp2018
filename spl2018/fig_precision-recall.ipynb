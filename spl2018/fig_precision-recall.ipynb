{
 "cells": [
  {
   "cell_type": "code",
   "execution_count": 41,
   "metadata": {
    "collapsed": false,
    "deletable": true,
    "editable": true
   },
   "outputs": [
    {
     "name": "stderr",
     "output_type": "stream",
     "text": [
      "/home/vl1019/miniconda3/lib/python3.6/site-packages/ipykernel/__main__.py:194: RuntimeWarning: invalid value encountered in long_scalars\n"
     ]
    }
   ],
   "source": [
    "import numpy as np\n",
    "import os\n",
    "import pandas as pd\n",
    "import scipy.interpolate\n",
    "import sklearn.metrics\n",
    "import sys\n",
    "sys.path.append(\"../src\")\n",
    "import localmodule\n",
    "\n",
    "from matplotlib import pyplot as plt\n",
    "%matplotlib inline\n",
    "\n",
    "\n",
    "# Define constants.\n",
    "dataset_name = localmodule.get_dataset_name()\n",
    "models_dir = localmodule.get_models_dir()\n",
    "units = localmodule.get_units()\n",
    "n_units = len(units)\n",
    "n_thresholds = 221\n",
    "n_trials = 10\n",
    "n_eval_trials = 5\n",
    "\n",
    "\n",
    "# Initialize dictionary.\n",
    "reports = {}\n",
    "\n",
    "model_names = [\n",
    "    \"icassp-convnet\",\n",
    "    \"icassp-ntt-convnet\",\n",
    "    \"icassp-add-convnet\",\n",
    "    \"pcen-convnet\",\n",
    "    \"pcen-ntt-convnet\",\n",
    "    \"pcen-add-convnet\"]\n",
    "\n",
    "\n",
    "# Loop over models.\n",
    "for model_name in model_names:\n",
    "    \n",
    "    # Initialize dictionary.\n",
    "    report = {}\n",
    "\n",
    "    # Loop over augmentations.\n",
    "    for aug_kind_str in [\"none\", \"all-but-noise\", \"all\"]:\n",
    "\n",
    "        \n",
    "        # Initialize dictionaries.\n",
    "        aug_report = {\n",
    "            \"validation\": {},\n",
    "            \"test-CV-F\": {},\n",
    "        }\n",
    "\n",
    "\n",
    "        # Initialize precisions, recalls, and F1 scores.\n",
    "        val_precisions = np.zeros((n_units, n_trials))\n",
    "        val_recalls = np.zeros((n_units, n_trials))\n",
    "        val_f1_scores = np.zeros((n_units, n_trials))\n",
    "        val_thresholds = np.zeros((n_units, n_trials))\n",
    "        val_threshold_ids = np.zeros((n_units, n_trials))\n",
    "        val_auprcs = np.zeros((n_units, n_trials))\n",
    "\n",
    "        \n",
    "        # Define thresholds.\n",
    "        thresholds = 1.0 - np.concatenate((\n",
    "            np.logspace(-9, -2, 141), np.delete(np.logspace(-2, 0, 81), 0)\n",
    "        ))\n",
    "        n_thresholds = len(thresholds)\n",
    "\n",
    "\n",
    "        # Define model directory.\n",
    "        if not aug_kind_str == \"none\":\n",
    "            aug_model_name = \"_\".join([model_name, \"aug-\" + aug_kind_str])\n",
    "        else:\n",
    "            aug_model_name = model_name\n",
    "        model_dir = os.path.join(models_dir, aug_model_name)\n",
    "\n",
    "\n",
    "        # Loop over test units.\n",
    "        for test_unit_id in range(n_units):\n",
    "\n",
    "            # Define directory for test unit.\n",
    "            test_unit_str = units[test_unit_id]\n",
    "            test_unit_dir = os.path.join(model_dir, test_unit_str)\n",
    "\n",
    "            # Retrieve fold such that unit_str is in the test set.\n",
    "            folds = localmodule.fold_units()\n",
    "            fold = [f for f in folds if test_unit_str in f[0]][0]\n",
    "            test_units = fold[0]\n",
    "            validation_units = fold[2]\n",
    "\n",
    "            # Loop over trials.\n",
    "            for trial_id in range(n_trials):\n",
    "\n",
    "                trial_str = \"trial-\" + str(trial_id)\n",
    "                trial_dir = os.path.join(test_unit_dir, trial_str)\n",
    "                break_switch = False\n",
    "\n",
    "                # Loop over validation units.\n",
    "                for predict_unit_str in validation_units:\n",
    "                    val_metrics_name = \"_\".join([\n",
    "                        dataset_name,\n",
    "                        aug_model_name,\n",
    "                        \"test-\" + test_unit_str,\n",
    "                        trial_str,\n",
    "                        \"predict-\" + predict_unit_str,\n",
    "                        \"full-audio-metrics.csv\"\n",
    "                    ])\n",
    "                    val_metrics_path = os.path.join(trial_dir, val_metrics_name)\n",
    "                    val_tp = np.zeros((n_thresholds,))\n",
    "                    val_fp = np.zeros((n_thresholds,))\n",
    "                    val_fn = np.zeros((n_thresholds,))\n",
    "                    try:\n",
    "                        val_metrics_df = pd.read_csv(val_metrics_path)\n",
    "                        val_tp = val_tp + np.array(val_metrics_df[\"True positives\"])\n",
    "                        val_fp = val_fp + np.array(val_metrics_df[\"False positives\"])\n",
    "                        val_fn = val_fn + np.array(val_metrics_df[\"False negatives\"])\n",
    "                    except:\n",
    "                        break_switch = True\n",
    "                        break\n",
    "\n",
    "                if break_switch:\n",
    "                    val_auprc = 0.0\n",
    "                    val_p = np.zeros((n_thresholds,))\n",
    "                    val_r = np.zeros((n_thresholds,))\n",
    "                    val_f = np.zeros((n_thresholds,))\n",
    "                    val_threshold_id = 0\n",
    "                else:\n",
    "                    val_p = val_tp / (np.finfo(float).eps + val_tp + val_fp)\n",
    "                    val_r = val_tp / (np.finfo(float).eps + val_tp + val_fn)\n",
    "                    val_f = 2*val_p*val_r / (np.finfo(float).eps+(val_p+val_r))\n",
    "                    val_threshold_id = np.argmax(val_f)\n",
    "                    val_p_ = np.array([1.0] + list(val_p) + [0.0])\n",
    "                    val_r_ = np.array([0.0] + list(val_r) + [1.0])\n",
    "                    val_auprc = sklearn.metrics.auc(val_r_, val_p_, reorder=True)\n",
    "\n",
    "                val_precisions[test_unit_id, trial_id] = val_p[val_threshold_id]\n",
    "                val_recalls[test_unit_id, trial_id] = val_r[val_threshold_id]\n",
    "                val_f1_scores[test_unit_id, trial_id] = val_f[val_threshold_id]\n",
    "                val_thresholds[test_unit_id, trial_id] = thresholds[val_threshold_id]\n",
    "                val_threshold_ids[test_unit_id, trial_id] = val_threshold_id\n",
    "                val_auprcs[test_unit_id, trial_id] = val_auprc\n",
    "\n",
    "\n",
    "        aug_report[\"validation\"][\"P\"] = val_precisions\n",
    "        aug_report[\"validation\"][\"R\"] = val_recalls\n",
    "        aug_report[\"validation\"][\"F\"] = val_f1_scores\n",
    "        aug_report[\"validation\"][\"AUPRC\"] = val_auprcs\n",
    "        aug_report[\"validation\"][\"threshold\"] = val_thresholds\n",
    "        aug_report[\"validation\"][\"threshold_ids\"] = val_threshold_ids\n",
    "        aug_report[\"validation\"][\"trials_F\"] = np.argsort(val_f1_scores, axis=1)\n",
    "        aug_report[\"validation\"][\"trials_AUPRC\"] = np.argsort(val_auprcs, axis=1)\n",
    "\n",
    "\n",
    "        # Initialize precisions, recalls, and F1 scores.\n",
    "        F_trials = aug_report[\"validation\"][\"trials_F\"]\n",
    "        test_precisions = np.zeros((n_units, n_trials))\n",
    "        test_recalls = np.zeros((n_units, n_trials))\n",
    "        test_f1_scores = np.zeros((n_units, n_trials))\n",
    "        test_bools = np.ones((n_units, n_trials), dtype=bool)\n",
    "\n",
    "        \n",
    "        # Loop over test units.\n",
    "        for test_unit_id in range(n_units):\n",
    "            test_unit_str = units[test_unit_id]\n",
    "            test_unit_dir = os.path.join(model_dir, test_unit_str)\n",
    "        \n",
    "            # Loop over trials.\n",
    "            for eval_trial_id in range(n_trials):\n",
    "                trial_id = F_trials[test_unit_id, eval_trial_id]\n",
    "                trial_str = \"trial-\" + str(trial_id)\n",
    "                trial_dir = os.path.join(test_unit_dir, trial_str)\n",
    "\n",
    "                # Load test predictions.\n",
    "                test_metrics_name = \"_\".join([\n",
    "                    dataset_name,\n",
    "                    aug_model_name,\n",
    "                    \"test-\" + test_unit_str,\n",
    "                    trial_str,\n",
    "                    \"predict-\" + test_unit_str,\n",
    "                    \"full-audio-metrics.csv\"\n",
    "                ])\n",
    "                test_metrics_path = os.path.join(trial_dir, test_metrics_name)\n",
    "                \n",
    "                threshold_id = int(val_threshold_ids[test_unit_id, trial_id])\n",
    "        \n",
    "                try:\n",
    "                    test_metrics_df = pd.read_csv(test_metrics_path)\n",
    "                    test_tp = np.array(test_metrics_df[\"True positives\"])\n",
    "                    test_tp = test_tp[threshold_id]\n",
    "                    test_fp = np.array(test_metrics_df[\"False positives\"])\n",
    "                    test_fp = test_fp[threshold_id]\n",
    "                    test_fn = np.array(test_metrics_df[\"False negatives\"])\n",
    "                    test_fn = test_fn[threshold_id]\n",
    "                    \n",
    "                    test_p = test_tp / (test_tp+test_fp)\n",
    "                    test_r = test_tp /(test_tp+test_fn)\n",
    "                    test_f1_score = (2*test_p*test_r) / (test_p+test_r)\n",
    "                    \n",
    "                    test_precisions[test_unit_id, trial_id] = test_p\n",
    "                    test_recalls[test_unit_id, trial_id] = test_r\n",
    "                    test_f1_scores[test_unit_id, trial_id] = test_f1_score\n",
    "                    \n",
    "                except:\n",
    "                    test_bools[test_unit_id, trial_id] = False\n",
    "          \n",
    "        \n",
    "        aug_report[\"test-CV-F\"][\"P\"] = test_precisions\n",
    "        aug_report[\"test-CV-F\"][\"R\"] = test_recalls\n",
    "        aug_report[\"test-CV-F\"][\"F\"] = test_f1_scores \n",
    "        aug_report[\"test-CV-F\"][\"is_valid\"] = test_bools\n",
    "        \n",
    "        report[aug_kind_str] = aug_report\n",
    "    \n",
    "    reports[model_name] = report"
   ]
  },
  {
   "cell_type": "code",
   "execution_count": 48,
   "metadata": {
    "collapsed": false
   },
   "outputs": [
    {
     "data": {
      "text/plain": [
       "0.0"
      ]
     },
     "execution_count": 48,
     "metadata": {},
     "output_type": "execute_result"
    }
   ],
   "source": [
    "np.mean(np.max(reports[\"pcen-add-convnet\"][\"all-but-noise\"][\"validation\"][\"F\"], axis=1))"
   ]
  },
  {
   "cell_type": "code",
   "execution_count": 39,
   "metadata": {
    "collapsed": false,
    "deletable": true,
    "editable": true
   },
   "outputs": [
    {
     "data": {
      "text/plain": [
       "0.70235686614245019"
      ]
     },
     "execution_count": 39,
     "metadata": {},
     "output_type": "execute_result"
    }
   ],
   "source": [
    "np.mean(np.max(reports[\"pcen-convnet\"][\"all\"][\"validation\"][\"F\"], axis=1))"
   ]
  },
  {
   "cell_type": "code",
   "execution_count": 14,
   "metadata": {
    "collapsed": false,
    "deletable": true,
    "editable": true
   },
   "outputs": [
    {
     "ename": "EmptyDataError",
     "evalue": "No columns to parse from file",
     "output_type": "error",
     "traceback": [
      "\u001b[0;31m---------------------------------------------------------------------------\u001b[0m",
      "\u001b[0;31mEmptyDataError\u001b[0m                            Traceback (most recent call last)",
      "\u001b[0;32m<ipython-input-14-1838301a71ed>\u001b[0m in \u001b[0;36m<module>\u001b[0;34m()\u001b[0m\n\u001b[1;32m     26\u001b[0m     ])\n\u001b[1;32m     27\u001b[0m     \u001b[0mtest_metrics_path\u001b[0m \u001b[0;34m=\u001b[0m \u001b[0mos\u001b[0m\u001b[0;34m.\u001b[0m\u001b[0mpath\u001b[0m\u001b[0;34m.\u001b[0m\u001b[0mjoin\u001b[0m\u001b[0;34m(\u001b[0m\u001b[0mtrial_dir\u001b[0m\u001b[0;34m,\u001b[0m \u001b[0mtest_metrics_name\u001b[0m\u001b[0;34m)\u001b[0m\u001b[0;34m\u001b[0m\u001b[0m\n\u001b[0;32m---> 28\u001b[0;31m     \u001b[0mtest_metrics_df\u001b[0m \u001b[0;34m=\u001b[0m \u001b[0mpd\u001b[0m\u001b[0;34m.\u001b[0m\u001b[0mread_csv\u001b[0m\u001b[0;34m(\u001b[0m\u001b[0mtest_metrics_path\u001b[0m\u001b[0;34m)\u001b[0m\u001b[0;34m\u001b[0m\u001b[0m\n\u001b[0m\u001b[1;32m     29\u001b[0m     \u001b[0mtest_tp\u001b[0m \u001b[0;34m=\u001b[0m \u001b[0mnp\u001b[0m\u001b[0;34m.\u001b[0m\u001b[0marray\u001b[0m\u001b[0;34m(\u001b[0m\u001b[0mtest_metrics_df\u001b[0m\u001b[0;34m[\u001b[0m\u001b[0;34m\"True positives\"\u001b[0m\u001b[0;34m]\u001b[0m\u001b[0;34m)\u001b[0m\u001b[0;34m\u001b[0m\u001b[0m\n\u001b[1;32m     30\u001b[0m     \u001b[0mtest_fp\u001b[0m \u001b[0;34m=\u001b[0m \u001b[0mnp\u001b[0m\u001b[0;34m.\u001b[0m\u001b[0marray\u001b[0m\u001b[0;34m(\u001b[0m\u001b[0mtest_metrics_df\u001b[0m\u001b[0;34m[\u001b[0m\u001b[0;34m\"False positives\"\u001b[0m\u001b[0;34m]\u001b[0m\u001b[0;34m)\u001b[0m\u001b[0;34m\u001b[0m\u001b[0m\n",
      "\u001b[0;32m/home/vl1019/miniconda3/lib/python3.6/site-packages/pandas/io/parsers.py\u001b[0m in \u001b[0;36mparser_f\u001b[0;34m(filepath_or_buffer, sep, delimiter, header, names, index_col, usecols, squeeze, prefix, mangle_dupe_cols, dtype, engine, converters, true_values, false_values, skipinitialspace, skiprows, nrows, na_values, keep_default_na, na_filter, verbose, skip_blank_lines, parse_dates, infer_datetime_format, keep_date_col, date_parser, dayfirst, iterator, chunksize, compression, thousands, decimal, lineterminator, quotechar, quoting, escapechar, comment, encoding, dialect, tupleize_cols, error_bad_lines, warn_bad_lines, skipfooter, skip_footer, doublequote, delim_whitespace, as_recarray, compact_ints, use_unsigned, low_memory, buffer_lines, memory_map, float_precision)\u001b[0m\n\u001b[1;32m    653\u001b[0m                     skip_blank_lines=skip_blank_lines)\n\u001b[1;32m    654\u001b[0m \u001b[0;34m\u001b[0m\u001b[0m\n\u001b[0;32m--> 655\u001b[0;31m         \u001b[0;32mreturn\u001b[0m \u001b[0m_read\u001b[0m\u001b[0;34m(\u001b[0m\u001b[0mfilepath_or_buffer\u001b[0m\u001b[0;34m,\u001b[0m \u001b[0mkwds\u001b[0m\u001b[0;34m)\u001b[0m\u001b[0;34m\u001b[0m\u001b[0m\n\u001b[0m\u001b[1;32m    656\u001b[0m \u001b[0;34m\u001b[0m\u001b[0m\n\u001b[1;32m    657\u001b[0m     \u001b[0mparser_f\u001b[0m\u001b[0;34m.\u001b[0m\u001b[0m__name__\u001b[0m \u001b[0;34m=\u001b[0m \u001b[0mname\u001b[0m\u001b[0;34m\u001b[0m\u001b[0m\n",
      "\u001b[0;32m/home/vl1019/miniconda3/lib/python3.6/site-packages/pandas/io/parsers.py\u001b[0m in \u001b[0;36m_read\u001b[0;34m(filepath_or_buffer, kwds)\u001b[0m\n\u001b[1;32m    403\u001b[0m \u001b[0;34m\u001b[0m\u001b[0m\n\u001b[1;32m    404\u001b[0m     \u001b[0;31m# Create the parser.\u001b[0m\u001b[0;34m\u001b[0m\u001b[0;34m\u001b[0m\u001b[0m\n\u001b[0;32m--> 405\u001b[0;31m     \u001b[0mparser\u001b[0m \u001b[0;34m=\u001b[0m \u001b[0mTextFileReader\u001b[0m\u001b[0;34m(\u001b[0m\u001b[0mfilepath_or_buffer\u001b[0m\u001b[0;34m,\u001b[0m \u001b[0;34m**\u001b[0m\u001b[0mkwds\u001b[0m\u001b[0;34m)\u001b[0m\u001b[0;34m\u001b[0m\u001b[0m\n\u001b[0m\u001b[1;32m    406\u001b[0m \u001b[0;34m\u001b[0m\u001b[0m\n\u001b[1;32m    407\u001b[0m     \u001b[0;32mif\u001b[0m \u001b[0mchunksize\u001b[0m \u001b[0;32mor\u001b[0m \u001b[0miterator\u001b[0m\u001b[0;34m:\u001b[0m\u001b[0;34m\u001b[0m\u001b[0m\n",
      "\u001b[0;32m/home/vl1019/miniconda3/lib/python3.6/site-packages/pandas/io/parsers.py\u001b[0m in \u001b[0;36m__init__\u001b[0;34m(self, f, engine, **kwds)\u001b[0m\n\u001b[1;32m    762\u001b[0m             \u001b[0mself\u001b[0m\u001b[0;34m.\u001b[0m\u001b[0moptions\u001b[0m\u001b[0;34m[\u001b[0m\u001b[0;34m'has_index_names'\u001b[0m\u001b[0;34m]\u001b[0m \u001b[0;34m=\u001b[0m \u001b[0mkwds\u001b[0m\u001b[0;34m[\u001b[0m\u001b[0;34m'has_index_names'\u001b[0m\u001b[0;34m]\u001b[0m\u001b[0;34m\u001b[0m\u001b[0m\n\u001b[1;32m    763\u001b[0m \u001b[0;34m\u001b[0m\u001b[0m\n\u001b[0;32m--> 764\u001b[0;31m         \u001b[0mself\u001b[0m\u001b[0;34m.\u001b[0m\u001b[0m_make_engine\u001b[0m\u001b[0;34m(\u001b[0m\u001b[0mself\u001b[0m\u001b[0;34m.\u001b[0m\u001b[0mengine\u001b[0m\u001b[0;34m)\u001b[0m\u001b[0;34m\u001b[0m\u001b[0m\n\u001b[0m\u001b[1;32m    765\u001b[0m \u001b[0;34m\u001b[0m\u001b[0m\n\u001b[1;32m    766\u001b[0m     \u001b[0;32mdef\u001b[0m \u001b[0mclose\u001b[0m\u001b[0;34m(\u001b[0m\u001b[0mself\u001b[0m\u001b[0;34m)\u001b[0m\u001b[0;34m:\u001b[0m\u001b[0;34m\u001b[0m\u001b[0m\n",
      "\u001b[0;32m/home/vl1019/miniconda3/lib/python3.6/site-packages/pandas/io/parsers.py\u001b[0m in \u001b[0;36m_make_engine\u001b[0;34m(self, engine)\u001b[0m\n\u001b[1;32m    983\u001b[0m     \u001b[0;32mdef\u001b[0m \u001b[0m_make_engine\u001b[0m\u001b[0;34m(\u001b[0m\u001b[0mself\u001b[0m\u001b[0;34m,\u001b[0m \u001b[0mengine\u001b[0m\u001b[0;34m=\u001b[0m\u001b[0;34m'c'\u001b[0m\u001b[0;34m)\u001b[0m\u001b[0;34m:\u001b[0m\u001b[0;34m\u001b[0m\u001b[0m\n\u001b[1;32m    984\u001b[0m         \u001b[0;32mif\u001b[0m \u001b[0mengine\u001b[0m \u001b[0;34m==\u001b[0m \u001b[0;34m'c'\u001b[0m\u001b[0;34m:\u001b[0m\u001b[0;34m\u001b[0m\u001b[0m\n\u001b[0;32m--> 985\u001b[0;31m             \u001b[0mself\u001b[0m\u001b[0;34m.\u001b[0m\u001b[0m_engine\u001b[0m \u001b[0;34m=\u001b[0m \u001b[0mCParserWrapper\u001b[0m\u001b[0;34m(\u001b[0m\u001b[0mself\u001b[0m\u001b[0;34m.\u001b[0m\u001b[0mf\u001b[0m\u001b[0;34m,\u001b[0m \u001b[0;34m**\u001b[0m\u001b[0mself\u001b[0m\u001b[0;34m.\u001b[0m\u001b[0moptions\u001b[0m\u001b[0;34m)\u001b[0m\u001b[0;34m\u001b[0m\u001b[0m\n\u001b[0m\u001b[1;32m    986\u001b[0m         \u001b[0;32melse\u001b[0m\u001b[0;34m:\u001b[0m\u001b[0;34m\u001b[0m\u001b[0m\n\u001b[1;32m    987\u001b[0m             \u001b[0;32mif\u001b[0m \u001b[0mengine\u001b[0m \u001b[0;34m==\u001b[0m \u001b[0;34m'python'\u001b[0m\u001b[0;34m:\u001b[0m\u001b[0;34m\u001b[0m\u001b[0m\n",
      "\u001b[0;32m/home/vl1019/miniconda3/lib/python3.6/site-packages/pandas/io/parsers.py\u001b[0m in \u001b[0;36m__init__\u001b[0;34m(self, src, **kwds)\u001b[0m\n\u001b[1;32m   1603\u001b[0m         \u001b[0mkwds\u001b[0m\u001b[0;34m[\u001b[0m\u001b[0;34m'allow_leading_cols'\u001b[0m\u001b[0;34m]\u001b[0m \u001b[0;34m=\u001b[0m \u001b[0mself\u001b[0m\u001b[0;34m.\u001b[0m\u001b[0mindex_col\u001b[0m \u001b[0;32mis\u001b[0m \u001b[0;32mnot\u001b[0m \u001b[0;32mFalse\u001b[0m\u001b[0;34m\u001b[0m\u001b[0m\n\u001b[1;32m   1604\u001b[0m \u001b[0;34m\u001b[0m\u001b[0m\n\u001b[0;32m-> 1605\u001b[0;31m         \u001b[0mself\u001b[0m\u001b[0;34m.\u001b[0m\u001b[0m_reader\u001b[0m \u001b[0;34m=\u001b[0m \u001b[0mparsers\u001b[0m\u001b[0;34m.\u001b[0m\u001b[0mTextReader\u001b[0m\u001b[0;34m(\u001b[0m\u001b[0msrc\u001b[0m\u001b[0;34m,\u001b[0m \u001b[0;34m**\u001b[0m\u001b[0mkwds\u001b[0m\u001b[0;34m)\u001b[0m\u001b[0;34m\u001b[0m\u001b[0m\n\u001b[0m\u001b[1;32m   1606\u001b[0m \u001b[0;34m\u001b[0m\u001b[0m\n\u001b[1;32m   1607\u001b[0m         \u001b[0;31m# XXX\u001b[0m\u001b[0;34m\u001b[0m\u001b[0;34m\u001b[0m\u001b[0m\n",
      "\u001b[0;32mpandas/_libs/parsers.pyx\u001b[0m in \u001b[0;36mpandas._libs.parsers.TextReader.__cinit__ (pandas/_libs/parsers.c:6260)\u001b[0;34m()\u001b[0m\n",
      "\u001b[0;31mEmptyDataError\u001b[0m: No columns to parse from file"
     ]
    }
   ],
   "source": [
    "if not aug_kind_str == \"none\":\n",
    "    model_name = \"_\".join([model_name, \"aug-\" + aug_kind_str])\n",
    "model_dir = os.path.join(models_dir, model_name)\n",
    "test_fs = []\n",
    "for test_unit_id in range(n_units):\n",
    "    test_unit_str = units[test_unit_id]\n",
    "    test_unit_dir = os.path.join(model_dir, test_unit_str)\n",
    "    if test_unit_id in [0]:\n",
    "        trial_id = [3][test_unit_id]\n",
    "    else:\n",
    "        trial_id = auprc_eval_trials[test_unit_id, eval_trial_id]\n",
    "    trial_str = \"trial-\" + str(trial_id)\n",
    "    trial_dir = os.path.join(test_unit_dir, trial_str)\n",
    "\n",
    "    # Load test predictions.\n",
    "    test_metrics_name = \"_\".join([\n",
    "        dataset_name,\n",
    "        model_name,\n",
    "        \"test-\" + test_unit_str,\n",
    "        trial_str,\n",
    "        \"predict-\" + test_unit_str,\n",
    "        \"full-audio-metrics.csv\"\n",
    "    ])\n",
    "    test_metrics_path = os.path.join(trial_dir, test_metrics_name)\n",
    "    test_metrics_df = pd.read_csv(test_metrics_path)\n",
    "    test_tp = np.array(test_metrics_df[\"True positives\"])\n",
    "    test_fp = np.array(test_metrics_df[\"False positives\"])\n",
    "    test_fn = np.array(test_metrics_df[\"False negatives\"])\n",
    "    \n",
    "    test_p = test_tp / (np.finfo(float).eps + test_tp + test_fp)\n",
    "    test_r = test_tp / (np.finfo(float).eps + test_tp + test_fn)\n",
    "    test_f = 2*test_p*test_r / (np.finfo(float).eps+test_p+test_r)\n",
    "    test_fs.append(test_f)\n",
    "    \n",
    "plt.plot(np.array(test_fs).T);\n",
    "\n",
    "print(\" \".join([\"{:5.2f}\".format(100 * np.max(np.array(test_fs), axis=1)[i]) for i in range(6)]))\n",
    "print(\"Fixed th: {:5.2f}%\".format(100 * np.max(np.mean(np.array(test_fs), axis=0))))\n",
    "print(\"Oracle th: {:5.2f}%\".format(100 * np.mean(np.max(np.array(test_fs), axis=1))))"
   ]
  },
  {
   "cell_type": "code",
   "execution_count": 4,
   "metadata": {
    "collapsed": false,
    "deletable": true,
    "editable": true
   },
   "outputs": [
    {
     "ename": "NameError",
     "evalue": "name 'plt' is not defined",
     "output_type": "error",
     "traceback": [
      "\u001b[0;31m---------------------------------------------------------------------------\u001b[0m",
      "\u001b[0;31mNameError\u001b[0m                                 Traceback (most recent call last)",
      "\u001b[0;32m<ipython-input-4-701818e346be>\u001b[0m in \u001b[0;36m<module>\u001b[0;34m()\u001b[0m\n\u001b[1;32m     35\u001b[0m     \u001b[0mtest_fs\u001b[0m\u001b[0;34m.\u001b[0m\u001b[0mappend\u001b[0m\u001b[0;34m(\u001b[0m\u001b[0mtest_f\u001b[0m\u001b[0;34m)\u001b[0m\u001b[0;34m\u001b[0m\u001b[0m\n\u001b[1;32m     36\u001b[0m \u001b[0;34m\u001b[0m\u001b[0m\n\u001b[0;32m---> 37\u001b[0;31m \u001b[0mplt\u001b[0m\u001b[0;34m.\u001b[0m\u001b[0mplot\u001b[0m\u001b[0;34m(\u001b[0m\u001b[0mnp\u001b[0m\u001b[0;34m.\u001b[0m\u001b[0marray\u001b[0m\u001b[0;34m(\u001b[0m\u001b[0mtest_fs\u001b[0m\u001b[0;34m)\u001b[0m\u001b[0;34m.\u001b[0m\u001b[0mT\u001b[0m\u001b[0;34m)\u001b[0m\u001b[0;34m;\u001b[0m\u001b[0;34m\u001b[0m\u001b[0m\n\u001b[0m\u001b[1;32m     38\u001b[0m \u001b[0;34m\u001b[0m\u001b[0m\n\u001b[1;32m     39\u001b[0m \u001b[0;34m\u001b[0m\u001b[0m\n",
      "\u001b[0;31mNameError\u001b[0m: name 'plt' is not defined"
     ]
    }
   ],
   "source": [
    "# PCEN CONVNET (none) BY UNITS\n",
    "aug_kind_str = \"none\"\n",
    "model_name = \"pcen-convnet\"\n",
    "if not aug_kind_str == \"none\":\n",
    "    model_name = \"_\".join([model_name, \"aug-\" + aug_kind_str])\n",
    "model_dir = os.path.join(models_dir, model_name)\n",
    "test_fs = []\n",
    "\n",
    "for test_unit_id in range(n_units):\n",
    "    test_unit_str = units[test_unit_id]\n",
    "    test_unit_dir = os.path.join(model_dir, test_unit_str)\n",
    "    trial_id = [3, 1, 6, 1, 4, 6][test_unit_id]\n",
    "    trial_str = \"trial-\" + str(trial_id)\n",
    "    trial_dir = os.path.join(test_unit_dir, trial_str)\n",
    "\n",
    "    # Load test predictions.\n",
    "    test_metrics_name = \"_\".join([\n",
    "        dataset_name,\n",
    "        model_name,\n",
    "        \"test-\" + test_unit_str,\n",
    "        trial_str,\n",
    "        \"predict-\" + test_unit_str,\n",
    "        \"full-audio-metrics.csv\"\n",
    "    ])\n",
    "    test_metrics_path = os.path.join(trial_dir, test_metrics_name)\n",
    "    test_metrics_df = pd.read_csv(test_metrics_path)\n",
    "    test_tp = np.array(test_metrics_df[\"True positives\"])\n",
    "    test_fp = np.array(test_metrics_df[\"False positives\"])\n",
    "    test_fn = np.array(test_metrics_df[\"False negatives\"])\n",
    "    \n",
    "    test_p = test_tp / (np.finfo(float).eps + test_tp + test_fp)\n",
    "    test_r = test_tp / (np.finfo(float).eps + test_tp + test_fn)\n",
    "    test_f = 2*test_p*test_r / (np.finfo(float).eps+test_p+test_r)\n",
    "    \n",
    "    test_fs.append(test_f)\n",
    "    \n",
    "plt.plot(np.array(test_fs).T);\n",
    "\n",
    "\n",
    "print(\" \".join([\"{:5.2f}\".format(100 * np.max(np.array(test_fs), axis=1)[i]) for i in range(6)]))\n",
    "print(\"Fixed th: {:5.2f}%\".format(100 * np.max(np.mean(np.array(test_fs), axis=0))))\n",
    "print(\"Oracle th: {:5.2f}%\".format(100 * np.mean(np.max(np.array(test_fs), axis=1))))"
   ]
  },
  {
   "cell_type": "code",
   "execution_count": 12,
   "metadata": {
    "collapsed": false,
    "deletable": true,
    "editable": true
   },
   "outputs": [
    {
     "name": "stdout",
     "output_type": "stream",
     "text": [
      "67.15 59.88 68.61 50.64 76.93 75.65\n",
      "Fixed th: 61.63%\n",
      "Oracle th: 66.48%\n"
     ]
    },
    {
     "data": {
      "image/png": "[encoded data removed]",
      "text/plain": [
       "<matplotlib.figure.Figure at 0x2b27ce433748>"
      ]
     },
     "metadata": {},
     "output_type": "display_data"
    }
   ],
   "source": [
    "# PCEN CONVNET (all) BY UNITS\n",
    "import pandas as pd\n",
    "from matplotlib import pyplot as plt\n",
    "import numpy as np\n",
    "import os\n",
    "import sys\n",
    "\n",
    "sys.path.append(\"../src\")\n",
    "import localmodule\n",
    "\n",
    "dataset_name = localmodule.get_dataset_name()\n",
    "models_dir = localmodule.get_models_dir()\n",
    "units = localmodule.get_units()\n",
    "n_units = len(units)\n",
    "models_dir = localmodule.get_models_dir()\n",
    "\n",
    "aug_kind_str = \"all\"\n",
    "model_name = \"pcen-convnet\"\n",
    "if not aug_kind_str == \"none\":\n",
    "    model_name = \"_\".join([model_name, \"aug-\" + aug_kind_str])\n",
    "model_dir = os.path.join(models_dir, model_name)\n",
    "test_fs = []\n",
    "\n",
    "for test_unit_id in range(n_units):\n",
    "    test_unit_str = units[test_unit_id]\n",
    "    test_unit_dir = os.path.join(model_dir, test_unit_str)\n",
    "    trial_id = [0, 3, 5, 2, 1, 1][test_unit_id]\n",
    "    trial_str = \"trial-\" + str(trial_id)\n",
    "    trial_dir = os.path.join(test_unit_dir, trial_str)\n",
    "\n",
    "    # Load test predictions.\n",
    "    test_metrics_name = \"_\".join([\n",
    "        dataset_name,\n",
    "        model_name,\n",
    "        \"test-\" + test_unit_str,\n",
    "        trial_str,\n",
    "        \"predict-\" + test_unit_str,\n",
    "        \"full-audio-metrics.csv\"\n",
    "    ])\n",
    "    test_metrics_path = os.path.join(trial_dir, test_metrics_name)\n",
    "    test_metrics_df = pd.read_csv(test_metrics_path)\n",
    "    test_tp = np.array(test_metrics_df[\"True positives\"])\n",
    "    test_fp = np.array(test_metrics_df[\"False positives\"])\n",
    "    test_fn = np.array(test_metrics_df[\"False negatives\"])\n",
    "    \n",
    "    test_p = test_tp / (np.finfo(float).eps + test_tp + test_fp)\n",
    "    test_r = test_tp / (np.finfo(float).eps + test_tp + test_fn)\n",
    "    test_f = 2*test_p*test_r / (np.finfo(float).eps+test_p+test_r)\n",
    "    \n",
    "    test_fs.append(test_f)\n",
    " \n",
    "\n",
    "%matplotlib inline\n",
    "plt.plot(np.array(test_fs).T);\n",
    "\n",
    "\n",
    "print(\" \".join([\"{:5.2f}\".format(100 * np.max(np.array(test_fs), axis=1)[i]) for i in range(6)]))\n",
    "print(\"Fixed th: {:5.2f}%\".format(100 * np.max(np.mean(np.array(test_fs), axis=0))))\n",
    "print(\"Oracle th: {:5.2f}%\".format(100 * np.mean(np.max(np.array(test_fs), axis=1))))"
   ]
  },
  {
   "cell_type": "code",
   "execution_count": 68,
   "metadata": {
    "collapsed": false,
    "deletable": true,
    "editable": true
   },
   "outputs": [
    {
     "name": "stdout",
     "output_type": "stream",
     "text": [
      " 0.35  0.82  0.45  0.00  0.75  7.00\n",
      "Fixed th:  1.40%\n",
      "Oracle th:  1.56%\n"
     ]
    },
    {
     "data": {
      "image/png": "[encoded data removed]",
      "text/plain": [
       "<matplotlib.figure.Figure at 0x2b2120451f98>"
      ]
     },
     "metadata": {},
     "output_type": "display_data"
    }
   ],
   "source": [
    "# NTT CONVNET (all) BY UNITS\n",
    "import pandas as pd\n",
    "from matplotlib import pyplot as plt\n",
    "import numpy as np\n",
    "import os\n",
    "import sys\n",
    "\n",
    "sys.path.append(\"../src\")\n",
    "import localmodule\n",
    "\n",
    "dataset_name = localmodule.get_dataset_name()\n",
    "models_dir = localmodule.get_models_dir()\n",
    "units = localmodule.get_units()\n",
    "n_units = len(units)\n",
    "models_dir = localmodule.get_models_dir()\n",
    "\n",
    "aug_kind_str = \"all\"\n",
    "model_name = \"icassp-ntt-convnet\"\n",
    "if not aug_kind_str == \"none\":\n",
    "    model_name = \"_\".join([model_name, \"aug-\" + aug_kind_str])\n",
    "model_dir = os.path.join(models_dir, model_name)\n",
    "test_fs = []\n",
    "\n",
    "for test_unit_id in range(n_units):\n",
    "    test_unit_str = units[test_unit_id]\n",
    "    test_unit_dir = os.path.join(model_dir, test_unit_str)\n",
    "    trial_id = [0, 0, 0, 4, 0, 0][test_unit_id]\n",
    "    trial_str = \"trial-\" + str(trial_id)\n",
    "    trial_dir = os.path.join(test_unit_dir, trial_str)\n",
    "\n",
    "    # Load test predictions.\n",
    "    test_metrics_name = \"_\".join([\n",
    "        dataset_name,\n",
    "        model_name,\n",
    "        \"test-\" + test_unit_str,\n",
    "        trial_str,\n",
    "        \"predict-\" + test_unit_str,\n",
    "        \"full-audio-metrics.csv\"\n",
    "    ])\n",
    "    test_metrics_path = os.path.join(trial_dir, test_metrics_name)\n",
    "    test_metrics_df = pd.read_csv(test_metrics_path)\n",
    "    test_tp = np.array(test_metrics_df[\"True positives\"])\n",
    "    test_fp = np.array(test_metrics_df[\"False positives\"])\n",
    "    test_fn = np.array(test_metrics_df[\"False negatives\"])\n",
    "    \n",
    "    test_p = test_tp / (np.finfo(float).eps + test_tp + test_fp)\n",
    "    test_r = test_tp / (np.finfo(float).eps + test_tp + test_fn)\n",
    "    test_f = 2*test_p*test_r / (np.finfo(float).eps+test_p+test_r)\n",
    "    \n",
    "    test_fs.append(test_f)\n",
    " \n",
    "\n",
    "%matplotlib inline\n",
    "plt.plot(np.array(test_fs).T);\n",
    "\n",
    "\n",
    "print(\" \".join([\"{:5.2f}\".format(100 * np.max(np.array(test_fs), axis=1)[i]) for i in range(6)]))\n",
    "print(\"Fixed th: {:5.2f}%\".format(100 * np.max(np.mean(np.array(test_fs), axis=0))))\n",
    "print(\"Oracle th: {:5.2f}%\".format(100 * np.mean(np.max(np.array(test_fs), axis=1))))"
   ]
  },
  {
   "cell_type": "code",
   "execution_count": 45,
   "metadata": {
    "collapsed": false,
    "deletable": true,
    "editable": true
   },
   "outputs": [
    {
     "name": "stderr",
     "output_type": "stream",
     "text": [
      "100%|██████████| 91/91 [00:40<00:00,  1.08s/it] \n",
      "100%|██████████| 91/91 [01:27<00:00,  2.25s/it]\n",
      "100%|██████████| 91/91 [00:14<00:00,  1.06s/it]\n",
      "100%|██████████| 91/91 [00:21<00:00,  1.54s/it]\n",
      "100%|██████████| 91/91 [00:18<00:00,  1.85s/it]\n",
      "100%|██████████| 91/91 [00:12<00:00,  1.10s/it]\n"
     ]
    }
   ],
   "source": [
    "import csv\n",
    "import numpy as np\n",
    "import os\n",
    "import pandas as pd\n",
    "import sys\n",
    "sys.path.append(\"../src\")\n",
    "import localmodule\n",
    "import mir_eval\n",
    "import peakutils\n",
    "import tqdm\n",
    "\n",
    "data_dir = localmodule.get_data_dir()\n",
    "dataset_name = localmodule.get_dataset_name()\n",
    "models_dir = localmodule.get_models_dir()\n",
    "units = localmodule.get_units()\n",
    "n_units = len(units)\n",
    "models_dir = localmodule.get_models_dir()\n",
    "\n",
    "model_name = \"skm-cv\"\n",
    "skm_dir = os.path.join(models_dir, \"skm-cv\")\n",
    "n_trials = 5\n",
    "icassp_thresholds = 1.0 - np.concatenate((\n",
    "    np.logspace(-9, -2, 81), np.delete(np.logspace(-2, 0, 11), 0)\n",
    "))\n",
    "icassp_thresholds = icassp_thresholds\n",
    "n_thresholds = len(icassp_thresholds)\n",
    "tolerance = 0.5 # in seconds\n",
    "min_dist = 3 # 150 ms\n",
    "aug_kind_str = \"none\"\n",
    "\n",
    "for test_unit_id in range(n_units):\n",
    "\n",
    "    test_unit_str = units[test_unit_id]\n",
    "    test_unit_dir = os.path.join(skm_dir, test_unit_str)\n",
    "\n",
    "\n",
    "    # Retrieve fold such that unit_str is in the test set.\n",
    "    folds = localmodule.fold_units()\n",
    "    fold = [f for f in folds if test_unit_str in f[0]][0]\n",
    "    test_units = fold[0]\n",
    "    training_units = fold[1]\n",
    "    validation_units = fold[2]\n",
    "    predict_units = test_units + validation_units\n",
    "\n",
    "\n",
    "    # Loop over prediction units.\n",
    "    predict_unit_str = test_unit_str\n",
    "    #for predict_unit_str in predict_units:\n",
    "\n",
    "\n",
    "    # Load annotation.\n",
    "    annotations_name = \"_\".join([dataset_name, \"annotations\"])\n",
    "    annotations_dir = os.path.join(data_dir, annotations_name)\n",
    "    annotation_path = os.path.join(annotations_dir, predict_unit_str + \".txt\")\n",
    "    annotation = pd.read_csv(annotation_path, \"\\t\")\n",
    "    begin_times = np.array(annotation[\"Begin Time (s)\"])\n",
    "    end_times = np.array(annotation[\"End Time (s)\"])\n",
    "    relevant = 0.5 * (begin_times + end_times)\n",
    "    relevant = np.sort(relevant)\n",
    "    n_relevant = len(relevant)\n",
    "\n",
    "\n",
    "    for trial_id in [0]:#range(n_trials):\n",
    "\n",
    "        trial_str = \"trial-\" + str(trial_id + 5)\n",
    "        trial_dir = os.path.join(test_unit_dir, trial_str)\n",
    "\n",
    "        prediction_name = \"_\".join([\n",
    "            dataset_name,\n",
    "            model_name,\n",
    "            \"test-\" + test_unit_str,\n",
    "            trial_str,\n",
    "            \"predict-\" + test_unit_str,\n",
    "            \"full-predictions\"\n",
    "        ])\n",
    "        prediction_path = os.path.join(trial_dir, prediction_name + \".csv\")\n",
    "        prediction_df = pd.read_csv(prediction_path)\n",
    "        odf = np.array(prediction_df[\"Predicted probability\"])\n",
    "        timestamps = np.array(prediction_df[\"Timestamp\"])\n",
    "\n",
    "\n",
    "        # Create CSV file for metrics.\n",
    "        metrics_name = \"_\".join([\n",
    "            dataset_name,\n",
    "            model_name,\n",
    "            \"test-\" + test_unit_str,\n",
    "            trial_str,\n",
    "            \"predict-\" + predict_unit_str,\n",
    "            \"full-audio-metrics\"\n",
    "        ])\n",
    "        metrics_path = os.path.join(trial_dir, metrics_name + \".csv\")\n",
    "        csv_file = open(metrics_path, 'w')\n",
    "        csv_writer = csv.writer(csv_file, delimiter=',')\n",
    "\n",
    "\n",
    "        # Write CSV header.\n",
    "        csv_header = [\n",
    "            \"Dataset\",\n",
    "            \"Augmentation kind\",\n",
    "            \"Test unit\",\n",
    "            \"Trial\",\n",
    "            \"Prediction unit\",\n",
    "            \"Tolerance\",\n",
    "            \"Threshold\",\n",
    "            \"Relevant\",\n",
    "            \"Selected\",\n",
    "            \"True positives\",\n",
    "            \"False positives\",\n",
    "            \"False negatives\",\n",
    "            \"Precision (%)\",\n",
    "            \"Recall (%)\",\n",
    "            \"F1 Score (%)\"]\n",
    "        csv_writer.writerow(csv_header)\n",
    "\n",
    "\n",
    "        # Loop over thresholds.\n",
    "        for threshold_id in tqdm.tqdm(range(n_thresholds)):\n",
    "            threshold = icassp_thresholds[threshold_id]\n",
    "\n",
    "            # Pick peaks.\n",
    "            peak_locations = peakutils.indexes(\n",
    "                odf, thres=threshold, min_dist=min_dist)\n",
    "            peak_times = timestamps[peak_locations]\n",
    "            peak_values = odf[peak_locations]\n",
    "            selected = peak_times[peak_values > threshold]\n",
    "\n",
    "            # Match events.\n",
    "            selected_relevant = mir_eval.util.match_events(\n",
    "                relevant, selected, tolerance)\n",
    "\n",
    "            # Count TP, FP, and FN.\n",
    "            true_positives = len(selected_relevant)\n",
    "            n_selected = len(selected)\n",
    "            false_positives = n_selected - true_positives\n",
    "            false_negatives = n_relevant - true_positives\n",
    "\n",
    "            # Compute precision, recall, and F1 score.\n",
    "            if n_selected == 0 or true_positives == 0:\n",
    "                precision = 0.0\n",
    "                recall = 0.0\n",
    "                f1_score = 0.0\n",
    "            else:\n",
    "                precision = 100 * true_positives / n_selected\n",
    "                recall = 100 * true_positives / n_relevant\n",
    "                f1_score = 2*precision*recall / (precision+recall)\n",
    "\n",
    "            # Write row.\n",
    "            row = [\n",
    "                dataset_name,\n",
    "                aug_kind_str,\n",
    "                test_unit_str,\n",
    "                str(trial_id),\n",
    "                predict_unit_str,\n",
    "                str(int(np.round(1000*tolerance))).rjust(4),\n",
    "                format(threshold, \".10f\"),\n",
    "                str(n_relevant).rjust(5),\n",
    "                str(n_selected).rjust(6),\n",
    "                str(true_positives).rjust(5),\n",
    "                str(false_positives).rjust(6),\n",
    "                str(false_negatives).rjust(5),\n",
    "                format(precision, \".6f\").rjust(10),\n",
    "                format(recall, \".6f\").rjust(10),\n",
    "                format(f1_score, \".6f\").rjust(10)\n",
    "            ]\n",
    "\n",
    "            csv_writer.writerow(row)\n",
    "\n",
    "        csv_file.close()"
   ]
  },
  {
   "cell_type": "code",
   "execution_count": 46,
   "metadata": {
    "collapsed": false,
    "deletable": true,
    "editable": true
   },
   "outputs": [
    {
     "name": "stdout",
     "output_type": "stream",
     "text": [
      "0\n",
      "1\n",
      "2\n",
      "3\n",
      "4\n",
      "5\n"
     ]
    }
   ],
   "source": [
    "n_thresholds = 91\n",
    "skm_fn = np.zeros((n_thresholds, n_units, n_trials))\n",
    "skm_fp = np.zeros((n_thresholds, n_units, n_trials))\n",
    "skm_tp = np.zeros((n_thresholds, n_units, n_trials))\n",
    "\n",
    "\n",
    "for test_unit_id in range(n_units):\n",
    "    print(test_unit_id)\n",
    "\n",
    "    test_unit_str = units[test_unit_id]\n",
    "    test_unit_dir = os.path.join(skm_dir, test_unit_str)\n",
    "\n",
    "\n",
    "    # Retrieve fold such that unit_str is in the test set.\n",
    "    folds = localmodule.fold_units()\n",
    "    fold = [f for f in folds if test_unit_str in f[0]][0]\n",
    "    test_units = fold[0]\n",
    "    training_units = fold[1]\n",
    "    validation_units = fold[2]\n",
    "    predict_units = test_units + validation_units\n",
    "\n",
    "\n",
    "    # Loop over prediction units.\n",
    "    predict_unit_str = test_unit_str\n",
    "    #for predict_unit_str in predict_units:\n",
    "\n",
    "\n",
    "    # Load annotation.\n",
    "    annotations_name = \"_\".join([dataset_name, \"annotations\"])\n",
    "    annotations_dir = os.path.join(data_dir, annotations_name)\n",
    "    annotation_path = os.path.join(annotations_dir, predict_unit_str + \".txt\")\n",
    "    annotation = pd.read_csv(annotation_path, \"\\t\")\n",
    "    begin_times = np.array(annotation[\"Begin Time (s)\"])\n",
    "    end_times = np.array(annotation[\"End Time (s)\"])\n",
    "    relevant = 0.5 * (begin_times + end_times)\n",
    "    relevant = np.sort(relevant)\n",
    "    n_relevant = len(relevant)\n",
    "\n",
    "    trial_id = 0\n",
    "    #for trial_id in range(n_trials):\n",
    "\n",
    "    trial_str = \"trial-\" + str(trial_id + 5)\n",
    "    trial_dir = os.path.join(test_unit_dir, trial_str)\n",
    "\n",
    "    prediction_name = \"_\".join([\n",
    "        dataset_name,\n",
    "        model_name,\n",
    "        \"test-\" + test_unit_str,\n",
    "        trial_str,\n",
    "        \"predict-\" + test_unit_str,\n",
    "        \"full-predictions\"\n",
    "    ])\n",
    "    prediction_path = os.path.join(trial_dir, prediction_name + \".csv\")\n",
    "    prediction_df = pd.read_csv(prediction_path)\n",
    "    odf = np.array(prediction_df[\"Predicted probability\"])\n",
    "    timestamps = np.array(prediction_df[\"Timestamp\"])\n",
    "\n",
    "\n",
    "    # Load metrics as Pandas dataframe.\n",
    "    metrics_name = \"_\".join([\n",
    "        dataset_name,\n",
    "        model_name,\n",
    "        \"test-\" + test_unit_str,\n",
    "        trial_str,\n",
    "        \"predict-\" + predict_unit_str,\n",
    "        \"full-audio-metrics\"\n",
    "    ])\n",
    "    metrics_path = os.path.join(trial_dir, metrics_name + \".csv\")\n",
    "\n",
    "    metrics_df = pd.read_csv(metrics_path)\n",
    "    \n",
    "    skm_fn[:, test_unit_id, trial_id] = metrics_df[\"False negatives\"]\n",
    "    skm_fp[:, test_unit_id, trial_id] = metrics_df[\"False positives\"]\n",
    "    skm_tp[:, test_unit_id, trial_id] = metrics_df[\"True positives\"]"
   ]
  },
  {
   "cell_type": "code",
   "execution_count": 62,
   "metadata": {
    "collapsed": false,
    "deletable": true,
    "editable": true
   },
   "outputs": [],
   "source": [
    "skm_p = np.sum(skm_tp, axis=1) / (np.finfo(float).eps + np.sum(skm_tp, axis=1) + np.sum(skm_fp, axis=1))\n",
    "skm_r = np.sum(skm_tp, axis=1) / (np.finfo(float).eps + np.sum(skm_tp, axis=1) + np.sum(skm_fn, axis=1))"
   ]
  },
  {
   "cell_type": "code",
   "execution_count": 63,
   "metadata": {
    "collapsed": false,
    "deletable": true,
    "editable": true
   },
   "outputs": [
    {
     "data": {
      "text/plain": [
       "(91, 5)"
      ]
     },
     "execution_count": 63,
     "metadata": {},
     "output_type": "execute_result"
    }
   ],
   "source": [
    "skm_p.shape"
   ]
  },
  {
   "cell_type": "code",
   "execution_count": 64,
   "metadata": {
    "collapsed": false,
    "deletable": true,
    "editable": true
   },
   "outputs": [
    {
     "data": {
      "text/plain": [
       "[<matplotlib.lines.Line2D at 0x2b86771d3d30>]"
      ]
     },
     "execution_count": 64,
     "metadata": {},
     "output_type": "execute_result"
    },
    {
     "data": {
      "image/png": "[encoded data removed]",
      "text/plain": [
       "<matplotlib.figure.Figure at 0x2b86770fc2b0>"
      ]
     },
     "metadata": {},
     "output_type": "display_data"
    }
   ],
   "source": [
    "plt.plot(skm_r[:, 0], skm_p[:, 0])"
   ]
  },
  {
   "cell_type": "code",
   "execution_count": 107,
   "metadata": {
    "collapsed": false,
    "deletable": true,
    "editable": true
   },
   "outputs": [
    {
     "data": {
      "text/plain": [
       "array([[ 0.116082  ,  0.        ,  0.        ,  0.        ,  0.        ],\n",
       "       [ 0.12003373,  0.        ,  0.        ,  0.        ,  0.        ],\n",
       "       [ 0.12468802,  0.        ,  0.        ,  0.        ,  0.        ],\n",
       "       [ 0.12924751,  0.        ,  0.        ,  0.        ,  0.        ],\n",
       "       [ 0.13429151,  0.        ,  0.        ,  0.        ,  0.        ],\n",
       "       [ 0.13901321,  0.        ,  0.        ,  0.        ,  0.        ],\n",
       "       [ 0.14252609,  0.        ,  0.        ,  0.        ,  0.        ],\n",
       "       [ 0.14733597,  0.        ,  0.        ,  0.        ,  0.        ],\n",
       "       [ 0.15195657,  0.        ,  0.        ,  0.        ,  0.        ],\n",
       "       [ 0.1569627 ,  0.        ,  0.        ,  0.        ,  0.        ],\n",
       "       [ 0.16209451,  0.        ,  0.        ,  0.        ,  0.        ],\n",
       "       [ 0.16766451,  0.        ,  0.        ,  0.        ,  0.        ],\n",
       "       [ 0.17323396,  0.        ,  0.        ,  0.        ,  0.        ],\n",
       "       [ 0.17868303,  0.        ,  0.        ,  0.        ,  0.        ],\n",
       "       [ 0.18330433,  0.        ,  0.        ,  0.        ,  0.        ],\n",
       "       [ 0.189289  ,  0.        ,  0.        ,  0.        ,  0.        ],\n",
       "       [ 0.19460666,  0.        ,  0.        ,  0.        ,  0.        ],\n",
       "       [ 0.20007864,  0.        ,  0.        ,  0.        ,  0.        ],\n",
       "       [ 0.20551021,  0.        ,  0.        ,  0.        ,  0.        ],\n",
       "       [ 0.21260835,  0.        ,  0.        ,  0.        ,  0.        ],\n",
       "       [ 0.2188945 ,  0.        ,  0.        ,  0.        ,  0.        ],\n",
       "       [ 0.22551037,  0.        ,  0.        ,  0.        ,  0.        ],\n",
       "       [ 0.23203831,  0.        ,  0.        ,  0.        ,  0.        ],\n",
       "       [ 0.23879418,  0.        ,  0.        ,  0.        ,  0.        ],\n",
       "       [ 0.24455761,  0.        ,  0.        ,  0.        ,  0.        ],\n",
       "       [ 0.25167354,  0.        ,  0.        ,  0.        ,  0.        ],\n",
       "       [ 0.25831837,  0.        ,  0.        ,  0.        ,  0.        ],\n",
       "       [ 0.26505736,  0.        ,  0.        ,  0.        ,  0.        ],\n",
       "       [ 0.27142651,  0.        ,  0.        ,  0.        ,  0.        ],\n",
       "       [ 0.27876352,  0.        ,  0.        ,  0.        ,  0.        ],\n",
       "       [ 0.28461598,  0.        ,  0.        ,  0.        ,  0.        ],\n",
       "       [ 0.29097457,  0.        ,  0.        ,  0.        ,  0.        ],\n",
       "       [ 0.29791855,  0.        ,  0.        ,  0.        ,  0.        ],\n",
       "       [ 0.30588975,  0.        ,  0.        ,  0.        ,  0.        ],\n",
       "       [ 0.31300163,  0.        ,  0.        ,  0.        ,  0.        ],\n",
       "       [ 0.31981425,  0.        ,  0.        ,  0.        ,  0.        ],\n",
       "       [ 0.32756403,  0.        ,  0.        ,  0.        ,  0.        ],\n",
       "       [ 0.33486171,  0.        ,  0.        ,  0.        ,  0.        ],\n",
       "       [ 0.34252104,  0.        ,  0.        ,  0.        ,  0.        ],\n",
       "       [ 0.35018043,  0.        ,  0.        ,  0.        ,  0.        ],\n",
       "       [ 0.35597579,  0.        ,  0.        ,  0.        ,  0.        ],\n",
       "       [ 0.36301796,  0.        ,  0.        ,  0.        ,  0.        ],\n",
       "       [ 0.37041028,  0.        ,  0.        ,  0.        ,  0.        ],\n",
       "       [ 0.37806487,  0.        ,  0.        ,  0.        ,  0.        ],\n",
       "       [ 0.38679204,  0.        ,  0.        ,  0.        ,  0.        ],\n",
       "       [ 0.39563513,  0.        ,  0.        ,  0.        ,  0.        ],\n",
       "       [ 0.40406577,  0.        ,  0.        ,  0.        ,  0.        ],\n",
       "       [ 0.41310792,  0.        ,  0.        ,  0.        ,  0.        ],\n",
       "       [ 0.42123841,  0.        ,  0.        ,  0.        ,  0.        ],\n",
       "       [ 0.4297262 ,  0.        ,  0.        ,  0.        ,  0.        ],\n",
       "       [ 0.43864768,  0.        ,  0.        ,  0.        ,  0.        ],\n",
       "       [ 0.44755212,  0.        ,  0.        ,  0.        ,  0.        ],\n",
       "       [ 0.45578422,  0.        ,  0.        ,  0.        ,  0.        ],\n",
       "       [ 0.46228758,  0.        ,  0.        ,  0.        ,  0.        ],\n",
       "       [ 0.46712616,  0.        ,  0.        ,  0.        ,  0.        ],\n",
       "       [ 0.47055348,  0.        ,  0.        ,  0.        ,  0.        ],\n",
       "       [ 0.47252309,  0.        ,  0.        ,  0.        ,  0.        ],\n",
       "       [ 0.47318158,  0.        ,  0.        ,  0.        ,  0.        ],\n",
       "       [ 0.47318924,  0.        ,  0.        ,  0.        ,  0.        ],\n",
       "       [ 0.47311866,  0.        ,  0.        ,  0.        ,  0.        ],\n",
       "       [ 0.47306787,  0.        ,  0.        ,  0.        ,  0.        ],\n",
       "       [ 0.47302572,  0.        ,  0.        ,  0.        ,  0.        ],\n",
       "       [ 0.4729779 ,  0.        ,  0.        ,  0.        ,  0.        ],\n",
       "       [ 0.47294827,  0.        ,  0.        ,  0.        ,  0.        ],\n",
       "       [ 0.47292977,  0.        ,  0.        ,  0.        ,  0.        ],\n",
       "       [ 0.4729189 ,  0.        ,  0.        ,  0.        ,  0.        ],\n",
       "       [ 0.47291244,  0.        ,  0.        ,  0.        ,  0.        ],\n",
       "       [ 0.47290957,  0.        ,  0.        ,  0.        ,  0.        ],\n",
       "       [ 0.47290823,  0.        ,  0.        ,  0.        ,  0.        ],\n",
       "       [ 0.47290823,  0.        ,  0.        ,  0.        ,  0.        ],\n",
       "       [ 0.47290823,  0.        ,  0.        ,  0.        ,  0.        ],\n",
       "       [ 0.47290823,  0.        ,  0.        ,  0.        ,  0.        ],\n",
       "       [ 0.47290823,  0.        ,  0.        ,  0.        ,  0.        ],\n",
       "       [ 0.47290823,  0.        ,  0.        ,  0.        ,  0.        ],\n",
       "       [ 0.4699155 ,  0.        ,  0.        ,  0.        ,  0.        ],\n",
       "       [ 0.4652916 ,  0.        ,  0.        ,  0.        ,  0.        ],\n",
       "       [ 0.459761  ,  0.        ,  0.        ,  0.        ,  0.        ],\n",
       "       [ 0.4500926 ,  0.        ,  0.        ,  0.        ,  0.        ],\n",
       "       [ 0.4390323 ,  0.        ,  0.        ,  0.        ,  0.        ],\n",
       "       [ 0.42780581,  0.        ,  0.        ,  0.        ,  0.        ],\n",
       "       [ 0.41341765,  0.        ,  0.        ,  0.        ,  0.        ],\n",
       "       [ 0.38244078,  0.        ,  0.        ,  0.        ,  0.        ],\n",
       "       [ 0.3527929 ,  0.        ,  0.        ,  0.        ,  0.        ],\n",
       "       [ 0.32699583,  0.        ,  0.        ,  0.        ,  0.        ],\n",
       "       [ 0.2997064 ,  0.        ,  0.        ,  0.        ,  0.        ],\n",
       "       [ 0.26998833,  0.        ,  0.        ,  0.        ,  0.        ],\n",
       "       [ 0.23729161,  0.        ,  0.        ,  0.        ,  0.        ],\n",
       "       [ 0.20330392,  0.        ,  0.        ,  0.        ,  0.        ],\n",
       "       [ 0.16739218,  0.        ,  0.        ,  0.        ,  0.        ],\n",
       "       [ 0.13095329,  0.        ,  0.        ,  0.        ,  0.        ],\n",
       "       [ 0.08251897,  0.        ,  0.        ,  0.        ,  0.        ]])"
      ]
     },
     "execution_count": 107,
     "metadata": {},
     "output_type": "execute_result"
    }
   ],
   "source": [
    "skm_f = 2*skm_p*skm_r / (1e-16 + skm_p+skm_r)\n",
    "skm_f"
   ]
  },
  {
   "cell_type": "code",
   "execution_count": 83,
   "metadata": {
    "collapsed": false,
    "deletable": true,
    "editable": true
   },
   "outputs": [
    {
     "data": {
      "text/plain": [
       "[<matplotlib.lines.Line2D at 0x2b86778a0da0>,\n",
       " <matplotlib.lines.Line2D at 0x2b86778a0f98>,\n",
       " <matplotlib.lines.Line2D at 0x2b86778a81d0>,\n",
       " <matplotlib.lines.Line2D at 0x2b86778a83c8>,\n",
       " <matplotlib.lines.Line2D at 0x2b86778a85c0>]"
      ]
     },
     "execution_count": 83,
     "metadata": {},
     "output_type": "execute_result"
    },
    {
     "data": {
      "image/png": "[encoded data removed]",
      "text/plain": [
       "<matplotlib.figure.Figure at 0x2b86777b9a90>"
      ]
     },
     "metadata": {},
     "output_type": "display_data"
    }
   ],
   "source": [
    "skm_p = skm_tp / (np.finfo(float).eps + skm_tp + skm_fp)\n",
    "skm_r = skm_tp / (np.finfo(float).eps + skm_tp + skm_fn)\n",
    "plt.plot(np.mean(skm_r, axis=1), np.mean(skm_p, axis=1))"
   ]
  },
  {
   "cell_type": "code",
   "execution_count": 102,
   "metadata": {
    "collapsed": false,
    "deletable": true,
    "editable": true
   },
   "outputs": [
    {
     "data": {
      "image/png": "[encoded data removed]",
      "text/plain": [
       "<matplotlib.figure.Figure at 0x2b86768cedd8>"
      ]
     },
     "metadata": {},
     "output_type": "display_data"
    }
   ],
   "source": [
    "from matplotlib import pyplot as plt\n",
    "sorted_precisions = np.sort(interpolated_precisions, axis=1)\n",
    "\n",
    "fig, ax = plt.subplots(1, 1, sharex=True, figsize=(5, 5))\n",
    "\n",
    "\n",
    "ax.plot(\n",
    "    100 * np.array([0.0]   + list(np.mean(skm_r, axis=1)[:, 0]) + [1.0]),\n",
    "    100 * np.array([1.0] + list(np.mean(skm_p, axis=1)[:, 0]) + [0.0]),\n",
    "    color = \"#E67300\",\n",
    "    linewidth = 2.0\n",
    ")\n",
    "\n",
    "ax.fill_between(\n",
    "    100 * report[\"none\"][\"test-CV-AUPRC\"][\"interpolated_R\"],\n",
    "    100 * report[\"none\"][\"test-CV-AUPRC\"][\"interpolated_P\"][:, 1],\n",
    "    100 * report[\"none\"][\"test-CV-AUPRC\"][\"interpolated_P\"][:, 3],\n",
    "    color = \"#CB0003\",\n",
    "    alpha = 0.33);\n",
    "\n",
    "ax.plot(\n",
    "    100 * report[\"none\"][\"test-CV-AUPRC\"][\"interpolated_R\"],\n",
    "    100 * report[\"none\"][\"test-CV-AUPRC\"][\"interpolated_P\"][:, 2],\n",
    "    color = \"#CB0003\",\n",
    "    linewidth = 2.0\n",
    ")\n",
    "\n",
    "\n",
    "ax.fill_between(\n",
    "    100 * report[\"all\"][\"test-CV-AUPRC\"][\"interpolated_R\"],\n",
    "    100 * report[\"all\"][\"test-CV-AUPRC\"][\"interpolated_P\"][:, 1],\n",
    "    100 * report[\"all\"][\"test-CV-AUPRC\"][\"interpolated_P\"][:, 3],\n",
    "    color = \"#990099\",\n",
    "    alpha = 0.33);\n",
    "\n",
    "ax.plot(\n",
    "    100 * report[\"all\"][\"test-CV-AUPRC\"][\"interpolated_R\"],\n",
    "    100 * report[\"all\"][\"test-CV-AUPRC\"][\"interpolated_P\"][:, 2],\n",
    "    color = \"#990099\",\n",
    "    linewidth = 2.0\n",
    ")\n",
    "\n",
    "ax.plot(\n",
    "    [0.0] + list(100 * oldbird_recalls) + [100.0],\n",
    "    [100.0] + list(100 * oldbird_precisions) + [0.0],\n",
    "    color = \"#0000B2\",\n",
    "    linewidth = 2.0)\n",
    "\n",
    "ax.plot(\n",
    "    [0.0] + list(sf_total_recalls) + [100.0],\n",
    "    [100.0] + list(sf_total_precisions) + [0.0],\n",
    "    color = \"#009900\",\n",
    "    linewidth = 2.0)\n",
    "\n",
    "major_ticks = np.linspace(0, 100, 5).astype(\"int\")\n",
    "minor_ticks = np.linspace(0, 100, 21).astype(\"int\")\n",
    "\n",
    "ax.set_xlim(-0.3, 100)\n",
    "ax.set_xticks(major_ticks)\n",
    "ax.set_xticks(minor_ticks, minor=True)\n",
    "ax.set_xticklabels(map(str, major_ticks), family=\"serif\");\n",
    "ax.set_xlabel(\"Recall (%)\", family=\"serif\");\n",
    "\n",
    "ax.set_ylim(0.0, 100)\n",
    "ax.set_yticks(major_ticks)\n",
    "ax.set_yticks(minor_ticks, minor=True)\n",
    "ax.set_yticklabels(map(str, major_ticks), family=\"serif\");\n",
    "ax.set_ylabel(\"Precision (%)\", family=\"serif\");\n",
    "\n",
    "ax.grid(color='k', linestyle='--', linewidth=1.0, alpha=0.25, which=\"major\")\n",
    "ax.grid(color='k', linestyle='-', linewidth=0.5, alpha=0.1, which=\"minor\")\n",
    "ax.set_axisbelow(True)\n",
    "\n",
    "plt.savefig(\"icassp_fig_precision-recall.png\", dpi=500)"
   ]
  },
  {
   "cell_type": "code",
   "execution_count": null,
   "metadata": {
    "collapsed": true,
    "deletable": true,
    "editable": true
   },
   "outputs": [],
   "source": []
  },
  {
   "cell_type": "code",
   "execution_count": 94,
   "metadata": {
    "collapsed": false,
    "deletable": true,
    "editable": true
   },
   "outputs": [
    {
     "data": {
      "text/plain": [
       "[<matplotlib.lines.Line2D at 0x2b867780aeb8>]"
      ]
     },
     "execution_count": 94,
     "metadata": {},
     "output_type": "execute_result"
    },
    {
     "data": {
      "image/png": "[encoded data removed]",
      "text/plain": [
       "<matplotlib.figure.Figure at 0x2b867780aac8>"
      ]
     },
     "metadata": {},
     "output_type": "display_data"
    }
   ],
   "source": [
    "fig, ax = plt.subplots(1, 1, sharex=True, figsize=(5, 5))\n",
    "ax.plot(\n",
    "    100 * np.array([0.0]   + list(100 * np.mean(skm_r, axis=1)[:, 0]) + [100.0]),\n",
    "    100 * np.array([100.0] + list(100 * np.mean(skm_p, axis=1)[:, 0]) + [0.0]),\n",
    "    color = \"#CB0003\",\n",
    "    linewidth = 2.0\n",
    ")\n"
   ]
  },
  {
   "cell_type": "code",
   "execution_count": 97,
   "metadata": {
    "collapsed": false,
    "deletable": true,
    "editable": true
   },
   "outputs": [
    {
     "data": {
      "text/plain": [
       "array([  1.00000000e+02,   7.56191222e-01,   7.54302495e-01,\n",
       "         7.52085141e-01,   7.50288410e-01,   7.48886360e-01,\n",
       "         7.47959373e-01,   7.45645625e-01,   7.43838732e-01,\n",
       "         7.41603731e-01,   7.40302584e-01,   7.38013312e-01,\n",
       "         7.37043072e-01,   7.35765915e-01,   7.32083088e-01,\n",
       "         7.29685120e-01,   7.27955267e-01,   7.07489765e-01,\n",
       "         6.95034470e-01,   6.85759150e-01,   6.91591410e-01,\n",
       "         6.82492166e-01,   6.80934998e-01,   6.74082701e-01,\n",
       "         6.72539197e-01,   6.68138188e-01,   6.63837930e-01,\n",
       "         6.59672669e-01,   6.57531894e-01,   6.52991474e-01,\n",
       "         6.49193788e-01,   6.43379980e-01,   6.38571083e-01,\n",
       "         6.33384579e-01,   6.27705220e-01,   6.21373202e-01,\n",
       "         6.14327148e-01,   6.07001953e-01,   6.00500669e-01,\n",
       "         5.94487632e-01,   5.87355821e-01,   5.68264980e-01,\n",
       "         5.53731806e-01,   5.42108172e-01,   5.32778006e-01,\n",
       "         5.23245249e-01,   5.15145853e-01,   5.06746102e-01,\n",
       "         4.98182795e-01,   4.88024022e-01,   4.78892580e-01,\n",
       "         4.78889204e-01,   4.78640668e-01,   4.78155819e-01,\n",
       "         4.77435401e-01,   4.76617391e-01,   4.75837840e-01,\n",
       "         4.75148501e-01,   4.74571439e-01,   4.74128227e-01,\n",
       "         4.73815091e-01,   4.73599137e-01,   4.73457660e-01,\n",
       "         4.73361848e-01,   4.73302500e-01,   4.73265445e-01,\n",
       "         4.73243684e-01,   4.73230735e-01,   4.73225000e-01,\n",
       "         4.73222314e-01,   4.73222314e-01,   4.73222314e-01,\n",
       "         4.73222314e-01,   4.73222314e-01,   4.73222314e-01,\n",
       "         4.54946497e-01,   4.33546354e-01,   4.11995205e-01,\n",
       "         3.87543306e-01,   3.63186400e-01,   3.40594611e-01,\n",
       "         3.17464788e-01,   2.73206086e-01,   2.37804502e-01,\n",
       "         2.10785171e-01,   1.85966384e-01,   1.61846934e-01,\n",
       "         1.37898488e-01,   1.14905726e-01,   9.21766024e-02,\n",
       "         7.03927616e-02,   4.30803175e-02,   0.00000000e+00])"
      ]
     },
     "execution_count": 97,
     "metadata": {},
     "output_type": "execute_result"
    }
   ],
   "source": [
    "np.array([100.0] + list(np.mean(skm_p, axis=1)[:, 0]) + [0.0])"
   ]
  },
  {
   "cell_type": "code",
   "execution_count": 4,
   "metadata": {
    "collapsed": false,
    "deletable": true,
    "editable": true
   },
   "outputs": [
    {
     "name": "stdout",
     "output_type": "stream",
     "text": [
      "      P = 36.01% +/-  9.82\n",
      "[AUG] P = 50.40% +/-  3.53\n",
      "\n",
      "      R = 66.30% +/-  1.91\n",
      "[AUG] R = 68.42% +/-  1.04\n",
      "\n",
      "      F = 45.95% +/-  8.39\n",
      "[AUG] F = 57.95% +/-  2.12\n",
      "\n",
      "      AUPRC = 51.55% +/-  4.25\n",
      "[AUG] AUPRC = 62.27% +/-  2.00\n",
      "\n"
     ]
    }
   ],
   "source": [
    "none_cv_p = report[\"none\"][\"test-CV-F\"][\"P\"]\n",
    "none_cv_r = report[\"none\"][\"test-CV-F\"][\"R\"]\n",
    "none_cv_f = report[\"none\"][\"test-CV-F\"][\"F\"]\n",
    "none_cv_auprc = report[\"none\"][\"test-CV-AUPRC\"][\"AUPRC\"]\n",
    "\n",
    "all_cv_p = report[\"all\"][\"test-CV-F\"][\"P\"]\n",
    "all_cv_r = report[\"all\"][\"test-CV-F\"][\"R\"]\n",
    "all_cv_f = report[\"all\"][\"test-CV-F\"][\"F\"]\n",
    "all_cv_auprc = report[\"all\"][\"test-CV-AUPRC\"][\"AUPRC\"]\n",
    "\n",
    "print(\"      P = {:5.2f}% +/- {:5.2f}\".format(100*np.mean(none_cv_p), 100*np.std(none_cv_p)))\n",
    "print(\"[AUG] P = {:5.2f}% +/- {:5.2f}\".format(100*np.mean(all_cv_p), 100*np.std(all_cv_p)))\n",
    "print(\"\")\n",
    "\n",
    "print(\"      R = {:5.2f}% +/- {:5.2f}\".format(100*np.mean(none_cv_r), 100*np.std(none_cv_r)))\n",
    "print(\"[AUG] R = {:5.2f}% +/- {:5.2f}\".format(100*np.mean(all_cv_r), 100*np.std(all_cv_r)))\n",
    "print(\"\")\n",
    "\n",
    "print(\"      F = {:5.2f}% +/- {:5.2f}\".format(100*np.mean(none_cv_f), 100*np.std(none_cv_f)))\n",
    "print(\"[AUG] F = {:5.2f}% +/- {:5.2f}\".format(100*np.mean(all_cv_f), 100*np.std(all_cv_f)))\n",
    "print(\"\")\n",
    "\n",
    "print(\"      AUPRC = {:5.2f}% +/- {:5.2f}\".format(100*np.mean(none_cv_auprc), 100*np.std(none_cv_auprc)))\n",
    "print(\"[AUG] AUPRC = {:5.2f}% +/- {:5.2f}\".format(100*np.mean(all_cv_auprc), 100*np.std(all_cv_auprc)))\n",
    "print(\"\")"
   ]
  },
  {
   "cell_type": "code",
   "execution_count": 80,
   "metadata": {
    "collapsed": false,
    "deletable": true,
    "editable": true
   },
   "outputs": [
    {
     "data": {
      "text/plain": [
       "array([ 0.54357853,  0.53709737,  0.53360769,  0.53259074,  0.43086302])"
      ]
     },
     "execution_count": 80,
     "metadata": {},
     "output_type": "execute_result"
    }
   ],
   "source": [
    "report[\"none\"][\"test-CV-AUPRC\"][\"AUPRC\"]"
   ]
  },
  {
   "cell_type": "code",
   "execution_count": 8,
   "metadata": {
    "collapsed": false,
    "deletable": true,
    "editable": true
   },
   "outputs": [
    {
     "data": {
      "text/plain": [
       "Ttest_indResult(statistic=-4.5589960730472994, pvalue=0.001852349574801112)"
      ]
     },
     "execution_count": 8,
     "metadata": {},
     "output_type": "execute_result"
    }
   ],
   "source": [
    "scipy.stats.ttest_ind(\n",
    "    report[\"none\"][\"test-CV-AUPRC\"][\"AUPRC\"],\n",
    "    report[\"all\"][\"test-CV-AUPRC\"][\"AUPRC\"])"
   ]
  },
  {
   "cell_type": "code",
   "execution_count": 12,
   "metadata": {
    "collapsed": false,
    "deletable": true,
    "editable": true
   },
   "outputs": [
    {
     "data": {
      "text/plain": [
       "Ttest_indResult(statistic=-11.468093805441301, pvalue=3.0263535709229697e-06)"
      ]
     },
     "execution_count": 12,
     "metadata": {},
     "output_type": "execute_result"
    }
   ],
   "source": [
    "scipy.stats.ttest_ind(\n",
    "    report[\"none\"][\"test-CV-F\"][\"F\"],\n",
    "    report[\"all\"][\"test-CV-F\"][\"F\"])"
   ]
  },
  {
   "cell_type": "code",
   "execution_count": 11,
   "metadata": {
    "collapsed": false,
    "deletable": true,
    "editable": true
   },
   "outputs": [
    {
     "data": {
      "text/plain": [
       "array([[103, 102,  79, 115,   0,  91,   0, 106,   0, 135],\n",
       "       [205,   0, 207,   0, 189, 170, 206, 193, 191, 184],\n",
       "       [143,   0, 137, 150,   0, 158,   0, 145, 154, 118],\n",
       "       [130, 158,   0, 136, 162, 133, 174, 134, 158, 140],\n",
       "       [134, 131, 203, 126, 140, 131, 123, 121, 125, 139],\n",
       "       [159, 186, 130, 133, 140, 161, 170, 141, 166, 168]])"
      ]
     },
     "execution_count": 11,
     "metadata": {},
     "output_type": "execute_result"
    }
   ],
   "source": [
    "report[\"all\"][\"validation\"][\"threshold_ids\"].astype('int')"
   ]
  },
  {
   "cell_type": "code",
   "execution_count": 13,
   "metadata": {
    "collapsed": false,
    "deletable": true,
    "editable": true
   },
   "outputs": [
    {
     "data": {
      "text/plain": [
       "array([[4, 8, 9, 6, 3, 0, 2, 1, 5, 7],\n",
       "       [1, 3, 0, 9, 2, 6, 4, 8, 5, 7],\n",
       "       [1, 4, 6, 8, 0, 9, 7, 5, 3, 2],\n",
       "       [2, 9, 1, 5, 6, 3, 4, 8, 7, 0],\n",
       "       [2, 8, 1, 0, 4, 9, 5, 7, 3, 6],\n",
       "       [4, 9, 8, 6, 1, 2, 5, 3, 7, 0]])"
      ]
     },
     "execution_count": 13,
     "metadata": {},
     "output_type": "execute_result"
    }
   ],
   "source": [
    "report[\"all\"][\"validation\"][\"trials_F\"]"
   ]
  },
  {
   "cell_type": "code",
   "execution_count": 19,
   "metadata": {
    "collapsed": false,
    "deletable": true,
    "editable": true
   },
   "outputs": [
    {
     "data": {
      "text/plain": [
       "{'AUPRC': array([ 0.584095  ,  0.63561248,  0.6339047 ,  0.62212594,  0.63773739]),\n",
       " 'F': array([[ 0.35295597,  0.42790717,  0.34734553,  0.38978859,  0.46430929],\n",
       "        [ 0.35295597,  0.42790717,  0.34734553,  0.38978859,  0.46430929],\n",
       "        [ 0.35295597,  0.42790717,  0.34734553,  0.38978859,  0.46430929],\n",
       "        ..., \n",
       "        [ 0.11722689,  0.12112152,  0.11181427,  0.11352741,  0.11617216],\n",
       "        [ 0.1094169 ,  0.10481815,  0.10266519,  0.10070289,  0.10740003],\n",
       "        [ 0.08213971,  0.08110349,  0.081202  ,  0.08133519,  0.08134013]]),\n",
       " 'P': array([[ 0.68611949,  0.85188925,  0.87925697,  0.81890475,  0.86289395],\n",
       "        [ 0.68611949,  0.85188925,  0.87925697,  0.81890475,  0.86289395],\n",
       "        [ 0.68611949,  0.85188925,  0.87925697,  0.81890475,  0.86289395],\n",
       "        ..., \n",
       "        [ 0.0624635 ,  0.06466246,  0.05938754,  0.06034093,  0.06186434],\n",
       "        [ 0.05803582,  0.05543977,  0.05423996,  0.05313929,  0.05689826],\n",
       "        [ 0.04289825,  0.04233346,  0.04238703,  0.04246028,  0.04246325]]),\n",
       " 'R': array([[ 0.23758855,  0.28571025,  0.21642065,  0.25576473,  0.31760323],\n",
       "        [ 0.23758855,  0.28571025,  0.21642065,  0.25576473,  0.31760323],\n",
       "        [ 0.23758855,  0.28571025,  0.21642065,  0.25576473,  0.31760323],\n",
       "        ..., \n",
       "        [ 0.95094691,  0.95472891,  0.95396687,  0.95749485,  0.95108803],\n",
       "        [ 0.95422088,  0.95870848,  0.95766419,  0.95975276,  0.95534983],\n",
       "        [ 0.96359121,  0.96350653,  0.96356298,  0.9632243 ,  0.96308318]]),\n",
       " 'interpolated_F': array([[ 0.        ,  0.        ,  0.        ,  0.        ,  0.        ],\n",
       "        [ 0.33216933,  0.34473249,  0.34734553,  0.34800765,  0.34942519],\n",
       "        [ 0.33216933,  0.34473249,  0.34734553,  0.34800765,  0.34942519],\n",
       "        ..., \n",
       "        [ 0.081202  ,  0.08222318,  0.08381819,  0.0973754 ,  0.10389611],\n",
       "        [ 0.08213971,  0.08256223,  0.08517256,  0.09869956,  0.10520585],\n",
       "        [ 0.        ,  0.        ,  0.        ,  0.        ,  0.        ]]),\n",
       " 'interpolated_P': array([[ 1.        ,  1.        ,  1.        ,  1.        ,  1.        ],\n",
       "        [ 0.71408461,  0.84676249,  0.87925697,  0.88780863,  0.90657343],\n",
       "        [ 0.71408461,  0.84676249,  0.87925697,  0.88780863,  0.90657343],\n",
       "        ..., \n",
       "        [ 0.04238703,  0.04294384,  0.04381477,  0.05127876,  0.0549083 ],\n",
       "        [ 0.04289825,  0.04312879,  0.04455543,  0.05201363,  0.05564036],\n",
       "        [ 0.        ,  0.        ,  0.        ,  0.        ,  0.        ]]),\n",
       " 'interpolated_R': array([ 0.        ,  0.21642065,  0.21642065, ...,  0.96356298,\n",
       "         0.96359121,  1.        ])}"
      ]
     },
     "execution_count": 19,
     "metadata": {},
     "output_type": "execute_result"
    }
   ],
   "source": [
    "report[\"all\"][\"test-CV-AUPRC\"]"
   ]
  },
  {
   "cell_type": "code",
   "execution_count": 32,
   "metadata": {
    "collapsed": false,
    "deletable": true,
    "editable": true
   },
   "outputs": [
    {
     "data": {
      "text/plain": [
       "array([  0.00000000e+00,   2.20184981e-11,  -4.10745882e-11,\n",
       "         1.25375266e-11,  -1.51066937e-11,  -2.17206253e-11,\n",
       "        -4.73776574e-12,   3.87211374e-11,   1.18864918e-11,\n",
       "         1.83829618e-11,  -3.77222698e-11,   4.81339413e-11,\n",
       "        -1.89284144e-11,  -3.31641381e-11,   1.18723920e-11,\n",
       "         2.34132713e-11,   9.57345314e-12,  -2.05421236e-11,\n",
       "         4.32822667e-11,   1.25094379e-11,   0.00000000e+00,\n",
       "         2.01845207e-11,  -1.07459597e-11,   2.53754795e-11,\n",
       "         4.89319696e-11,  -1.72059034e-11,  -4.73768802e-11,\n",
       "        -1.27885480e-11,   1.88642435e-11,  -1.61706204e-11,\n",
       "         2.27766694e-11,  -1.86609617e-11,   1.07169829e-11,\n",
       "        -3.16408011e-11,   1.87233562e-11,   3.41324746e-11,\n",
       "        -4.26558788e-12,  -5.42155210e-12,   3.28234107e-11,\n",
       "         2.50939269e-11,   0.00000000e+00,   1.84552373e-12,\n",
       "        -7.45881135e-12,  -4.62454519e-11,  -1.06806786e-11,\n",
       "         2.79409829e-11,   2.62314614e-11,  -2.78861378e-11,\n",
       "        -1.13569154e-11,   3.82930354e-11,   2.77659007e-11,\n",
       "         1.33891787e-11,   7.17048643e-12,  -1.64078751e-11,\n",
       "        -1.27664546e-11,   4.13251655e-11,  -4.26554347e-11,\n",
       "         4.57843763e-11,   2.82346369e-11,  -4.90617547e-11,\n",
       "         0.00000000e+00,   1.84542381e-11,   2.54117838e-11,\n",
       "         3.75446341e-11,  -6.80744350e-12,  -2.05899742e-11,\n",
       "        -3.76850773e-11,   2.11385354e-11,  -1.35684797e-11,\n",
       "        -1.70687908e-11,  -2.23399077e-11,   3.38923334e-11,\n",
       "        -2.82944779e-11,   3.59213770e-11,  -2.76637602e-11,\n",
       "         1.32519551e-11,  -2.65550915e-11,  -4.21561674e-11,\n",
       "        -1.76527681e-11,   9.38127354e-12,   0.00000000e+00,\n",
       "        -1.54569690e-11,  -4.58820759e-11,  -2.45539145e-11,\n",
       "         3.19245741e-11,  -5.89961413e-12,   2.31495934e-11,\n",
       "         1.13856702e-11,  -3.56848995e-11,   2.93127744e-11,\n",
       "        -2.33982833e-11,   3.89234200e-11,   1.70554681e-11,\n",
       "        -4.07849310e-11,   2.33626452e-11,   3.25189875e-11,\n",
       "         3.44481110e-11,  -2.15615303e-11,   2.34724462e-11,\n",
       "        -6.18660678e-12,   0.00000000e+00,   4.54301041e-11,\n",
       "         4.11795043e-11,  -4.55376847e-11,   1.92460492e-11,\n",
       "         4.10037559e-11,   3.14968052e-11,   1.38569156e-11,\n",
       "         4.31510383e-11,  -6.87350177e-12,  -3.39831496e-11,\n",
       "        -1.07663878e-11,  -2.94464453e-11,  -7.84905474e-12,\n",
       "         3.36272121e-11,   2.51904053e-11,   4.44800863e-11,\n",
       "        -1.56158420e-11,   3.47243345e-11,   3.81336074e-11,\n",
       "         0.00000000e+00,  -4.56980009e-11,   1.17941212e-11,\n",
       "         4.46227499e-11,  -7.53874740e-12,   1.00389697e-11,\n",
       "         1.49689150e-11,   3.85683707e-11,   3.15095727e-11,\n",
       "         3.12644355e-11,  -3.98315825e-11,  -7.66420261e-12,\n",
       "         5.53490587e-12,   2.15095719e-11,   3.62727626e-11,\n",
       "        -4.80964157e-11,   4.48019399e-11,   4.38413750e-11,\n",
       "         4.72427653e-11,  -1.86625160e-11,   0.00000000e+00,\n",
       "        -4.82272000e-11,   4.30195879e-11,  -2.56298316e-11,\n",
       "         1.79416482e-11,   2.16331397e-11,   4.62274663e-11,\n",
       "        -3.90556476e-11,   2.46110909e-11,  -1.87743154e-11,\n",
       "         3.89244192e-13,  -5.10202991e-12,   4.96888086e-11,\n",
       "        -1.63358216e-12,  -1.43165479e-11,  -4.33834080e-11,\n",
       "         1.50957025e-11,  -2.01194617e-12,   1.26444410e-11,\n",
       "        -1.08204556e-11,   1.68376424e-12,   1.57827085e-11,\n",
       "         2.33575381e-11,   2.88442603e-11,  -4.46501724e-11,\n",
       "         4.28582725e-11,   1.50962576e-11,  -3.85202981e-12,\n",
       "        -3.72727404e-11,   2.30988562e-11,   1.90348848e-11,\n",
       "        -4.70989914e-11,   4.80193663e-11,  -4.31386038e-11,\n",
       "         3.84138277e-11,   3.32455175e-11,  -2.75717227e-11,\n",
       "        -3.54805074e-11,   1.33746347e-11,   2.85923507e-11,\n",
       "         0.00000000e+00,   1.77289294e-11,   3.01962899e-11,\n",
       "         4.37018199e-11,  -2.05833128e-11,   1.63324909e-11,\n",
       "        -3.77244902e-11,   9.44333500e-12,   4.61114480e-11,\n",
       "         1.22559740e-11,   3.89233090e-12,   4.89800422e-11,\n",
       "        -3.11206616e-12,  -1.63352665e-11,  -4.31660263e-11,\n",
       "        -3.38346018e-11,  -4.90418817e-11,  -2.01190176e-11,\n",
       "         2.64455124e-11,  -8.20399304e-12,   1.68380865e-11,\n",
       "        -4.21721547e-11,   3.35753647e-11,  -1.15557564e-11,\n",
       "        -4.65026906e-11,   2.85821367e-11,  -4.90366636e-11,\n",
       "        -3.85194099e-11,   2.72724621e-11,   3.09884340e-11,\n",
       "        -9.65094671e-12,   2.90105717e-11,  -1.98066563e-11,\n",
       "        -3.13851167e-11,  -1.58619784e-11,   3.24558713e-11,\n",
       "         2.42817155e-11,   4.51951254e-11,   3.37458950e-11,\n",
       "        -1.40763859e-11,   0.00000000e+00])"
      ]
     },
     "execution_count": 32,
     "metadata": {},
     "output_type": "execute_result"
    }
   ],
   "source": []
  },
  {
   "cell_type": "code",
   "execution_count": 5,
   "metadata": {
    "collapsed": false,
    "deletable": true,
    "editable": true
   },
   "outputs": [
    {
     "ename": "EmptyDataError",
     "evalue": "No columns to parse from file",
     "output_type": "error",
     "traceback": [
      "\u001b[0;31m---------------------------------------------------------------------------\u001b[0m",
      "\u001b[0;31mEmptyDataError\u001b[0m                            Traceback (most recent call last)",
      "\u001b[0;32m<ipython-input-5-be4c41c1214b>\u001b[0m in \u001b[0;36m<module>\u001b[0;34m()\u001b[0m\n\u001b[1;32m     96\u001b[0m         ])\n\u001b[1;32m     97\u001b[0m         \u001b[0mtest_metrics_path\u001b[0m \u001b[0;34m=\u001b[0m \u001b[0mos\u001b[0m\u001b[0;34m.\u001b[0m\u001b[0mpath\u001b[0m\u001b[0;34m.\u001b[0m\u001b[0mjoin\u001b[0m\u001b[0;34m(\u001b[0m\u001b[0mtrial_dir\u001b[0m\u001b[0;34m,\u001b[0m \u001b[0mtest_metrics_name\u001b[0m\u001b[0;34m)\u001b[0m\u001b[0;34m\u001b[0m\u001b[0m\n\u001b[0;32m---> 98\u001b[0;31m         \u001b[0mtest_metrics_df\u001b[0m \u001b[0;34m=\u001b[0m \u001b[0mpd\u001b[0m\u001b[0;34m.\u001b[0m\u001b[0mread_csv\u001b[0m\u001b[0;34m(\u001b[0m\u001b[0mtest_metrics_path\u001b[0m\u001b[0;34m)\u001b[0m\u001b[0;34m\u001b[0m\u001b[0m\n\u001b[0m\u001b[1;32m     99\u001b[0m         \u001b[0mtest_tp\u001b[0m \u001b[0;34m=\u001b[0m \u001b[0mtest_tp\u001b[0m \u001b[0;34m+\u001b[0m \u001b[0mnp\u001b[0m\u001b[0;34m.\u001b[0m\u001b[0marray\u001b[0m\u001b[0;34m(\u001b[0m\u001b[0mtest_metrics_df\u001b[0m\u001b[0;34m[\u001b[0m\u001b[0;34m\"True positives\"\u001b[0m\u001b[0;34m]\u001b[0m\u001b[0;34m)\u001b[0m\u001b[0;34m\u001b[0m\u001b[0m\n\u001b[1;32m    100\u001b[0m         \u001b[0mtest_fp\u001b[0m \u001b[0;34m=\u001b[0m \u001b[0mtest_fp\u001b[0m \u001b[0;34m+\u001b[0m \u001b[0mnp\u001b[0m\u001b[0;34m.\u001b[0m\u001b[0marray\u001b[0m\u001b[0;34m(\u001b[0m\u001b[0mtest_metrics_df\u001b[0m\u001b[0;34m[\u001b[0m\u001b[0;34m\"False positives\"\u001b[0m\u001b[0;34m]\u001b[0m\u001b[0;34m)\u001b[0m\u001b[0;34m\u001b[0m\u001b[0m\n",
      "\u001b[0;32m/home/vl1019/miniconda3/lib/python3.6/site-packages/pandas/io/parsers.py\u001b[0m in \u001b[0;36mparser_f\u001b[0;34m(filepath_or_buffer, sep, delimiter, header, names, index_col, usecols, squeeze, prefix, mangle_dupe_cols, dtype, engine, converters, true_values, false_values, skipinitialspace, skiprows, nrows, na_values, keep_default_na, na_filter, verbose, skip_blank_lines, parse_dates, infer_datetime_format, keep_date_col, date_parser, dayfirst, iterator, chunksize, compression, thousands, decimal, lineterminator, quotechar, quoting, escapechar, comment, encoding, dialect, tupleize_cols, error_bad_lines, warn_bad_lines, skipfooter, skip_footer, doublequote, delim_whitespace, as_recarray, compact_ints, use_unsigned, low_memory, buffer_lines, memory_map, float_precision)\u001b[0m\n\u001b[1;32m    653\u001b[0m                     skip_blank_lines=skip_blank_lines)\n\u001b[1;32m    654\u001b[0m \u001b[0;34m\u001b[0m\u001b[0m\n\u001b[0;32m--> 655\u001b[0;31m         \u001b[0;32mreturn\u001b[0m \u001b[0m_read\u001b[0m\u001b[0;34m(\u001b[0m\u001b[0mfilepath_or_buffer\u001b[0m\u001b[0;34m,\u001b[0m \u001b[0mkwds\u001b[0m\u001b[0;34m)\u001b[0m\u001b[0;34m\u001b[0m\u001b[0m\n\u001b[0m\u001b[1;32m    656\u001b[0m \u001b[0;34m\u001b[0m\u001b[0m\n\u001b[1;32m    657\u001b[0m     \u001b[0mparser_f\u001b[0m\u001b[0;34m.\u001b[0m\u001b[0m__name__\u001b[0m \u001b[0;34m=\u001b[0m \u001b[0mname\u001b[0m\u001b[0;34m\u001b[0m\u001b[0m\n",
      "\u001b[0;32m/home/vl1019/miniconda3/lib/python3.6/site-packages/pandas/io/parsers.py\u001b[0m in \u001b[0;36m_read\u001b[0;34m(filepath_or_buffer, kwds)\u001b[0m\n\u001b[1;32m    403\u001b[0m \u001b[0;34m\u001b[0m\u001b[0m\n\u001b[1;32m    404\u001b[0m     \u001b[0;31m# Create the parser.\u001b[0m\u001b[0;34m\u001b[0m\u001b[0;34m\u001b[0m\u001b[0m\n\u001b[0;32m--> 405\u001b[0;31m     \u001b[0mparser\u001b[0m \u001b[0;34m=\u001b[0m \u001b[0mTextFileReader\u001b[0m\u001b[0;34m(\u001b[0m\u001b[0mfilepath_or_buffer\u001b[0m\u001b[0;34m,\u001b[0m \u001b[0;34m**\u001b[0m\u001b[0mkwds\u001b[0m\u001b[0;34m)\u001b[0m\u001b[0;34m\u001b[0m\u001b[0m\n\u001b[0m\u001b[1;32m    406\u001b[0m \u001b[0;34m\u001b[0m\u001b[0m\n\u001b[1;32m    407\u001b[0m     \u001b[0;32mif\u001b[0m \u001b[0mchunksize\u001b[0m \u001b[0;32mor\u001b[0m \u001b[0miterator\u001b[0m\u001b[0;34m:\u001b[0m\u001b[0;34m\u001b[0m\u001b[0m\n",
      "\u001b[0;32m/home/vl1019/miniconda3/lib/python3.6/site-packages/pandas/io/parsers.py\u001b[0m in \u001b[0;36m__init__\u001b[0;34m(self, f, engine, **kwds)\u001b[0m\n\u001b[1;32m    762\u001b[0m             \u001b[0mself\u001b[0m\u001b[0;34m.\u001b[0m\u001b[0moptions\u001b[0m\u001b[0;34m[\u001b[0m\u001b[0;34m'has_index_names'\u001b[0m\u001b[0;34m]\u001b[0m \u001b[0;34m=\u001b[0m \u001b[0mkwds\u001b[0m\u001b[0;34m[\u001b[0m\u001b[0;34m'has_index_names'\u001b[0m\u001b[0;34m]\u001b[0m\u001b[0;34m\u001b[0m\u001b[0m\n\u001b[1;32m    763\u001b[0m \u001b[0;34m\u001b[0m\u001b[0m\n\u001b[0;32m--> 764\u001b[0;31m         \u001b[0mself\u001b[0m\u001b[0;34m.\u001b[0m\u001b[0m_make_engine\u001b[0m\u001b[0;34m(\u001b[0m\u001b[0mself\u001b[0m\u001b[0;34m.\u001b[0m\u001b[0mengine\u001b[0m\u001b[0;34m)\u001b[0m\u001b[0;34m\u001b[0m\u001b[0m\n\u001b[0m\u001b[1;32m    765\u001b[0m \u001b[0;34m\u001b[0m\u001b[0m\n\u001b[1;32m    766\u001b[0m     \u001b[0;32mdef\u001b[0m \u001b[0mclose\u001b[0m\u001b[0;34m(\u001b[0m\u001b[0mself\u001b[0m\u001b[0;34m)\u001b[0m\u001b[0;34m:\u001b[0m\u001b[0;34m\u001b[0m\u001b[0m\n",
      "\u001b[0;32m/home/vl1019/miniconda3/lib/python3.6/site-packages/pandas/io/parsers.py\u001b[0m in \u001b[0;36m_make_engine\u001b[0;34m(self, engine)\u001b[0m\n\u001b[1;32m    983\u001b[0m     \u001b[0;32mdef\u001b[0m \u001b[0m_make_engine\u001b[0m\u001b[0;34m(\u001b[0m\u001b[0mself\u001b[0m\u001b[0;34m,\u001b[0m \u001b[0mengine\u001b[0m\u001b[0;34m=\u001b[0m\u001b[0;34m'c'\u001b[0m\u001b[0;34m)\u001b[0m\u001b[0;34m:\u001b[0m\u001b[0;34m\u001b[0m\u001b[0m\n\u001b[1;32m    984\u001b[0m         \u001b[0;32mif\u001b[0m \u001b[0mengine\u001b[0m \u001b[0;34m==\u001b[0m \u001b[0;34m'c'\u001b[0m\u001b[0;34m:\u001b[0m\u001b[0;34m\u001b[0m\u001b[0m\n\u001b[0;32m--> 985\u001b[0;31m             \u001b[0mself\u001b[0m\u001b[0;34m.\u001b[0m\u001b[0m_engine\u001b[0m \u001b[0;34m=\u001b[0m \u001b[0mCParserWrapper\u001b[0m\u001b[0;34m(\u001b[0m\u001b[0mself\u001b[0m\u001b[0;34m.\u001b[0m\u001b[0mf\u001b[0m\u001b[0;34m,\u001b[0m \u001b[0;34m**\u001b[0m\u001b[0mself\u001b[0m\u001b[0;34m.\u001b[0m\u001b[0moptions\u001b[0m\u001b[0;34m)\u001b[0m\u001b[0;34m\u001b[0m\u001b[0m\n\u001b[0m\u001b[1;32m    986\u001b[0m         \u001b[0;32melse\u001b[0m\u001b[0;34m:\u001b[0m\u001b[0;34m\u001b[0m\u001b[0m\n\u001b[1;32m    987\u001b[0m             \u001b[0;32mif\u001b[0m \u001b[0mengine\u001b[0m \u001b[0;34m==\u001b[0m \u001b[0;34m'python'\u001b[0m\u001b[0;34m:\u001b[0m\u001b[0;34m\u001b[0m\u001b[0m\n",
      "\u001b[0;32m/home/vl1019/miniconda3/lib/python3.6/site-packages/pandas/io/parsers.py\u001b[0m in \u001b[0;36m__init__\u001b[0;34m(self, src, **kwds)\u001b[0m\n\u001b[1;32m   1603\u001b[0m         \u001b[0mkwds\u001b[0m\u001b[0;34m[\u001b[0m\u001b[0;34m'allow_leading_cols'\u001b[0m\u001b[0;34m]\u001b[0m \u001b[0;34m=\u001b[0m \u001b[0mself\u001b[0m\u001b[0;34m.\u001b[0m\u001b[0mindex_col\u001b[0m \u001b[0;32mis\u001b[0m \u001b[0;32mnot\u001b[0m \u001b[0;32mFalse\u001b[0m\u001b[0;34m\u001b[0m\u001b[0m\n\u001b[1;32m   1604\u001b[0m \u001b[0;34m\u001b[0m\u001b[0m\n\u001b[0;32m-> 1605\u001b[0;31m         \u001b[0mself\u001b[0m\u001b[0;34m.\u001b[0m\u001b[0m_reader\u001b[0m \u001b[0;34m=\u001b[0m \u001b[0mparsers\u001b[0m\u001b[0;34m.\u001b[0m\u001b[0mTextReader\u001b[0m\u001b[0;34m(\u001b[0m\u001b[0msrc\u001b[0m\u001b[0;34m,\u001b[0m \u001b[0;34m**\u001b[0m\u001b[0mkwds\u001b[0m\u001b[0;34m)\u001b[0m\u001b[0;34m\u001b[0m\u001b[0m\n\u001b[0m\u001b[1;32m   1606\u001b[0m \u001b[0;34m\u001b[0m\u001b[0m\n\u001b[1;32m   1607\u001b[0m         \u001b[0;31m# XXX\u001b[0m\u001b[0;34m\u001b[0m\u001b[0;34m\u001b[0m\u001b[0m\n",
      "\u001b[0;32mpandas/_libs/parsers.pyx\u001b[0m in \u001b[0;36mpandas._libs.parsers.TextReader.__cinit__ (pandas/_libs/parsers.c:6260)\u001b[0;34m()\u001b[0m\n",
      "\u001b[0;31mEmptyDataError\u001b[0m: No columns to parse from file"
     ]
    }
   ],
   "source": [
    "# ICASSP CONVNET\n",
    "\n",
    "import numpy as np\n",
    "import os\n",
    "import pandas as pd\n",
    "import scipy.interpolate\n",
    "import sklearn.metrics\n",
    "import sys\n",
    "sys.path.append(\"../src\")\n",
    "import localmodule\n",
    "\n",
    "\n",
    "from matplotlib import pyplot as plt\n",
    "%matplotlib inline\n",
    "\n",
    "# Define constants.\n",
    "dataset_name = localmodule.get_dataset_name()\n",
    "models_dir = localmodule.get_models_dir()\n",
    "units = localmodule.get_units()\n",
    "n_units = len(units)\n",
    "n_thresholds = 221\n",
    "n_trials = 10\n",
    "n_eval_trials = 5\n",
    "\n",
    "\n",
    "# Initialize dicts.\n",
    "report = {}\n",
    "\n",
    "\n",
    "# Loop over augmentations.\n",
    "for aug_kind_str in [\"none\", \"all\"]:\n",
    "\n",
    "    # Define thresholds\n",
    "    thresholds = 1.0 - np.concatenate((\n",
    "        np.logspace(-9, -2, 141), np.delete(np.logspace(-2, 0, 81), 0)\n",
    "    ))\n",
    "    n_thresholds = len(thresholds)\n",
    "\n",
    "\n",
    "    # Define model directory\n",
    "    model_name = \"pcen-convnet\"\n",
    "    if not aug_kind_str == \"none\":\n",
    "        model_name = \"_\".join([model_name, \"aug-\" + aug_kind_str])\n",
    "    model_dir = os.path.join(models_dir, model_name)\n",
    "\n",
    "\n",
    "    # Loop over test units.\n",
    "    for test_unit_id in range(n_units):\n",
    "\n",
    "        test_unit_str = units[test_unit_id]\n",
    "        test_unit_dir = os.path.join(model_dir, test_unit_str)\n",
    "\n",
    "        # Retrieve fold such that unit_str is in the test set.\n",
    "        folds = localmodule.fold_units()\n",
    "        fold = [f for f in folds if test_unit_str in f[0]][0]\n",
    "        test_units = fold[0]\n",
    "        validation_units = fold[2]\n",
    "\n",
    "\n",
    "        val_losses = []\n",
    "        for trial_id in range(n_trials):\n",
    "            trial_str = \"trial-\" + str(trial_id)\n",
    "            trial_dir = os.path.join(test_unit_dir, trial_str)\n",
    "            history_name = \"_\".join([\n",
    "                dataset_name,\n",
    "                model_name,\n",
    "                test_unit_str,\n",
    "                trial_str,\n",
    "                \"history.csv\"\n",
    "            ])\n",
    "            history_path = os.path.join(\n",
    "                trial_dir, history_name)\n",
    "            try:\n",
    "                history_df = pd.read_csv(history_path)\n",
    "                val_loss = min(history_df[\"Validation loss\"])\n",
    "            except:\n",
    "                val_loss = np.inf\n",
    "            val_losses.append(val_loss)\n",
    "\n",
    "        val_losses = np.array(val_losses)\n",
    "        best_trial_id = np.argmin(val_losses)\n",
    "        best_trial_str = \"trial-\" + str(best_trial_id)\n",
    "        trial_dir = os.path.join(test_unit_dir, best_trial_str)\n",
    "\n",
    "        # Load test predictions.\n",
    "        test_metrics_name = \"_\".join([\n",
    "            dataset_name,\n",
    "            model_name,\n",
    "            \"test-\" + test_unit_str,\n",
    "            best_trial_str,\n",
    "            \"predict-\" + test_unit_str,\n",
    "            \"full-audio-metrics.csv\"\n",
    "        ])\n",
    "        test_metrics_path = os.path.join(trial_dir, test_metrics_name)\n",
    "        test_metrics_df = pd.read_csv(test_metrics_path)\n",
    "        test_tp = test_tp + np.array(test_metrics_df[\"True positives\"])\n",
    "        test_fp = test_fp + np.array(test_metrics_df[\"False positives\"])\n",
    "        test_fn = test_fn + np.array(test_metrics_df[\"False negatives\"])\n",
    "\n",
    "        test_p = test_tp / (np.finfo(float).eps + test_tp + test_fp)\n",
    "        test_r = test_tp / (np.finfo(float).eps + test_tp + test_fn)\n",
    "        test_p_ = np.array([1.0] + list(test_p) + [0.0])\n",
    "        test_r_ = np.array([0.0] + list(test_r) + [1.0])\n",
    "        test_auprc = sklearn.metrics.auc(test_r_, test_p_, reorder=True)\n",
    "\n",
    "        plt.figure()\n",
    "        plt.plot(test_r_, test_p_)"
   ]
  },
  {
   "cell_type": "code",
   "execution_count": 6,
   "metadata": {
    "collapsed": false,
    "deletable": true,
    "editable": true
   },
   "outputs": [
    {
     "data": {
      "text/plain": [
       "'/scratch/vl1019/BirdVox-70k_models/pcen-convnet/unit01/trial-2/BirdVox-70k_pcen-convnet_test-unit01_trial-2_predict-unit01_full-audio-metrics.csv'"
      ]
     },
     "execution_count": 6,
     "metadata": {},
     "output_type": "execute_result"
    }
   ],
   "source": [
    "test_metrics_path"
   ]
  },
  {
   "cell_type": "code",
   "execution_count": null,
   "metadata": {
    "collapsed": true,
    "deletable": true,
    "editable": true
   },
   "outputs": [],
   "source": []
  }
 ],
 "metadata": {
  "kernelspec": {
   "display_name": "Python 3",
   "language": "python",
   "name": "python3"
  },
  "language_info": {
   "codemirror_mode": {
    "name": "ipython",
    "version": 3
   },
   "file_extension": ".py",
   "mimetype": "text/x-python",
   "name": "python",
   "nbconvert_exporter": "python",
   "pygments_lexer": "ipython3",
   "version": "3.6.0"
  }
 },
 "nbformat": 4,
 "nbformat_minor": 2
}
