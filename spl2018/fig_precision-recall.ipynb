{
 "cells": [
  {
   "cell_type": "code",
   "execution_count": 1,
   "metadata": {},
   "outputs": [],
   "source": [
    "import numpy as np\n",
    "import os\n",
    "import pandas as pd\n",
    "import scipy.interpolate\n",
    "import sklearn.metrics\n",
    "import sys\n",
    "sys.path.append(\"../src\")\n",
    "import localmodule\n",
    "\n",
    "\n",
    "from matplotlib import pyplot as plt\n",
    "%matplotlib inline\n",
    "\n",
    "# Define constants.\n",
    "n_eval_trials = 1\n",
    "dataset_name = localmodule.get_dataset_name()\n",
    "models_dir = localmodule.get_models_dir()\n",
    "units = localmodule.get_units()\n",
    "n_units = len(units)\n",
    "n_thresholds = 221\n",
    "n_trial_groups = int(np.floor(10 / n_eval_trials))\n",
    "n_trials = n_trial_groups * n_eval_trials\n",
    "\n",
    "\n",
    "# Initialize dicts.\n",
    "report = {}\n",
    "\n",
    "\n",
    "model_names = [\n",
    "    \"icassp-convnet\",\n",
    "    \"pcen-convnet\",\n",
    "    \"pcen-convnet_aug-all\",\n",
    "    \"pcen-add-convnet_aug-all-but-noise\",\n",
    "    #\"pcen-addntt-convnet_aug-all-but-noise\",\n",
    "    #\"pcen-ntt-convnet_aug-all-but-noise\",\n",
    "    \"icassp-convnet_aug-all\",\n",
    "]\n",
    "\n",
    "# Loop over augmentations.\n",
    "for model_name in model_names:\n",
    "\n",
    "    # Initialize dictionaries\n",
    "    aug_report = {\n",
    "        \"test-CV-AUPRC\": {},\n",
    "        \"test-CV-F\": {},\n",
    "        \"val-AUPRC\": {},\n",
    "        \"val-F\": {},\n",
    "    }\n",
    "\n",
    "    ###############################   VALIDATION   #################################\n",
    "    val_precisions = np.zeros((n_units, n_trials))\n",
    "    val_recalls = np.zeros((n_units, n_trials))\n",
    "    val_f1_scores = np.zeros((n_units, n_trials))\n",
    "    val_auprcs = np.zeros((n_units, n_trials))\n",
    "    val_thresholds = np.zeros((n_units, n_trials))\n",
    "    val_threshold_ids = np.zeros((n_units, n_trials))\n",
    "\n",
    "\n",
    "    thresholds = 1.0 - np.concatenate((\n",
    "        np.logspace(-9, -2, 141), np.delete(np.logspace(-2, 0, 81), 0)\n",
    "    ))\n",
    "    n_thresholds = len(thresholds)\n",
    "\n",
    "\n",
    "    # Define model directory\n",
    "    model_dir = os.path.join(models_dir, model_name)\n",
    "\n",
    "\n",
    "    # Loop over test units.\n",
    "    for test_unit_id in range(n_units):\n",
    "\n",
    "        test_unit_str = units[test_unit_id]\n",
    "        test_unit_dir = os.path.join(model_dir, test_unit_str)\n",
    "\n",
    "        # Retrieve fold such that unit_str is in the test set.\n",
    "        folds = localmodule.fold_units()\n",
    "        fold = [f for f in folds if test_unit_str in f[0]][0]\n",
    "        test_units = fold[0]\n",
    "        validation_units = fold[2]\n",
    "\n",
    "        # Loop over trials.\n",
    "        for trial_id in range(n_trials):\n",
    "\n",
    "            trial_str = \"trial-\" + str(trial_id)\n",
    "            trial_dir = os.path.join(test_unit_dir, trial_str)\n",
    "            break_switch = False\n",
    "\n",
    "            # Loop over validation units.\n",
    "            for predict_unit_str in validation_units:\n",
    "                val_metrics_name = \"_\".join([\n",
    "                    dataset_name,\n",
    "                    model_name,\n",
    "                    \"test-\" + test_unit_str,\n",
    "                    trial_str,\n",
    "                    \"predict-\" + predict_unit_str,\n",
    "                    \"full-audio-metrics.csv\"\n",
    "                ])\n",
    "                val_metrics_path = os.path.join(trial_dir, val_metrics_name)\n",
    "                val_tp = np.zeros((n_thresholds,))\n",
    "                val_fp = np.zeros((n_thresholds,))\n",
    "                val_fn = np.zeros((n_thresholds,))\n",
    "                try:\n",
    "                    val_metrics_df = pd.read_csv(val_metrics_path)\n",
    "                    val_tp = val_tp + np.array(val_metrics_df[\"True positives\"])\n",
    "                    val_fp = val_fp + np.array(val_metrics_df[\"False positives\"])\n",
    "                    val_fn = val_fn + np.array(val_metrics_df[\"False negatives\"])\n",
    "                except:\n",
    "                    break_switch = True\n",
    "                    break\n",
    "\n",
    "            if break_switch:\n",
    "                val_auprc = 0.0\n",
    "                val_p = np.zeros((n_thresholds,))\n",
    "                val_r = np.zeros((n_thresholds,))\n",
    "                val_f = np.zeros((n_thresholds,))\n",
    "                val_threshold_id = 0\n",
    "                val_auprc = 0.0\n",
    "            else:\n",
    "                val_p = val_tp / (np.finfo(float).eps + val_tp + val_fp)\n",
    "                val_r = val_tp / (np.finfo(float).eps + val_tp + val_fn)\n",
    "                val_f = 2*val_p*val_r / (np.finfo(float).eps+(val_p+val_r))\n",
    "                val_threshold_id = np.argmax(val_f)\n",
    "                val_p_ = np.array([1.0] + list(val_p) + [0.0])\n",
    "                val_r_ = np.array([0.0] + list(val_r) + [1.0])\n",
    "                val_auprc = sklearn.metrics.auc(val_r_, val_p_, reorder=True)\n",
    "\n",
    "            val_precisions[test_unit_id, trial_id] = val_p[val_threshold_id]\n",
    "            val_recalls[test_unit_id, trial_id] = val_r[val_threshold_id]\n",
    "            val_f1_scores[test_unit_id, trial_id] = val_f[val_threshold_id]\n",
    "            val_thresholds[test_unit_id, trial_id] = thresholds[val_threshold_id]\n",
    "            val_threshold_ids[test_unit_id, trial_id] = val_threshold_id\n",
    "            val_auprcs[test_unit_id, trial_id] = val_auprc\n",
    "\n",
    "\n",
    "    val_F_tensor = np.reshape(val_f1_scores, (6, n_eval_trials, n_trial_groups))\n",
    "    val_F_trials = np.zeros((6, n_eval_trials))\n",
    "    val_F_precisions = np.zeros((6, n_eval_trials))\n",
    "    val_F_recalls = np.zeros((6, n_eval_trials))\n",
    "    val_F_f1_scores = np.zeros((6, n_eval_trials))\n",
    "    val_F_thresholds = np.zeros((6, n_eval_trials))\n",
    "    val_F_threshold_ids = np.zeros((6, n_eval_trials))\n",
    "    val_F_auprcs = np.zeros((6, n_eval_trials))\n",
    "\n",
    "\n",
    "    val_AUPRC_tensor = np.reshape(val_auprcs, (6, n_eval_trials, n_trial_groups))\n",
    "    val_AUPRC_trials = np.zeros((6, n_eval_trials))\n",
    "    val_AUPRC_precisions = np.zeros((6, n_eval_trials))\n",
    "    val_AUPRC_recalls = np.zeros((6, n_eval_trials))\n",
    "    val_AUPRC_f1_scores = np.zeros((6, n_eval_trials))\n",
    "    val_AUPRC_thresholds = np.zeros((6, n_eval_trials))\n",
    "    val_AUPRC_threshold_ids = np.zeros((6, n_eval_trials))\n",
    "    val_AUPRC_auprcs = np.zeros((6, n_eval_trials))\n",
    "\n",
    "\n",
    "    # Select best n INDEPENDENT trials out of 10.\n",
    "    # We proceed by groups to guarantee statistical independence.\n",
    "    # Loop over test units.\n",
    "    for test_unit_id in range(6):\n",
    "\n",
    "        # Loop over trials.\n",
    "        for eval_trial_id in range(n_eval_trials):\n",
    "\n",
    "            best_F_column_id = np.argmax(\n",
    "                val_F_tensor[test_unit_id, eval_trial_id, :])\n",
    "            trial_F_id = n_trial_groups * eval_trial_id + best_F_column_id\n",
    "            \n",
    "            val_F_precisions[test_unit_id, eval_trial_id] =\\\n",
    "                val_precisions[test_unit_id, trial_F_id]\n",
    "            val_F_recalls[test_unit_id, eval_trial_id] =\\\n",
    "                val_recalls[test_unit_id, trial_F_id]\n",
    "            val_F_f1_scores[test_unit_id, eval_trial_id] =\\\n",
    "                val_f1_scores[test_unit_id, trial_F_id]\n",
    "            val_F_trials[test_unit_id, eval_trial_id] =\\\n",
    "                trial_F_id\n",
    "            val_F_thresholds[test_unit_id, eval_trial_id] =\\\n",
    "                val_thresholds[test_unit_id, trial_F_id]\n",
    "            val_F_threshold_ids[test_unit_id, eval_trial_id] =\\\n",
    "                val_threshold_ids[test_unit_id, trial_F_id]\n",
    "            val_F_auprcs[test_unit_id, eval_trial_id] =\\\n",
    "                val_auprcs[test_unit_id, trial_F_id]\n",
    "\n",
    "            best_AUPRC_column_id = np.argmax(\n",
    "                val_AUPRC_tensor[test_unit_id, eval_trial_id, :])\n",
    "            trial_AUPRC_id = n_trial_groups * eval_trial_id + best_AUPRC_column_id\n",
    "            \n",
    "            val_AUPRC_precisions[test_unit_id, eval_trial_id] =\\\n",
    "                val_precisions[test_unit_id, trial_AUPRC_id]\n",
    "            val_AUPRC_recalls[test_unit_id, eval_trial_id] =\\\n",
    "                val_recalls[test_unit_id, trial_AUPRC_id]\n",
    "            val_AUPRC_f1_scores[test_unit_id, eval_trial_id] =\\\n",
    "                val_f1_scores[test_unit_id, trial_AUPRC_id]\n",
    "            val_AUPRC_trials[test_unit_id, eval_trial_id] =\\\n",
    "                trial_AUPRC_id\n",
    "            val_AUPRC_thresholds[test_unit_id, eval_trial_id] =\\\n",
    "                val_thresholds[test_unit_id, trial_AUPRC_id]\n",
    "            val_AUPRC_threshold_ids[test_unit_id, eval_trial_id] =\\\n",
    "                val_threshold_ids[test_unit_id, trial_AUPRC_id]\n",
    "            val_AUPRC_auprcs[test_unit_id, eval_trial_id] =\\\n",
    "                val_auprcs[test_unit_id, trial_AUPRC_id]\n",
    "\n",
    "\n",
    "    aug_report[\"val-F\"] = {\n",
    "        \"P\": val_F_precisions,\n",
    "        \"R\": val_F_recalls,\n",
    "        \"F\": val_F_f1_scores,\n",
    "        \"trials\": val_F_trials,\n",
    "        \"thresholds\": val_F_thresholds,\n",
    "        \"threshold_ids\": val_F_threshold_ids,\n",
    "        \"AUPRC\": val_F_auprcs\n",
    "    }\n",
    "\n",
    "\n",
    "    aug_report[\"val-AUPRC\"] = {\n",
    "        \"P\": val_AUPRC_precisions,\n",
    "        \"R\": val_AUPRC_recalls,\n",
    "        \"F\": val_AUPRC_f1_scores,\n",
    "        \"trials\": val_AUPRC_trials,\n",
    "        \"thresholds\": val_AUPRC_thresholds,\n",
    "        \"threshold_ids\": val_AUPRC_threshold_ids,\n",
    "        \"AUPRC\": val_AUPRC_auprcs\n",
    "    }\n",
    "\n",
    "\n",
    "    ###############################   TEST   #################################\n",
    "\n",
    "    for mode in [\"F\", \"AUPRC\"]:\n",
    "        val_mode = \"val-\" + mode\n",
    "        test_mode = \"test-CV-\" + mode\n",
    "\n",
    "        aug_report[test_mode] = {\n",
    "            \"CV-P\": np.zeros((n_eval_trials,)),\n",
    "            \"CV-R\": np.zeros((n_eval_trials,)),\n",
    "            \"CV-F\": np.zeros((n_eval_trials,)),\n",
    "            \"CV-AUPRC\": np.zeros((n_eval_trials,)),\n",
    "            \"P\": np.zeros((n_thresholds, n_eval_trials)),\n",
    "            \"R\": np.zeros((n_thresholds, n_eval_trials)),\n",
    "            \"F\": np.zeros((n_thresholds, n_eval_trials))\n",
    "        }\n",
    "\n",
    "        # Loop over trials.\n",
    "        for eval_trial_id in range(n_eval_trials):\n",
    "            break_switch = False\n",
    "\n",
    "            test_tp = np.zeros((n_thresholds,))\n",
    "            test_fp = np.zeros((n_thresholds,))\n",
    "            test_fn = np.zeros((n_thresholds,))\n",
    "\n",
    "            for test_unit_id in range(n_units):\n",
    "\n",
    "                test_unit_str = units[test_unit_id]\n",
    "                test_unit_dir = os.path.join(model_dir, test_unit_str)\n",
    "\n",
    "                trial_id = int(aug_report[\n",
    "                    val_mode][\"trials\"][test_unit_id, eval_trial_id])\n",
    "                trial_str = \"trial-\" + str(trial_id)\n",
    "                trial_dir = os.path.join(test_unit_dir, trial_str)\n",
    "\n",
    "                # Load test predictions.\n",
    "                test_metrics_name = \"_\".join([\n",
    "                    dataset_name,\n",
    "                    model_name,\n",
    "                    \"test-\" + test_unit_str,\n",
    "                    trial_str,\n",
    "                    \"predict-\" + test_unit_str,\n",
    "                    \"full-audio-metrics.csv\"\n",
    "                ])\n",
    "                test_metrics_path = os.path.join(trial_dir, test_metrics_name)\n",
    "                try:\n",
    "                    test_metrics_df = pd.read_csv(test_metrics_path)\n",
    "                    test_tp = test_tp + np.array(test_metrics_df[\"True positives\"])\n",
    "                    test_fp = test_fp + np.array(test_metrics_df[\"False positives\"])\n",
    "                    test_fn = test_fn + np.array(test_metrics_df[\"False negatives\"])\n",
    "                except:\n",
    "                    print(test_metrics_name)\n",
    "                    break_switch = True\n",
    "\n",
    "\n",
    "            if break_switch:\n",
    "                test_auprc = 0.0\n",
    "                test_p = np.zeros((n_thresholds,))\n",
    "                test_r = np.zeros((n_thresholds,))\n",
    "                test_f = np.zeros((n_thresholds,))\n",
    "                test_threshold = 1.0\n",
    "                test_threshold_id = 0\n",
    "                test_auprc = 0.0\n",
    "            else:\n",
    "                test_p = test_tp / (np.finfo(float).eps + test_tp + test_fp)\n",
    "                test_r = test_tp / (np.finfo(float).eps + test_tp + test_fn)\n",
    "                test_f = 2*test_p*test_r / (np.finfo(float).eps+(test_p+test_r))\n",
    "                test_threshold = aug_report[\n",
    "                    val_mode][\"thresholds\"][test_unit_id, eval_trial_id]\n",
    "                test_threshold_id = int(aug_report[\n",
    "                    val_mode][\"threshold_ids\"][test_unit_id, eval_trial_id])\n",
    "                test_p_ = np.array([1.0] + list(test_p) + [0.0])\n",
    "                test_r_ = np.array([0.0] + list(test_r) + [1.0])\n",
    "                test_auprc = sklearn.metrics.auc(test_r_, test_p_, reorder=True)\n",
    "\n",
    "\n",
    "\n",
    "            aug_report[test_mode][\"CV-P\"][eval_trial_id] = test_p[test_threshold_id]\n",
    "            aug_report[test_mode][\"CV-R\"][eval_trial_id] = test_r[test_threshold_id]\n",
    "            aug_report[test_mode][\"CV-F\"][eval_trial_id] = test_f[test_threshold_id]\n",
    "            aug_report[test_mode][\"CV-AUPRC\"][eval_trial_id] = test_auprc\n",
    "\n",
    "\n",
    "            aug_report[test_mode][\"P\"][:, eval_trial_id] = test_p\n",
    "            aug_report[test_mode][\"R\"][:, eval_trial_id] = test_r\n",
    "            aug_report[test_mode][\"F\"][:, eval_trial_id] = test_f\n",
    "            \n",
    "\n",
    "        all_test_recalls = np.array(list(np.sort(np.ravel(aug_report[test_mode][\"R\"]))))\n",
    "        interpolated_precisions = np.zeros((2 + len(all_test_recalls), n_eval_trials))\n",
    "\n",
    "        for eval_trial_id in range(n_eval_trials):\n",
    "            precision_interpolator = scipy.interpolate.interp1d(\n",
    "                np.array([0.0] + list(aug_report[test_mode][\"R\"][:, eval_trial_id]) + [1.0]),\n",
    "                np.array([1.0] + list(aug_report[test_mode][\"P\"][:, eval_trial_id]) + [0.0]))\n",
    "            interpolated_precisions[:, eval_trial_id] =\\\n",
    "                np.array([1.0] + list(precision_interpolator(all_test_recalls)) + [0.0])\n",
    "\n",
    "        interpolated_recalls = np.array([0.0] + list(all_test_recalls) + [1.0])\n",
    "        aug_report[test_mode][\"interpolated_P\"] = np.sort(interpolated_precisions, axis=1)\n",
    "        aug_report[test_mode][\"interpolated_R\"] = interpolated_recalls\n",
    "        aug_report[test_mode][\"interpolated_F\"] =\\\n",
    "            (2*aug_report[test_mode][\"interpolated_P\"]*aug_report[test_mode][\"interpolated_R\"][:, np.newaxis]) /\\\n",
    "            (np.finfo(float).eps+aug_report[test_mode][\"interpolated_P\"]+aug_report[test_mode][\"interpolated_R\"][:, np.newaxis])\n",
    "            \n",
    "\n",
    "    report[model_name] = aug_report\n"
   ]
  },
  {
   "cell_type": "code",
   "execution_count": 2,
   "metadata": {},
   "outputs": [],
   "source": [
    "## SPECTRAL FLUX\n",
    "import h5py\n",
    "import mir_eval\n",
    "import numpy as np\n",
    "import os\n",
    "import pandas as pd\n",
    "import peakutils\n",
    "import sys\n",
    "sys.path.append('../src')\n",
    "import localmodule\n",
    "from tqdm import tqdm\n",
    "\n",
    "# Define directory of spectral flux ODFs.\n",
    "data_dir = localmodule.get_data_dir()\n",
    "dataset_name = localmodule.get_dataset_name()\n",
    "units = localmodule.get_units()\n",
    "n_units = len(units)\n",
    "sf_dir = os.path.join(data_dir,\n",
    "    \"_\".join([dataset_name, \"spectral-flux\"]))\n",
    "\n",
    "\n",
    "# Define constants.\n",
    "sf_sr = 22050\n",
    "sf_hop_length = 512\n",
    "n_thresholds = 100\n",
    "min_dist = 4\n",
    "tolerance = 0.5\n",
    "\n",
    "\n",
    "# Define array of thresholds.\n",
    "thresholds = np.linspace(0.0, 0.5, n_thresholds)\n",
    "\n",
    "\n",
    "# Define directory for annotations.\n",
    "annotations_name = \"_\".join([dataset_name, \"annotations\"])\n",
    "annotations_dir = os.path.join(data_dir, annotations_name)\n",
    "\n",
    "\n",
    "tp_matrix = np.zeros((n_thresholds, n_units))\n",
    "fp_matrix = np.zeros((n_thresholds, n_units))\n",
    "fn_matrix = np.zeros((n_thresholds, n_units))\n"
   ]
  },
  {
   "cell_type": "code",
   "execution_count": null,
   "metadata": {},
   "outputs": [
    {
     "name": "stderr",
     "output_type": "stream",
     "text": [
      "7it [00:00, 30.25it/s]"
     ]
    },
    {
     "name": "stdout",
     "output_type": "stream",
     "text": [
      "3 2936\n",
      "0\n",
      "3 2936\n",
      "0\n",
      "3 2936\n",
      "0\n",
      "3 2936\n",
      "0\n",
      "3 2936\n",
      "0\n",
      "4 2936\n",
      "0\n",
      "4 2936\n",
      "0\n",
      "5 2936\n",
      "0\n"
     ]
    },
    {
     "name": "stderr",
     "output_type": "stream",
     "text": [
      "16it [00:00, 35.17it/s]"
     ]
    },
    {
     "name": "stdout",
     "output_type": "stream",
     "text": [
      "6 2936\n",
      "0\n",
      "6 2936\n",
      "0\n",
      "6 2936\n",
      "0\n",
      "6 2936\n",
      "0\n",
      "7 2936\n",
      "0\n",
      "9 2936\n",
      "0\n",
      "9 2936\n",
      "0\n",
      "10 2936\n",
      "0\n",
      "10 2936\n",
      "0\n"
     ]
    },
    {
     "name": "stderr",
     "output_type": "stream",
     "text": [
      "25it [00:00, 36.83it/s]"
     ]
    },
    {
     "name": "stdout",
     "output_type": "stream",
     "text": [
      "10 2936\n",
      "0\n",
      "10 2936\n",
      "0\n",
      "10 2936\n",
      "0\n",
      "10 2936\n",
      "0\n",
      "10 2936\n",
      "0\n",
      "10 2936\n",
      "0\n",
      "10 2936\n",
      "0\n",
      "12 2936\n",
      "1\n",
      "12 2936\n",
      "1\n"
     ]
    },
    {
     "name": "stderr",
     "output_type": "stream",
     "text": [
      "34it [00:00, 37.59it/s]"
     ]
    },
    {
     "name": "stdout",
     "output_type": "stream",
     "text": [
      "15 2936\n",
      "1\n",
      "16 2936\n",
      "1\n",
      "17 2936\n",
      "1\n",
      "17 2936\n",
      "1\n",
      "17 2936\n",
      "1\n",
      "17 2936\n",
      "1\n",
      "19 2936\n",
      "1\n",
      "19 2936\n",
      "1\n",
      "19 2936\n",
      "1\n"
     ]
    },
    {
     "name": "stderr",
     "output_type": "stream",
     "text": [
      "42it [00:01, 37.84it/s]"
     ]
    },
    {
     "name": "stdout",
     "output_type": "stream",
     "text": [
      "19 2936\n",
      "1\n",
      "22 2936\n",
      "1\n",
      "23 2936\n",
      "1\n",
      "24 2936\n",
      "1\n",
      "27 2936\n",
      "2\n",
      "29 2936\n",
      "2\n",
      "34 2936\n",
      "2\n",
      "35 2936\n",
      "2\n"
     ]
    },
    {
     "name": "stderr",
     "output_type": "stream",
     "text": [
      "50it [00:01, 37.96it/s]"
     ]
    },
    {
     "name": "stdout",
     "output_type": "stream",
     "text": [
      "37 2936\n",
      "3\n",
      "40 2936\n",
      "3\n",
      "42 2936\n",
      "3\n",
      "45 2936\n",
      "3\n",
      "51 2936\n",
      "4\n",
      "59 2936\n",
      "6\n",
      "71 2936\n",
      "8\n",
      "82 2936\n",
      "11\n"
     ]
    },
    {
     "name": "stderr",
     "output_type": "stream",
     "text": [
      "58it [00:01, 37.61it/s]"
     ]
    },
    {
     "name": "stdout",
     "output_type": "stream",
     "text": [
      "92 2936\n",
      "11\n",
      "101 2936\n",
      "12\n",
      "120 2936\n",
      "14\n",
      "139 2936\n",
      "14\n",
      "166 2936\n",
      "15\n",
      "198 2936\n",
      "17\n",
      "243 2936\n",
      "17\n",
      "307 2936\n"
     ]
    },
    {
     "name": "stderr",
     "output_type": "stream",
     "text": [
      "\r",
      "62it [00:01, 36.53it/s]"
     ]
    },
    {
     "name": "stdout",
     "output_type": "stream",
     "text": [
      "21\n",
      "404 2936\n",
      "27\n",
      "490 2936\n",
      "35\n",
      "606 2936\n",
      "41\n",
      "757 2936\n",
      "46\n"
     ]
    },
    {
     "name": "stderr",
     "output_type": "stream",
     "text": [
      "\r",
      "66it [00:01, 33.30it/s]"
     ]
    },
    {
     "name": "stdout",
     "output_type": "stream",
     "text": [
      "924 2936\n",
      "57\n",
      "1150 2936\n",
      "77\n",
      "1405 2936\n",
      "100\n",
      "1784 2936\n",
      "127\n",
      "2334 2936\n"
     ]
    },
    {
     "name": "stderr",
     "output_type": "stream",
     "text": [
      "\r",
      "69it [00:02, 28.97it/s]"
     ]
    },
    {
     "name": "stdout",
     "output_type": "stream",
     "text": [
      "169\n",
      "3183 2936\n",
      "236\n",
      "4712 2936\n",
      "347\n",
      "7348 2936\n",
      "526\n",
      "11956 2936\n"
     ]
    },
    {
     "name": "stderr",
     "output_type": "stream",
     "text": [
      "\r",
      "72it [00:03, 20.52it/s]"
     ]
    },
    {
     "name": "stdout",
     "output_type": "stream",
     "text": [
      "808\n",
      "19691 2936\n",
      "1231\n",
      "32000 2936\n"
     ]
    },
    {
     "name": "stderr",
     "output_type": "stream",
     "text": [
      "\r",
      "74it [00:05, 12.86it/s]"
     ]
    },
    {
     "name": "stdout",
     "output_type": "stream",
     "text": [
      "1756\n",
      "50688 2936\n",
      "2301\n",
      "76852 2936\n"
     ]
    },
    {
     "name": "stderr",
     "output_type": "stream",
     "text": [
      "\r",
      "76it [00:11,  6.85it/s]"
     ]
    },
    {
     "name": "stdout",
     "output_type": "stream",
     "text": [
      "2727\n",
      "110045 2936\n"
     ]
    },
    {
     "name": "stderr",
     "output_type": "stream",
     "text": [
      "\r",
      "77it [00:15,  4.90it/s]"
     ]
    },
    {
     "name": "stdout",
     "output_type": "stream",
     "text": [
      "2898\n",
      "146187 2936\n"
     ]
    },
    {
     "name": "stderr",
     "output_type": "stream",
     "text": [
      "\r",
      "78it [00:21,  3.57it/s]"
     ]
    },
    {
     "name": "stdout",
     "output_type": "stream",
     "text": [
      "2932\n",
      "179866 2936\n"
     ]
    },
    {
     "name": "stderr",
     "output_type": "stream",
     "text": [
      "\r",
      "79it [00:29,  2.69it/s]"
     ]
    },
    {
     "name": "stdout",
     "output_type": "stream",
     "text": [
      "2936\n",
      "206301 2936\n"
     ]
    },
    {
     "name": "stderr",
     "output_type": "stream",
     "text": [
      "\r",
      "80it [00:37,  2.11it/s]"
     ]
    },
    {
     "name": "stdout",
     "output_type": "stream",
     "text": [
      "2936\n",
      "223900 2936\n"
     ]
    }
   ],
   "source": [
    "# Loop over units.\n",
    "for unit_id, unit_str in enumerate(units):\n",
    "\n",
    "    # Load onset detection function.\n",
    "    odf_path = os.path.join(sf_dir, unit_str + \".hdf5\")\n",
    "    odf_file = h5py.File(odf_path, \"r\")\n",
    "    odf = odf_file[\"spectral-flux_odf\"].value\n",
    "    odf = np.ravel(odf)\n",
    "    odf_file.close()\n",
    "\n",
    "    # Load annotation.\n",
    "    annotation_path = os.path.join(\n",
    "        annotations_dir, unit_str + \".txt\")\n",
    "    annotation = pd.read_csv(annotation_path, '\\t')\n",
    "    begin_times = np.array(annotation[\"Begin Time (s)\"])\n",
    "    end_times = np.array(annotation[\"End Time (s)\"])\n",
    "    relevant = 0.5 * (begin_times + end_times)\n",
    "    relevant = np.sort(relevant)\n",
    "    n_relevant = len(relevant)\n",
    "\n",
    "    # Loop over thresholds.\n",
    "    for th_id, threshold in tqdm(enumerate(thresholds)):\n",
    "        # Pick peaks.\n",
    "        peak_locs = peakutils.indexes(\n",
    "            odf, thres=threshold, min_dist=4)\n",
    "        selected = peak_locs * sf_hop_length / sf_sr\n",
    "        #print(len(selected), len(relevant))\n",
    "        selected_relevant = mir_eval.util.match_events(\n",
    "            relevant, selected, tolerance)\n",
    "        #print(len(selected_relevant))\n",
    "        \n",
    "        true_positives = len(selected_relevant)\n",
    "        n_selected = len(selected)\n",
    "        false_positives = n_selected - true_positives\n",
    "        false_negatives = n_relevant - true_positives\n",
    "\n",
    "        tp_matrix[th_id, unit_id] = true_positives\n",
    "        fp_matrix[th_id, unit_id] = false_positives\n",
    "        fn_matrix[th_id, unit_id] = false_negatives\n",
    "        \n",
    "sf_total_tps = np.sum(tp_matrix, axis=1)\n",
    "sf_total_fps = np.sum(fp_matrix, axis=1)\n",
    "sf_total_fns = np.sum(fn_matrix, axis=1)\n",
    "\n",
    "sf_total_precisions = 100.0 * sf_total_tps / (sf_total_tps + sf_total_fps)\n",
    "sf_total_precisions = sf_total_precisions[::-1]\n",
    "sf_total_recalls = 100.0 * sf_total_tps / (sf_total_tps + sf_total_fns)\n",
    "sf_total_recalls = sf_total_recalls[::-1]\n",
    "sf_total_f1_scores = (2*sf_total_precisions*sf_total_recalls) / (sf_total_precisions+sf_total_recalls)\n",
    "\n",
    "sf_report = {\n",
    "    \"P\": sf_total_precisions,\n",
    "    \"R\": sf_total_recalls,\n",
    "    \"F\": sf_total_f1_scores\n",
    "}\n",
    "report[\"spectral-flux\"] = {\"test\": sf_report}"
   ]
  },
  {
   "cell_type": "code",
   "execution_count": 7,
   "metadata": {},
   "outputs": [
    {
     "name": "stdout",
     "output_type": "stream",
     "text": [
      "                                   Precision  Recall F1 score   AUPRC\n",
      "icassp-convnet                        64.43%  65.43%   64.93%  66.31%\n",
      "pcen-convnet                          58.55%  75.89%   66.10%  71.97%\n",
      "pcen-convnet_aug-all                  59.73%  67.62%   63.43%  61.64%\n",
      "pcen-add-convnet_aug-all-but-noise    50.66%  74.73%   60.39%  65.95%\n",
      "icassp-convnet_aug-all                33.74%  75.17%   46.58%  56.06%\n"
     ]
    },
    {
     "data": {
      "image/png": "[encoded data removed]",
      "text/plain": [
       "<Figure size 432x432 with 1 Axes>"
      ]
     },
     "metadata": {},
     "output_type": "display_data"
    }
   ],
   "source": [
    "import matplotlib\n",
    "from matplotlib import pyplot as plt\n",
    "sorted_precisions = np.sort(interpolated_precisions, axis=1)\n",
    "\n",
    "fig, ax = plt.subplots(1, 1, sharex=True, figsize=(6, 6))\n",
    "\n",
    "model_names = [\n",
    "    \"icassp-convnet\",\n",
    "    \"pcen-convnet\",\n",
    "    \"pcen-convnet_aug-all\",\n",
    "    \"pcen-add-convnet_aug-all-but-noise\",\n",
    "    #\"pcen-addntt-convnet_aug-all-but-noise\",\n",
    "    #\"pcen-ntt-convnet_aug-all-but-noise\",\n",
    "    \"icassp-convnet_aug-all\",\n",
    "]\n",
    "\n",
    "model_colors = [\n",
    "    \"#CB0003\", \n",
    "    \"#E67300\",\n",
    "    \"#990099\",\n",
    "    \"#0000B2\",\n",
    "    \"#009900\",\n",
    "    '#008888',\n",
    "    '#888800',\n",
    "    '#555555',\n",
    "]\n",
    "model_legends = []\n",
    "\n",
    "model_captions = {\n",
    "    \"icassp-convnet\": \"CNN baseline\",\n",
    "    \"pcen-convnet\": \"+ PCEN\",\n",
    "    \"pcen-convnet_aug-all\": \"+ augmentation\",\n",
    "    \"pcen-add-convnet_aug-all-but-noise\": \"+ adaptive threshold\",\n",
    "    \"pcen-addntt-convnet_aug-all-but-noise\": \"+ mixture of experts\",\n",
    "    \"icassp-add-convnet_aug-all-but-noise\": \" - PCEN\",\n",
    "    \"pcen-add-convnet_aug-all\": \"noisy main channel\",\n",
    "    \"pcen-ntt-convnet_aug-all-but-noise\": \"NTT instead\",\n",
    "    \"icassp-convnet_aug-all\": \"ICASSP 2018\",\n",
    "}\n",
    "\n",
    "eval_mode = \"test-CV-AUPRC\"\n",
    "\n",
    "for model_id, model_name in enumerate(model_names):\n",
    "    \n",
    "    model_color = model_colors[model_id]\n",
    "    \n",
    "    ax.fill_between(\n",
    "        100 * report[model_name][eval_mode][\"interpolated_R\"],\n",
    "        100 * np.percentile(report[model_name][eval_mode][\"interpolated_P\"], 25, axis=1),\n",
    "        100 * np.percentile(report[model_name][eval_mode][\"interpolated_P\"], 75, axis=1),\n",
    "        color = model_color,\n",
    "        alpha = 0.2);\n",
    "\n",
    "    ax.plot(\n",
    "        100 * report[model_name][eval_mode][\"interpolated_R\"],\n",
    "        100 * np.percentile(report[model_name][eval_mode][\"interpolated_P\"], 50, axis=1),\n",
    "        color = model_color,\n",
    "        linewidth = 2.0\n",
    "    )\n",
    "    \n",
    "    cv_p = np.mean(report[model_name][eval_mode][\"CV-P\"])\n",
    "    cv_r = np.mean(report[model_name][eval_mode][\"CV-R\"])\n",
    "    cv_f = np.mean(report[model_name][eval_mode][\"CV-F\"])\n",
    "    cv_auprc = np.mean(report[model_name][eval_mode][\"CV-AUPRC\"])\n",
    "    \n",
    "    plot_r = [100*cv_r]\n",
    "    plot_p = [100*cv_p]\n",
    "    plot_f = 100*cv_f\n",
    "    plot_auprc = 100 * cv_auprc\n",
    "    \n",
    "    ax.plot(plot_r, plot_p, \"o\", \n",
    "            color=model_color,\n",
    "            markersize=8.0)\n",
    "    \n",
    "    model_legend = matplotlib.lines.Line2D([], [], color=model_color, marker='o',\n",
    "        markersize=8, label=model_captions[model_name] + \": {:5.2f}%\".format(plot_auprc))\n",
    "    model_legends.append(model_legend)\n",
    "\n",
    "    \n",
    "plt.legend(handles=model_legends)\n",
    "    \n",
    "    \n",
    "############################### AXES AND GRID ###################################\n",
    "\n",
    "major_ticks = np.linspace(0, 100, 5).astype(\"int\")\n",
    "minor_ticks = np.linspace(0, 100, 21).astype(\"int\")\n",
    "\n",
    "ax.set_xlim(-0.3, 100)\n",
    "ax.set_xticks(major_ticks)\n",
    "ax.set_xticks(minor_ticks, minor=True)\n",
    "ax.set_xticklabels(map(str, major_ticks), family=\"serif\");\n",
    "ax.set_xlabel(\"Recall (%)\", family=\"serif\");\n",
    "\n",
    "ax.set_ylim(0.0, 100)\n",
    "ax.set_yticks(major_ticks)\n",
    "ax.set_yticks(minor_ticks, minor=True)\n",
    "ax.set_yticklabels(map(str, major_ticks), family=\"serif\");\n",
    "ax.set_ylabel(\"Precision (%)\", family=\"serif\");\n",
    "\n",
    "ax.grid(color='k', linestyle='--', linewidth=1.0, alpha=0.25, which=\"major\")\n",
    "ax.grid(color='k', linestyle='-', linewidth=0.5, alpha=0.1, which=\"minor\")\n",
    "ax.set_axisbelow(True)\n",
    "\n",
    "plt.savefig(\"spl_fig_precision-recall.png\", dpi=500, bbox_inches=\"tight\")\n",
    "plt.savefig(\"spl_fig_precision-recall.pdf\", bbox_inches=\"tight\")\n",
    "\n",
    "\n",
    "############################### TABLE ###################################\n",
    "\n",
    "Ps = [\"{:5.2f}%\".format(100*np.mean(report[x][eval_mode][\"CV-P\"])) for x in report]\n",
    "Rs = [\"{:5.2f}%\".format(100*np.mean(report[x][eval_mode][\"CV-R\"])) for x in report]\n",
    "F1s = [\"{:5.2f}%\".format(100*np.mean(report[x][eval_mode][\"CV-F\"])) for x in report]\n",
    "AUCs = [\"{:5.2f}%\".format(100*np.mean(report[x][eval_mode][\"CV-AUPRC\"])) for x in report]\n",
    "metrics = [Ps, Rs, F1s, AUCs]\n",
    "\n",
    "import pandas as pd\n",
    "print(pd.DataFrame([Ps, Rs, F1s, AUCs], columns=model_names,\n",
    "             index=[\"Precision\", \"Recall\", \"F1 score\", \"AUPRC\"]).T)"
   ]
  },
  {
   "cell_type": "code",
   "execution_count": 52,
   "metadata": {},
   "outputs": [
    {
     "data": {
      "text/plain": [
       "array([ 1.        ,  0.86860958,  0.86860958, ...,  0.04251161,\n",
       "        0.04225437,  0.        ])"
      ]
     },
     "execution_count": 52,
     "metadata": {},
     "output_type": "execute_result"
    }
   ],
   "source": [
    "np.percentile(report[model_name][eval_mode][\"interpolated_P\"], 50, axis=1)"
   ]
  },
  {
   "cell_type": "code",
   "execution_count": 5,
   "metadata": {},
   "outputs": [
    {
     "data": {
      "text/plain": [
       "['pcen-convnet_aug-all',\n",
       " 'pcen-add-convnet_aug-all-but-noise',\n",
       " 'icassp-convnet_aug-all',\n",
       " 'pcen-convnet',\n",
       " 'icassp-convnet']"
      ]
     },
     "execution_count": 5,
     "metadata": {},
     "output_type": "execute_result"
    }
   ],
   "source": [
    "model_names = "
   ]
  },
  {
   "cell_type": "code",
   "execution_count": 42,
   "metadata": {},
   "outputs": [
    {
     "data": {
      "text/plain": [
       "array([ 0.        ,  0.20377635,  0.20377635, ...,  0.96395812,\n",
       "        0.96404279,  1.        ])"
      ]
     },
     "execution_count": 42,
     "metadata": {},
     "output_type": "execute_result"
    }
   ],
   "source": [
    "median_r\n",
    "#report[model_name][\"test-CV-AUPRC\"][\"CV-F\"]"
   ]
  },
  {
   "cell_type": "code",
   "execution_count": 14,
   "metadata": {},
   "outputs": [
    {
     "data": {
      "text/html": [
       "<div>\n",
       "<style>\n",
       "    .dataframe thead tr:only-child th {\n",
       "        text-align: right;\n",
       "    }\n",
       "\n",
       "    .dataframe thead th {\n",
       "        text-align: left;\n",
       "    }\n",
       "\n",
       "    .dataframe tbody tr th {\n",
       "        vertical-align: top;\n",
       "    }\n",
       "</style>\n",
       "<table border=\"1\" class=\"dataframe\">\n",
       "  <thead>\n",
       "    <tr style=\"text-align: right;\">\n",
       "      <th></th>\n",
       "      <th>Precision</th>\n",
       "      <th>Recall</th>\n",
       "      <th>F1 score</th>\n",
       "      <th>AUPRC</th>\n",
       "    </tr>\n",
       "  </thead>\n",
       "  <tbody>\n",
       "    <tr>\n",
       "      <th>icassp-convnet</th>\n",
       "      <td>43.90%</td>\n",
       "      <td>65.36%</td>\n",
       "      <td>52.27%</td>\n",
       "      <td>52.72%</td>\n",
       "    </tr>\n",
       "    <tr>\n",
       "      <th>pcen-convnet</th>\n",
       "      <td>23.04%</td>\n",
       "      <td>16.94%</td>\n",
       "      <td>19.53%</td>\n",
       "      <td>20.72%</td>\n",
       "    </tr>\n",
       "    <tr>\n",
       "      <th>pcen-convnet_aug-all</th>\n",
       "      <td>56.46%</td>\n",
       "      <td>63.91%</td>\n",
       "      <td>56.62%</td>\n",
       "      <td>61.31%</td>\n",
       "    </tr>\n",
       "    <tr>\n",
       "      <th>pcen-add-convnet_aug-all-but-noise</th>\n",
       "      <td>60.66%</td>\n",
       "      <td>75.64%</td>\n",
       "      <td>67.04%</td>\n",
       "      <td>72.46%</td>\n",
       "    </tr>\n",
       "    <tr>\n",
       "      <th>pcen-add-convnet_aug-all</th>\n",
       "      <td>58.20%</td>\n",
       "      <td>46.74%</td>\n",
       "      <td>49.17%</td>\n",
       "      <td>46.86%</td>\n",
       "    </tr>\n",
       "    <tr>\n",
       "      <th>icassp-convnet_aug-all</th>\n",
       "      <td>54.84%</td>\n",
       "      <td>69.42%</td>\n",
       "      <td>61.03%</td>\n",
       "      <td>60.59%</td>\n",
       "    </tr>\n",
       "  </tbody>\n",
       "</table>\n",
       "</div>"
      ],
      "text/plain": [
       "                                   Precision  Recall F1 score   AUPRC\n",
       "icassp-convnet                        43.90%  65.36%   52.27%  52.72%\n",
       "pcen-convnet                          23.04%  16.94%   19.53%  20.72%\n",
       "pcen-convnet_aug-all                  56.46%  63.91%   56.62%  61.31%\n",
       "pcen-add-convnet_aug-all-but-noise    60.66%  75.64%   67.04%  72.46%\n",
       "pcen-add-convnet_aug-all              58.20%  46.74%   49.17%  46.86%\n",
       "icassp-convnet_aug-all                54.84%  69.42%   61.03%  60.59%"
      ]
     },
     "execution_count": 14,
     "metadata": {},
     "output_type": "execute_result"
    }
   ],
   "source": [
    "test_mode = \"test-CV-AUPRC\" \n",
    "\n",
    "Ps = [\"{:5.2f}%\".format(100*np.mean(report[x][test_mode][\"CV-P\"])) for x in report]\n",
    "Rs = [\"{:5.2f}%\".format(100*np.mean(report[x][test_mode][\"CV-R\"])) for x in report]\n",
    "F1s = [\"{:5.2f}%\".format(100*np.mean(report[x][test_mode][\"CV-F\"])) for x in report]\n",
    "AUCs = [\"{:5.2f}%\".format(100*np.mean(report[x][test_mode][\"CV-AUPRC\"])) for x in report]\n",
    "metrics = [Ps, Rs, F1s, AUCs]\n",
    "\n",
    "import pandas as pd\n",
    "pd.DataFrame([Ps, Rs, F1s, AUCs], columns=model_names,\n",
    "             index=[\"Precision\", \"Recall\", \"F1 score\", \"AUPRC\"]).T"
   ]
  },
  {
   "cell_type": "code",
   "execution_count": 245,
   "metadata": {},
   "outputs": [
    {
     "ename": "KeyError",
     "evalue": "'CV-AUPRC'",
     "output_type": "error",
     "traceback": [
      "\u001b[0;31m---------------------------------------------------------------------------\u001b[0m",
      "\u001b[0;31mKeyError\u001b[0m                                  Traceback (most recent call last)",
      "\u001b[0;32m<ipython-input-245-7435e571405b>\u001b[0m in \u001b[0;36m<module>\u001b[0;34m()\u001b[0m\n\u001b[0;32m----> 1\u001b[0;31m \u001b[0mreport\u001b[0m\u001b[0;34m[\u001b[0m\u001b[0;34m\"icassp-convnet\"\u001b[0m\u001b[0;34m]\u001b[0m\u001b[0;34m[\u001b[0m\u001b[0;34m\"CV-AUPRC\"\u001b[0m\u001b[0;34m]\u001b[0m\u001b[0;34m\u001b[0m\u001b[0m\n\u001b[0m",
      "\u001b[0;31mKeyError\u001b[0m: 'CV-AUPRC'"
     ]
    }
   ],
   "source": [
    "report[\"icassp-convnet\"][\"CV-AUPRC\"]"
   ]
  },
  {
   "cell_type": "code",
   "execution_count": 72,
   "metadata": {},
   "outputs": [
    {
     "name": "stdout",
     "output_type": "stream",
     "text": [
      "CONVNET:      P = 53.72%,  R = 54.82%,  F = 54.27%\n",
      "ICASSP 2018:  P = 57.62%,  R = 68.78%,  F = 62.71%\n",
      "AUG PCEN:     P = 64.30%,  R = 58.71%,  F = 61.38%\n"
     ]
    },
    {
     "data": {
      "text/plain": [
       "<matplotlib.text.Text at 0x2ab6dd4ee278>"
      ]
     },
     "execution_count": 72,
     "metadata": {},
     "output_type": "execute_result"
    }
   ],
   "source": [
    "\n",
    "\n",
    "############################# PRINT RESULTS ###################################\n",
    "\n",
    "print(\"CONVNET:      P = {:5.2f}%,  R = {:5.2f}%,  F = {:5.2f}%\".format(\n",
    "    100*best_cnn_p, 100*best_cnn_r, 100*best_cnn_f))\n",
    "ax.text(100*best_cnn_r - 22.0 , 100*best_cnn_p - 9.0,\n",
    "    \"    convnet\\n F = {:5.2f}%\".format(100*best_cnn_f),\n",
    "    color=\"#CB0003\", fontsize=11.0, family=\"serif\",\n",
    "    backgroundcolor=\"white\")\n",
    "\n",
    "\n",
    "print(\"ICASSP 2018:  P = {:5.2f}%,  R = {:5.2f}%,  F = {:5.2f}%\".format(\n",
    "    100*best_augcnn_p, 100*best_augcnn_r, 100*best_augcnn_f))\n",
    "ax.text(100*best_augcnn_r - 3, 100*best_augcnn_p + 5.0,\n",
    "    \" ICASSP 2018 \\n  F = {:5.2f}%\".format(100*best_augcnn_f),\n",
    "    color=\"#990099\", fontsize=11.0, family=\"serif\",\n",
    "    backgroundcolor=\"white\")\n",
    "\n",
    "print(\"AUG PCEN:     P = {:5.2f}%,  R = {:5.2f}%,  F = {:5.2f}%\".format(\n",
    "    100*best_pcenall_p, 100*best_pcenall_r, 100*best_pcenall_f))\n",
    "ax.text(100*best_pcenall_r, 100*best_pcenall_p + 8.0,\n",
    "    \"     PCEN \\nF = {:5.2f}%\".format(100*best_pcenall_f),\n",
    "    color=\"#E67300\", fontsize=11.0, family=\"serif\",\n",
    "    backgroundcolor=\"white\")"
   ]
  },
  {
   "cell_type": "code",
   "execution_count": null,
   "metadata": {
    "collapsed": true
   },
   "outputs": [],
   "source": []
  }
 ],
 "metadata": {
  "kernelspec": {
   "display_name": "Python 3",
   "language": "python",
   "name": "python3"
  },
  "language_info": {
   "codemirror_mode": {
    "name": "ipython",
    "version": 3
   },
   "file_extension": ".py",
   "mimetype": "text/x-python",
   "name": "python",
   "nbconvert_exporter": "python",
   "pygments_lexer": "ipython3",
   "version": "3.5.6"
  }
 },
 "nbformat": 4,
 "nbformat_minor": 2
}
