{
 "cells": [
  {
   "cell_type": "code",
   "execution_count": 1,
   "metadata": {
    "collapsed": false,
    "deletable": true,
    "editable": true
   },
   "outputs": [],
   "source": [
    "import h5py\n",
    "import librosa\n",
    "import numpy as np\n",
    "import os\n",
    "import sys\n",
    "\n",
    "sys.path.append('../src')\n",
    "import localmodule"
   ]
  },
  {
   "cell_type": "code",
   "execution_count": 2,
   "metadata": {
    "collapsed": false,
    "deletable": true,
    "editable": true
   },
   "outputs": [],
   "source": [
    "data_dir = localmodule.get_data_dir()\n",
    "dataset_name = localmodule.get_dataset_name()\n",
    "units = localmodule.get_units()\n",
    "features = [\"logmelspec\", \"pcen\"]\n",
    "\n",
    "settings = localmodule.get_logmelspec_settings()\n",
    "fmax = settings[\"fmax\"]\n",
    "fmin = settings[\"fmin\"]\n",
    "n_mels = settings[\"n_mels\"]\n",
    "\n",
    "mel_frequencies = librosa.mel_frequencies(\n",
    "    n_mels=n_mels, fmin=fmin, fmax=fmax)\n",
    "\n",
    "feature_str = features[0]\n",
    "unit_str = units[0]\n",
    "key_str = 'unit01_909020184_08329_1_original'\n",
    "\n",
    "#for feature_str in features:\n",
    "feature_name = \"_\".join([dataset_name, \"clip-\" + feature_str])\n",
    "feature_dir = os.path.join(data_dir, feature_name, \"original\")\n",
    "\n",
    "#for unit_str in units:\n",
    "hdf5_name = \"_\".join([dataset_name, \"original\", unit_str])\n",
    "hdf5_path = os.path.join(feature_dir, hdf5_name) + \".hdf5\"\n",
    "hdf5_file = h5py.File(hdf5_path)\n",
    "hdf5_group = hdf5_file[feature_str]\n",
    "hdf5_keys = list(hdf5_group.keys())\n",
    "\n",
    "#for key_str in hdf5_keys\n",
    "key_parts = key_str.split(\"_\")\n",
    "freq_str = key_parts[2]\n",
    "freq_hz = int(freq_str)\n",
    "hdf5_key = hdf5_group[key_str]\n",
    "tfr = hdf5_key[:]\n",
    "\n",
    "\n",
    "%matplotlib inline\n",
    "import librosa.display\n",
    "from matplotlib import pyplot as plt\n",
    "\n",
    "#plt.hist(np.ravel(hdf5_key[:]), bins=1000);"
   ]
  },
  {
   "cell_type": "code",
   "execution_count": 49,
   "metadata": {
    "collapsed": false,
    "deletable": true,
    "editable": true
   },
   "outputs": [],
   "source": []
  },
  {
   "cell_type": "code",
   "execution_count": 3,
   "metadata": {
    "collapsed": false,
    "deletable": true,
    "editable": true
   },
   "outputs": [
    {
     "data": {
      "text/plain": [
       "array([[-18.07439041, -17.63902283, -17.3823452 , ..., -13.01028919,\n",
       "        -13.13526058, -16.31688499],\n",
       "       [-21.00317001, -17.94618034, -16.26930618, ..., -13.20902252,\n",
       "        -13.1533041 , -14.46915817],\n",
       "       [-20.5280571 , -17.39987755, -15.59692192, ..., -13.54241371,\n",
       "        -12.97675991, -12.97390842],\n",
       "       ..., \n",
       "       [-28.35494804, -28.72090721, -29.7870121 , ..., -23.42265892,\n",
       "        -23.02620697, -23.23086357],\n",
       "       [-28.06482887, -28.76643753, -31.1961937 , ..., -24.83662033,\n",
       "        -24.27476311, -24.37011528],\n",
       "       [-28.11733055, -28.80386543, -31.08038521, ..., -24.5717659 ,\n",
       "        -23.56318474, -23.203022  ]], dtype=float32)"
      ]
     },
     "execution_count": 3,
     "metadata": {},
     "output_type": "execute_result"
    }
   ],
   "source": [
    "tfr"
   ]
  },
  {
   "cell_type": "code",
   "execution_count": 5,
   "metadata": {
    "collapsed": false,
    "deletable": true,
    "editable": true
   },
   "outputs": [
    {
     "data": {
      "text/plain": [
       "<matplotlib.axes._subplots.AxesSubplot at 0x2b6b0982bbe0>"
      ]
     },
     "execution_count": 5,
     "metadata": {},
     "output_type": "execute_result"
    },
    {
     "data": {
      "image/png": "[encoded data removed]",
      "text/plain": [
       "<matplotlib.figure.Figure at 0x2b6aae214128>"
      ]
     },
     "metadata": {},
     "output_type": "display_data"
    }
   ],
   "source": [
    "bin_id = np.argmin(np.abs(mel_frequencies - freq_hz))\n",
    "librosa.display.specshow(tfr[bin_id-30:bin_id, 160:184])"
   ]
  },
  {
   "cell_type": "code",
   "execution_count": 83,
   "metadata": {
    "collapsed": false,
    "deletable": true,
    "editable": true
   },
   "outputs": [
    {
     "data": {
      "image/png": "[encoded data removed]",
      "text/plain": [
       "<matplotlib.figure.Figure at 0x2ab0fba61b00>"
      ]
     },
     "metadata": {},
     "output_type": "display_data"
    }
   ],
   "source": [
    "plt.hist(np.ravel(np.log(tfr)), bins=1000);"
   ]
  },
  {
   "cell_type": "code",
   "execution_count": 86,
   "metadata": {
    "collapsed": false,
    "deletable": true,
    "editable": true
   },
   "outputs": [
    {
     "data": {
      "image/png": "[encoded data removed]",
      "text/plain": [
       "<matplotlib.figure.Figure at 0x2ab108927be0>"
      ]
     },
     "metadata": {},
     "output_type": "display_data"
    }
   ],
   "source": []
  },
  {
   "cell_type": "code",
   "execution_count": null,
   "metadata": {
    "collapsed": true,
    "deletable": true,
    "editable": true
   },
   "outputs": [],
   "source": []
  }
 ],
 "metadata": {
  "kernelspec": {
   "display_name": "Python 3",
   "language": "python",
   "name": "python3"
  },
  "language_info": {
   "codemirror_mode": {
    "name": "ipython",
    "version": 3
   },
   "file_extension": ".py",
   "mimetype": "text/x-python",
   "name": "python",
   "nbconvert_exporter": "python",
   "pygments_lexer": "ipython3",
   "version": "3.6.0"
  }
 },
 "nbformat": 4,
 "nbformat_minor": 2
}
