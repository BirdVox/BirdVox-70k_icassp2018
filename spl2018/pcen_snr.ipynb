{
 "cells": [
  {
   "cell_type": "code",
   "execution_count": 20,
   "metadata": {
    "collapsed": false
   },
   "outputs": [],
   "source": [
    "import h5py\n",
    "import numpy as np\n",
    "import os\n",
    "import sys\n",
    "\n",
    "sys.path.append('../src')\n",
    "import localmodule"
   ]
  },
  {
   "cell_type": "code",
   "execution_count": 40,
   "metadata": {
    "collapsed": false
   },
   "outputs": [],
   "source": [
    "data_dir = localmodule.get_data_dir()\n",
    "dataset_name = localmodule.get_dataset_name()\n",
    "units = localmodule.get_units()\n",
    "features = [\"logmelspec\", \"pcen\"]\n",
    "\n",
    "feature_str = features[0]\n",
    "\n",
    "feature_name = \"_\".join([dataset_name, \"clip-\" + feature_str])\n",
    "feature_dir = os.path.join(data_dir, lms_name, \"original\")\n",
    "\n",
    "unit_str = units[0]\n",
    "hdf5_name = \"_\".join([dataset_name, \"original\", unit_str])\n",
    "hdf5_path = os.path.join(feature_dir, hdf5_name) + \".hdf5\"\n",
    "hdf5_file = h5py.File(hdf5_path)\n",
    "hdf5_group = hdf5_file[feature_str]\n",
    "hdf5_key = hdf5_group[key_str]"
   ]
  },
  {
   "cell_type": "code",
   "execution_count": 36,
   "metadata": {
    "collapsed": false
   },
   "outputs": [],
   "source": [
    "key_str = 'unit01_118586112_02805_1_original'\n",
    "key_parts = key_str.split(\"_\")\n",
    "freq_str = key_parts[2]\n",
    "freq_hz = int(freq_str)"
   ]
  },
  {
   "cell_type": "code",
   "execution_count": 50,
   "metadata": {
    "collapsed": false
   },
   "outputs": [
    {
     "data": {
      "image/png": "[encoded data removed]",
      "text/plain": [
       "<matplotlib.figure.Figure at 0x2afd96797a58>"
      ]
     },
     "metadata": {},
     "output_type": "display_data"
    }
   ],
   "source": [
    "%matplotlib inline\n",
    "import librosa.display\n",
    "from matplotlib import pyplot as plt\n",
    "\n",
    "plt.hist(np.ravel(hdf5_key[:]), bins=1000);"
   ]
  },
  {
   "cell_type": "code",
   "execution_count": 26,
   "metadata": {
    "collapsed": false
   },
   "outputs": [
    {
     "data": {
      "text/plain": [
       "['augmentation',\n",
       " 'dataset_name',\n",
       " 'gps_coordinates',\n",
       " 'instance',\n",
       " 'logmelspec',\n",
       " 'logmelspec_settings',\n",
       " 'unit',\n",
       " 'utc_start_time']"
      ]
     },
     "execution_count": 26,
     "metadata": {},
     "output_type": "execute_result"
    }
   ],
   "source": [
    "list(hdf5_file.keys())"
   ]
  },
  {
   "cell_type": "code",
   "execution_count": 27,
   "metadata": {
    "collapsed": true
   },
   "outputs": [],
   "source": []
  },
  {
   "cell_type": "code",
   "execution_count": null,
   "metadata": {
    "collapsed": true
   },
   "outputs": [],
   "source": []
  }
 ],
 "metadata": {
  "kernelspec": {
   "display_name": "Python 3",
   "language": "python",
   "name": "python3"
  },
  "language_info": {
   "codemirror_mode": {
    "name": "ipython",
    "version": 3
   },
   "file_extension": ".py",
   "mimetype": "text/x-python",
   "name": "python",
   "nbconvert_exporter": "python",
   "pygments_lexer": "ipython3",
   "version": "3.6.0"
  }
 },
 "nbformat": 4,
 "nbformat_minor": 2
}
