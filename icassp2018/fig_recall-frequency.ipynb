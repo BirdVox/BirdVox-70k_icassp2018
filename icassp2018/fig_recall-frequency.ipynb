{
 "cells": [
  {
   "cell_type": "code",
   "execution_count": 2,
   "metadata": {
    "collapsed": true,
    "deletable": true,
    "editable": true
   },
   "outputs": [],
   "source": [
    "import h5py\n",
    "import librosa\n",
    "import mir_eval\n",
    "import numpy as np\n",
    "import os\n",
    "import pandas as pd\n",
    "import peakutils\n",
    "import scipy.signal\n",
    "import soundfile as sf\n",
    "import sys\n",
    "sys.path.append('../src')\n",
    "import localmodule"
   ]
  },
  {
   "cell_type": "code",
   "execution_count": 3,
   "metadata": {
    "collapsed": false,
    "deletable": true,
    "editable": true
   },
   "outputs": [
    {
     "name": "stdout",
     "output_type": "stream",
     "text": [
      "unit03 5 0.999205671765\n",
      "unit03 6 0.986664785678\n",
      "unit03 7 0.971816170687\n",
      "unit03 8 0.9822172059\n",
      "unit03 9 0.992920542156\n"
     ]
    }
   ],
   "source": [
    "# Define constants.\n",
    "data_dir = localmodule.get_data_dir()\n",
    "dataset_name = localmodule.get_dataset_name()\n",
    "models_dir = localmodule.get_models_dir()\n",
    "units = localmodule.get_units()\n",
    "n_units = len(units)\n",
    "bin_freqs = np.linspace(1000.0, 10000.0, 16)\n",
    "n_bins = len(bin_freqs)\n",
    "bin_bandwidth = np.diff(bin_freqs)[0]\n",
    "\n",
    "threshold_ids =\\\n",
    "      [[103, 102,  79, 115,   0,  91,   0, 106,   0, 135],\n",
    "       [205,   0, 207,   0, 189, 170, 206, 193, 191, 184],\n",
    "       [143,   0, 137, 150,   0, 158,   0, 145, 154, 118],\n",
    "       [130, 158,   0, 136, 162, 133, 174, 134, 158, 140],\n",
    "       [134, 131, 203, 126, 140, 131, 123, 121, 125, 139],\n",
    "       [159, 186, 130, 133, 140, 161, 170, 141, 166, 168]]\n",
    "threshold_ids = np.array(threshold_ids)\n",
    "\n",
    "trials =\\\n",
    "      [[4, 8, 9, 6, 3, 0, 2, 1, 5, 7],\n",
    "       [1, 3, 0, 9, 2, 6, 4, 8, 5, 7],\n",
    "       [1, 4, 6, 8, 0, 9, 7, 5, 3, 2],\n",
    "       [2, 9, 1, 5, 6, 3, 4, 8, 7, 0],\n",
    "       [2, 8, 1, 0, 4, 9, 5, 7, 3, 6],\n",
    "       [4, 9, 8, 6, 1, 2, 5, 3, 7, 0]]\n",
    "trials = np.array(trials)\n",
    "\n",
    "thresholds = 1.0 - np.concatenate((\n",
    "    np.logspace(-9, -2, 141), np.delete(np.logspace(-2, 0, 81), 0)\n",
    "))\n",
    "n_thresholds = len(thresholds)\n",
    "\n",
    "tolerance = 0.5 # in seconds\n",
    "\n",
    "\n",
    "# Define directory for annotations.\n",
    "annotations_name = \"_\".join([dataset_name, \"annotations\"])\n",
    "annotations_dir = os.path.join(data_dir, annotations_name)\n",
    "\n",
    "\n",
    "unit_positives = np.zeros((n_bins-1, n_units,))\n",
    "unit_night_durations = np.zeros((n_units,))\n",
    "unit_recalls = np.zeros((n_bins-1, n_units, 5))\n",
    "\n",
    "\n",
    "\n",
    "# Loop over units.\n",
    "for test_unit_id in [2]:#range(n_units):\n",
    "\n",
    "    # Define directory for model.\n",
    "    test_unit_str = units[test_unit_id]\n",
    "    aug_str = \"all\"\n",
    "    model_name = \"icassp-convnet\"\n",
    "    model_dir = os.path.join(models_dir, model_name)\n",
    "\n",
    "\n",
    "    # Load annotation.\n",
    "    annotation_path = os.path.join(annotations_dir,\n",
    "        test_unit_str + \".txt\")\n",
    "    annotation = pd.read_csv(annotation_path, '\\t')\n",
    "    begin_times = np.array(annotation[\"Begin Time (s)\"])\n",
    "    end_times = np.array(annotation[\"End Time (s)\"])\n",
    "    relevant = 0.5 * (begin_times + end_times)\n",
    "    relevant = np.sort(relevant)\n",
    "    high_freqs = np.array(annotation[\"High Freq (Hz)\"])\n",
    "    low_freqs = np.array(annotation[\"Low Freq (Hz)\"])\n",
    "    mid_freqs = 0.5 * (high_freqs + low_freqs)\n",
    "    n_relevant = len(relevant)\n",
    "    \n",
    "    \n",
    "    # Compute histogram of flight call frequencies.\n",
    "    hist_POS, _ = np.histogram(mid_freqs, bins=bin_freqs)\n",
    "    unit_positives[:, test_unit_id] = hist_POS\n",
    "\n",
    "\n",
    "    # Store night duration.\n",
    "    night_duration = relevant[-1] / 3600\n",
    "    unit_night_durations[test_unit_id] = night_duration\n",
    "    \n",
    "    \n",
    "    # Initialize.\n",
    "    trial_recalls = []\n",
    "\n",
    "    # Loop over units.\n",
    "    for trial_id_id in [5, 6, 7, 8, 9]:\n",
    "\n",
    "        # Pick trial.\n",
    "        trial_id = trials[test_unit_id, trial_id_id]\n",
    "\n",
    "\n",
    "        # Pick threshold.\n",
    "        threshold_id = threshold_ids[test_unit_id, trial_id]\n",
    "\n",
    "\n",
    "        # Load prediction.\n",
    "        test_unit_str = units[test_unit_id]\n",
    "        unit_dir = os.path.join(model_dir, test_unit_str)\n",
    "        trial_str = \"trial-\" + str(trial_id)\n",
    "        trial_dir = os.path.join(unit_dir, trial_str)\n",
    "        prediction_name = \"_\".join([\n",
    "            dataset_name,\n",
    "            model_name,\n",
    "            \"test-\" + test_unit_str,\n",
    "            trial_str,\n",
    "            \"predict-\" + test_unit_str,\n",
    "            \"full-predictions.csv\"])\n",
    "        prediction_path = os.path.join(trial_dir, prediction_name)\n",
    "        prediction_df = pd.read_csv(prediction_path)\n",
    "        odf = np.array(prediction_df[\"Predicted probability\"])\n",
    "        timestamps = np.array(prediction_df[\"Timestamp\"])\n",
    "\n",
    "        threshold = thresholds[threshold_id]\n",
    "        print(test_unit_str, trial_id_id, threshold)\n",
    "        \n",
    "        if np.min(odf) > 0.9999 or np.max(odf) < 0.0001:\n",
    "            hist_R = np.zeros((n_bins - 1),)\n",
    "            \n",
    "        else:\n",
    "            # Select peaks.\n",
    "            \n",
    "            peak_locations = peakutils.indexes(odf, thres=threshold, min_dist=3)\n",
    "            selected = timestamps[peak_locations]\n",
    "\n",
    "\n",
    "            # Match events for all calls.\n",
    "            selected_relevant = mir_eval.util.match_events(relevant, selected, tolerance)\n",
    "            tp_relevant_ids = list(zip(*selected_relevant))[0]\n",
    "\n",
    "\n",
    "            # Retrieve frequencies of selected calls.\n",
    "            tp_mid_freqs = [mid_freqs[i] for i in tp_relevant_ids]\n",
    "\n",
    "\n",
    "            # Compute histogram of true positive frequencies.\n",
    "            hist_TP, _ = np.histogram(tp_mid_freqs, bins=bin_freqs)\n",
    "\n",
    "            # Compute histogram of recalls.\n",
    "            hist_R = hist_TP / (np.finfo(float).eps + hist_POS)\n",
    "        \n",
    "        unit_recalls[:, test_unit_id, trial_id_id - 5] = hist_R    "
   ]
  },
  {
   "cell_type": "code",
   "execution_count": 7,
   "metadata": {
    "collapsed": false,
    "deletable": true,
    "editable": true
   },
   "outputs": [
    {
     "data": {
      "image/png": "[encoded data removed]",
      "text/plain": [
       "<matplotlib.figure.Figure at 0x2afa632b6358>"
      ]
     },
     "metadata": {},
     "output_type": "display_data"
    }
   ],
   "source": [
    "test_unit_id = 2\n",
    "percentiles = np.percentile(np.sort(unit_recalls[test_unit_id, :, :], axis=1), [25, 50, 75], axis=0)\n",
    "\n",
    "from matplotlib import pyplot as plt\n",
    "%matplotlib inline\n",
    "\n",
    "fig, ax1 = plt.subplots(1, 1, sharex=True, figsize=(5, 3))\n",
    "\n",
    "ax1.plot(\n",
    "    bin_freqs / 1000,\n",
    "    list(100 * np.squeeze(np.percentile(np.sort(unit_recalls[:, test_unit_id, :], axis=1), [50], axis=1).T)) + [0.0],\n",
    "    \"-o\",\n",
    "    color = \"#0040FF\",\n",
    "    linewidth = 2.0);\n",
    "\n",
    "ax1.fill_between(\n",
    "    bin_freqs[:] / 1000,\n",
    "    list(100 * np.squeeze(np.percentile(np.sort(unit_recalls[:, test_unit_id, :], axis=1), [25], axis=1).T)) + [0.0],\n",
    "    list(100 * np.squeeze(np.percentile(np.sort(unit_recalls[:, test_unit_id, :], axis=1), [75], axis=1).T)) + [0.0],\n",
    "    color = \"#0040FF\",\n",
    "    alpha = 0.33)\n",
    "\n",
    "xticks = range(1, 11)\n",
    "ax1.set_xticks(xticks)\n",
    "ax1.set_xticklabels([str(xtick) for xtick in xticks], family=\"serif\");\n",
    "ax1.set_xlabel(\"Center frequency (kHz)\", family=\"serif\")\n",
    "\n",
    "\n",
    "ax1.set_ylim(0, 100)\n",
    "yticks = [0, 20, 40, 60, 80, 100]\n",
    "ax1.set_yticks(yticks)\n",
    "ax1.set_yticklabels([str(ytick) for ytick in yticks], family=\"serif\");\n",
    "ax1.set_ylabel(\"Recall (%)\", family=\"serif\")\n",
    "\n",
    "plt.savefig(\"icassp_fig_recall-frequency_a.png\", dpi=144, bbox_inches=\"tight\")"
   ]
  },
  {
   "cell_type": "code",
   "execution_count": 6,
   "metadata": {
    "collapsed": false,
    "deletable": true,
    "editable": true
   },
   "outputs": [
    {
     "data": {
      "image/png": "[encoded data removed]",
      "text/plain": [
       "<matplotlib.figure.Figure at 0x2afa673ef860>"
      ]
     },
     "metadata": {},
     "output_type": "display_data"
    }
   ],
   "source": [
    "from matplotlib import pyplot as plt\n",
    "%matplotlib inline\n",
    "\n",
    "fig, ax1 = plt.subplots(1, 1, sharex=True, figsize=(5, 3))\n",
    "\n",
    "\n",
    "unit_test_id = test_unit_id\n",
    "\n",
    "\n",
    "abundance_y = unit_positives[:, test_unit_id] * 1000 / (bin_bandwidth * unit_night_durations[unit_test_id])\n",
    "\n",
    "ax1.plot(\n",
    "    bin_freqs / 1000,\n",
    "    list(np.log10(np.maximum(abundance_y, 0.5))) + [np.log10(0.5)],\n",
    "    \"-o\",\n",
    "    color = \"#0040FF\",\n",
    "    linewidth = 2.0)\n",
    "\n",
    "xticks = range(1, 11)\n",
    "ax1.set_xticks(xticks)\n",
    "ax1.set_xticklabels([str(xtick) for xtick in xticks], family=\"serif\");\n",
    "ax1.set_xlabel(\"Center frequency (kHz)\", family=\"serif\")\n",
    "\n",
    "yticks = [0.5, 1, 2, 5, 10, 20, 50, 100, 200, 500, 1000]\n",
    "ax1.set_yticks(np.log10(yticks))\n",
    "ax1.set_yticklabels([\"0\"] + [str(ytick) for ytick in yticks[1:]], family=\"serif\");\n",
    "ax1.set_ylabel(\"Flight calls per hour per kHz\", family=\"serif\")\n",
    "\n",
    "plt.savefig(\"icassp_fig_recall-frequency_b.png\", dpi=144, bbox_inches=\"tight\")"
   ]
  },
  {
   "cell_type": "code",
   "execution_count": 26,
   "metadata": {
    "collapsed": false,
    "deletable": true,
    "editable": true
   },
   "outputs": [
    {
     "data": {
      "text/plain": [
       "(0.83777349167888882, 0.0001837625198372476)"
      ]
     },
     "execution_count": 26,
     "metadata": {},
     "output_type": "execute_result"
    }
   ],
   "source": [
    "import scipy.stats\n",
    "\n",
    "scipy.stats.pearsonr(\n",
    "    np.log10(np.maximum(abundance_y, 1))[1:],\n",
    "    100 * np.squeeze(np.percentile(np.sort(unit_recalls[:, test_unit_id, :], axis=1), [50], axis=1).T)[1:])"
   ]
  },
  {
   "cell_type": "code",
   "execution_count": null,
   "metadata": {
    "collapsed": true,
    "deletable": true,
    "editable": true
   },
   "outputs": [],
   "source": []
  },
  {
   "cell_type": "code",
   "execution_count": 22,
   "metadata": {
    "collapsed": false,
    "deletable": true,
    "editable": true
   },
   "outputs": [
    {
     "ename": "NameError",
     "evalue": "name 'unit_mid_freqs' is not defined",
     "output_type": "error",
     "traceback": [
      "\u001b[0;31m---------------------------------------------------------------------------\u001b[0m",
      "\u001b[0;31mNameError\u001b[0m                                 Traceback (most recent call last)",
      "\u001b[0;32m<ipython-input-22-c660be78a633>\u001b[0m in \u001b[0;36m<module>\u001b[0;34m()\u001b[0m\n\u001b[1;32m      8\u001b[0m \u001b[0;32mfor\u001b[0m \u001b[0munit_test_id\u001b[0m \u001b[0;32min\u001b[0m \u001b[0mrange\u001b[0m\u001b[0;34m(\u001b[0m\u001b[0mn_units\u001b[0m\u001b[0;34m)\u001b[0m\u001b[0;34m:\u001b[0m\u001b[0;34m\u001b[0m\u001b[0m\n\u001b[1;32m      9\u001b[0m     abundance_y, _ = np.histogram(\n\u001b[0;32m---> 10\u001b[0;31m         unit_mid_freqs[unit_test_id], bins=bin_freqs)\n\u001b[0m\u001b[1;32m     11\u001b[0m     abundances_y.append(\n\u001b[1;32m     12\u001b[0m         abundance_y * 1000 / (bin_bandwidth * unit_night_durations[unit_test_id]))\n",
      "\u001b[0;31mNameError\u001b[0m: name 'unit_mid_freqs' is not defined"
     ]
    },
    {
     "data": {
      "image/png": "[encoded data removed]",
      "text/plain": [
       "<matplotlib.figure.Figure at 0x2ba13626e320>"
      ]
     },
     "metadata": {},
     "output_type": "display_data"
    }
   ],
   "source": [
    "from matplotlib import pyplot as plt\n",
    "%matplotlib inline\n",
    "\n",
    "fig, ax1 = plt.subplots(1, 1, sharex=True, figsize=(5, 3))\n",
    "\n",
    "abundances_y = []\n",
    "\n",
    "for unit_test_id in range(n_units):\n",
    "    abundance_y, _ = np.histogram(\n",
    "        unit_mid_freqs[unit_test_id], bins=bin_freqs)\n",
    "    abundances_y.append(\n",
    "        abundance_y * 1000 / (bin_bandwidth * unit_night_durations[unit_test_id]))\n",
    "\n",
    "abundances_y = np.stack(abundances_y).T\n",
    "\n",
    "ax1.fill_between(\n",
    "    bin_freqs[1:] / 1000,\n",
    "    np.log10(np.maximum(np.sort(abundances_y, axis=1)[:, 1], 0.5)),\n",
    "    np.log10(np.maximum(np.sort(abundances_y, axis=1)[:, 4], 0.5)),\n",
    "    color = \"#0040FF\",\n",
    "    alpha = 0.33)\n",
    "\n",
    "ax1.plot(\n",
    "    bin_freqs[1:] / 1000,\n",
    "    np.log10(np.maximum(np.median(abundances_y, axis=1), 0.5)),\n",
    "    \"-o\",\n",
    "    color = \"#0040FF\",\n",
    "    linewidth = 2.0)\n",
    "\n",
    "xticks = range(1, 11)\n",
    "ax1.set_xticks(xticks)\n",
    "ax1.set_xticklabels([str(xtick) for xtick in xticks], family=\"serif\");\n",
    "ax1.set_xlabel(\"Center frequency (kHz)\", family=\"serif\")\n",
    "\n",
    "yticks = [0.5, 1, 2, 5, 10, 20, 50, 100, 200, 500, 1000]\n",
    "ax1.set_yticks(np.log10(yticks))\n",
    "ax1.set_yticklabels([\"0\"] + [str(ytick) for ytick in yticks[1:]], family=\"serif\");\n",
    "ax1.set_ylabel(\"Flight calls per hour per kHz\", family=\"serif\")"
   ]
  }
 ],
 "metadata": {
  "kernelspec": {
   "display_name": "Python 3",
   "language": "python",
   "name": "python3"
  },
  "language_info": {
   "codemirror_mode": {
    "name": "ipython",
    "version": 3
   },
   "file_extension": ".py",
   "mimetype": "text/x-python",
   "name": "python",
   "nbconvert_exporter": "python",
   "pygments_lexer": "ipython3",
   "version": "3.6.0"
  }
 },
 "nbformat": 4,
 "nbformat_minor": 2
}
