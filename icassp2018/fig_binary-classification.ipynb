{
 "cells": [
  {
   "cell_type": "code",
   "execution_count": 1,
   "metadata": {
    "collapsed": false,
    "deletable": true,
    "editable": true
   },
   "outputs": [],
   "source": [
    "import csv\n",
    "import numpy as np\n",
    "import os\n",
    "import pandas as pd\n",
    "import scipy.interpolate\n",
    "import sklearn.metrics\n",
    "import sys\n",
    "sys.path.append(\"../src\")\n",
    "import localmodule\n",
    "\n",
    "\n",
    "if sys.version_info[0] < 3: \n",
    "    from StringIO import StringIO\n",
    "else:\n",
    "    from io import StringIO\n",
    "\n",
    "\n",
    "from matplotlib import pyplot as plt\n",
    "%matplotlib inline\n",
    "\n",
    "# Define constants.\n",
    "dataset_name = localmodule.get_dataset_name()\n",
    "models_dir = localmodule.get_models_dir()\n",
    "units = localmodule.get_units()\n",
    "n_units = len(units)\n",
    "n_trials = 5\n",
    "\n"
   ]
  },
  {
   "cell_type": "code",
   "execution_count": 2,
   "metadata": {
    "collapsed": false
   },
   "outputs": [],
   "source": [
    "model_name = \"skm-cv\"\n",
    "model_dir = os.path.join(models_dir, model_name)\n",
    "\n",
    "\n",
    "skm_fns = np.zeros((n_trials, n_units))\n",
    "skm_fps = np.zeros((n_trials, n_units))\n",
    "skm_tns = np.zeros((n_trials, n_units))\n",
    "skm_tps = np.zeros((n_trials, n_units))\n",
    "\n",
    "\n",
    "# Loop over trials.\n",
    "for trial_id in range(n_trials):\n",
    "\n",
    "    \n",
    "    # Loop over units.\n",
    "    for test_unit_id, test_unit_str in enumerate(units):\n",
    "\n",
    "        # Define path to predictions.\n",
    "        unit_dir = os.path.join(model_dir, test_unit_str)\n",
    "        trial_str = \"trial-\" + str(5 + trial_id)\n",
    "        trial_dir = os.path.join(unit_dir, trial_str)\n",
    "        predictions_name = \"_\".join([\n",
    "            dataset_name,\n",
    "            \"skm-proba\",\n",
    "            \"test-\" + test_unit_str,\n",
    "            trial_str,\n",
    "            \"predict-\" + test_unit_str,\n",
    "            \"clip-predictions.csv\"\n",
    "        ])\n",
    "        predictions_path = os.path.join(trial_dir, predictions_name)\n",
    "\n",
    "        # Remove header, which has too few columns (hack).\n",
    "        with open(predictions_path, 'r') as f:\n",
    "            reader = csv.reader(f)\n",
    "            rows = list(reader)\n",
    "        rows = [\",\".join(row) for row in rows]\n",
    "        rows = rows[1:]\n",
    "        rows = \"\\n\".join(rows)\n",
    "\n",
    "        # Parse rows with correct header.\n",
    "        df = pd.read_csv(StringIO(rows),\n",
    "            names=[\n",
    "                \"Dataset\",\n",
    "                \"Test unit\",\n",
    "                \"Prediction unit\",\n",
    "                \"Timestamp\",\n",
    "                \"Center Freq (Hz)\",\n",
    "                \"Augmentation\",\n",
    "                \"Key\",\n",
    "                \"Ground truth\",\n",
    "                \"Predicted probability\"])\n",
    "        \n",
    "        # Extract y_pred and y_true.\n",
    "        y_pred = np.array((df[\"Predicted probability\"] > 0.5)).astype(\"int\")\n",
    "        y_true = np.array(df[\"Ground truth\"])\n",
    "\n",
    "        # Compute confusion matrix.\n",
    "        test_tn, test_fp, test_fn, test_tp =\\\n",
    "            sklearn.metrics.confusion_matrix(\n",
    "                y_true, y_pred).ravel()\n",
    "            \n",
    "        skm_fns[trial_id, test_unit_id] = test_fn\n",
    "        skm_fps[trial_id, test_unit_id] = test_fp\n",
    "        skm_tns[trial_id, test_unit_id] = test_tn\n",
    "        skm_tps[trial_id, test_unit_id] = test_tp\n",
    "            \n",
    "        "
   ]
  },
  {
   "cell_type": "code",
   "execution_count": 3,
   "metadata": {
    "collapsed": false
   },
   "outputs": [
    {
     "data": {
      "text/plain": [
       "array([[ 2926.,  3254.,  7831.,  4845.,  6288.,  6355.],\n",
       "       [ 2926.,  3261.,  7913.,  4808.,  6331.,  6344.],\n",
       "       [ 2926.,  3090.,  7772.,  4837.,  6255.,  6276.],\n",
       "       [ 2926.,  3257.,  7891.,  4864.,  6242.,  6231.],\n",
       "       [ 2926.,  3478.,  7784.,  4839.,  6291.,  6454.]])"
      ]
     },
     "execution_count": 3,
     "metadata": {},
     "output_type": "execute_result"
    }
   ],
   "source": [
    "skm_accs = (skm_tp)"
   ]
  },
  {
   "cell_type": "code",
   "execution_count": 71,
   "metadata": {
    "collapsed": false
   },
   "outputs": [
    {
     "data": {
      "text/plain": [
       "range(10, 6)"
      ]
     },
     "execution_count": 71,
     "metadata": {},
     "output_type": "execute_result"
    }
   ],
   "source": [
    "skm_fns"
   ]
  },
  {
   "cell_type": "code",
   "execution_count": null,
   "metadata": {
    "collapsed": false,
    "deletable": true,
    "editable": true
   },
   "outputs": [],
   "source": [
    "report = {}\n",
    "\n",
    "for aug_kind_str in [\"none\", \"all\"]:\n",
    "\n",
    "    # Define model directory\n",
    "    model_name = \"icassp-convnet\"\n",
    "    if not aug_kind_str == \"none\":\n",
    "        model_name = \"_\".join([model_name, \"aug-\" + aug_kind_str])\n",
    "    model_dir = os.path.join(models_dir, model_name)\n",
    "\n",
    "\n",
    "    # Initialize dictionaries\n",
    "    aug_report = {\n",
    "        \"validation\": {},\n",
    "        \"test_cv-acc_th=0.5\": {}\n",
    "    }\n",
    "\n",
    "    # Initialize matrix of validation accuracies.\n",
    "    val_accs = np.zeros((n_units, n_trials))\n",
    "    val_tps = np.zeros((n_units, n_trials))\n",
    "    val_tns = np.zeros((n_units, n_trials))\n",
    "    val_fps = np.zeros((n_units, n_trials))\n",
    "    val_fns = np.zeros((n_units, n_trials))\n",
    "    \n",
    "    test_accs = np.zeros((n_units, n_trials))\n",
    "    test_tps = np.zeros((n_units, n_trials))\n",
    "    test_tns = np.zeros((n_units, n_trials))\n",
    "    test_fps = np.zeros((n_units, n_trials))\n",
    "    test_fns = np.zeros((n_units, n_trials))\n",
    "\n",
    "\n",
    "    # Loop over test units.\n",
    "    for test_unit_id, test_unit_str in enumerate(units):\n",
    "\n",
    "\n",
    "        # Define directory for test unit.\n",
    "        test_unit_dir = os.path.join(model_dir, test_unit_str)\n",
    "\n",
    "\n",
    "        # Retrieve fold such that unit_str is in the test set.\n",
    "        folds = localmodule.fold_units()\n",
    "        fold = [f for f in folds if test_unit_str in f[0]][0]\n",
    "        test_units = fold[0]\n",
    "        validation_units = fold[2]\n",
    "\n",
    "\n",
    "        # Loop over trials.\n",
    "        for trial_id in range(n_trials):\n",
    "\n",
    "\n",
    "            # Define directory for trial.\n",
    "            trial_str = \"trial-\" + str(trial_id)\n",
    "            trial_dir = os.path.join(test_unit_dir, trial_str)\n",
    "\n",
    "\n",
    "            # Initialize.\n",
    "            break_switch = False\n",
    "            val_fn = 0\n",
    "            val_fp = 0\n",
    "            val_tn = 0\n",
    "            val_tp = 0\n",
    "\n",
    "\n",
    "            # Loop over validation units.\n",
    "            for val_unit_str in validation_units:\n",
    "\n",
    "                predictions_name = \"_\".join([\n",
    "                    dataset_name,\n",
    "                    model_name,\n",
    "                    \"test-\" + test_unit_str,\n",
    "                    \"trial-\" + str(trial_id),\n",
    "                    \"predict-\" + val_unit_str,\n",
    "                    \"clip-predictions.csv\"\n",
    "                ])\n",
    "                prediction_path = os.path.join(\n",
    "                    trial_dir, predictions_name)\n",
    "\n",
    "                # Load prediction.\n",
    "                csv_file = pd.read_csv(prediction_path)\n",
    "                y_pred = np.array(csv_file[\"Predicted probability\"])\n",
    "                y_pred = (y_pred > 0.5).astype('int')\n",
    "\n",
    "                # Check that CSV file is not corrupted.\n",
    "                if len(y_pred) == 0:\n",
    "                    break_switch = True\n",
    "                    break\n",
    "\n",
    "                # Load ground truth.\n",
    "                y_true = np.array(csv_file[\"Ground truth\"])\n",
    "\n",
    "                # Compute confusion matrix.\n",
    "                tn, fp, fn, tp = sklearn.metrics.confusion_matrix(\n",
    "                    y_true, y_pred).ravel()\n",
    "\n",
    "                val_fn = val_fn + fn\n",
    "                val_fp = val_fp + fp\n",
    "                val_tn = val_tn + tn\n",
    "                val_tp = val_tp + tp\n",
    "\n",
    "\n",
    "            if not break_switch:\n",
    "                val_acc = (val_tn+val_tp) / (val_fn+val_fp+val_tn+val_tp)\n",
    "            else:\n",
    "                val_fn = 0\n",
    "                val_fp = 0\n",
    "                val_tn = 0\n",
    "                val_tp = 0\n",
    "                val_acc = 0.0\n",
    "            \n",
    "            val_fns[test_unit_id, trial_id] = val_fn\n",
    "            val_fps[test_unit_id, trial_id] = val_fp\n",
    "            val_tns[test_unit_id, trial_id] = val_tn\n",
    "            val_tps[test_unit_id, trial_id] = val_tp\n",
    "            val_accs[test_unit_id, trial_id] = val_acc\n",
    "\n",
    "\n",
    "            # Initialize.\n",
    "\n",
    "            predictions_name = \"_\".join([\n",
    "                dataset_name,\n",
    "                model_name,\n",
    "                \"test-\" + test_unit_str,\n",
    "                \"trial-\" + str(trial_id),\n",
    "                \"predict-\" + test_unit_str,\n",
    "                \"clip-predictions.csv\"\n",
    "            ])\n",
    "            prediction_path = os.path.join(\n",
    "                trial_dir, predictions_name)\n",
    "\n",
    "            # Load prediction.\n",
    "            csv_file = pd.read_csv(prediction_path)\n",
    "            y_pred = np.array(csv_file[\"Predicted probability\"])\n",
    "            y_pred = (y_pred > 0.5).astype('int')\n",
    "\n",
    "\n",
    "            # Check that CSV file is not corrupted.\n",
    "            if len(y_pred) == 0:\n",
    "                test_tn, test_fp, test_fn, test_tp = 0, 0, 0, 0\n",
    "                test_acc = 0.0\n",
    "            else:\n",
    "                # Load ground truth.\n",
    "                y_true = np.array(csv_file[\"Ground truth\"])\n",
    "                # Compute confusion matrix.\n",
    "                test_tn, test_fp, test_fn, test_tp =\\\n",
    "                    sklearn.metrics.confusion_matrix(\n",
    "                        y_true, y_pred).ravel()\n",
    "                test_acc = (test_tn+test_tp) / (test_fn+test_fp+test_tn+test_tp)\n",
    "\n",
    "            test_fns[test_unit_id, trial_id] = test_fn\n",
    "            test_fps[test_unit_id, trial_id] = test_fp\n",
    "            test_tns[test_unit_id, trial_id] = test_tn\n",
    "            test_tps[test_unit_id, trial_id] = test_tp\n",
    "            test_accs[test_unit_id, trial_id] = test_acc \n",
    "            \n",
    "    aug_report[\"validation\"][\"FN\"] = test_fn\n",
    "    aug_report[\"validation\"][\"FP\"] = test_fp\n",
    "    aug_report[\"validation\"][\"TN\"] = test_tn\n",
    "    aug_report[\"validation\"][\"TP\"] = test_tp\n",
    "    aug_report[\"validation\"][\"accuracy\"] = val_accs\n",
    "    \n",
    "    best_trials = np.argsort(aug_report[\"validation\"][\"accuracy\"], axis=1)\n",
    "    aug_report[\"validation\"][\"best_trials\"] = best_trials\n",
    "    \n",
    "    aug_report[\"test_cv-acc_th=0.5\"][\"FN\"] = test_fns\n",
    "    aug_report[\"test_cv-acc_th=0.5\"][\"FP\"] = test_fps\n",
    "    aug_report[\"test_cv-acc_th=0.5\"][\"TN\"] = test_tns\n",
    "    aug_report[\"test_cv-acc_th=0.5\"][\"TP\"] = test_tps\n",
    "    aug_report[\"test_cv-acc_th=0.5\"][\"accuracy\"] = test_accs\n",
    "\n",
    "    \n",
    "    cv_accs = []\n",
    "    for eval_trial_id in range(5):\n",
    "        cv_fn = 0\n",
    "        cv_fp = 0\n",
    "        cv_tn = 0\n",
    "        cv_tp = 0\n",
    "\n",
    "        for test_unit_id, test_unit_str in enumerate(units):\n",
    "\n",
    "            best_trials = aug_report[\"validation\"][\"best_trials\"]\n",
    "            unit_best_trials = best_trials[test_unit_id, -5:]\n",
    "            unit_best_trials = sorted(unit_best_trials)\n",
    "            trial_id = unit_best_trials[eval_trial_id]\n",
    "\n",
    "            cv_fn = cv_fn + aug_report[\"test_cv-acc_th=0.5\"][\"FN\"][test_unit_id, trial_id]\n",
    "            cv_fp = cv_fp + aug_report[\"test_cv-acc_th=0.5\"][\"FP\"][test_unit_id, trial_id]\n",
    "            cv_tn = cv_tn + aug_report[\"test_cv-acc_th=0.5\"][\"TN\"][test_unit_id, trial_id]\n",
    "            cv_tp = cv_tp + aug_report[\"test_cv-acc_th=0.5\"][\"TP\"][test_unit_id, trial_id]\n",
    "\n",
    "        cv_acc = (cv_tn+cv_tp) / (cv_tn+cv_tp+cv_fn+cv_fp)\n",
    "        cv_accs.append(cv_acc)\n",
    "\n",
    "        \n",
    "    aug_report[\"test_cv-acc_th=0.5\"][\"global_acc\"] = np.array(cv_accs)\n",
    "    \n",
    "    \n",
    "    report[aug_kind_str] = aug_report"
   ]
  },
  {
   "cell_type": "code",
   "execution_count": 18,
   "metadata": {
    "collapsed": false,
    "deletable": true,
    "editable": true
   },
   "outputs": [
    {
     "name": "stdout",
     "output_type": "stream",
     "text": [
      "      acc = 90.48% ± 1.5\n",
      "[AUG] acc = 94.85% ± 0.8\n"
     ]
    }
   ],
   "source": [
    "none_accs = report[\"none\"]['test_cv-acc_th=0.5']['global_acc']\n",
    "print(\"      acc = {:5.2f}% ± {:3.1f}\".format(100*np.mean(none_accs), 100*np.std(none_accs)))\n",
    "\n",
    "all_accs = report[\"all\"]['test_cv-acc_th=0.5']['global_acc']\n",
    "print(\"[AUG] acc = {:5.2f}% ± {:3.1f}\".format(100*np.mean(all_accs), 100*np.std(all_accs)))"
   ]
  },
  {
   "cell_type": "code",
   "execution_count": 31,
   "metadata": {
    "collapsed": false,
    "deletable": true,
    "editable": true
   },
   "outputs": [
    {
     "data": {
      "image/png": "[encoded data removed]",
      "text/plain": [
       "<matplotlib.figure.Figure at 0x2b54e070d550>"
      ]
     },
     "metadata": {},
     "output_type": "display_data"
    }
   ],
   "source": [
    "#plt.figure(figsize=(9,6))\n",
    "plt.boxplot([none_accs, all_accs], labels=[\"CNN\", \"CNN + aug\"]);"
   ]
  },
  {
   "cell_type": "code",
   "execution_count": 25,
   "metadata": {
    "collapsed": false,
    "deletable": true,
    "editable": true
   },
   "outputs": [
    {
     "data": {
      "text/plain": [
       "0.001"
      ]
     },
     "execution_count": 25,
     "metadata": {},
     "output_type": "execute_result"
    }
   ],
   "source": [
    "1e-3"
   ]
  },
  {
   "cell_type": "code",
   "execution_count": null,
   "metadata": {
    "collapsed": true,
    "deletable": true,
    "editable": true
   },
   "outputs": [],
   "source": []
  }
 ],
 "metadata": {
  "kernelspec": {
   "display_name": "Python 3",
   "language": "python",
   "name": "python3"
  },
  "language_info": {
   "codemirror_mode": {
    "name": "ipython",
    "version": 3
   },
   "file_extension": ".py",
   "mimetype": "text/x-python",
   "name": "python",
   "nbconvert_exporter": "python",
   "pygments_lexer": "ipython3",
   "version": "3.6.0"
  }
 },
 "nbformat": 4,
 "nbformat_minor": 2
}
