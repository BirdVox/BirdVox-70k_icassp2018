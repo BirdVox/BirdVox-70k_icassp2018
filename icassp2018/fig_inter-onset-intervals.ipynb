{
 "cells": [
  {
   "cell_type": "code",
   "execution_count": 14,
   "metadata": {
    "collapsed": true,
    "deletable": true,
    "editable": true
   },
   "outputs": [],
   "source": [
    "from matplotlib import pyplot as plt\n",
    "import numpy as np\n",
    "import os\n",
    "import pandas\n",
    "import sys\n",
    "\n",
    "sys.path.append(\"../src\")\n",
    "import localmodule"
   ]
  },
  {
   "cell_type": "code",
   "execution_count": 15,
   "metadata": {
    "collapsed": false,
    "deletable": true,
    "editable": true
   },
   "outputs": [],
   "source": [
    "data_dir = localmodule.get_data_dir()\n",
    "dataset_name = localmodule.get_dataset_name()\n",
    "annotations_name = \"_\".join([dataset_name, \"annotations\"])\n",
    "annotations_dir = os.path.join(data_dir, annotations_name)\n",
    "units = localmodule.get_units()\n",
    "bin_start = -3\n",
    "bin_stop = 3\n",
    "n_bins = 51\n",
    "bins = np.linspace(bin_start, bin_stop, n_bins)\n",
    "normalizer = (n_bins-1) / (bin_stop-bin_start)\n",
    "\n",
    "unit_y, unit_x = [], []\n",
    "all_intervals = []\n",
    "\n",
    "for unit_str in units:\n",
    "    annotation_path = os.path.join(annotations_dir, unit_str + \".txt\")\n",
    "    df = pandas.read_csv(annotation_path, \"\\t\")\n",
    "    begin_times = np.array(df[\"Begin Time (s)\"])\n",
    "    end_times = np.array(df[\"End Time (s)\"])\n",
    "    mid_times = 0.5 * (begin_times + end_times)\n",
    "    unit_intervals = np.diff(sorted(mid_times))\n",
    "    unit_intervals = np.maximum(unit_intervals, 0.001)\n",
    "    all_intervals.append(unit_intervals)\n",
    "    y, x = np.histogram(np.log10(unit_intervals),\n",
    "        bins=bins, density=True)\n",
    "    y = y / normalizer\n",
    "    unit_y.append(y)\n",
    "\n",
    "y = np.stack(unit_y).T;\n",
    "all_intervals = np.concatenate(all_intervals)"
   ]
  },
  {
   "cell_type": "code",
   "execution_count": null,
   "metadata": {
    "collapsed": true,
    "deletable": true,
    "editable": true
   },
   "outputs": [],
   "source": []
  },
  {
   "cell_type": "code",
   "execution_count": 16,
   "metadata": {
    "collapsed": false,
    "deletable": true,
    "editable": true
   },
   "outputs": [
    {
     "data": {
      "image/png": "[encoded data removed]",
      "text/plain": [
       "<matplotlib.figure.Figure at 0x2b6fbe422240>"
      ]
     },
     "metadata": {},
     "output_type": "display_data"
    }
   ],
   "source": [
    "%matplotlib inline\n",
    "\n",
    "sorted_y = np.sort(y, axis=1) * 100\n",
    "\n",
    "fig, ax1 = plt.subplots(1, 1, sharex=True, figsize=(5, 3))\n",
    "\n",
    "ax1.fill_between(\n",
    "    x[1:],\n",
    "    np.percentile(sorted_y, 25, axis=1),\n",
    "    np.percentile(sorted_y, 75, axis=1),\n",
    "    alpha=0.3, color=\"#0040FF\");\n",
    "\n",
    "ax1.plot(x[1:], 0.5 * (sorted_y[:, 2] + sorted_y[:, 3]), \"-o\", color=\"#0040FF\", linewidth = 2.0);\n",
    "\n",
    "\n",
    "ax1.set_xlim(bin_start + 0.5, bin_stop - 0.5)\n",
    "ax1.set_xticks(range(1+bin_start, bin_stop))\n",
    "ax1.set_xticklabels([\"0.01\", \"0.1\", \"1\", \"10\", \"100\"], family=\"serif\")\n",
    "ax1.set_xlabel(\"Time span between adjacent flight calls (s)\", family=\"serif\")\n",
    "\n",
    "ax1.set_ylim(0, 7.5)\n",
    "ax1.set_yticks(range(0, 8))\n",
    "ax1.set_yticklabels(map(str, range(0, 8)), family=\"serif\")\n",
    "ax1.set_ylabel(\"Proportion (%)\", family=\"serif\")\n",
    "\n",
    "plt.savefig(\"icassp_fig_inter-onset-intervals.png\", bbox_inches='tight', dpi=144)"
   ]
  },
  {
   "cell_type": "code",
   "execution_count": 8,
   "metadata": {
    "collapsed": false,
    "deletable": true,
    "editable": true
   },
   "outputs": [
    {
     "name": "stdout",
     "output_type": "stream",
     "text": [
      "  0.1% of the intervals are below      3 ms\n",
      "  1.0% of the intervals are below     29 ms\n",
      " 10.0% of the intervals are below    142 ms\n",
      " 15.0% of the intervals are below    204 ms\n",
      " 20.0% of the intervals are below    290 ms\n",
      " 25.0% of the intervals are below    395 ms\n",
      " 30.0% of the intervals are below    529 ms\n",
      " 50.0% of the intervals are below   1694 ms\n",
      " 75.0% of the intervals are below   5360 ms\n",
      " 99.0% of the intervals are below  72634 ms\n",
      " 99.9% of the intervals are below 203242 ms\n"
     ]
    }
   ],
   "source": [
    "percents = [0.1, 1.0, 10.0, 15.0, 20.0, 25.0, 30.0, 50.0, 75.0, 99.0, 99.9]\n",
    "percentiles = np.percentile(all_intervals, percents) * 1000\n",
    "percentiles_str = [str(percentile) for percentile in percentiles]\n",
    "\n",
    "for percent, percentile in zip(percents, percentiles):\n",
    "    percent_str = str(percent).rjust(5)\n",
    "    percentile_str = str(int(percentile)).rjust(6)\n",
    "    print(\"{}% of the intervals are below {} ms\".format(percent_str, percentile_str))"
   ]
  },
  {
   "cell_type": "code",
   "execution_count": 12,
   "metadata": {
    "collapsed": false,
    "deletable": true,
    "editable": true
   },
   "outputs": [
    {
     "name": "stdout",
     "output_type": "stream",
     "text": [
      "Intervals below 100 ms:  5.91%\n",
      "Intervals above 10 s: 14.17%\n"
     ]
    }
   ],
   "source": [
    "n_intervals = len(all_intervals)\n",
    "print(\"Intervals below 100 ms: {:5.2f}%\".format(100 * sum(all_intervals < 0.1) / n_intervals))\n",
    "print(\"Intervals above 10 s: {:5.2f}%\".format(100 * sum(all_intervals > 10.0) / n_intervals))"
   ]
  },
  {
   "cell_type": "code",
   "execution_count": 13,
   "metadata": {
    "collapsed": false,
    "deletable": true,
    "editable": true
   },
   "outputs": [
    {
     "data": {
      "text/plain": [
       "20.08"
      ]
     },
     "execution_count": 13,
     "metadata": {},
     "output_type": "execute_result"
    }
   ],
   "source": [
    "5.91 + 14.17"
   ]
  },
  {
   "cell_type": "code",
   "execution_count": null,
   "metadata": {
    "collapsed": true,
    "deletable": true,
    "editable": true
   },
   "outputs": [],
   "source": []
  }
 ],
 "metadata": {
  "kernelspec": {
   "display_name": "Python 3",
   "language": "python",
   "name": "python3"
  },
  "language_info": {
   "codemirror_mode": {
    "name": "ipython",
    "version": 3
   },
   "file_extension": ".py",
   "mimetype": "text/x-python",
   "name": "python",
   "nbconvert_exporter": "python",
   "pygments_lexer": "ipython3",
   "version": "3.6.0"
  }
 },
 "nbformat": 4,
 "nbformat_minor": 2
}
